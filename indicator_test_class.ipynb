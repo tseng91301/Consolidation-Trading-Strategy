{
 "cells": [
  {
   "cell_type": "code",
   "execution_count": 1,
   "id": "03cbe5be",
   "metadata": {},
   "outputs": [
    {
     "name": "stdout",
     "output_type": "stream",
     "text": [
      "Successfully read secret key from .env\\api_key.json\n",
      "Simulation mode is ON\n"
     ]
    }
   ],
   "source": [
    "from api import bingx as api_entry\n",
    "import indicator"
   ]
  },
  {
   "cell_type": "code",
   "execution_count": 2,
   "id": "9fb9dfc9",
   "metadata": {},
   "outputs": [],
   "source": [
    "kLines = api_entry.get_kLine_data(symbol='BTC-USDT', interval='15m', limit=400)"
   ]
  },
  {
   "cell_type": "code",
   "execution_count": 3,
   "id": "9e1eac35",
   "metadata": {},
   "outputs": [],
   "source": [
    "# initialize the Indicators class and import k-line data into the object\n",
    "btc_indicate = indicator.Indicators('BTC-USDT', 15 * 60 * 1000)\n",
    "btc_indicate.import_kLines(kLines)"
   ]
  },
  {
   "cell_type": "code",
   "execution_count": 4,
   "id": "03f900de",
   "metadata": {},
   "outputs": [
    {
     "data": {
      "text/html": [
       "<div>\n",
       "<style scoped>\n",
       "    .dataframe tbody tr th:only-of-type {\n",
       "        vertical-align: middle;\n",
       "    }\n",
       "\n",
       "    .dataframe tbody tr th {\n",
       "        vertical-align: top;\n",
       "    }\n",
       "\n",
       "    .dataframe thead th {\n",
       "        text-align: right;\n",
       "    }\n",
       "</style>\n",
       "<table border=\"1\" class=\"dataframe\">\n",
       "  <thead>\n",
       "    <tr style=\"text-align: right;\">\n",
       "      <th></th>\n",
       "      <th>open</th>\n",
       "      <th>close</th>\n",
       "      <th>high</th>\n",
       "      <th>low</th>\n",
       "      <th>volume</th>\n",
       "      <th>time</th>\n",
       "      <th>timeStamp</th>\n",
       "      <th>EMA20</th>\n",
       "      <th>EMA40</th>\n",
       "      <th>EMA60</th>\n",
       "      <th>RSI</th>\n",
       "    </tr>\n",
       "  </thead>\n",
       "  <tbody>\n",
       "    <tr>\n",
       "      <th>390</th>\n",
       "      <td>95843.9</td>\n",
       "      <td>95854.5</td>\n",
       "      <td>95908.5</td>\n",
       "      <td>95828.1</td>\n",
       "      <td>189.85</td>\n",
       "      <td>2025-05-04 08:00:00</td>\n",
       "      <td>1746345600000</td>\n",
       "      <td>95878.362949</td>\n",
       "      <td>95923.264369</td>\n",
       "      <td>95978.500485</td>\n",
       "      <td>48.099336</td>\n",
       "    </tr>\n",
       "    <tr>\n",
       "      <th>391</th>\n",
       "      <td>95854.3</td>\n",
       "      <td>95633.0</td>\n",
       "      <td>95854.5</td>\n",
       "      <td>95554.7</td>\n",
       "      <td>155.05</td>\n",
       "      <td>2025-05-04 08:15:00</td>\n",
       "      <td>1746346500000</td>\n",
       "      <td>95854.995050</td>\n",
       "      <td>95909.105132</td>\n",
       "      <td>95967.172600</td>\n",
       "      <td>39.103731</td>\n",
       "    </tr>\n",
       "    <tr>\n",
       "      <th>392</th>\n",
       "      <td>95646.0</td>\n",
       "      <td>95571.4</td>\n",
       "      <td>95646.2</td>\n",
       "      <td>95375.0</td>\n",
       "      <td>250.94</td>\n",
       "      <td>2025-05-04 08:30:00</td>\n",
       "      <td>1746347400000</td>\n",
       "      <td>95827.985997</td>\n",
       "      <td>95892.631710</td>\n",
       "      <td>95954.196449</td>\n",
       "      <td>37.029619</td>\n",
       "    </tr>\n",
       "    <tr>\n",
       "      <th>393</th>\n",
       "      <td>95571.2</td>\n",
       "      <td>95606.7</td>\n",
       "      <td>95658.5</td>\n",
       "      <td>95487.6</td>\n",
       "      <td>164.74</td>\n",
       "      <td>2025-05-04 08:45:00</td>\n",
       "      <td>1746348300000</td>\n",
       "      <td>95806.911140</td>\n",
       "      <td>95878.683822</td>\n",
       "      <td>95942.803123</td>\n",
       "      <td>39.025528</td>\n",
       "    </tr>\n",
       "    <tr>\n",
       "      <th>394</th>\n",
       "      <td>95606.5</td>\n",
       "      <td>95602.4</td>\n",
       "      <td>95665.1</td>\n",
       "      <td>95503.8</td>\n",
       "      <td>120.06</td>\n",
       "      <td>2025-05-04 09:00:00</td>\n",
       "      <td>1746349200000</td>\n",
       "      <td>95787.433889</td>\n",
       "      <td>95865.206563</td>\n",
       "      <td>95931.642365</td>\n",
       "      <td>38.863933</td>\n",
       "    </tr>\n",
       "    <tr>\n",
       "      <th>395</th>\n",
       "      <td>95602.6</td>\n",
       "      <td>95450.0</td>\n",
       "      <td>95605.4</td>\n",
       "      <td>95403.2</td>\n",
       "      <td>164.90</td>\n",
       "      <td>2025-05-04 09:15:00</td>\n",
       "      <td>1746350100000</td>\n",
       "      <td>95755.297328</td>\n",
       "      <td>95844.952584</td>\n",
       "      <td>95915.850812</td>\n",
       "      <td>33.559937</td>\n",
       "    </tr>\n",
       "    <tr>\n",
       "      <th>396</th>\n",
       "      <td>95450.2</td>\n",
       "      <td>95454.0</td>\n",
       "      <td>95551.7</td>\n",
       "      <td>95400.0</td>\n",
       "      <td>150.34</td>\n",
       "      <td>2025-05-04 09:30:00</td>\n",
       "      <td>1746351000000</td>\n",
       "      <td>95726.602344</td>\n",
       "      <td>95825.881726</td>\n",
       "      <td>95900.708163</td>\n",
       "      <td>33.815251</td>\n",
       "    </tr>\n",
       "    <tr>\n",
       "      <th>397</th>\n",
       "      <td>95454.0</td>\n",
       "      <td>95440.5</td>\n",
       "      <td>95541.8</td>\n",
       "      <td>95411.4</td>\n",
       "      <td>112.92</td>\n",
       "      <td>2025-05-04 09:45:00</td>\n",
       "      <td>1746351900000</td>\n",
       "      <td>95699.354502</td>\n",
       "      <td>95807.082618</td>\n",
       "      <td>95885.619370</td>\n",
       "      <td>33.349460</td>\n",
       "    </tr>\n",
       "    <tr>\n",
       "      <th>398</th>\n",
       "      <td>95440.7</td>\n",
       "      <td>95416.9</td>\n",
       "      <td>95471.7</td>\n",
       "      <td>95356.2</td>\n",
       "      <td>284.39</td>\n",
       "      <td>2025-05-04 10:00:00</td>\n",
       "      <td>1746352800000</td>\n",
       "      <td>95672.454073</td>\n",
       "      <td>95788.049319</td>\n",
       "      <td>95870.251522</td>\n",
       "      <td>32.506491</td>\n",
       "    </tr>\n",
       "    <tr>\n",
       "      <th>399</th>\n",
       "      <td>95416.7</td>\n",
       "      <td>95412.9</td>\n",
       "      <td>95419.5</td>\n",
       "      <td>95377.0</td>\n",
       "      <td>0.17</td>\n",
       "      <td>2025-05-04 10:15:00</td>\n",
       "      <td>1746353700000</td>\n",
       "      <td>95647.734638</td>\n",
       "      <td>95769.749352</td>\n",
       "      <td>95855.256390</td>\n",
       "      <td>32.357202</td>\n",
       "    </tr>\n",
       "  </tbody>\n",
       "</table>\n",
       "</div>"
      ],
      "text/plain": [
       "        open    close     high      low  volume                time  \\\n",
       "390  95843.9  95854.5  95908.5  95828.1  189.85 2025-05-04 08:00:00   \n",
       "391  95854.3  95633.0  95854.5  95554.7  155.05 2025-05-04 08:15:00   \n",
       "392  95646.0  95571.4  95646.2  95375.0  250.94 2025-05-04 08:30:00   \n",
       "393  95571.2  95606.7  95658.5  95487.6  164.74 2025-05-04 08:45:00   \n",
       "394  95606.5  95602.4  95665.1  95503.8  120.06 2025-05-04 09:00:00   \n",
       "395  95602.6  95450.0  95605.4  95403.2  164.90 2025-05-04 09:15:00   \n",
       "396  95450.2  95454.0  95551.7  95400.0  150.34 2025-05-04 09:30:00   \n",
       "397  95454.0  95440.5  95541.8  95411.4  112.92 2025-05-04 09:45:00   \n",
       "398  95440.7  95416.9  95471.7  95356.2  284.39 2025-05-04 10:00:00   \n",
       "399  95416.7  95412.9  95419.5  95377.0    0.17 2025-05-04 10:15:00   \n",
       "\n",
       "         timeStamp         EMA20         EMA40         EMA60        RSI  \n",
       "390  1746345600000  95878.362949  95923.264369  95978.500485  48.099336  \n",
       "391  1746346500000  95854.995050  95909.105132  95967.172600  39.103731  \n",
       "392  1746347400000  95827.985997  95892.631710  95954.196449  37.029619  \n",
       "393  1746348300000  95806.911140  95878.683822  95942.803123  39.025528  \n",
       "394  1746349200000  95787.433889  95865.206563  95931.642365  38.863933  \n",
       "395  1746350100000  95755.297328  95844.952584  95915.850812  33.559937  \n",
       "396  1746351000000  95726.602344  95825.881726  95900.708163  33.815251  \n",
       "397  1746351900000  95699.354502  95807.082618  95885.619370  33.349460  \n",
       "398  1746352800000  95672.454073  95788.049319  95870.251522  32.506491  \n",
       "399  1746353700000  95647.734638  95769.749352  95855.256390  32.357202  "
      ]
     },
     "execution_count": 4,
     "metadata": {},
     "output_type": "execute_result"
    }
   ],
   "source": [
    "# dump information of kLines information in the object.\n",
    "btc_indicate.kLines_pd.tail(10)"
   ]
  },
  {
   "cell_type": "code",
   "execution_count": 5,
   "id": "5ceb22ba",
   "metadata": {},
   "outputs": [
    {
     "name": "stdout",
     "output_type": "stream",
     "text": [
      "All append data has been stored into original data\n"
     ]
    }
   ],
   "source": [
    "# import more k-lines into the object\n",
    "k2 = api_entry.get_kLine_data(symbol='BTC-USDT', interval='15m', limit=5)\n",
    "btc_indicate.append_kLines(k2)"
   ]
  },
  {
   "cell_type": "code",
   "execution_count": 6,
   "id": "fd8eeff1",
   "metadata": {},
   "outputs": [
    {
     "data": {
      "text/html": [
       "<div>\n",
       "<style scoped>\n",
       "    .dataframe tbody tr th:only-of-type {\n",
       "        vertical-align: middle;\n",
       "    }\n",
       "\n",
       "    .dataframe tbody tr th {\n",
       "        vertical-align: top;\n",
       "    }\n",
       "\n",
       "    .dataframe thead th {\n",
       "        text-align: right;\n",
       "    }\n",
       "</style>\n",
       "<table border=\"1\" class=\"dataframe\">\n",
       "  <thead>\n",
       "    <tr style=\"text-align: right;\">\n",
       "      <th></th>\n",
       "      <th>open</th>\n",
       "      <th>close</th>\n",
       "      <th>high</th>\n",
       "      <th>low</th>\n",
       "      <th>volume</th>\n",
       "      <th>time</th>\n",
       "      <th>timeStamp</th>\n",
       "      <th>EMA20</th>\n",
       "      <th>EMA40</th>\n",
       "      <th>EMA60</th>\n",
       "      <th>RSI</th>\n",
       "    </tr>\n",
       "  </thead>\n",
       "  <tbody>\n",
       "    <tr>\n",
       "      <th>390</th>\n",
       "      <td>95843.9</td>\n",
       "      <td>95854.5</td>\n",
       "      <td>95908.5</td>\n",
       "      <td>95828.1</td>\n",
       "      <td>189.85</td>\n",
       "      <td>2025-05-04 08:00:00</td>\n",
       "      <td>1746345600000</td>\n",
       "      <td>95878.362949</td>\n",
       "      <td>95923.264369</td>\n",
       "      <td>95978.500485</td>\n",
       "      <td>48.099336</td>\n",
       "    </tr>\n",
       "    <tr>\n",
       "      <th>391</th>\n",
       "      <td>95854.3</td>\n",
       "      <td>95633.0</td>\n",
       "      <td>95854.5</td>\n",
       "      <td>95554.7</td>\n",
       "      <td>155.05</td>\n",
       "      <td>2025-05-04 08:15:00</td>\n",
       "      <td>1746346500000</td>\n",
       "      <td>95854.995050</td>\n",
       "      <td>95909.105132</td>\n",
       "      <td>95967.172600</td>\n",
       "      <td>39.103731</td>\n",
       "    </tr>\n",
       "    <tr>\n",
       "      <th>392</th>\n",
       "      <td>95646.0</td>\n",
       "      <td>95571.4</td>\n",
       "      <td>95646.2</td>\n",
       "      <td>95375.0</td>\n",
       "      <td>250.94</td>\n",
       "      <td>2025-05-04 08:30:00</td>\n",
       "      <td>1746347400000</td>\n",
       "      <td>95827.985997</td>\n",
       "      <td>95892.631710</td>\n",
       "      <td>95954.196449</td>\n",
       "      <td>37.029619</td>\n",
       "    </tr>\n",
       "    <tr>\n",
       "      <th>393</th>\n",
       "      <td>95571.2</td>\n",
       "      <td>95606.7</td>\n",
       "      <td>95658.5</td>\n",
       "      <td>95487.6</td>\n",
       "      <td>164.74</td>\n",
       "      <td>2025-05-04 08:45:00</td>\n",
       "      <td>1746348300000</td>\n",
       "      <td>95806.911140</td>\n",
       "      <td>95878.683822</td>\n",
       "      <td>95942.803123</td>\n",
       "      <td>39.025528</td>\n",
       "    </tr>\n",
       "    <tr>\n",
       "      <th>394</th>\n",
       "      <td>95606.5</td>\n",
       "      <td>95602.4</td>\n",
       "      <td>95665.1</td>\n",
       "      <td>95503.8</td>\n",
       "      <td>120.06</td>\n",
       "      <td>2025-05-04 09:00:00</td>\n",
       "      <td>1746349200000</td>\n",
       "      <td>95787.433889</td>\n",
       "      <td>95865.206563</td>\n",
       "      <td>95931.642365</td>\n",
       "      <td>38.863933</td>\n",
       "    </tr>\n",
       "    <tr>\n",
       "      <th>395</th>\n",
       "      <td>95602.6</td>\n",
       "      <td>95450.0</td>\n",
       "      <td>95605.4</td>\n",
       "      <td>95403.2</td>\n",
       "      <td>164.90</td>\n",
       "      <td>2025-05-04 09:15:00</td>\n",
       "      <td>1746350100000</td>\n",
       "      <td>95755.297328</td>\n",
       "      <td>95844.952584</td>\n",
       "      <td>95915.850812</td>\n",
       "      <td>33.559937</td>\n",
       "    </tr>\n",
       "    <tr>\n",
       "      <th>396</th>\n",
       "      <td>95450.2</td>\n",
       "      <td>95454.0</td>\n",
       "      <td>95551.7</td>\n",
       "      <td>95400.0</td>\n",
       "      <td>150.34</td>\n",
       "      <td>2025-05-04 09:30:00</td>\n",
       "      <td>1746351000000</td>\n",
       "      <td>95726.602344</td>\n",
       "      <td>95825.881726</td>\n",
       "      <td>95900.708163</td>\n",
       "      <td>33.815251</td>\n",
       "    </tr>\n",
       "    <tr>\n",
       "      <th>397</th>\n",
       "      <td>95454.0</td>\n",
       "      <td>95440.5</td>\n",
       "      <td>95541.8</td>\n",
       "      <td>95411.4</td>\n",
       "      <td>112.92</td>\n",
       "      <td>2025-05-04 09:45:00</td>\n",
       "      <td>1746351900000</td>\n",
       "      <td>95699.354502</td>\n",
       "      <td>95807.082618</td>\n",
       "      <td>95885.619370</td>\n",
       "      <td>33.349460</td>\n",
       "    </tr>\n",
       "    <tr>\n",
       "      <th>398</th>\n",
       "      <td>95440.7</td>\n",
       "      <td>95416.9</td>\n",
       "      <td>95471.7</td>\n",
       "      <td>95356.2</td>\n",
       "      <td>284.39</td>\n",
       "      <td>2025-05-04 10:00:00</td>\n",
       "      <td>1746352800000</td>\n",
       "      <td>95672.454073</td>\n",
       "      <td>95788.049319</td>\n",
       "      <td>95870.251522</td>\n",
       "      <td>32.506491</td>\n",
       "    </tr>\n",
       "    <tr>\n",
       "      <th>399</th>\n",
       "      <td>95416.7</td>\n",
       "      <td>95412.9</td>\n",
       "      <td>95419.5</td>\n",
       "      <td>95377.0</td>\n",
       "      <td>0.17</td>\n",
       "      <td>2025-05-04 10:15:00</td>\n",
       "      <td>1746353700000</td>\n",
       "      <td>95647.734638</td>\n",
       "      <td>95769.749352</td>\n",
       "      <td>95855.256390</td>\n",
       "      <td>32.357202</td>\n",
       "    </tr>\n",
       "  </tbody>\n",
       "</table>\n",
       "</div>"
      ],
      "text/plain": [
       "        open    close     high      low  volume                time  \\\n",
       "390  95843.9  95854.5  95908.5  95828.1  189.85 2025-05-04 08:00:00   \n",
       "391  95854.3  95633.0  95854.5  95554.7  155.05 2025-05-04 08:15:00   \n",
       "392  95646.0  95571.4  95646.2  95375.0  250.94 2025-05-04 08:30:00   \n",
       "393  95571.2  95606.7  95658.5  95487.6  164.74 2025-05-04 08:45:00   \n",
       "394  95606.5  95602.4  95665.1  95503.8  120.06 2025-05-04 09:00:00   \n",
       "395  95602.6  95450.0  95605.4  95403.2  164.90 2025-05-04 09:15:00   \n",
       "396  95450.2  95454.0  95551.7  95400.0  150.34 2025-05-04 09:30:00   \n",
       "397  95454.0  95440.5  95541.8  95411.4  112.92 2025-05-04 09:45:00   \n",
       "398  95440.7  95416.9  95471.7  95356.2  284.39 2025-05-04 10:00:00   \n",
       "399  95416.7  95412.9  95419.5  95377.0    0.17 2025-05-04 10:15:00   \n",
       "\n",
       "         timeStamp         EMA20         EMA40         EMA60        RSI  \n",
       "390  1746345600000  95878.362949  95923.264369  95978.500485  48.099336  \n",
       "391  1746346500000  95854.995050  95909.105132  95967.172600  39.103731  \n",
       "392  1746347400000  95827.985997  95892.631710  95954.196449  37.029619  \n",
       "393  1746348300000  95806.911140  95878.683822  95942.803123  39.025528  \n",
       "394  1746349200000  95787.433889  95865.206563  95931.642365  38.863933  \n",
       "395  1746350100000  95755.297328  95844.952584  95915.850812  33.559937  \n",
       "396  1746351000000  95726.602344  95825.881726  95900.708163  33.815251  \n",
       "397  1746351900000  95699.354502  95807.082618  95885.619370  33.349460  \n",
       "398  1746352800000  95672.454073  95788.049319  95870.251522  32.506491  \n",
       "399  1746353700000  95647.734638  95769.749352  95855.256390  32.357202  "
      ]
     },
     "execution_count": 6,
     "metadata": {},
     "output_type": "execute_result"
    }
   ],
   "source": [
    "# dump information of kLines information in the object.\n",
    "btc_indicate.kLines_pd.tail(10)"
   ]
  },
  {
   "cell_type": "markdown",
   "id": "a69e8684",
   "metadata": {},
   "source": [
    "### Plot function\n",
    "```python\n",
    "Indicators.plot(data: list)\n",
    "```\n",
    "The information of `data` contains the indicators you want to show.\n",
    "Currently support k-Line and all data(k-line, RSI, EMA)\n",
    "\n",
    "Figure will display SEPARATELY by each elements of data."
   ]
  },
  {
   "cell_type": "code",
   "execution_count": 7,
   "id": "24926769",
   "metadata": {},
   "outputs": [
    {
     "data": {
      "application/vnd.plotly.v1+json": {
       "config": {
        "plotlyServerURL": "https://plot.ly"
       },
       "data": [
        {
         "close": {
          "bdata": "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",
          "dtype": "f8"
         },
         "decreasing": {
          "line": {
           "color": "red"
          }
         },
         "high": {
          "bdata": "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",
          "dtype": "f8"
         },
         "increasing": {
          "line": {
           "color": "green"
          }
         },
         "low": {
          "bdata": "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",
          "dtype": "f8"
         },
         "open": {
          "bdata": "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",
          "dtype": "f8"
         },
         "type": "candlestick",
         "x": [
          "2025-04-30T06:30:00.000000000",
          "2025-04-30T06:45:00.000000000",
          "2025-04-30T07:00:00.000000000",
          "2025-04-30T07:15:00.000000000",
          "2025-04-30T07:30:00.000000000",
          "2025-04-30T07:45:00.000000000",
          "2025-04-30T08:00:00.000000000",
          "2025-04-30T08:15:00.000000000",
          "2025-04-30T08:30:00.000000000",
          "2025-04-30T08:45:00.000000000",
          "2025-04-30T09:00:00.000000000",
          "2025-04-30T09:15:00.000000000",
          "2025-04-30T09:30:00.000000000",
          "2025-04-30T09:45:00.000000000",
          "2025-04-30T10:00:00.000000000",
          "2025-04-30T10:15:00.000000000",
          "2025-04-30T10:30:00.000000000",
          "2025-04-30T10:45:00.000000000",
          "2025-04-30T11:00:00.000000000",
          "2025-04-30T11:15:00.000000000",
          "2025-04-30T11:30:00.000000000",
          "2025-04-30T11:45:00.000000000",
          "2025-04-30T12:00:00.000000000",
          "2025-04-30T12:15:00.000000000",
          "2025-04-30T12:30:00.000000000",
          "2025-04-30T12:45:00.000000000",
          "2025-04-30T13:00:00.000000000",
          "2025-04-30T13:15:00.000000000",
          "2025-04-30T13:30:00.000000000",
          "2025-04-30T13:45:00.000000000",
          "2025-04-30T14:00:00.000000000",
          "2025-04-30T14:15:00.000000000",
          "2025-04-30T14:30:00.000000000",
          "2025-04-30T14:45:00.000000000",
          "2025-04-30T15:00:00.000000000",
          "2025-04-30T15:15:00.000000000",
          "2025-04-30T15:30:00.000000000",
          "2025-04-30T15:45:00.000000000",
          "2025-04-30T16:00:00.000000000",
          "2025-04-30T16:15:00.000000000",
          "2025-04-30T16:30:00.000000000",
          "2025-04-30T16:45:00.000000000",
          "2025-04-30T17:00:00.000000000",
          "2025-04-30T17:15:00.000000000",
          "2025-04-30T17:30:00.000000000",
          "2025-04-30T17:45:00.000000000",
          "2025-04-30T18:00:00.000000000",
          "2025-04-30T18:15:00.000000000",
          "2025-04-30T18:30:00.000000000",
          "2025-04-30T18:45:00.000000000",
          "2025-04-30T19:00:00.000000000",
          "2025-04-30T19:15:00.000000000",
          "2025-04-30T19:30:00.000000000",
          "2025-04-30T19:45:00.000000000",
          "2025-04-30T20:00:00.000000000",
          "2025-04-30T20:15:00.000000000",
          "2025-04-30T20:30:00.000000000",
          "2025-04-30T20:45:00.000000000",
          "2025-04-30T21:00:00.000000000",
          "2025-04-30T21:15:00.000000000",
          "2025-04-30T21:30:00.000000000",
          "2025-04-30T21:45:00.000000000",
          "2025-04-30T22:00:00.000000000",
          "2025-04-30T22:15:00.000000000",
          "2025-04-30T22:30:00.000000000",
          "2025-04-30T22:45:00.000000000",
          "2025-04-30T23:00:00.000000000",
          "2025-04-30T23:15:00.000000000",
          "2025-04-30T23:30:00.000000000",
          "2025-04-30T23:45:00.000000000",
          "2025-05-01T00:00:00.000000000",
          "2025-05-01T00:15:00.000000000",
          "2025-05-01T00:30:00.000000000",
          "2025-05-01T00:45:00.000000000",
          "2025-05-01T01:00:00.000000000",
          "2025-05-01T01:15:00.000000000",
          "2025-05-01T01:30:00.000000000",
          "2025-05-01T01:45:00.000000000",
          "2025-05-01T02:00:00.000000000",
          "2025-05-01T02:15:00.000000000",
          "2025-05-01T02:30:00.000000000",
          "2025-05-01T02:45:00.000000000",
          "2025-05-01T03:00:00.000000000",
          "2025-05-01T03:15:00.000000000",
          "2025-05-01T03:30:00.000000000",
          "2025-05-01T03:45:00.000000000",
          "2025-05-01T04:00:00.000000000",
          "2025-05-01T04:15:00.000000000",
          "2025-05-01T04:30:00.000000000",
          "2025-05-01T04:45:00.000000000",
          "2025-05-01T05:00:00.000000000",
          "2025-05-01T05:15:00.000000000",
          "2025-05-01T05:30:00.000000000",
          "2025-05-01T05:45:00.000000000",
          "2025-05-01T06:00:00.000000000",
          "2025-05-01T06:15:00.000000000",
          "2025-05-01T06:30:00.000000000",
          "2025-05-01T06:45:00.000000000",
          "2025-05-01T07:00:00.000000000",
          "2025-05-01T07:15:00.000000000",
          "2025-05-01T07:30:00.000000000",
          "2025-05-01T07:45:00.000000000",
          "2025-05-01T08:00:00.000000000",
          "2025-05-01T08:15:00.000000000",
          "2025-05-01T08:30:00.000000000",
          "2025-05-01T08:45:00.000000000",
          "2025-05-01T09:00:00.000000000",
          "2025-05-01T09:15:00.000000000",
          "2025-05-01T09:30:00.000000000",
          "2025-05-01T09:45:00.000000000",
          "2025-05-01T10:00:00.000000000",
          "2025-05-01T10:15:00.000000000",
          "2025-05-01T10:30:00.000000000",
          "2025-05-01T10:45:00.000000000",
          "2025-05-01T11:00:00.000000000",
          "2025-05-01T11:15:00.000000000",
          "2025-05-01T11:30:00.000000000",
          "2025-05-01T11:45:00.000000000",
          "2025-05-01T12:00:00.000000000",
          "2025-05-01T12:15:00.000000000",
          "2025-05-01T12:30:00.000000000",
          "2025-05-01T12:45:00.000000000",
          "2025-05-01T13:00:00.000000000",
          "2025-05-01T13:15:00.000000000",
          "2025-05-01T13:30:00.000000000",
          "2025-05-01T13:45:00.000000000",
          "2025-05-01T14:00:00.000000000",
          "2025-05-01T14:15:00.000000000",
          "2025-05-01T14:30:00.000000000",
          "2025-05-01T14:45:00.000000000",
          "2025-05-01T15:00:00.000000000",
          "2025-05-01T15:15:00.000000000",
          "2025-05-01T15:30:00.000000000",
          "2025-05-01T15:45:00.000000000",
          "2025-05-01T16:00:00.000000000",
          "2025-05-01T16:15:00.000000000",
          "2025-05-01T16:30:00.000000000",
          "2025-05-01T16:45:00.000000000",
          "2025-05-01T17:00:00.000000000",
          "2025-05-01T17:15:00.000000000",
          "2025-05-01T17:30:00.000000000",
          "2025-05-01T17:45:00.000000000",
          "2025-05-01T18:00:00.000000000",
          "2025-05-01T18:15:00.000000000",
          "2025-05-01T18:30:00.000000000",
          "2025-05-01T18:45:00.000000000",
          "2025-05-01T19:00:00.000000000",
          "2025-05-01T19:15:00.000000000",
          "2025-05-01T19:30:00.000000000",
          "2025-05-01T19:45:00.000000000",
          "2025-05-01T20:00:00.000000000",
          "2025-05-01T20:15:00.000000000",
          "2025-05-01T20:30:00.000000000",
          "2025-05-01T20:45:00.000000000",
          "2025-05-01T21:00:00.000000000",
          "2025-05-01T21:15:00.000000000",
          "2025-05-01T21:30:00.000000000",
          "2025-05-01T21:45:00.000000000",
          "2025-05-01T22:00:00.000000000",
          "2025-05-01T22:15:00.000000000",
          "2025-05-01T22:30:00.000000000",
          "2025-05-01T22:45:00.000000000",
          "2025-05-01T23:00:00.000000000",
          "2025-05-01T23:15:00.000000000",
          "2025-05-01T23:30:00.000000000",
          "2025-05-01T23:45:00.000000000",
          "2025-05-02T00:00:00.000000000",
          "2025-05-02T00:15:00.000000000",
          "2025-05-02T00:30:00.000000000",
          "2025-05-02T00:45:00.000000000",
          "2025-05-02T01:00:00.000000000",
          "2025-05-02T01:15:00.000000000",
          "2025-05-02T01:30:00.000000000",
          "2025-05-02T01:45:00.000000000",
          "2025-05-02T02:00:00.000000000",
          "2025-05-02T02:15:00.000000000",
          "2025-05-02T02:30:00.000000000",
          "2025-05-02T02:45:00.000000000",
          "2025-05-02T03:00:00.000000000",
          "2025-05-02T03:15:00.000000000",
          "2025-05-02T03:30:00.000000000",
          "2025-05-02T03:45:00.000000000",
          "2025-05-02T04:00:00.000000000",
          "2025-05-02T04:15:00.000000000",
          "2025-05-02T04:30:00.000000000",
          "2025-05-02T04:45:00.000000000",
          "2025-05-02T05:00:00.000000000",
          "2025-05-02T05:15:00.000000000",
          "2025-05-02T05:30:00.000000000",
          "2025-05-02T05:45:00.000000000",
          "2025-05-02T06:00:00.000000000",
          "2025-05-02T06:15:00.000000000",
          "2025-05-02T06:30:00.000000000",
          "2025-05-02T06:45:00.000000000",
          "2025-05-02T07:00:00.000000000",
          "2025-05-02T07:15:00.000000000",
          "2025-05-02T07:30:00.000000000",
          "2025-05-02T07:45:00.000000000",
          "2025-05-02T08:00:00.000000000",
          "2025-05-02T08:15:00.000000000",
          "2025-05-02T08:30:00.000000000",
          "2025-05-02T08:45:00.000000000",
          "2025-05-02T09:00:00.000000000",
          "2025-05-02T09:15:00.000000000",
          "2025-05-02T09:30:00.000000000",
          "2025-05-02T09:45:00.000000000",
          "2025-05-02T10:00:00.000000000",
          "2025-05-02T10:15:00.000000000",
          "2025-05-02T10:30:00.000000000",
          "2025-05-02T10:45:00.000000000",
          "2025-05-02T11:00:00.000000000",
          "2025-05-02T11:15:00.000000000",
          "2025-05-02T11:30:00.000000000",
          "2025-05-02T11:45:00.000000000",
          "2025-05-02T12:00:00.000000000",
          "2025-05-02T12:15:00.000000000",
          "2025-05-02T12:30:00.000000000",
          "2025-05-02T12:45:00.000000000",
          "2025-05-02T13:00:00.000000000",
          "2025-05-02T13:15:00.000000000",
          "2025-05-02T13:30:00.000000000",
          "2025-05-02T13:45:00.000000000",
          "2025-05-02T14:00:00.000000000",
          "2025-05-02T14:15:00.000000000",
          "2025-05-02T14:30:00.000000000",
          "2025-05-02T14:45:00.000000000",
          "2025-05-02T15:00:00.000000000",
          "2025-05-02T15:15:00.000000000",
          "2025-05-02T15:30:00.000000000",
          "2025-05-02T15:45:00.000000000",
          "2025-05-02T16:00:00.000000000",
          "2025-05-02T16:15:00.000000000",
          "2025-05-02T16:30:00.000000000",
          "2025-05-02T16:45:00.000000000",
          "2025-05-02T17:00:00.000000000",
          "2025-05-02T17:15:00.000000000",
          "2025-05-02T17:30:00.000000000",
          "2025-05-02T17:45:00.000000000",
          "2025-05-02T18:00:00.000000000",
          "2025-05-02T18:15:00.000000000",
          "2025-05-02T18:30:00.000000000",
          "2025-05-02T18:45:00.000000000",
          "2025-05-02T19:00:00.000000000",
          "2025-05-02T19:15:00.000000000",
          "2025-05-02T19:30:00.000000000",
          "2025-05-02T19:45:00.000000000",
          "2025-05-02T20:00:00.000000000",
          "2025-05-02T20:15:00.000000000",
          "2025-05-02T20:30:00.000000000",
          "2025-05-02T20:45:00.000000000",
          "2025-05-02T21:00:00.000000000",
          "2025-05-02T21:15:00.000000000",
          "2025-05-02T21:30:00.000000000",
          "2025-05-02T21:45:00.000000000",
          "2025-05-02T22:00:00.000000000",
          "2025-05-02T22:15:00.000000000",
          "2025-05-02T22:30:00.000000000",
          "2025-05-02T22:45:00.000000000",
          "2025-05-02T23:00:00.000000000",
          "2025-05-02T23:15:00.000000000",
          "2025-05-02T23:30:00.000000000",
          "2025-05-02T23:45:00.000000000",
          "2025-05-03T00:00:00.000000000",
          "2025-05-03T00:15:00.000000000",
          "2025-05-03T00:30:00.000000000",
          "2025-05-03T00:45:00.000000000",
          "2025-05-03T01:00:00.000000000",
          "2025-05-03T01:15:00.000000000",
          "2025-05-03T01:30:00.000000000",
          "2025-05-03T01:45:00.000000000",
          "2025-05-03T02:00:00.000000000",
          "2025-05-03T02:15:00.000000000",
          "2025-05-03T02:30:00.000000000",
          "2025-05-03T02:45:00.000000000",
          "2025-05-03T03:00:00.000000000",
          "2025-05-03T03:15:00.000000000",
          "2025-05-03T03:30:00.000000000",
          "2025-05-03T03:45:00.000000000",
          "2025-05-03T04:00:00.000000000",
          "2025-05-03T04:15:00.000000000",
          "2025-05-03T04:30:00.000000000",
          "2025-05-03T04:45:00.000000000",
          "2025-05-03T05:00:00.000000000",
          "2025-05-03T05:15:00.000000000",
          "2025-05-03T05:30:00.000000000",
          "2025-05-03T05:45:00.000000000",
          "2025-05-03T06:00:00.000000000",
          "2025-05-03T06:15:00.000000000",
          "2025-05-03T06:30:00.000000000",
          "2025-05-03T06:45:00.000000000",
          "2025-05-03T07:00:00.000000000",
          "2025-05-03T07:15:00.000000000",
          "2025-05-03T07:30:00.000000000",
          "2025-05-03T07:45:00.000000000",
          "2025-05-03T08:00:00.000000000",
          "2025-05-03T08:15:00.000000000",
          "2025-05-03T08:30:00.000000000",
          "2025-05-03T08:45:00.000000000",
          "2025-05-03T09:00:00.000000000",
          "2025-05-03T09:15:00.000000000",
          "2025-05-03T09:30:00.000000000",
          "2025-05-03T09:45:00.000000000",
          "2025-05-03T10:00:00.000000000",
          "2025-05-03T10:15:00.000000000",
          "2025-05-03T10:30:00.000000000",
          "2025-05-03T10:45:00.000000000",
          "2025-05-03T11:00:00.000000000",
          "2025-05-03T11:15:00.000000000",
          "2025-05-03T11:30:00.000000000",
          "2025-05-03T11:45:00.000000000",
          "2025-05-03T12:00:00.000000000",
          "2025-05-03T12:15:00.000000000",
          "2025-05-03T12:30:00.000000000",
          "2025-05-03T12:45:00.000000000",
          "2025-05-03T13:00:00.000000000",
          "2025-05-03T13:15:00.000000000",
          "2025-05-03T13:30:00.000000000",
          "2025-05-03T13:45:00.000000000",
          "2025-05-03T14:00:00.000000000",
          "2025-05-03T14:15:00.000000000",
          "2025-05-03T14:30:00.000000000",
          "2025-05-03T14:45:00.000000000",
          "2025-05-03T15:00:00.000000000",
          "2025-05-03T15:15:00.000000000",
          "2025-05-03T15:30:00.000000000",
          "2025-05-03T15:45:00.000000000",
          "2025-05-03T16:00:00.000000000",
          "2025-05-03T16:15:00.000000000",
          "2025-05-03T16:30:00.000000000",
          "2025-05-03T16:45:00.000000000",
          "2025-05-03T17:00:00.000000000",
          "2025-05-03T17:15:00.000000000",
          "2025-05-03T17:30:00.000000000",
          "2025-05-03T17:45:00.000000000",
          "2025-05-03T18:00:00.000000000",
          "2025-05-03T18:15:00.000000000",
          "2025-05-03T18:30:00.000000000",
          "2025-05-03T18:45:00.000000000",
          "2025-05-03T19:00:00.000000000",
          "2025-05-03T19:15:00.000000000",
          "2025-05-03T19:30:00.000000000",
          "2025-05-03T19:45:00.000000000",
          "2025-05-03T20:00:00.000000000",
          "2025-05-03T20:15:00.000000000",
          "2025-05-03T20:30:00.000000000",
          "2025-05-03T20:45:00.000000000",
          "2025-05-03T21:00:00.000000000",
          "2025-05-03T21:15:00.000000000",
          "2025-05-03T21:30:00.000000000",
          "2025-05-03T21:45:00.000000000",
          "2025-05-03T22:00:00.000000000",
          "2025-05-03T22:15:00.000000000",
          "2025-05-03T22:30:00.000000000",
          "2025-05-03T22:45:00.000000000",
          "2025-05-03T23:00:00.000000000",
          "2025-05-03T23:15:00.000000000",
          "2025-05-03T23:30:00.000000000",
          "2025-05-03T23:45:00.000000000",
          "2025-05-04T00:00:00.000000000",
          "2025-05-04T00:15:00.000000000",
          "2025-05-04T00:30:00.000000000",
          "2025-05-04T00:45:00.000000000",
          "2025-05-04T01:00:00.000000000",
          "2025-05-04T01:15:00.000000000",
          "2025-05-04T01:30:00.000000000",
          "2025-05-04T01:45:00.000000000",
          "2025-05-04T02:00:00.000000000",
          "2025-05-04T02:15:00.000000000",
          "2025-05-04T02:30:00.000000000",
          "2025-05-04T02:45:00.000000000",
          "2025-05-04T03:00:00.000000000",
          "2025-05-04T03:15:00.000000000",
          "2025-05-04T03:30:00.000000000",
          "2025-05-04T03:45:00.000000000",
          "2025-05-04T04:00:00.000000000",
          "2025-05-04T04:15:00.000000000",
          "2025-05-04T04:30:00.000000000",
          "2025-05-04T04:45:00.000000000",
          "2025-05-04T05:00:00.000000000",
          "2025-05-04T05:15:00.000000000",
          "2025-05-04T05:30:00.000000000",
          "2025-05-04T05:45:00.000000000",
          "2025-05-04T06:00:00.000000000",
          "2025-05-04T06:15:00.000000000",
          "2025-05-04T06:30:00.000000000",
          "2025-05-04T06:45:00.000000000",
          "2025-05-04T07:00:00.000000000",
          "2025-05-04T07:15:00.000000000",
          "2025-05-04T07:30:00.000000000",
          "2025-05-04T07:45:00.000000000",
          "2025-05-04T08:00:00.000000000",
          "2025-05-04T08:15:00.000000000",
          "2025-05-04T08:30:00.000000000",
          "2025-05-04T08:45:00.000000000",
          "2025-05-04T09:00:00.000000000",
          "2025-05-04T09:15:00.000000000",
          "2025-05-04T09:30:00.000000000",
          "2025-05-04T09:45:00.000000000",
          "2025-05-04T10:00:00.000000000",
          "2025-05-04T10:15:00.000000000"
         ],
         "xaxis": "x",
         "yaxis": "y"
        },
        {
         "line": {
          "color": "blue",
          "width": 2
         },
         "mode": "lines",
         "name": "RSI",
         "type": "scatter",
         "x": [
          "2025-04-30T06:30:00.000000000",
          "2025-04-30T06:45:00.000000000",
          "2025-04-30T07:00:00.000000000",
          "2025-04-30T07:15:00.000000000",
          "2025-04-30T07:30:00.000000000",
          "2025-04-30T07:45:00.000000000",
          "2025-04-30T08:00:00.000000000",
          "2025-04-30T08:15:00.000000000",
          "2025-04-30T08:30:00.000000000",
          "2025-04-30T08:45:00.000000000",
          "2025-04-30T09:00:00.000000000",
          "2025-04-30T09:15:00.000000000",
          "2025-04-30T09:30:00.000000000",
          "2025-04-30T09:45:00.000000000",
          "2025-04-30T10:00:00.000000000",
          "2025-04-30T10:15:00.000000000",
          "2025-04-30T10:30:00.000000000",
          "2025-04-30T10:45:00.000000000",
          "2025-04-30T11:00:00.000000000",
          "2025-04-30T11:15:00.000000000",
          "2025-04-30T11:30:00.000000000",
          "2025-04-30T11:45:00.000000000",
          "2025-04-30T12:00:00.000000000",
          "2025-04-30T12:15:00.000000000",
          "2025-04-30T12:30:00.000000000",
          "2025-04-30T12:45:00.000000000",
          "2025-04-30T13:00:00.000000000",
          "2025-04-30T13:15:00.000000000",
          "2025-04-30T13:30:00.000000000",
          "2025-04-30T13:45:00.000000000",
          "2025-04-30T14:00:00.000000000",
          "2025-04-30T14:15:00.000000000",
          "2025-04-30T14:30:00.000000000",
          "2025-04-30T14:45:00.000000000",
          "2025-04-30T15:00:00.000000000",
          "2025-04-30T15:15:00.000000000",
          "2025-04-30T15:30:00.000000000",
          "2025-04-30T15:45:00.000000000",
          "2025-04-30T16:00:00.000000000",
          "2025-04-30T16:15:00.000000000",
          "2025-04-30T16:30:00.000000000",
          "2025-04-30T16:45:00.000000000",
          "2025-04-30T17:00:00.000000000",
          "2025-04-30T17:15:00.000000000",
          "2025-04-30T17:30:00.000000000",
          "2025-04-30T17:45:00.000000000",
          "2025-04-30T18:00:00.000000000",
          "2025-04-30T18:15:00.000000000",
          "2025-04-30T18:30:00.000000000",
          "2025-04-30T18:45:00.000000000",
          "2025-04-30T19:00:00.000000000",
          "2025-04-30T19:15:00.000000000",
          "2025-04-30T19:30:00.000000000",
          "2025-04-30T19:45:00.000000000",
          "2025-04-30T20:00:00.000000000",
          "2025-04-30T20:15:00.000000000",
          "2025-04-30T20:30:00.000000000",
          "2025-04-30T20:45:00.000000000",
          "2025-04-30T21:00:00.000000000",
          "2025-04-30T21:15:00.000000000",
          "2025-04-30T21:30:00.000000000",
          "2025-04-30T21:45:00.000000000",
          "2025-04-30T22:00:00.000000000",
          "2025-04-30T22:15:00.000000000",
          "2025-04-30T22:30:00.000000000",
          "2025-04-30T22:45:00.000000000",
          "2025-04-30T23:00:00.000000000",
          "2025-04-30T23:15:00.000000000",
          "2025-04-30T23:30:00.000000000",
          "2025-04-30T23:45:00.000000000",
          "2025-05-01T00:00:00.000000000",
          "2025-05-01T00:15:00.000000000",
          "2025-05-01T00:30:00.000000000",
          "2025-05-01T00:45:00.000000000",
          "2025-05-01T01:00:00.000000000",
          "2025-05-01T01:15:00.000000000",
          "2025-05-01T01:30:00.000000000",
          "2025-05-01T01:45:00.000000000",
          "2025-05-01T02:00:00.000000000",
          "2025-05-01T02:15:00.000000000",
          "2025-05-01T02:30:00.000000000",
          "2025-05-01T02:45:00.000000000",
          "2025-05-01T03:00:00.000000000",
          "2025-05-01T03:15:00.000000000",
          "2025-05-01T03:30:00.000000000",
          "2025-05-01T03:45:00.000000000",
          "2025-05-01T04:00:00.000000000",
          "2025-05-01T04:15:00.000000000",
          "2025-05-01T04:30:00.000000000",
          "2025-05-01T04:45:00.000000000",
          "2025-05-01T05:00:00.000000000",
          "2025-05-01T05:15:00.000000000",
          "2025-05-01T05:30:00.000000000",
          "2025-05-01T05:45:00.000000000",
          "2025-05-01T06:00:00.000000000",
          "2025-05-01T06:15:00.000000000",
          "2025-05-01T06:30:00.000000000",
          "2025-05-01T06:45:00.000000000",
          "2025-05-01T07:00:00.000000000",
          "2025-05-01T07:15:00.000000000",
          "2025-05-01T07:30:00.000000000",
          "2025-05-01T07:45:00.000000000",
          "2025-05-01T08:00:00.000000000",
          "2025-05-01T08:15:00.000000000",
          "2025-05-01T08:30:00.000000000",
          "2025-05-01T08:45:00.000000000",
          "2025-05-01T09:00:00.000000000",
          "2025-05-01T09:15:00.000000000",
          "2025-05-01T09:30:00.000000000",
          "2025-05-01T09:45:00.000000000",
          "2025-05-01T10:00:00.000000000",
          "2025-05-01T10:15:00.000000000",
          "2025-05-01T10:30:00.000000000",
          "2025-05-01T10:45:00.000000000",
          "2025-05-01T11:00:00.000000000",
          "2025-05-01T11:15:00.000000000",
          "2025-05-01T11:30:00.000000000",
          "2025-05-01T11:45:00.000000000",
          "2025-05-01T12:00:00.000000000",
          "2025-05-01T12:15:00.000000000",
          "2025-05-01T12:30:00.000000000",
          "2025-05-01T12:45:00.000000000",
          "2025-05-01T13:00:00.000000000",
          "2025-05-01T13:15:00.000000000",
          "2025-05-01T13:30:00.000000000",
          "2025-05-01T13:45:00.000000000",
          "2025-05-01T14:00:00.000000000",
          "2025-05-01T14:15:00.000000000",
          "2025-05-01T14:30:00.000000000",
          "2025-05-01T14:45:00.000000000",
          "2025-05-01T15:00:00.000000000",
          "2025-05-01T15:15:00.000000000",
          "2025-05-01T15:30:00.000000000",
          "2025-05-01T15:45:00.000000000",
          "2025-05-01T16:00:00.000000000",
          "2025-05-01T16:15:00.000000000",
          "2025-05-01T16:30:00.000000000",
          "2025-05-01T16:45:00.000000000",
          "2025-05-01T17:00:00.000000000",
          "2025-05-01T17:15:00.000000000",
          "2025-05-01T17:30:00.000000000",
          "2025-05-01T17:45:00.000000000",
          "2025-05-01T18:00:00.000000000",
          "2025-05-01T18:15:00.000000000",
          "2025-05-01T18:30:00.000000000",
          "2025-05-01T18:45:00.000000000",
          "2025-05-01T19:00:00.000000000",
          "2025-05-01T19:15:00.000000000",
          "2025-05-01T19:30:00.000000000",
          "2025-05-01T19:45:00.000000000",
          "2025-05-01T20:00:00.000000000",
          "2025-05-01T20:15:00.000000000",
          "2025-05-01T20:30:00.000000000",
          "2025-05-01T20:45:00.000000000",
          "2025-05-01T21:00:00.000000000",
          "2025-05-01T21:15:00.000000000",
          "2025-05-01T21:30:00.000000000",
          "2025-05-01T21:45:00.000000000",
          "2025-05-01T22:00:00.000000000",
          "2025-05-01T22:15:00.000000000",
          "2025-05-01T22:30:00.000000000",
          "2025-05-01T22:45:00.000000000",
          "2025-05-01T23:00:00.000000000",
          "2025-05-01T23:15:00.000000000",
          "2025-05-01T23:30:00.000000000",
          "2025-05-01T23:45:00.000000000",
          "2025-05-02T00:00:00.000000000",
          "2025-05-02T00:15:00.000000000",
          "2025-05-02T00:30:00.000000000",
          "2025-05-02T00:45:00.000000000",
          "2025-05-02T01:00:00.000000000",
          "2025-05-02T01:15:00.000000000",
          "2025-05-02T01:30:00.000000000",
          "2025-05-02T01:45:00.000000000",
          "2025-05-02T02:00:00.000000000",
          "2025-05-02T02:15:00.000000000",
          "2025-05-02T02:30:00.000000000",
          "2025-05-02T02:45:00.000000000",
          "2025-05-02T03:00:00.000000000",
          "2025-05-02T03:15:00.000000000",
          "2025-05-02T03:30:00.000000000",
          "2025-05-02T03:45:00.000000000",
          "2025-05-02T04:00:00.000000000",
          "2025-05-02T04:15:00.000000000",
          "2025-05-02T04:30:00.000000000",
          "2025-05-02T04:45:00.000000000",
          "2025-05-02T05:00:00.000000000",
          "2025-05-02T05:15:00.000000000",
          "2025-05-02T05:30:00.000000000",
          "2025-05-02T05:45:00.000000000",
          "2025-05-02T06:00:00.000000000",
          "2025-05-02T06:15:00.000000000",
          "2025-05-02T06:30:00.000000000",
          "2025-05-02T06:45:00.000000000",
          "2025-05-02T07:00:00.000000000",
          "2025-05-02T07:15:00.000000000",
          "2025-05-02T07:30:00.000000000",
          "2025-05-02T07:45:00.000000000",
          "2025-05-02T08:00:00.000000000",
          "2025-05-02T08:15:00.000000000",
          "2025-05-02T08:30:00.000000000",
          "2025-05-02T08:45:00.000000000",
          "2025-05-02T09:00:00.000000000",
          "2025-05-02T09:15:00.000000000",
          "2025-05-02T09:30:00.000000000",
          "2025-05-02T09:45:00.000000000",
          "2025-05-02T10:00:00.000000000",
          "2025-05-02T10:15:00.000000000",
          "2025-05-02T10:30:00.000000000",
          "2025-05-02T10:45:00.000000000",
          "2025-05-02T11:00:00.000000000",
          "2025-05-02T11:15:00.000000000",
          "2025-05-02T11:30:00.000000000",
          "2025-05-02T11:45:00.000000000",
          "2025-05-02T12:00:00.000000000",
          "2025-05-02T12:15:00.000000000",
          "2025-05-02T12:30:00.000000000",
          "2025-05-02T12:45:00.000000000",
          "2025-05-02T13:00:00.000000000",
          "2025-05-02T13:15:00.000000000",
          "2025-05-02T13:30:00.000000000",
          "2025-05-02T13:45:00.000000000",
          "2025-05-02T14:00:00.000000000",
          "2025-05-02T14:15:00.000000000",
          "2025-05-02T14:30:00.000000000",
          "2025-05-02T14:45:00.000000000",
          "2025-05-02T15:00:00.000000000",
          "2025-05-02T15:15:00.000000000",
          "2025-05-02T15:30:00.000000000",
          "2025-05-02T15:45:00.000000000",
          "2025-05-02T16:00:00.000000000",
          "2025-05-02T16:15:00.000000000",
          "2025-05-02T16:30:00.000000000",
          "2025-05-02T16:45:00.000000000",
          "2025-05-02T17:00:00.000000000",
          "2025-05-02T17:15:00.000000000",
          "2025-05-02T17:30:00.000000000",
          "2025-05-02T17:45:00.000000000",
          "2025-05-02T18:00:00.000000000",
          "2025-05-02T18:15:00.000000000",
          "2025-05-02T18:30:00.000000000",
          "2025-05-02T18:45:00.000000000",
          "2025-05-02T19:00:00.000000000",
          "2025-05-02T19:15:00.000000000",
          "2025-05-02T19:30:00.000000000",
          "2025-05-02T19:45:00.000000000",
          "2025-05-02T20:00:00.000000000",
          "2025-05-02T20:15:00.000000000",
          "2025-05-02T20:30:00.000000000",
          "2025-05-02T20:45:00.000000000",
          "2025-05-02T21:00:00.000000000",
          "2025-05-02T21:15:00.000000000",
          "2025-05-02T21:30:00.000000000",
          "2025-05-02T21:45:00.000000000",
          "2025-05-02T22:00:00.000000000",
          "2025-05-02T22:15:00.000000000",
          "2025-05-02T22:30:00.000000000",
          "2025-05-02T22:45:00.000000000",
          "2025-05-02T23:00:00.000000000",
          "2025-05-02T23:15:00.000000000",
          "2025-05-02T23:30:00.000000000",
          "2025-05-02T23:45:00.000000000",
          "2025-05-03T00:00:00.000000000",
          "2025-05-03T00:15:00.000000000",
          "2025-05-03T00:30:00.000000000",
          "2025-05-03T00:45:00.000000000",
          "2025-05-03T01:00:00.000000000",
          "2025-05-03T01:15:00.000000000",
          "2025-05-03T01:30:00.000000000",
          "2025-05-03T01:45:00.000000000",
          "2025-05-03T02:00:00.000000000",
          "2025-05-03T02:15:00.000000000",
          "2025-05-03T02:30:00.000000000",
          "2025-05-03T02:45:00.000000000",
          "2025-05-03T03:00:00.000000000",
          "2025-05-03T03:15:00.000000000",
          "2025-05-03T03:30:00.000000000",
          "2025-05-03T03:45:00.000000000",
          "2025-05-03T04:00:00.000000000",
          "2025-05-03T04:15:00.000000000",
          "2025-05-03T04:30:00.000000000",
          "2025-05-03T04:45:00.000000000",
          "2025-05-03T05:00:00.000000000",
          "2025-05-03T05:15:00.000000000",
          "2025-05-03T05:30:00.000000000",
          "2025-05-03T05:45:00.000000000",
          "2025-05-03T06:00:00.000000000",
          "2025-05-03T06:15:00.000000000",
          "2025-05-03T06:30:00.000000000",
          "2025-05-03T06:45:00.000000000",
          "2025-05-03T07:00:00.000000000",
          "2025-05-03T07:15:00.000000000",
          "2025-05-03T07:30:00.000000000",
          "2025-05-03T07:45:00.000000000",
          "2025-05-03T08:00:00.000000000",
          "2025-05-03T08:15:00.000000000",
          "2025-05-03T08:30:00.000000000",
          "2025-05-03T08:45:00.000000000",
          "2025-05-03T09:00:00.000000000",
          "2025-05-03T09:15:00.000000000",
          "2025-05-03T09:30:00.000000000",
          "2025-05-03T09:45:00.000000000",
          "2025-05-03T10:00:00.000000000",
          "2025-05-03T10:15:00.000000000",
          "2025-05-03T10:30:00.000000000",
          "2025-05-03T10:45:00.000000000",
          "2025-05-03T11:00:00.000000000",
          "2025-05-03T11:15:00.000000000",
          "2025-05-03T11:30:00.000000000",
          "2025-05-03T11:45:00.000000000",
          "2025-05-03T12:00:00.000000000",
          "2025-05-03T12:15:00.000000000",
          "2025-05-03T12:30:00.000000000",
          "2025-05-03T12:45:00.000000000",
          "2025-05-03T13:00:00.000000000",
          "2025-05-03T13:15:00.000000000",
          "2025-05-03T13:30:00.000000000",
          "2025-05-03T13:45:00.000000000",
          "2025-05-03T14:00:00.000000000",
          "2025-05-03T14:15:00.000000000",
          "2025-05-03T14:30:00.000000000",
          "2025-05-03T14:45:00.000000000",
          "2025-05-03T15:00:00.000000000",
          "2025-05-03T15:15:00.000000000",
          "2025-05-03T15:30:00.000000000",
          "2025-05-03T15:45:00.000000000",
          "2025-05-03T16:00:00.000000000",
          "2025-05-03T16:15:00.000000000",
          "2025-05-03T16:30:00.000000000",
          "2025-05-03T16:45:00.000000000",
          "2025-05-03T17:00:00.000000000",
          "2025-05-03T17:15:00.000000000",
          "2025-05-03T17:30:00.000000000",
          "2025-05-03T17:45:00.000000000",
          "2025-05-03T18:00:00.000000000",
          "2025-05-03T18:15:00.000000000",
          "2025-05-03T18:30:00.000000000",
          "2025-05-03T18:45:00.000000000",
          "2025-05-03T19:00:00.000000000",
          "2025-05-03T19:15:00.000000000",
          "2025-05-03T19:30:00.000000000",
          "2025-05-03T19:45:00.000000000",
          "2025-05-03T20:00:00.000000000",
          "2025-05-03T20:15:00.000000000",
          "2025-05-03T20:30:00.000000000",
          "2025-05-03T20:45:00.000000000",
          "2025-05-03T21:00:00.000000000",
          "2025-05-03T21:15:00.000000000",
          "2025-05-03T21:30:00.000000000",
          "2025-05-03T21:45:00.000000000",
          "2025-05-03T22:00:00.000000000",
          "2025-05-03T22:15:00.000000000",
          "2025-05-03T22:30:00.000000000",
          "2025-05-03T22:45:00.000000000",
          "2025-05-03T23:00:00.000000000",
          "2025-05-03T23:15:00.000000000",
          "2025-05-03T23:30:00.000000000",
          "2025-05-03T23:45:00.000000000",
          "2025-05-04T00:00:00.000000000",
          "2025-05-04T00:15:00.000000000",
          "2025-05-04T00:30:00.000000000",
          "2025-05-04T00:45:00.000000000",
          "2025-05-04T01:00:00.000000000",
          "2025-05-04T01:15:00.000000000",
          "2025-05-04T01:30:00.000000000",
          "2025-05-04T01:45:00.000000000",
          "2025-05-04T02:00:00.000000000",
          "2025-05-04T02:15:00.000000000",
          "2025-05-04T02:30:00.000000000",
          "2025-05-04T02:45:00.000000000",
          "2025-05-04T03:00:00.000000000",
          "2025-05-04T03:15:00.000000000",
          "2025-05-04T03:30:00.000000000",
          "2025-05-04T03:45:00.000000000",
          "2025-05-04T04:00:00.000000000",
          "2025-05-04T04:15:00.000000000",
          "2025-05-04T04:30:00.000000000",
          "2025-05-04T04:45:00.000000000",
          "2025-05-04T05:00:00.000000000",
          "2025-05-04T05:15:00.000000000",
          "2025-05-04T05:30:00.000000000",
          "2025-05-04T05:45:00.000000000",
          "2025-05-04T06:00:00.000000000",
          "2025-05-04T06:15:00.000000000",
          "2025-05-04T06:30:00.000000000",
          "2025-05-04T06:45:00.000000000",
          "2025-05-04T07:00:00.000000000",
          "2025-05-04T07:15:00.000000000",
          "2025-05-04T07:30:00.000000000",
          "2025-05-04T07:45:00.000000000",
          "2025-05-04T08:00:00.000000000",
          "2025-05-04T08:15:00.000000000",
          "2025-05-04T08:30:00.000000000",
          "2025-05-04T08:45:00.000000000",
          "2025-05-04T09:00:00.000000000",
          "2025-05-04T09:15:00.000000000",
          "2025-05-04T09:30:00.000000000",
          "2025-05-04T09:45:00.000000000",
          "2025-05-04T10:00:00.000000000",
          "2025-05-04T10:15:00.000000000"
         ],
         "xaxis": "x2",
         "y": {
          "bdata": "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",
          "dtype": "f8"
         },
         "yaxis": "y2"
        },
        {
         "line": {
          "color": "blue",
          "width": 1
         },
         "mode": "lines",
         "name": "EMA20",
         "type": "scatter",
         "x": [
          "2025-04-30T06:30:00.000000000",
          "2025-04-30T06:45:00.000000000",
          "2025-04-30T07:00:00.000000000",
          "2025-04-30T07:15:00.000000000",
          "2025-04-30T07:30:00.000000000",
          "2025-04-30T07:45:00.000000000",
          "2025-04-30T08:00:00.000000000",
          "2025-04-30T08:15:00.000000000",
          "2025-04-30T08:30:00.000000000",
          "2025-04-30T08:45:00.000000000",
          "2025-04-30T09:00:00.000000000",
          "2025-04-30T09:15:00.000000000",
          "2025-04-30T09:30:00.000000000",
          "2025-04-30T09:45:00.000000000",
          "2025-04-30T10:00:00.000000000",
          "2025-04-30T10:15:00.000000000",
          "2025-04-30T10:30:00.000000000",
          "2025-04-30T10:45:00.000000000",
          "2025-04-30T11:00:00.000000000",
          "2025-04-30T11:15:00.000000000",
          "2025-04-30T11:30:00.000000000",
          "2025-04-30T11:45:00.000000000",
          "2025-04-30T12:00:00.000000000",
          "2025-04-30T12:15:00.000000000",
          "2025-04-30T12:30:00.000000000",
          "2025-04-30T12:45:00.000000000",
          "2025-04-30T13:00:00.000000000",
          "2025-04-30T13:15:00.000000000",
          "2025-04-30T13:30:00.000000000",
          "2025-04-30T13:45:00.000000000",
          "2025-04-30T14:00:00.000000000",
          "2025-04-30T14:15:00.000000000",
          "2025-04-30T14:30:00.000000000",
          "2025-04-30T14:45:00.000000000",
          "2025-04-30T15:00:00.000000000",
          "2025-04-30T15:15:00.000000000",
          "2025-04-30T15:30:00.000000000",
          "2025-04-30T15:45:00.000000000",
          "2025-04-30T16:00:00.000000000",
          "2025-04-30T16:15:00.000000000",
          "2025-04-30T16:30:00.000000000",
          "2025-04-30T16:45:00.000000000",
          "2025-04-30T17:00:00.000000000",
          "2025-04-30T17:15:00.000000000",
          "2025-04-30T17:30:00.000000000",
          "2025-04-30T17:45:00.000000000",
          "2025-04-30T18:00:00.000000000",
          "2025-04-30T18:15:00.000000000",
          "2025-04-30T18:30:00.000000000",
          "2025-04-30T18:45:00.000000000",
          "2025-04-30T19:00:00.000000000",
          "2025-04-30T19:15:00.000000000",
          "2025-04-30T19:30:00.000000000",
          "2025-04-30T19:45:00.000000000",
          "2025-04-30T20:00:00.000000000",
          "2025-04-30T20:15:00.000000000",
          "2025-04-30T20:30:00.000000000",
          "2025-04-30T20:45:00.000000000",
          "2025-04-30T21:00:00.000000000",
          "2025-04-30T21:15:00.000000000",
          "2025-04-30T21:30:00.000000000",
          "2025-04-30T21:45:00.000000000",
          "2025-04-30T22:00:00.000000000",
          "2025-04-30T22:15:00.000000000",
          "2025-04-30T22:30:00.000000000",
          "2025-04-30T22:45:00.000000000",
          "2025-04-30T23:00:00.000000000",
          "2025-04-30T23:15:00.000000000",
          "2025-04-30T23:30:00.000000000",
          "2025-04-30T23:45:00.000000000",
          "2025-05-01T00:00:00.000000000",
          "2025-05-01T00:15:00.000000000",
          "2025-05-01T00:30:00.000000000",
          "2025-05-01T00:45:00.000000000",
          "2025-05-01T01:00:00.000000000",
          "2025-05-01T01:15:00.000000000",
          "2025-05-01T01:30:00.000000000",
          "2025-05-01T01:45:00.000000000",
          "2025-05-01T02:00:00.000000000",
          "2025-05-01T02:15:00.000000000",
          "2025-05-01T02:30:00.000000000",
          "2025-05-01T02:45:00.000000000",
          "2025-05-01T03:00:00.000000000",
          "2025-05-01T03:15:00.000000000",
          "2025-05-01T03:30:00.000000000",
          "2025-05-01T03:45:00.000000000",
          "2025-05-01T04:00:00.000000000",
          "2025-05-01T04:15:00.000000000",
          "2025-05-01T04:30:00.000000000",
          "2025-05-01T04:45:00.000000000",
          "2025-05-01T05:00:00.000000000",
          "2025-05-01T05:15:00.000000000",
          "2025-05-01T05:30:00.000000000",
          "2025-05-01T05:45:00.000000000",
          "2025-05-01T06:00:00.000000000",
          "2025-05-01T06:15:00.000000000",
          "2025-05-01T06:30:00.000000000",
          "2025-05-01T06:45:00.000000000",
          "2025-05-01T07:00:00.000000000",
          "2025-05-01T07:15:00.000000000",
          "2025-05-01T07:30:00.000000000",
          "2025-05-01T07:45:00.000000000",
          "2025-05-01T08:00:00.000000000",
          "2025-05-01T08:15:00.000000000",
          "2025-05-01T08:30:00.000000000",
          "2025-05-01T08:45:00.000000000",
          "2025-05-01T09:00:00.000000000",
          "2025-05-01T09:15:00.000000000",
          "2025-05-01T09:30:00.000000000",
          "2025-05-01T09:45:00.000000000",
          "2025-05-01T10:00:00.000000000",
          "2025-05-01T10:15:00.000000000",
          "2025-05-01T10:30:00.000000000",
          "2025-05-01T10:45:00.000000000",
          "2025-05-01T11:00:00.000000000",
          "2025-05-01T11:15:00.000000000",
          "2025-05-01T11:30:00.000000000",
          "2025-05-01T11:45:00.000000000",
          "2025-05-01T12:00:00.000000000",
          "2025-05-01T12:15:00.000000000",
          "2025-05-01T12:30:00.000000000",
          "2025-05-01T12:45:00.000000000",
          "2025-05-01T13:00:00.000000000",
          "2025-05-01T13:15:00.000000000",
          "2025-05-01T13:30:00.000000000",
          "2025-05-01T13:45:00.000000000",
          "2025-05-01T14:00:00.000000000",
          "2025-05-01T14:15:00.000000000",
          "2025-05-01T14:30:00.000000000",
          "2025-05-01T14:45:00.000000000",
          "2025-05-01T15:00:00.000000000",
          "2025-05-01T15:15:00.000000000",
          "2025-05-01T15:30:00.000000000",
          "2025-05-01T15:45:00.000000000",
          "2025-05-01T16:00:00.000000000",
          "2025-05-01T16:15:00.000000000",
          "2025-05-01T16:30:00.000000000",
          "2025-05-01T16:45:00.000000000",
          "2025-05-01T17:00:00.000000000",
          "2025-05-01T17:15:00.000000000",
          "2025-05-01T17:30:00.000000000",
          "2025-05-01T17:45:00.000000000",
          "2025-05-01T18:00:00.000000000",
          "2025-05-01T18:15:00.000000000",
          "2025-05-01T18:30:00.000000000",
          "2025-05-01T18:45:00.000000000",
          "2025-05-01T19:00:00.000000000",
          "2025-05-01T19:15:00.000000000",
          "2025-05-01T19:30:00.000000000",
          "2025-05-01T19:45:00.000000000",
          "2025-05-01T20:00:00.000000000",
          "2025-05-01T20:15:00.000000000",
          "2025-05-01T20:30:00.000000000",
          "2025-05-01T20:45:00.000000000",
          "2025-05-01T21:00:00.000000000",
          "2025-05-01T21:15:00.000000000",
          "2025-05-01T21:30:00.000000000",
          "2025-05-01T21:45:00.000000000",
          "2025-05-01T22:00:00.000000000",
          "2025-05-01T22:15:00.000000000",
          "2025-05-01T22:30:00.000000000",
          "2025-05-01T22:45:00.000000000",
          "2025-05-01T23:00:00.000000000",
          "2025-05-01T23:15:00.000000000",
          "2025-05-01T23:30:00.000000000",
          "2025-05-01T23:45:00.000000000",
          "2025-05-02T00:00:00.000000000",
          "2025-05-02T00:15:00.000000000",
          "2025-05-02T00:30:00.000000000",
          "2025-05-02T00:45:00.000000000",
          "2025-05-02T01:00:00.000000000",
          "2025-05-02T01:15:00.000000000",
          "2025-05-02T01:30:00.000000000",
          "2025-05-02T01:45:00.000000000",
          "2025-05-02T02:00:00.000000000",
          "2025-05-02T02:15:00.000000000",
          "2025-05-02T02:30:00.000000000",
          "2025-05-02T02:45:00.000000000",
          "2025-05-02T03:00:00.000000000",
          "2025-05-02T03:15:00.000000000",
          "2025-05-02T03:30:00.000000000",
          "2025-05-02T03:45:00.000000000",
          "2025-05-02T04:00:00.000000000",
          "2025-05-02T04:15:00.000000000",
          "2025-05-02T04:30:00.000000000",
          "2025-05-02T04:45:00.000000000",
          "2025-05-02T05:00:00.000000000",
          "2025-05-02T05:15:00.000000000",
          "2025-05-02T05:30:00.000000000",
          "2025-05-02T05:45:00.000000000",
          "2025-05-02T06:00:00.000000000",
          "2025-05-02T06:15:00.000000000",
          "2025-05-02T06:30:00.000000000",
          "2025-05-02T06:45:00.000000000",
          "2025-05-02T07:00:00.000000000",
          "2025-05-02T07:15:00.000000000",
          "2025-05-02T07:30:00.000000000",
          "2025-05-02T07:45:00.000000000",
          "2025-05-02T08:00:00.000000000",
          "2025-05-02T08:15:00.000000000",
          "2025-05-02T08:30:00.000000000",
          "2025-05-02T08:45:00.000000000",
          "2025-05-02T09:00:00.000000000",
          "2025-05-02T09:15:00.000000000",
          "2025-05-02T09:30:00.000000000",
          "2025-05-02T09:45:00.000000000",
          "2025-05-02T10:00:00.000000000",
          "2025-05-02T10:15:00.000000000",
          "2025-05-02T10:30:00.000000000",
          "2025-05-02T10:45:00.000000000",
          "2025-05-02T11:00:00.000000000",
          "2025-05-02T11:15:00.000000000",
          "2025-05-02T11:30:00.000000000",
          "2025-05-02T11:45:00.000000000",
          "2025-05-02T12:00:00.000000000",
          "2025-05-02T12:15:00.000000000",
          "2025-05-02T12:30:00.000000000",
          "2025-05-02T12:45:00.000000000",
          "2025-05-02T13:00:00.000000000",
          "2025-05-02T13:15:00.000000000",
          "2025-05-02T13:30:00.000000000",
          "2025-05-02T13:45:00.000000000",
          "2025-05-02T14:00:00.000000000",
          "2025-05-02T14:15:00.000000000",
          "2025-05-02T14:30:00.000000000",
          "2025-05-02T14:45:00.000000000",
          "2025-05-02T15:00:00.000000000",
          "2025-05-02T15:15:00.000000000",
          "2025-05-02T15:30:00.000000000",
          "2025-05-02T15:45:00.000000000",
          "2025-05-02T16:00:00.000000000",
          "2025-05-02T16:15:00.000000000",
          "2025-05-02T16:30:00.000000000",
          "2025-05-02T16:45:00.000000000",
          "2025-05-02T17:00:00.000000000",
          "2025-05-02T17:15:00.000000000",
          "2025-05-02T17:30:00.000000000",
          "2025-05-02T17:45:00.000000000",
          "2025-05-02T18:00:00.000000000",
          "2025-05-02T18:15:00.000000000",
          "2025-05-02T18:30:00.000000000",
          "2025-05-02T18:45:00.000000000",
          "2025-05-02T19:00:00.000000000",
          "2025-05-02T19:15:00.000000000",
          "2025-05-02T19:30:00.000000000",
          "2025-05-02T19:45:00.000000000",
          "2025-05-02T20:00:00.000000000",
          "2025-05-02T20:15:00.000000000",
          "2025-05-02T20:30:00.000000000",
          "2025-05-02T20:45:00.000000000",
          "2025-05-02T21:00:00.000000000",
          "2025-05-02T21:15:00.000000000",
          "2025-05-02T21:30:00.000000000",
          "2025-05-02T21:45:00.000000000",
          "2025-05-02T22:00:00.000000000",
          "2025-05-02T22:15:00.000000000",
          "2025-05-02T22:30:00.000000000",
          "2025-05-02T22:45:00.000000000",
          "2025-05-02T23:00:00.000000000",
          "2025-05-02T23:15:00.000000000",
          "2025-05-02T23:30:00.000000000",
          "2025-05-02T23:45:00.000000000",
          "2025-05-03T00:00:00.000000000",
          "2025-05-03T00:15:00.000000000",
          "2025-05-03T00:30:00.000000000",
          "2025-05-03T00:45:00.000000000",
          "2025-05-03T01:00:00.000000000",
          "2025-05-03T01:15:00.000000000",
          "2025-05-03T01:30:00.000000000",
          "2025-05-03T01:45:00.000000000",
          "2025-05-03T02:00:00.000000000",
          "2025-05-03T02:15:00.000000000",
          "2025-05-03T02:30:00.000000000",
          "2025-05-03T02:45:00.000000000",
          "2025-05-03T03:00:00.000000000",
          "2025-05-03T03:15:00.000000000",
          "2025-05-03T03:30:00.000000000",
          "2025-05-03T03:45:00.000000000",
          "2025-05-03T04:00:00.000000000",
          "2025-05-03T04:15:00.000000000",
          "2025-05-03T04:30:00.000000000",
          "2025-05-03T04:45:00.000000000",
          "2025-05-03T05:00:00.000000000",
          "2025-05-03T05:15:00.000000000",
          "2025-05-03T05:30:00.000000000",
          "2025-05-03T05:45:00.000000000",
          "2025-05-03T06:00:00.000000000",
          "2025-05-03T06:15:00.000000000",
          "2025-05-03T06:30:00.000000000",
          "2025-05-03T06:45:00.000000000",
          "2025-05-03T07:00:00.000000000",
          "2025-05-03T07:15:00.000000000",
          "2025-05-03T07:30:00.000000000",
          "2025-05-03T07:45:00.000000000",
          "2025-05-03T08:00:00.000000000",
          "2025-05-03T08:15:00.000000000",
          "2025-05-03T08:30:00.000000000",
          "2025-05-03T08:45:00.000000000",
          "2025-05-03T09:00:00.000000000",
          "2025-05-03T09:15:00.000000000",
          "2025-05-03T09:30:00.000000000",
          "2025-05-03T09:45:00.000000000",
          "2025-05-03T10:00:00.000000000",
          "2025-05-03T10:15:00.000000000",
          "2025-05-03T10:30:00.000000000",
          "2025-05-03T10:45:00.000000000",
          "2025-05-03T11:00:00.000000000",
          "2025-05-03T11:15:00.000000000",
          "2025-05-03T11:30:00.000000000",
          "2025-05-03T11:45:00.000000000",
          "2025-05-03T12:00:00.000000000",
          "2025-05-03T12:15:00.000000000",
          "2025-05-03T12:30:00.000000000",
          "2025-05-03T12:45:00.000000000",
          "2025-05-03T13:00:00.000000000",
          "2025-05-03T13:15:00.000000000",
          "2025-05-03T13:30:00.000000000",
          "2025-05-03T13:45:00.000000000",
          "2025-05-03T14:00:00.000000000",
          "2025-05-03T14:15:00.000000000",
          "2025-05-03T14:30:00.000000000",
          "2025-05-03T14:45:00.000000000",
          "2025-05-03T15:00:00.000000000",
          "2025-05-03T15:15:00.000000000",
          "2025-05-03T15:30:00.000000000",
          "2025-05-03T15:45:00.000000000",
          "2025-05-03T16:00:00.000000000",
          "2025-05-03T16:15:00.000000000",
          "2025-05-03T16:30:00.000000000",
          "2025-05-03T16:45:00.000000000",
          "2025-05-03T17:00:00.000000000",
          "2025-05-03T17:15:00.000000000",
          "2025-05-03T17:30:00.000000000",
          "2025-05-03T17:45:00.000000000",
          "2025-05-03T18:00:00.000000000",
          "2025-05-03T18:15:00.000000000",
          "2025-05-03T18:30:00.000000000",
          "2025-05-03T18:45:00.000000000",
          "2025-05-03T19:00:00.000000000",
          "2025-05-03T19:15:00.000000000",
          "2025-05-03T19:30:00.000000000",
          "2025-05-03T19:45:00.000000000",
          "2025-05-03T20:00:00.000000000",
          "2025-05-03T20:15:00.000000000",
          "2025-05-03T20:30:00.000000000",
          "2025-05-03T20:45:00.000000000",
          "2025-05-03T21:00:00.000000000",
          "2025-05-03T21:15:00.000000000",
          "2025-05-03T21:30:00.000000000",
          "2025-05-03T21:45:00.000000000",
          "2025-05-03T22:00:00.000000000",
          "2025-05-03T22:15:00.000000000",
          "2025-05-03T22:30:00.000000000",
          "2025-05-03T22:45:00.000000000",
          "2025-05-03T23:00:00.000000000",
          "2025-05-03T23:15:00.000000000",
          "2025-05-03T23:30:00.000000000",
          "2025-05-03T23:45:00.000000000",
          "2025-05-04T00:00:00.000000000",
          "2025-05-04T00:15:00.000000000",
          "2025-05-04T00:30:00.000000000",
          "2025-05-04T00:45:00.000000000",
          "2025-05-04T01:00:00.000000000",
          "2025-05-04T01:15:00.000000000",
          "2025-05-04T01:30:00.000000000",
          "2025-05-04T01:45:00.000000000",
          "2025-05-04T02:00:00.000000000",
          "2025-05-04T02:15:00.000000000",
          "2025-05-04T02:30:00.000000000",
          "2025-05-04T02:45:00.000000000",
          "2025-05-04T03:00:00.000000000",
          "2025-05-04T03:15:00.000000000",
          "2025-05-04T03:30:00.000000000",
          "2025-05-04T03:45:00.000000000",
          "2025-05-04T04:00:00.000000000",
          "2025-05-04T04:15:00.000000000",
          "2025-05-04T04:30:00.000000000",
          "2025-05-04T04:45:00.000000000",
          "2025-05-04T05:00:00.000000000",
          "2025-05-04T05:15:00.000000000",
          "2025-05-04T05:30:00.000000000",
          "2025-05-04T05:45:00.000000000",
          "2025-05-04T06:00:00.000000000",
          "2025-05-04T06:15:00.000000000",
          "2025-05-04T06:30:00.000000000",
          "2025-05-04T06:45:00.000000000",
          "2025-05-04T07:00:00.000000000",
          "2025-05-04T07:15:00.000000000",
          "2025-05-04T07:30:00.000000000",
          "2025-05-04T07:45:00.000000000",
          "2025-05-04T08:00:00.000000000",
          "2025-05-04T08:15:00.000000000",
          "2025-05-04T08:30:00.000000000",
          "2025-05-04T08:45:00.000000000",
          "2025-05-04T09:00:00.000000000",
          "2025-05-04T09:15:00.000000000",
          "2025-05-04T09:30:00.000000000",
          "2025-05-04T09:45:00.000000000",
          "2025-05-04T10:00:00.000000000",
          "2025-05-04T10:15:00.000000000"
         ],
         "xaxis": "x",
         "y": {
          "bdata": "mpmZmRkh90A4gRM48SD3QKMJUX4wIfdA6zvqgAoh90CGPdv1CSD3QJf/+404H/dAq5ukZQsf90CgC2mF9B33QAYel6RqHfdAjDMnZFod90AlQskYOR33QALTcWSPHfdAg1gxYi4f90At1jhxeCD3QBwX3kFvIfdAHm+1Dzsi90CcnPTwSCP3QIOoWVYOJPdAolbSbf0k90BnnJ6Ajyb3QMsfd/rqJ/dAIw7Xirop90BfWBpDHiv3QNd7dB/+KvdA7HR6amIo90Ddoddzlib3QIJ8Apw9I/dAbu/6zpgh90CcivbaUxz3QBudtV9fEvdATiXmNr4L90BfCcS30wn3QEWuuPbMB/dAXr0DheED90AmxkIZ1gH3QNA7V9xR//ZAIF1RK4f+9kCq4Y3xJv32QFM8XvVn+vZAd2JQ5db39kCdukjDl/f2QEz5/7eG9vZAVDn2a9L09kDDhugJkvT2QEpE/n3O9fZAvXrBou719kCpL9GQu/f2QKwBoBz39/ZAPJarcZ339kBj2DQxcff2QDBRQw9T9/ZAfL6ldmL19kBOEEMMnfT2QP7dSBc+9fZArgoWY5L49kDMK7y4//v2QN72F+R4/vZA81FLlncA90BRCHDYWAL3QFpJLWdeBPdAEGK2J0gF90D7dc4ohgX3QIs3b1/yBvdAisStq/MG90ARqJ9UWgb3QIXo4FPrBPdApBZlX5UE90Anv+09TQT3QECNAMO6A/dAa2d6c9cC90DeFutqqAL3QGI06B6LAvdAVB5HI3IC90APA+sfDgP3QIyB2adhBPdAnwJGJS4G90AiM/bwJQj3QBdw1xuxCfdAvZNGeHgL90CJY8jQZw73QHw1L0/mEPdAMf2VXckS90BgnigatxP3QAhyRLEqFfdAG1bLLZ0W90BHPyNwthf3QCNlM0jWGPdAAEit5E8Z90BCFX1BQxr3QEavq+9rG/dAAFN0mRcd90AU/UvbOB73QKa2qLxMIPdA3WWiwJMi90CGJhRUMiT3QLbZ+cVcJfdAMkZj94gl90Du83tjwyX3QJgvDPaFJvdAp51940En90DZ6I6JIyj3QOZ6ZpLkKPdAfShfJYsp90Df8wzx4Cr3QOTSuOjKK/dAzJeYbkct90Dd6kBwdC73QHU4AGiDMPdAq6Upb+Yy90AhZZNkmjX3QKbLh+NOOfdAQbgxIwhA90BWtcHAJkX3QEf+avz6SfdAO6TJcS1O90Bpr6z7tlD3QDOLfGIXVPdARtO5QItX90DIzXnbG1v3QC+6z5UBXvdAzktfyfRh90DTEw1tOmX3QCVsfqTzaPdA6EsTiylt90AdRyz6JG73QFLyU5QcbfdAlleLAnpu90BI6w0MwnD3QLuLSSOkcvdA2lk2shB390BisGuG8333QDJgdwkDg/dA1iOO4dSG90DtMxpBbYn3QPsuti4YjfdAYAjYdSGR90DdmQxGjpX3QLR3HPutl/dAXFZlFh+a90DjV9/UApv3QAiKQUQZmvdAWvS+Fo+a90DaNK/B2pn3QKZxZkZ5mPdA02bKxeCY90AIXYbX2Zn3QFPErJRqmPdAilLDfCqX90DG0DbGK5b3QFw08nNHlfdAl7CxDr6V90D50ooDFpb3QCtR63CVlfdAl7nvvR+U90C+6SaMnpT3QPq/0sxSlPdAfnqLYSKV90DdCg4lG5T3QHc/vHsAlPdAeiPFis2T90CXDKtR3ZL3QIlUvwCJkfdAD3ECVuSP90Ahz5vz6I73QFSDPB52jfdA3BJltzqN90CP/Qp6yI33QISSGECjj/dAHVsRcjaR90DOQw3355P3QMk/AqUplvdAx0of1yyY90BMebPTBZn3QBTDusuWmvdAoKvICPKa90AUaEU2g5z3QH2MSBaYnfdAscqxnKCe90D4AhFH9aD3QB7erVg5ovdARalAnj+k90DuF617kaX3QJgrmrbipvdA5nc9Gu+n90B+k5v11qf3QOn8NLfap/dAsMJKLt+n90CY2Z3lRKf3QOQSrJeLpvdAgJ6KkEKl90AmcvJAIaT3QGZiUBHAo/dApkCqD2Ci90A1qIFjlaH3QI1irbbdn/dA0LUFiLee90D5QosZCZ33QKx0zjaamvdA71q4U6iZ90DancFyGJn3QMjyBpsrmfdAieB45sCY90DMJxOnOZn3QBVchmFFmfdAcnXMVZyY90AgSHJoEZj3QD3zPUGTmPdA1OXHRKGZ90AXQPTSspr3QNOiOYm0m/dA3EIIgTqd90AhcpK2Q573QFFRn6c8n/dAhF84le2f90CwmswsyJ/3QAN2Nfqin/dA4z41JJyg90DB72AIvqL3QKVt7IMnovdAya4tks6i90BVqn5TNqP3QChdo9GbovdAENPhF4Gi90CeQuKAS6T3QC62zIBAp/dAzS9EMAys90A5toswQq/3QGC4hcXXr/dASR6bBfCx90ABtVZJNLP3QMF86j8ltvdATUwdzMe490DMdVdjfLv3QJRq4VkEvPdAg7+YvDC790ACaeTHdLv3QBwMDuhfu/dAO3YW9Cu890CB8yKWor33QJ6881twvvdA4lKpyue/90AAco/q9L73QL4AA3opvfdA82tJwU2890BMcGk3BLr3QBQER3seuPdAAQvmOQi390CPo+NH4LX3QKHwf5EntfdAY6sUhki090DOfbgGn7P3QNWYeEVfsvdAA0YE1quw90Ch0UCpd673QD8JehUnrPdAg1HosTiq90Ba4/FSGKj3QEpAQaVbpvdAI8X2viSl90BQ74nd+KP3QFoaXZCHo/dAGTXfn5Wj90Bub48xIqP3QI9HlQ9aovdA5rCV0z2h90Bskalnb6D3QOFjJAHvnvdA1dFztZ+d90C/ENQn1Jv3QHxkIapdmvdADqT5XLyZ90AFB3n3aZn3QD0yjTyKmPdAsfxOmI6X90Dpdkcoapb3QB/0+azulPdAlkorR42T90B29czN4ZH3QMxLcIkbkfdAsRhSB42Q90DCyoRZeZD3QAoqxs8rkPdAAIqpjViP90DvtKDQT4/3QIa+DXaOj/dAXF77KMWO90BuP/7FkY33QM7tOBKpi/dAavRcFa2K90BMdPdI5Yj3QE/IMifGh/dAxD3nJYGG90BN7BfvM4b3QDI8iDLJhfdAvaFsdGqE90CQOniLGIT3QHn6n4APhPdAWp6VzpyD90CJ09ep84L3QOf5CYvLgvdAa+k0C2SC90AEFYpw8oH3QGp5LAn0gPdA/I9WpPx/90Bb4UtV3n33QIGMlwG5e/dAIqYREAl690AHBNOg83j3QJ2O9LqMd/dAF2tNGTd290CkajdF9nT3QDX1TBCFdPdAUC4c2ah090DWGLMInXT3QAo7rvvndPdASzoQh6d190D6A2SGVHb3QCkBlVJsd/dAZ6TIWyV490CGE2X2OHn3QFfjXeE/evdAk/nJ9yd790DzKpL4h3z3QPSsX3+JffdANTFl43F+90A6c67jNn/3QIr65kc5f/dAAzigZSh/90An0UexXX73QMmT2vASfvdALv1tFKd890CVHySW23v3QBDiU03levdAkEEWQbV690DawyIxp3r3QGS9sft0evdAn++bD8t590DDPP3renn3QBcLrWyJefdAV+o/Ku5590AKIhorcHr3QPsDCcNQe/dAYFs7CP1790DCsQ7IxHz3QHBhbGljffdAsOB8DMd990Cc+Unk4H33QBXY40rGfvdA/699/9V+90A1KpsQy373QM8NNxtgfvdArPFTXxt+90AfUj0vHX73QF5bPBeTffdAGC5batp890Cv2xyM9Hr3QETa/P8fefdApFxXozV390D+EcRFA3b3QO1sJrSVdPdAjmIKZrRy90BV8LjCYnH3QFLeVkehcPdAmxliqQRw90CKCMTT1G33QEoFNYBWbvdAMGtZF5Bv90CqWXq4dXD3QKjZ3grDb/dAgOlba81u90Bgpz81LW33QPPR4Xb2a/dAA6hIAKZq90DPZMU6Qmn3QDiCU6WwaPdARsbMFqRo90DX3CvEtGf3QEQYtTKgZvdAmnI9+KVm90BH2lSc/2b3QOl5k69bZ/dAZfTmYS5o90Dx9/eX2Gj3QAPZzGn9aPdAfzSXPelo90ANBgo/1Gj3QGsbpfmFafdAkCKf619p90AKd1VFzGj3QO4TV/+NaPdAOR6kzmVo90AoD7nr72b3QBb/pMY/ZfdAet8HlO5j90BscjXxtmL3QAAG28G0YPdA3OAzo+le90C6XQqsNV33QI1e4kOHW/dA34MTwftZ90A=",
          "dtype": "f8"
         },
         "yaxis": "y"
        },
        {
         "line": {
          "color": "orange",
          "width": 1
         },
         "mode": "lines",
         "name": "EMA40",
         "type": "scatter",
         "x": [
          "2025-04-30T06:30:00.000000000",
          "2025-04-30T06:45:00.000000000",
          "2025-04-30T07:00:00.000000000",
          "2025-04-30T07:15:00.000000000",
          "2025-04-30T07:30:00.000000000",
          "2025-04-30T07:45:00.000000000",
          "2025-04-30T08:00:00.000000000",
          "2025-04-30T08:15:00.000000000",
          "2025-04-30T08:30:00.000000000",
          "2025-04-30T08:45:00.000000000",
          "2025-04-30T09:00:00.000000000",
          "2025-04-30T09:15:00.000000000",
          "2025-04-30T09:30:00.000000000",
          "2025-04-30T09:45:00.000000000",
          "2025-04-30T10:00:00.000000000",
          "2025-04-30T10:15:00.000000000",
          "2025-04-30T10:30:00.000000000",
          "2025-04-30T10:45:00.000000000",
          "2025-04-30T11:00:00.000000000",
          "2025-04-30T11:15:00.000000000",
          "2025-04-30T11:30:00.000000000",
          "2025-04-30T11:45:00.000000000",
          "2025-04-30T12:00:00.000000000",
          "2025-04-30T12:15:00.000000000",
          "2025-04-30T12:30:00.000000000",
          "2025-04-30T12:45:00.000000000",
          "2025-04-30T13:00:00.000000000",
          "2025-04-30T13:15:00.000000000",
          "2025-04-30T13:30:00.000000000",
          "2025-04-30T13:45:00.000000000",
          "2025-04-30T14:00:00.000000000",
          "2025-04-30T14:15:00.000000000",
          "2025-04-30T14:30:00.000000000",
          "2025-04-30T14:45:00.000000000",
          "2025-04-30T15:00:00.000000000",
          "2025-04-30T15:15:00.000000000",
          "2025-04-30T15:30:00.000000000",
          "2025-04-30T15:45:00.000000000",
          "2025-04-30T16:00:00.000000000",
          "2025-04-30T16:15:00.000000000",
          "2025-04-30T16:30:00.000000000",
          "2025-04-30T16:45:00.000000000",
          "2025-04-30T17:00:00.000000000",
          "2025-04-30T17:15:00.000000000",
          "2025-04-30T17:30:00.000000000",
          "2025-04-30T17:45:00.000000000",
          "2025-04-30T18:00:00.000000000",
          "2025-04-30T18:15:00.000000000",
          "2025-04-30T18:30:00.000000000",
          "2025-04-30T18:45:00.000000000",
          "2025-04-30T19:00:00.000000000",
          "2025-04-30T19:15:00.000000000",
          "2025-04-30T19:30:00.000000000",
          "2025-04-30T19:45:00.000000000",
          "2025-04-30T20:00:00.000000000",
          "2025-04-30T20:15:00.000000000",
          "2025-04-30T20:30:00.000000000",
          "2025-04-30T20:45:00.000000000",
          "2025-04-30T21:00:00.000000000",
          "2025-04-30T21:15:00.000000000",
          "2025-04-30T21:30:00.000000000",
          "2025-04-30T21:45:00.000000000",
          "2025-04-30T22:00:00.000000000",
          "2025-04-30T22:15:00.000000000",
          "2025-04-30T22:30:00.000000000",
          "2025-04-30T22:45:00.000000000",
          "2025-04-30T23:00:00.000000000",
          "2025-04-30T23:15:00.000000000",
          "2025-04-30T23:30:00.000000000",
          "2025-04-30T23:45:00.000000000",
          "2025-05-01T00:00:00.000000000",
          "2025-05-01T00:15:00.000000000",
          "2025-05-01T00:30:00.000000000",
          "2025-05-01T00:45:00.000000000",
          "2025-05-01T01:00:00.000000000",
          "2025-05-01T01:15:00.000000000",
          "2025-05-01T01:30:00.000000000",
          "2025-05-01T01:45:00.000000000",
          "2025-05-01T02:00:00.000000000",
          "2025-05-01T02:15:00.000000000",
          "2025-05-01T02:30:00.000000000",
          "2025-05-01T02:45:00.000000000",
          "2025-05-01T03:00:00.000000000",
          "2025-05-01T03:15:00.000000000",
          "2025-05-01T03:30:00.000000000",
          "2025-05-01T03:45:00.000000000",
          "2025-05-01T04:00:00.000000000",
          "2025-05-01T04:15:00.000000000",
          "2025-05-01T04:30:00.000000000",
          "2025-05-01T04:45:00.000000000",
          "2025-05-01T05:00:00.000000000",
          "2025-05-01T05:15:00.000000000",
          "2025-05-01T05:30:00.000000000",
          "2025-05-01T05:45:00.000000000",
          "2025-05-01T06:00:00.000000000",
          "2025-05-01T06:15:00.000000000",
          "2025-05-01T06:30:00.000000000",
          "2025-05-01T06:45:00.000000000",
          "2025-05-01T07:00:00.000000000",
          "2025-05-01T07:15:00.000000000",
          "2025-05-01T07:30:00.000000000",
          "2025-05-01T07:45:00.000000000",
          "2025-05-01T08:00:00.000000000",
          "2025-05-01T08:15:00.000000000",
          "2025-05-01T08:30:00.000000000",
          "2025-05-01T08:45:00.000000000",
          "2025-05-01T09:00:00.000000000",
          "2025-05-01T09:15:00.000000000",
          "2025-05-01T09:30:00.000000000",
          "2025-05-01T09:45:00.000000000",
          "2025-05-01T10:00:00.000000000",
          "2025-05-01T10:15:00.000000000",
          "2025-05-01T10:30:00.000000000",
          "2025-05-01T10:45:00.000000000",
          "2025-05-01T11:00:00.000000000",
          "2025-05-01T11:15:00.000000000",
          "2025-05-01T11:30:00.000000000",
          "2025-05-01T11:45:00.000000000",
          "2025-05-01T12:00:00.000000000",
          "2025-05-01T12:15:00.000000000",
          "2025-05-01T12:30:00.000000000",
          "2025-05-01T12:45:00.000000000",
          "2025-05-01T13:00:00.000000000",
          "2025-05-01T13:15:00.000000000",
          "2025-05-01T13:30:00.000000000",
          "2025-05-01T13:45:00.000000000",
          "2025-05-01T14:00:00.000000000",
          "2025-05-01T14:15:00.000000000",
          "2025-05-01T14:30:00.000000000",
          "2025-05-01T14:45:00.000000000",
          "2025-05-01T15:00:00.000000000",
          "2025-05-01T15:15:00.000000000",
          "2025-05-01T15:30:00.000000000",
          "2025-05-01T15:45:00.000000000",
          "2025-05-01T16:00:00.000000000",
          "2025-05-01T16:15:00.000000000",
          "2025-05-01T16:30:00.000000000",
          "2025-05-01T16:45:00.000000000",
          "2025-05-01T17:00:00.000000000",
          "2025-05-01T17:15:00.000000000",
          "2025-05-01T17:30:00.000000000",
          "2025-05-01T17:45:00.000000000",
          "2025-05-01T18:00:00.000000000",
          "2025-05-01T18:15:00.000000000",
          "2025-05-01T18:30:00.000000000",
          "2025-05-01T18:45:00.000000000",
          "2025-05-01T19:00:00.000000000",
          "2025-05-01T19:15:00.000000000",
          "2025-05-01T19:30:00.000000000",
          "2025-05-01T19:45:00.000000000",
          "2025-05-01T20:00:00.000000000",
          "2025-05-01T20:15:00.000000000",
          "2025-05-01T20:30:00.000000000",
          "2025-05-01T20:45:00.000000000",
          "2025-05-01T21:00:00.000000000",
          "2025-05-01T21:15:00.000000000",
          "2025-05-01T21:30:00.000000000",
          "2025-05-01T21:45:00.000000000",
          "2025-05-01T22:00:00.000000000",
          "2025-05-01T22:15:00.000000000",
          "2025-05-01T22:30:00.000000000",
          "2025-05-01T22:45:00.000000000",
          "2025-05-01T23:00:00.000000000",
          "2025-05-01T23:15:00.000000000",
          "2025-05-01T23:30:00.000000000",
          "2025-05-01T23:45:00.000000000",
          "2025-05-02T00:00:00.000000000",
          "2025-05-02T00:15:00.000000000",
          "2025-05-02T00:30:00.000000000",
          "2025-05-02T00:45:00.000000000",
          "2025-05-02T01:00:00.000000000",
          "2025-05-02T01:15:00.000000000",
          "2025-05-02T01:30:00.000000000",
          "2025-05-02T01:45:00.000000000",
          "2025-05-02T02:00:00.000000000",
          "2025-05-02T02:15:00.000000000",
          "2025-05-02T02:30:00.000000000",
          "2025-05-02T02:45:00.000000000",
          "2025-05-02T03:00:00.000000000",
          "2025-05-02T03:15:00.000000000",
          "2025-05-02T03:30:00.000000000",
          "2025-05-02T03:45:00.000000000",
          "2025-05-02T04:00:00.000000000",
          "2025-05-02T04:15:00.000000000",
          "2025-05-02T04:30:00.000000000",
          "2025-05-02T04:45:00.000000000",
          "2025-05-02T05:00:00.000000000",
          "2025-05-02T05:15:00.000000000",
          "2025-05-02T05:30:00.000000000",
          "2025-05-02T05:45:00.000000000",
          "2025-05-02T06:00:00.000000000",
          "2025-05-02T06:15:00.000000000",
          "2025-05-02T06:30:00.000000000",
          "2025-05-02T06:45:00.000000000",
          "2025-05-02T07:00:00.000000000",
          "2025-05-02T07:15:00.000000000",
          "2025-05-02T07:30:00.000000000",
          "2025-05-02T07:45:00.000000000",
          "2025-05-02T08:00:00.000000000",
          "2025-05-02T08:15:00.000000000",
          "2025-05-02T08:30:00.000000000",
          "2025-05-02T08:45:00.000000000",
          "2025-05-02T09:00:00.000000000",
          "2025-05-02T09:15:00.000000000",
          "2025-05-02T09:30:00.000000000",
          "2025-05-02T09:45:00.000000000",
          "2025-05-02T10:00:00.000000000",
          "2025-05-02T10:15:00.000000000",
          "2025-05-02T10:30:00.000000000",
          "2025-05-02T10:45:00.000000000",
          "2025-05-02T11:00:00.000000000",
          "2025-05-02T11:15:00.000000000",
          "2025-05-02T11:30:00.000000000",
          "2025-05-02T11:45:00.000000000",
          "2025-05-02T12:00:00.000000000",
          "2025-05-02T12:15:00.000000000",
          "2025-05-02T12:30:00.000000000",
          "2025-05-02T12:45:00.000000000",
          "2025-05-02T13:00:00.000000000",
          "2025-05-02T13:15:00.000000000",
          "2025-05-02T13:30:00.000000000",
          "2025-05-02T13:45:00.000000000",
          "2025-05-02T14:00:00.000000000",
          "2025-05-02T14:15:00.000000000",
          "2025-05-02T14:30:00.000000000",
          "2025-05-02T14:45:00.000000000",
          "2025-05-02T15:00:00.000000000",
          "2025-05-02T15:15:00.000000000",
          "2025-05-02T15:30:00.000000000",
          "2025-05-02T15:45:00.000000000",
          "2025-05-02T16:00:00.000000000",
          "2025-05-02T16:15:00.000000000",
          "2025-05-02T16:30:00.000000000",
          "2025-05-02T16:45:00.000000000",
          "2025-05-02T17:00:00.000000000",
          "2025-05-02T17:15:00.000000000",
          "2025-05-02T17:30:00.000000000",
          "2025-05-02T17:45:00.000000000",
          "2025-05-02T18:00:00.000000000",
          "2025-05-02T18:15:00.000000000",
          "2025-05-02T18:30:00.000000000",
          "2025-05-02T18:45:00.000000000",
          "2025-05-02T19:00:00.000000000",
          "2025-05-02T19:15:00.000000000",
          "2025-05-02T19:30:00.000000000",
          "2025-05-02T19:45:00.000000000",
          "2025-05-02T20:00:00.000000000",
          "2025-05-02T20:15:00.000000000",
          "2025-05-02T20:30:00.000000000",
          "2025-05-02T20:45:00.000000000",
          "2025-05-02T21:00:00.000000000",
          "2025-05-02T21:15:00.000000000",
          "2025-05-02T21:30:00.000000000",
          "2025-05-02T21:45:00.000000000",
          "2025-05-02T22:00:00.000000000",
          "2025-05-02T22:15:00.000000000",
          "2025-05-02T22:30:00.000000000",
          "2025-05-02T22:45:00.000000000",
          "2025-05-02T23:00:00.000000000",
          "2025-05-02T23:15:00.000000000",
          "2025-05-02T23:30:00.000000000",
          "2025-05-02T23:45:00.000000000",
          "2025-05-03T00:00:00.000000000",
          "2025-05-03T00:15:00.000000000",
          "2025-05-03T00:30:00.000000000",
          "2025-05-03T00:45:00.000000000",
          "2025-05-03T01:00:00.000000000",
          "2025-05-03T01:15:00.000000000",
          "2025-05-03T01:30:00.000000000",
          "2025-05-03T01:45:00.000000000",
          "2025-05-03T02:00:00.000000000",
          "2025-05-03T02:15:00.000000000",
          "2025-05-03T02:30:00.000000000",
          "2025-05-03T02:45:00.000000000",
          "2025-05-03T03:00:00.000000000",
          "2025-05-03T03:15:00.000000000",
          "2025-05-03T03:30:00.000000000",
          "2025-05-03T03:45:00.000000000",
          "2025-05-03T04:00:00.000000000",
          "2025-05-03T04:15:00.000000000",
          "2025-05-03T04:30:00.000000000",
          "2025-05-03T04:45:00.000000000",
          "2025-05-03T05:00:00.000000000",
          "2025-05-03T05:15:00.000000000",
          "2025-05-03T05:30:00.000000000",
          "2025-05-03T05:45:00.000000000",
          "2025-05-03T06:00:00.000000000",
          "2025-05-03T06:15:00.000000000",
          "2025-05-03T06:30:00.000000000",
          "2025-05-03T06:45:00.000000000",
          "2025-05-03T07:00:00.000000000",
          "2025-05-03T07:15:00.000000000",
          "2025-05-03T07:30:00.000000000",
          "2025-05-03T07:45:00.000000000",
          "2025-05-03T08:00:00.000000000",
          "2025-05-03T08:15:00.000000000",
          "2025-05-03T08:30:00.000000000",
          "2025-05-03T08:45:00.000000000",
          "2025-05-03T09:00:00.000000000",
          "2025-05-03T09:15:00.000000000",
          "2025-05-03T09:30:00.000000000",
          "2025-05-03T09:45:00.000000000",
          "2025-05-03T10:00:00.000000000",
          "2025-05-03T10:15:00.000000000",
          "2025-05-03T10:30:00.000000000",
          "2025-05-03T10:45:00.000000000",
          "2025-05-03T11:00:00.000000000",
          "2025-05-03T11:15:00.000000000",
          "2025-05-03T11:30:00.000000000",
          "2025-05-03T11:45:00.000000000",
          "2025-05-03T12:00:00.000000000",
          "2025-05-03T12:15:00.000000000",
          "2025-05-03T12:30:00.000000000",
          "2025-05-03T12:45:00.000000000",
          "2025-05-03T13:00:00.000000000",
          "2025-05-03T13:15:00.000000000",
          "2025-05-03T13:30:00.000000000",
          "2025-05-03T13:45:00.000000000",
          "2025-05-03T14:00:00.000000000",
          "2025-05-03T14:15:00.000000000",
          "2025-05-03T14:30:00.000000000",
          "2025-05-03T14:45:00.000000000",
          "2025-05-03T15:00:00.000000000",
          "2025-05-03T15:15:00.000000000",
          "2025-05-03T15:30:00.000000000",
          "2025-05-03T15:45:00.000000000",
          "2025-05-03T16:00:00.000000000",
          "2025-05-03T16:15:00.000000000",
          "2025-05-03T16:30:00.000000000",
          "2025-05-03T16:45:00.000000000",
          "2025-05-03T17:00:00.000000000",
          "2025-05-03T17:15:00.000000000",
          "2025-05-03T17:30:00.000000000",
          "2025-05-03T17:45:00.000000000",
          "2025-05-03T18:00:00.000000000",
          "2025-05-03T18:15:00.000000000",
          "2025-05-03T18:30:00.000000000",
          "2025-05-03T18:45:00.000000000",
          "2025-05-03T19:00:00.000000000",
          "2025-05-03T19:15:00.000000000",
          "2025-05-03T19:30:00.000000000",
          "2025-05-03T19:45:00.000000000",
          "2025-05-03T20:00:00.000000000",
          "2025-05-03T20:15:00.000000000",
          "2025-05-03T20:30:00.000000000",
          "2025-05-03T20:45:00.000000000",
          "2025-05-03T21:00:00.000000000",
          "2025-05-03T21:15:00.000000000",
          "2025-05-03T21:30:00.000000000",
          "2025-05-03T21:45:00.000000000",
          "2025-05-03T22:00:00.000000000",
          "2025-05-03T22:15:00.000000000",
          "2025-05-03T22:30:00.000000000",
          "2025-05-03T22:45:00.000000000",
          "2025-05-03T23:00:00.000000000",
          "2025-05-03T23:15:00.000000000",
          "2025-05-03T23:30:00.000000000",
          "2025-05-03T23:45:00.000000000",
          "2025-05-04T00:00:00.000000000",
          "2025-05-04T00:15:00.000000000",
          "2025-05-04T00:30:00.000000000",
          "2025-05-04T00:45:00.000000000",
          "2025-05-04T01:00:00.000000000",
          "2025-05-04T01:15:00.000000000",
          "2025-05-04T01:30:00.000000000",
          "2025-05-04T01:45:00.000000000",
          "2025-05-04T02:00:00.000000000",
          "2025-05-04T02:15:00.000000000",
          "2025-05-04T02:30:00.000000000",
          "2025-05-04T02:45:00.000000000",
          "2025-05-04T03:00:00.000000000",
          "2025-05-04T03:15:00.000000000",
          "2025-05-04T03:30:00.000000000",
          "2025-05-04T03:45:00.000000000",
          "2025-05-04T04:00:00.000000000",
          "2025-05-04T04:15:00.000000000",
          "2025-05-04T04:30:00.000000000",
          "2025-05-04T04:45:00.000000000",
          "2025-05-04T05:00:00.000000000",
          "2025-05-04T05:15:00.000000000",
          "2025-05-04T05:30:00.000000000",
          "2025-05-04T05:45:00.000000000",
          "2025-05-04T06:00:00.000000000",
          "2025-05-04T06:15:00.000000000",
          "2025-05-04T06:30:00.000000000",
          "2025-05-04T06:45:00.000000000",
          "2025-05-04T07:00:00.000000000",
          "2025-05-04T07:15:00.000000000",
          "2025-05-04T07:30:00.000000000",
          "2025-05-04T07:45:00.000000000",
          "2025-05-04T08:00:00.000000000",
          "2025-05-04T08:15:00.000000000",
          "2025-05-04T08:30:00.000000000",
          "2025-05-04T08:45:00.000000000",
          "2025-05-04T09:00:00.000000000",
          "2025-05-04T09:15:00.000000000",
          "2025-05-04T09:30:00.000000000",
          "2025-05-04T09:45:00.000000000",
          "2025-05-04T10:00:00.000000000",
          "2025-05-04T10:15:00.000000000"
         ],
         "xaxis": "x",
         "y": {
          "bdata": "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",
          "dtype": "f8"
         },
         "yaxis": "y"
        },
        {
         "line": {
          "color": "purple",
          "width": 1
         },
         "mode": "lines",
         "name": "EMA60",
         "type": "scatter",
         "x": [
          "2025-04-30T06:30:00.000000000",
          "2025-04-30T06:45:00.000000000",
          "2025-04-30T07:00:00.000000000",
          "2025-04-30T07:15:00.000000000",
          "2025-04-30T07:30:00.000000000",
          "2025-04-30T07:45:00.000000000",
          "2025-04-30T08:00:00.000000000",
          "2025-04-30T08:15:00.000000000",
          "2025-04-30T08:30:00.000000000",
          "2025-04-30T08:45:00.000000000",
          "2025-04-30T09:00:00.000000000",
          "2025-04-30T09:15:00.000000000",
          "2025-04-30T09:30:00.000000000",
          "2025-04-30T09:45:00.000000000",
          "2025-04-30T10:00:00.000000000",
          "2025-04-30T10:15:00.000000000",
          "2025-04-30T10:30:00.000000000",
          "2025-04-30T10:45:00.000000000",
          "2025-04-30T11:00:00.000000000",
          "2025-04-30T11:15:00.000000000",
          "2025-04-30T11:30:00.000000000",
          "2025-04-30T11:45:00.000000000",
          "2025-04-30T12:00:00.000000000",
          "2025-04-30T12:15:00.000000000",
          "2025-04-30T12:30:00.000000000",
          "2025-04-30T12:45:00.000000000",
          "2025-04-30T13:00:00.000000000",
          "2025-04-30T13:15:00.000000000",
          "2025-04-30T13:30:00.000000000",
          "2025-04-30T13:45:00.000000000",
          "2025-04-30T14:00:00.000000000",
          "2025-04-30T14:15:00.000000000",
          "2025-04-30T14:30:00.000000000",
          "2025-04-30T14:45:00.000000000",
          "2025-04-30T15:00:00.000000000",
          "2025-04-30T15:15:00.000000000",
          "2025-04-30T15:30:00.000000000",
          "2025-04-30T15:45:00.000000000",
          "2025-04-30T16:00:00.000000000",
          "2025-04-30T16:15:00.000000000",
          "2025-04-30T16:30:00.000000000",
          "2025-04-30T16:45:00.000000000",
          "2025-04-30T17:00:00.000000000",
          "2025-04-30T17:15:00.000000000",
          "2025-04-30T17:30:00.000000000",
          "2025-04-30T17:45:00.000000000",
          "2025-04-30T18:00:00.000000000",
          "2025-04-30T18:15:00.000000000",
          "2025-04-30T18:30:00.000000000",
          "2025-04-30T18:45:00.000000000",
          "2025-04-30T19:00:00.000000000",
          "2025-04-30T19:15:00.000000000",
          "2025-04-30T19:30:00.000000000",
          "2025-04-30T19:45:00.000000000",
          "2025-04-30T20:00:00.000000000",
          "2025-04-30T20:15:00.000000000",
          "2025-04-30T20:30:00.000000000",
          "2025-04-30T20:45:00.000000000",
          "2025-04-30T21:00:00.000000000",
          "2025-04-30T21:15:00.000000000",
          "2025-04-30T21:30:00.000000000",
          "2025-04-30T21:45:00.000000000",
          "2025-04-30T22:00:00.000000000",
          "2025-04-30T22:15:00.000000000",
          "2025-04-30T22:30:00.000000000",
          "2025-04-30T22:45:00.000000000",
          "2025-04-30T23:00:00.000000000",
          "2025-04-30T23:15:00.000000000",
          "2025-04-30T23:30:00.000000000",
          "2025-04-30T23:45:00.000000000",
          "2025-05-01T00:00:00.000000000",
          "2025-05-01T00:15:00.000000000",
          "2025-05-01T00:30:00.000000000",
          "2025-05-01T00:45:00.000000000",
          "2025-05-01T01:00:00.000000000",
          "2025-05-01T01:15:00.000000000",
          "2025-05-01T01:30:00.000000000",
          "2025-05-01T01:45:00.000000000",
          "2025-05-01T02:00:00.000000000",
          "2025-05-01T02:15:00.000000000",
          "2025-05-01T02:30:00.000000000",
          "2025-05-01T02:45:00.000000000",
          "2025-05-01T03:00:00.000000000",
          "2025-05-01T03:15:00.000000000",
          "2025-05-01T03:30:00.000000000",
          "2025-05-01T03:45:00.000000000",
          "2025-05-01T04:00:00.000000000",
          "2025-05-01T04:15:00.000000000",
          "2025-05-01T04:30:00.000000000",
          "2025-05-01T04:45:00.000000000",
          "2025-05-01T05:00:00.000000000",
          "2025-05-01T05:15:00.000000000",
          "2025-05-01T05:30:00.000000000",
          "2025-05-01T05:45:00.000000000",
          "2025-05-01T06:00:00.000000000",
          "2025-05-01T06:15:00.000000000",
          "2025-05-01T06:30:00.000000000",
          "2025-05-01T06:45:00.000000000",
          "2025-05-01T07:00:00.000000000",
          "2025-05-01T07:15:00.000000000",
          "2025-05-01T07:30:00.000000000",
          "2025-05-01T07:45:00.000000000",
          "2025-05-01T08:00:00.000000000",
          "2025-05-01T08:15:00.000000000",
          "2025-05-01T08:30:00.000000000",
          "2025-05-01T08:45:00.000000000",
          "2025-05-01T09:00:00.000000000",
          "2025-05-01T09:15:00.000000000",
          "2025-05-01T09:30:00.000000000",
          "2025-05-01T09:45:00.000000000",
          "2025-05-01T10:00:00.000000000",
          "2025-05-01T10:15:00.000000000",
          "2025-05-01T10:30:00.000000000",
          "2025-05-01T10:45:00.000000000",
          "2025-05-01T11:00:00.000000000",
          "2025-05-01T11:15:00.000000000",
          "2025-05-01T11:30:00.000000000",
          "2025-05-01T11:45:00.000000000",
          "2025-05-01T12:00:00.000000000",
          "2025-05-01T12:15:00.000000000",
          "2025-05-01T12:30:00.000000000",
          "2025-05-01T12:45:00.000000000",
          "2025-05-01T13:00:00.000000000",
          "2025-05-01T13:15:00.000000000",
          "2025-05-01T13:30:00.000000000",
          "2025-05-01T13:45:00.000000000",
          "2025-05-01T14:00:00.000000000",
          "2025-05-01T14:15:00.000000000",
          "2025-05-01T14:30:00.000000000",
          "2025-05-01T14:45:00.000000000",
          "2025-05-01T15:00:00.000000000",
          "2025-05-01T15:15:00.000000000",
          "2025-05-01T15:30:00.000000000",
          "2025-05-01T15:45:00.000000000",
          "2025-05-01T16:00:00.000000000",
          "2025-05-01T16:15:00.000000000",
          "2025-05-01T16:30:00.000000000",
          "2025-05-01T16:45:00.000000000",
          "2025-05-01T17:00:00.000000000",
          "2025-05-01T17:15:00.000000000",
          "2025-05-01T17:30:00.000000000",
          "2025-05-01T17:45:00.000000000",
          "2025-05-01T18:00:00.000000000",
          "2025-05-01T18:15:00.000000000",
          "2025-05-01T18:30:00.000000000",
          "2025-05-01T18:45:00.000000000",
          "2025-05-01T19:00:00.000000000",
          "2025-05-01T19:15:00.000000000",
          "2025-05-01T19:30:00.000000000",
          "2025-05-01T19:45:00.000000000",
          "2025-05-01T20:00:00.000000000",
          "2025-05-01T20:15:00.000000000",
          "2025-05-01T20:30:00.000000000",
          "2025-05-01T20:45:00.000000000",
          "2025-05-01T21:00:00.000000000",
          "2025-05-01T21:15:00.000000000",
          "2025-05-01T21:30:00.000000000",
          "2025-05-01T21:45:00.000000000",
          "2025-05-01T22:00:00.000000000",
          "2025-05-01T22:15:00.000000000",
          "2025-05-01T22:30:00.000000000",
          "2025-05-01T22:45:00.000000000",
          "2025-05-01T23:00:00.000000000",
          "2025-05-01T23:15:00.000000000",
          "2025-05-01T23:30:00.000000000",
          "2025-05-01T23:45:00.000000000",
          "2025-05-02T00:00:00.000000000",
          "2025-05-02T00:15:00.000000000",
          "2025-05-02T00:30:00.000000000",
          "2025-05-02T00:45:00.000000000",
          "2025-05-02T01:00:00.000000000",
          "2025-05-02T01:15:00.000000000",
          "2025-05-02T01:30:00.000000000",
          "2025-05-02T01:45:00.000000000",
          "2025-05-02T02:00:00.000000000",
          "2025-05-02T02:15:00.000000000",
          "2025-05-02T02:30:00.000000000",
          "2025-05-02T02:45:00.000000000",
          "2025-05-02T03:00:00.000000000",
          "2025-05-02T03:15:00.000000000",
          "2025-05-02T03:30:00.000000000",
          "2025-05-02T03:45:00.000000000",
          "2025-05-02T04:00:00.000000000",
          "2025-05-02T04:15:00.000000000",
          "2025-05-02T04:30:00.000000000",
          "2025-05-02T04:45:00.000000000",
          "2025-05-02T05:00:00.000000000",
          "2025-05-02T05:15:00.000000000",
          "2025-05-02T05:30:00.000000000",
          "2025-05-02T05:45:00.000000000",
          "2025-05-02T06:00:00.000000000",
          "2025-05-02T06:15:00.000000000",
          "2025-05-02T06:30:00.000000000",
          "2025-05-02T06:45:00.000000000",
          "2025-05-02T07:00:00.000000000",
          "2025-05-02T07:15:00.000000000",
          "2025-05-02T07:30:00.000000000",
          "2025-05-02T07:45:00.000000000",
          "2025-05-02T08:00:00.000000000",
          "2025-05-02T08:15:00.000000000",
          "2025-05-02T08:30:00.000000000",
          "2025-05-02T08:45:00.000000000",
          "2025-05-02T09:00:00.000000000",
          "2025-05-02T09:15:00.000000000",
          "2025-05-02T09:30:00.000000000",
          "2025-05-02T09:45:00.000000000",
          "2025-05-02T10:00:00.000000000",
          "2025-05-02T10:15:00.000000000",
          "2025-05-02T10:30:00.000000000",
          "2025-05-02T10:45:00.000000000",
          "2025-05-02T11:00:00.000000000",
          "2025-05-02T11:15:00.000000000",
          "2025-05-02T11:30:00.000000000",
          "2025-05-02T11:45:00.000000000",
          "2025-05-02T12:00:00.000000000",
          "2025-05-02T12:15:00.000000000",
          "2025-05-02T12:30:00.000000000",
          "2025-05-02T12:45:00.000000000",
          "2025-05-02T13:00:00.000000000",
          "2025-05-02T13:15:00.000000000",
          "2025-05-02T13:30:00.000000000",
          "2025-05-02T13:45:00.000000000",
          "2025-05-02T14:00:00.000000000",
          "2025-05-02T14:15:00.000000000",
          "2025-05-02T14:30:00.000000000",
          "2025-05-02T14:45:00.000000000",
          "2025-05-02T15:00:00.000000000",
          "2025-05-02T15:15:00.000000000",
          "2025-05-02T15:30:00.000000000",
          "2025-05-02T15:45:00.000000000",
          "2025-05-02T16:00:00.000000000",
          "2025-05-02T16:15:00.000000000",
          "2025-05-02T16:30:00.000000000",
          "2025-05-02T16:45:00.000000000",
          "2025-05-02T17:00:00.000000000",
          "2025-05-02T17:15:00.000000000",
          "2025-05-02T17:30:00.000000000",
          "2025-05-02T17:45:00.000000000",
          "2025-05-02T18:00:00.000000000",
          "2025-05-02T18:15:00.000000000",
          "2025-05-02T18:30:00.000000000",
          "2025-05-02T18:45:00.000000000",
          "2025-05-02T19:00:00.000000000",
          "2025-05-02T19:15:00.000000000",
          "2025-05-02T19:30:00.000000000",
          "2025-05-02T19:45:00.000000000",
          "2025-05-02T20:00:00.000000000",
          "2025-05-02T20:15:00.000000000",
          "2025-05-02T20:30:00.000000000",
          "2025-05-02T20:45:00.000000000",
          "2025-05-02T21:00:00.000000000",
          "2025-05-02T21:15:00.000000000",
          "2025-05-02T21:30:00.000000000",
          "2025-05-02T21:45:00.000000000",
          "2025-05-02T22:00:00.000000000",
          "2025-05-02T22:15:00.000000000",
          "2025-05-02T22:30:00.000000000",
          "2025-05-02T22:45:00.000000000",
          "2025-05-02T23:00:00.000000000",
          "2025-05-02T23:15:00.000000000",
          "2025-05-02T23:30:00.000000000",
          "2025-05-02T23:45:00.000000000",
          "2025-05-03T00:00:00.000000000",
          "2025-05-03T00:15:00.000000000",
          "2025-05-03T00:30:00.000000000",
          "2025-05-03T00:45:00.000000000",
          "2025-05-03T01:00:00.000000000",
          "2025-05-03T01:15:00.000000000",
          "2025-05-03T01:30:00.000000000",
          "2025-05-03T01:45:00.000000000",
          "2025-05-03T02:00:00.000000000",
          "2025-05-03T02:15:00.000000000",
          "2025-05-03T02:30:00.000000000",
          "2025-05-03T02:45:00.000000000",
          "2025-05-03T03:00:00.000000000",
          "2025-05-03T03:15:00.000000000",
          "2025-05-03T03:30:00.000000000",
          "2025-05-03T03:45:00.000000000",
          "2025-05-03T04:00:00.000000000",
          "2025-05-03T04:15:00.000000000",
          "2025-05-03T04:30:00.000000000",
          "2025-05-03T04:45:00.000000000",
          "2025-05-03T05:00:00.000000000",
          "2025-05-03T05:15:00.000000000",
          "2025-05-03T05:30:00.000000000",
          "2025-05-03T05:45:00.000000000",
          "2025-05-03T06:00:00.000000000",
          "2025-05-03T06:15:00.000000000",
          "2025-05-03T06:30:00.000000000",
          "2025-05-03T06:45:00.000000000",
          "2025-05-03T07:00:00.000000000",
          "2025-05-03T07:15:00.000000000",
          "2025-05-03T07:30:00.000000000",
          "2025-05-03T07:45:00.000000000",
          "2025-05-03T08:00:00.000000000",
          "2025-05-03T08:15:00.000000000",
          "2025-05-03T08:30:00.000000000",
          "2025-05-03T08:45:00.000000000",
          "2025-05-03T09:00:00.000000000",
          "2025-05-03T09:15:00.000000000",
          "2025-05-03T09:30:00.000000000",
          "2025-05-03T09:45:00.000000000",
          "2025-05-03T10:00:00.000000000",
          "2025-05-03T10:15:00.000000000",
          "2025-05-03T10:30:00.000000000",
          "2025-05-03T10:45:00.000000000",
          "2025-05-03T11:00:00.000000000",
          "2025-05-03T11:15:00.000000000",
          "2025-05-03T11:30:00.000000000",
          "2025-05-03T11:45:00.000000000",
          "2025-05-03T12:00:00.000000000",
          "2025-05-03T12:15:00.000000000",
          "2025-05-03T12:30:00.000000000",
          "2025-05-03T12:45:00.000000000",
          "2025-05-03T13:00:00.000000000",
          "2025-05-03T13:15:00.000000000",
          "2025-05-03T13:30:00.000000000",
          "2025-05-03T13:45:00.000000000",
          "2025-05-03T14:00:00.000000000",
          "2025-05-03T14:15:00.000000000",
          "2025-05-03T14:30:00.000000000",
          "2025-05-03T14:45:00.000000000",
          "2025-05-03T15:00:00.000000000",
          "2025-05-03T15:15:00.000000000",
          "2025-05-03T15:30:00.000000000",
          "2025-05-03T15:45:00.000000000",
          "2025-05-03T16:00:00.000000000",
          "2025-05-03T16:15:00.000000000",
          "2025-05-03T16:30:00.000000000",
          "2025-05-03T16:45:00.000000000",
          "2025-05-03T17:00:00.000000000",
          "2025-05-03T17:15:00.000000000",
          "2025-05-03T17:30:00.000000000",
          "2025-05-03T17:45:00.000000000",
          "2025-05-03T18:00:00.000000000",
          "2025-05-03T18:15:00.000000000",
          "2025-05-03T18:30:00.000000000",
          "2025-05-03T18:45:00.000000000",
          "2025-05-03T19:00:00.000000000",
          "2025-05-03T19:15:00.000000000",
          "2025-05-03T19:30:00.000000000",
          "2025-05-03T19:45:00.000000000",
          "2025-05-03T20:00:00.000000000",
          "2025-05-03T20:15:00.000000000",
          "2025-05-03T20:30:00.000000000",
          "2025-05-03T20:45:00.000000000",
          "2025-05-03T21:00:00.000000000",
          "2025-05-03T21:15:00.000000000",
          "2025-05-03T21:30:00.000000000",
          "2025-05-03T21:45:00.000000000",
          "2025-05-03T22:00:00.000000000",
          "2025-05-03T22:15:00.000000000",
          "2025-05-03T22:30:00.000000000",
          "2025-05-03T22:45:00.000000000",
          "2025-05-03T23:00:00.000000000",
          "2025-05-03T23:15:00.000000000",
          "2025-05-03T23:30:00.000000000",
          "2025-05-03T23:45:00.000000000",
          "2025-05-04T00:00:00.000000000",
          "2025-05-04T00:15:00.000000000",
          "2025-05-04T00:30:00.000000000",
          "2025-05-04T00:45:00.000000000",
          "2025-05-04T01:00:00.000000000",
          "2025-05-04T01:15:00.000000000",
          "2025-05-04T01:30:00.000000000",
          "2025-05-04T01:45:00.000000000",
          "2025-05-04T02:00:00.000000000",
          "2025-05-04T02:15:00.000000000",
          "2025-05-04T02:30:00.000000000",
          "2025-05-04T02:45:00.000000000",
          "2025-05-04T03:00:00.000000000",
          "2025-05-04T03:15:00.000000000",
          "2025-05-04T03:30:00.000000000",
          "2025-05-04T03:45:00.000000000",
          "2025-05-04T04:00:00.000000000",
          "2025-05-04T04:15:00.000000000",
          "2025-05-04T04:30:00.000000000",
          "2025-05-04T04:45:00.000000000",
          "2025-05-04T05:00:00.000000000",
          "2025-05-04T05:15:00.000000000",
          "2025-05-04T05:30:00.000000000",
          "2025-05-04T05:45:00.000000000",
          "2025-05-04T06:00:00.000000000",
          "2025-05-04T06:15:00.000000000",
          "2025-05-04T06:30:00.000000000",
          "2025-05-04T06:45:00.000000000",
          "2025-05-04T07:00:00.000000000",
          "2025-05-04T07:15:00.000000000",
          "2025-05-04T07:30:00.000000000",
          "2025-05-04T07:45:00.000000000",
          "2025-05-04T08:00:00.000000000",
          "2025-05-04T08:15:00.000000000",
          "2025-05-04T08:30:00.000000000",
          "2025-05-04T08:45:00.000000000",
          "2025-05-04T09:00:00.000000000",
          "2025-05-04T09:15:00.000000000",
          "2025-05-04T09:30:00.000000000",
          "2025-05-04T09:45:00.000000000",
          "2025-05-04T10:00:00.000000000",
          "2025-05-04T10:15:00.000000000"
         ],
         "xaxis": "x",
         "y": {
          "bdata": "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",
          "dtype": "f8"
         },
         "yaxis": "y"
        }
       ],
       "layout": {
        "annotations": [
         {
          "font": {
           "size": 16
          },
          "showarrow": false,
          "text": "Candlestick chart",
          "x": 0.5,
          "xanchor": "center",
          "xref": "paper",
          "y": 1,
          "yanchor": "bottom",
          "yref": "paper"
         },
         {
          "font": {
           "size": 16
          },
          "showarrow": false,
          "text": "RSI",
          "x": 0.5,
          "xanchor": "center",
          "xref": "paper",
          "y": 0.20000000000000004,
          "yanchor": "bottom",
          "yref": "paper"
         }
        ],
        "height": 700,
        "shapes": [
         {
          "line": {
           "color": "red",
           "dash": "dash",
           "width": 1
          },
          "type": "line",
          "x0": "2025-04-30T06:30:00",
          "x1": "2025-05-04T10:15:00",
          "xref": "x2",
          "y0": 30,
          "y1": 30,
          "yref": "y2"
         },
         {
          "line": {
           "color": "green",
           "dash": "dash",
           "width": 1
          },
          "type": "line",
          "x0": "2025-04-30T06:30:00",
          "x1": "2025-05-04T10:15:00",
          "xref": "x2",
          "y0": 70,
          "y1": 70,
          "yref": "y2"
         }
        ],
        "template": {
         "data": {
          "bar": [
           {
            "error_x": {
             "color": "#2a3f5f"
            },
            "error_y": {
             "color": "#2a3f5f"
            },
            "marker": {
             "line": {
              "color": "#E5ECF6",
              "width": 0.5
             },
             "pattern": {
              "fillmode": "overlay",
              "size": 10,
              "solidity": 0.2
             }
            },
            "type": "bar"
           }
          ],
          "barpolar": [
           {
            "marker": {
             "line": {
              "color": "#E5ECF6",
              "width": 0.5
             },
             "pattern": {
              "fillmode": "overlay",
              "size": 10,
              "solidity": 0.2
             }
            },
            "type": "barpolar"
           }
          ],
          "carpet": [
           {
            "aaxis": {
             "endlinecolor": "#2a3f5f",
             "gridcolor": "white",
             "linecolor": "white",
             "minorgridcolor": "white",
             "startlinecolor": "#2a3f5f"
            },
            "baxis": {
             "endlinecolor": "#2a3f5f",
             "gridcolor": "white",
             "linecolor": "white",
             "minorgridcolor": "white",
             "startlinecolor": "#2a3f5f"
            },
            "type": "carpet"
           }
          ],
          "choropleth": [
           {
            "colorbar": {
             "outlinewidth": 0,
             "ticks": ""
            },
            "type": "choropleth"
           }
          ],
          "contour": [
           {
            "colorbar": {
             "outlinewidth": 0,
             "ticks": ""
            },
            "colorscale": [
             [
              0,
              "#0d0887"
             ],
             [
              0.1111111111111111,
              "#46039f"
             ],
             [
              0.2222222222222222,
              "#7201a8"
             ],
             [
              0.3333333333333333,
              "#9c179e"
             ],
             [
              0.4444444444444444,
              "#bd3786"
             ],
             [
              0.5555555555555556,
              "#d8576b"
             ],
             [
              0.6666666666666666,
              "#ed7953"
             ],
             [
              0.7777777777777778,
              "#fb9f3a"
             ],
             [
              0.8888888888888888,
              "#fdca26"
             ],
             [
              1,
              "#f0f921"
             ]
            ],
            "type": "contour"
           }
          ],
          "contourcarpet": [
           {
            "colorbar": {
             "outlinewidth": 0,
             "ticks": ""
            },
            "type": "contourcarpet"
           }
          ],
          "heatmap": [
           {
            "colorbar": {
             "outlinewidth": 0,
             "ticks": ""
            },
            "colorscale": [
             [
              0,
              "#0d0887"
             ],
             [
              0.1111111111111111,
              "#46039f"
             ],
             [
              0.2222222222222222,
              "#7201a8"
             ],
             [
              0.3333333333333333,
              "#9c179e"
             ],
             [
              0.4444444444444444,
              "#bd3786"
             ],
             [
              0.5555555555555556,
              "#d8576b"
             ],
             [
              0.6666666666666666,
              "#ed7953"
             ],
             [
              0.7777777777777778,
              "#fb9f3a"
             ],
             [
              0.8888888888888888,
              "#fdca26"
             ],
             [
              1,
              "#f0f921"
             ]
            ],
            "type": "heatmap"
           }
          ],
          "histogram": [
           {
            "marker": {
             "pattern": {
              "fillmode": "overlay",
              "size": 10,
              "solidity": 0.2
             }
            },
            "type": "histogram"
           }
          ],
          "histogram2d": [
           {
            "colorbar": {
             "outlinewidth": 0,
             "ticks": ""
            },
            "colorscale": [
             [
              0,
              "#0d0887"
             ],
             [
              0.1111111111111111,
              "#46039f"
             ],
             [
              0.2222222222222222,
              "#7201a8"
             ],
             [
              0.3333333333333333,
              "#9c179e"
             ],
             [
              0.4444444444444444,
              "#bd3786"
             ],
             [
              0.5555555555555556,
              "#d8576b"
             ],
             [
              0.6666666666666666,
              "#ed7953"
             ],
             [
              0.7777777777777778,
              "#fb9f3a"
             ],
             [
              0.8888888888888888,
              "#fdca26"
             ],
             [
              1,
              "#f0f921"
             ]
            ],
            "type": "histogram2d"
           }
          ],
          "histogram2dcontour": [
           {
            "colorbar": {
             "outlinewidth": 0,
             "ticks": ""
            },
            "colorscale": [
             [
              0,
              "#0d0887"
             ],
             [
              0.1111111111111111,
              "#46039f"
             ],
             [
              0.2222222222222222,
              "#7201a8"
             ],
             [
              0.3333333333333333,
              "#9c179e"
             ],
             [
              0.4444444444444444,
              "#bd3786"
             ],
             [
              0.5555555555555556,
              "#d8576b"
             ],
             [
              0.6666666666666666,
              "#ed7953"
             ],
             [
              0.7777777777777778,
              "#fb9f3a"
             ],
             [
              0.8888888888888888,
              "#fdca26"
             ],
             [
              1,
              "#f0f921"
             ]
            ],
            "type": "histogram2dcontour"
           }
          ],
          "mesh3d": [
           {
            "colorbar": {
             "outlinewidth": 0,
             "ticks": ""
            },
            "type": "mesh3d"
           }
          ],
          "parcoords": [
           {
            "line": {
             "colorbar": {
              "outlinewidth": 0,
              "ticks": ""
             }
            },
            "type": "parcoords"
           }
          ],
          "pie": [
           {
            "automargin": true,
            "type": "pie"
           }
          ],
          "scatter": [
           {
            "fillpattern": {
             "fillmode": "overlay",
             "size": 10,
             "solidity": 0.2
            },
            "type": "scatter"
           }
          ],
          "scatter3d": [
           {
            "line": {
             "colorbar": {
              "outlinewidth": 0,
              "ticks": ""
             }
            },
            "marker": {
             "colorbar": {
              "outlinewidth": 0,
              "ticks": ""
             }
            },
            "type": "scatter3d"
           }
          ],
          "scattercarpet": [
           {
            "marker": {
             "colorbar": {
              "outlinewidth": 0,
              "ticks": ""
             }
            },
            "type": "scattercarpet"
           }
          ],
          "scattergeo": [
           {
            "marker": {
             "colorbar": {
              "outlinewidth": 0,
              "ticks": ""
             }
            },
            "type": "scattergeo"
           }
          ],
          "scattergl": [
           {
            "marker": {
             "colorbar": {
              "outlinewidth": 0,
              "ticks": ""
             }
            },
            "type": "scattergl"
           }
          ],
          "scattermap": [
           {
            "marker": {
             "colorbar": {
              "outlinewidth": 0,
              "ticks": ""
             }
            },
            "type": "scattermap"
           }
          ],
          "scattermapbox": [
           {
            "marker": {
             "colorbar": {
              "outlinewidth": 0,
              "ticks": ""
             }
            },
            "type": "scattermapbox"
           }
          ],
          "scatterpolar": [
           {
            "marker": {
             "colorbar": {
              "outlinewidth": 0,
              "ticks": ""
             }
            },
            "type": "scatterpolar"
           }
          ],
          "scatterpolargl": [
           {
            "marker": {
             "colorbar": {
              "outlinewidth": 0,
              "ticks": ""
             }
            },
            "type": "scatterpolargl"
           }
          ],
          "scatterternary": [
           {
            "marker": {
             "colorbar": {
              "outlinewidth": 0,
              "ticks": ""
             }
            },
            "type": "scatterternary"
           }
          ],
          "surface": [
           {
            "colorbar": {
             "outlinewidth": 0,
             "ticks": ""
            },
            "colorscale": [
             [
              0,
              "#0d0887"
             ],
             [
              0.1111111111111111,
              "#46039f"
             ],
             [
              0.2222222222222222,
              "#7201a8"
             ],
             [
              0.3333333333333333,
              "#9c179e"
             ],
             [
              0.4444444444444444,
              "#bd3786"
             ],
             [
              0.5555555555555556,
              "#d8576b"
             ],
             [
              0.6666666666666666,
              "#ed7953"
             ],
             [
              0.7777777777777778,
              "#fb9f3a"
             ],
             [
              0.8888888888888888,
              "#fdca26"
             ],
             [
              1,
              "#f0f921"
             ]
            ],
            "type": "surface"
           }
          ],
          "table": [
           {
            "cells": {
             "fill": {
              "color": "#EBF0F8"
             },
             "line": {
              "color": "white"
             }
            },
            "header": {
             "fill": {
              "color": "#C8D4E3"
             },
             "line": {
              "color": "white"
             }
            },
            "type": "table"
           }
          ]
         },
         "layout": {
          "annotationdefaults": {
           "arrowcolor": "#2a3f5f",
           "arrowhead": 0,
           "arrowwidth": 1
          },
          "autotypenumbers": "strict",
          "coloraxis": {
           "colorbar": {
            "outlinewidth": 0,
            "ticks": ""
           }
          },
          "colorscale": {
           "diverging": [
            [
             0,
             "#8e0152"
            ],
            [
             0.1,
             "#c51b7d"
            ],
            [
             0.2,
             "#de77ae"
            ],
            [
             0.3,
             "#f1b6da"
            ],
            [
             0.4,
             "#fde0ef"
            ],
            [
             0.5,
             "#f7f7f7"
            ],
            [
             0.6,
             "#e6f5d0"
            ],
            [
             0.7,
             "#b8e186"
            ],
            [
             0.8,
             "#7fbc41"
            ],
            [
             0.9,
             "#4d9221"
            ],
            [
             1,
             "#276419"
            ]
           ],
           "sequential": [
            [
             0,
             "#0d0887"
            ],
            [
             0.1111111111111111,
             "#46039f"
            ],
            [
             0.2222222222222222,
             "#7201a8"
            ],
            [
             0.3333333333333333,
             "#9c179e"
            ],
            [
             0.4444444444444444,
             "#bd3786"
            ],
            [
             0.5555555555555556,
             "#d8576b"
            ],
            [
             0.6666666666666666,
             "#ed7953"
            ],
            [
             0.7777777777777778,
             "#fb9f3a"
            ],
            [
             0.8888888888888888,
             "#fdca26"
            ],
            [
             1,
             "#f0f921"
            ]
           ],
           "sequentialminus": [
            [
             0,
             "#0d0887"
            ],
            [
             0.1111111111111111,
             "#46039f"
            ],
            [
             0.2222222222222222,
             "#7201a8"
            ],
            [
             0.3333333333333333,
             "#9c179e"
            ],
            [
             0.4444444444444444,
             "#bd3786"
            ],
            [
             0.5555555555555556,
             "#d8576b"
            ],
            [
             0.6666666666666666,
             "#ed7953"
            ],
            [
             0.7777777777777778,
             "#fb9f3a"
            ],
            [
             0.8888888888888888,
             "#fdca26"
            ],
            [
             1,
             "#f0f921"
            ]
           ]
          },
          "colorway": [
           "#636efa",
           "#EF553B",
           "#00cc96",
           "#ab63fa",
           "#FFA15A",
           "#19d3f3",
           "#FF6692",
           "#B6E880",
           "#FF97FF",
           "#FECB52"
          ],
          "font": {
           "color": "#2a3f5f"
          },
          "geo": {
           "bgcolor": "white",
           "lakecolor": "white",
           "landcolor": "#E5ECF6",
           "showlakes": true,
           "showland": true,
           "subunitcolor": "white"
          },
          "hoverlabel": {
           "align": "left"
          },
          "hovermode": "closest",
          "mapbox": {
           "style": "light"
          },
          "paper_bgcolor": "white",
          "plot_bgcolor": "#E5ECF6",
          "polar": {
           "angularaxis": {
            "gridcolor": "white",
            "linecolor": "white",
            "ticks": ""
           },
           "bgcolor": "#E5ECF6",
           "radialaxis": {
            "gridcolor": "white",
            "linecolor": "white",
            "ticks": ""
           }
          },
          "scene": {
           "xaxis": {
            "backgroundcolor": "#E5ECF6",
            "gridcolor": "white",
            "gridwidth": 2,
            "linecolor": "white",
            "showbackground": true,
            "ticks": "",
            "zerolinecolor": "white"
           },
           "yaxis": {
            "backgroundcolor": "#E5ECF6",
            "gridcolor": "white",
            "gridwidth": 2,
            "linecolor": "white",
            "showbackground": true,
            "ticks": "",
            "zerolinecolor": "white"
           },
           "zaxis": {
            "backgroundcolor": "#E5ECF6",
            "gridcolor": "white",
            "gridwidth": 2,
            "linecolor": "white",
            "showbackground": true,
            "ticks": "",
            "zerolinecolor": "white"
           }
          },
          "shapedefaults": {
           "line": {
            "color": "#2a3f5f"
           }
          },
          "ternary": {
           "aaxis": {
            "gridcolor": "white",
            "linecolor": "white",
            "ticks": ""
           },
           "baxis": {
            "gridcolor": "white",
            "linecolor": "white",
            "ticks": ""
           },
           "bgcolor": "#E5ECF6",
           "caxis": {
            "gridcolor": "white",
            "linecolor": "white",
            "ticks": ""
           }
          },
          "title": {
           "x": 0.05
          },
          "xaxis": {
           "automargin": true,
           "gridcolor": "white",
           "linecolor": "white",
           "ticks": "",
           "title": {
            "standoff": 15
           },
           "zerolinecolor": "white",
           "zerolinewidth": 2
          },
          "yaxis": {
           "automargin": true,
           "gridcolor": "white",
           "linecolor": "white",
           "ticks": "",
           "title": {
            "standoff": 15
           },
           "zerolinecolor": "white",
           "zerolinewidth": 2
          }
         }
        },
        "title": {
         "text": "Candlestick and RSI Chart with EMA included"
        },
        "xaxis": {
         "anchor": "y",
         "domain": [
          0,
          1
         ],
         "matches": "x2",
         "rangeslider": {
          "visible": false
         },
         "showticklabels": false,
         "title": {
          "text": "Time"
         }
        },
        "xaxis2": {
         "anchor": "y2",
         "domain": [
          0,
          1
         ]
        },
        "yaxis": {
         "anchor": "x",
         "domain": [
          0.30000000000000004,
          1
         ],
         "title": {
          "text": "Price"
         }
        },
        "yaxis2": {
         "anchor": "x2",
         "domain": [
          0,
          0.20000000000000004
         ]
        }
       }
      }
     },
     "metadata": {},
     "output_type": "display_data"
    }
   ],
   "source": [
    "# plot the k-line data stored in the object\n",
    "btc_indicate.plot([\"all\"])"
   ]
  },
  {
   "cell_type": "code",
   "execution_count": 8,
   "id": "d912a455",
   "metadata": {},
   "outputs": [
    {
     "data": {
      "application/vnd.plotly.v1+json": {
       "config": {
        "plotlyServerURL": "https://plot.ly"
       },
       "data": [
        {
         "close": {
          "bdata": "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",
          "dtype": "f8"
         },
         "decreasing": {
          "line": {
           "color": "red"
          }
         },
         "high": {
          "bdata": "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",
          "dtype": "f8"
         },
         "increasing": {
          "line": {
           "color": "green"
          }
         },
         "low": {
          "bdata": "MzMzM8Mg90CamZmZ+R33QDMzMzOLHvdAmpmZmYEf90AzMzMzgxb3QJqZmZkpD/dAMzMzM5sS90DNzMzM1BH3QAAAAACQEPdAzczMzOQU90CamZmZ+Rv3QDMzMzO7GfdAMzMzM8Mg90DNzMzMZCn3QM3MzMwkJPdAzczMzOQl90DNzMzMVCb3QJqZmZmRKPdAAAAAADgr90BmZmZmXir3QJqZmZnRMvdAMzMzM1Mw90AzMzMzezH3QDMzMzMDKPdAZmZmZk4G90AAAAAAUAb3QAAAAABwA/dAmpmZmVH99kBmZmZmVtz2QDMzMzPrsfZAzczMzKyt9kBmZmZmZsD2QAAAAABg5vZAmpmZmbnb9kBmZmZmPt72QAAAAACQ2vZAZmZmZibk9kAzMzMzi+v2QJqZmZlJ3vZAAAAAANDR9kAAAAAAcN72QGZmZmb25/ZAMzMzM4Pe9kAAAAAAoOT2QJqZmZn57/ZAzczMzPTz9kDNzMzMhPP2QM3MzMx0+fZAMzMzMwvv9kDNzMzMFPL2QJqZmZkZ8vZAMzMzM7vf9kCamZmZSeH2QGZmZmYW7fZAZmZmZn739kAAAAAAmA73QJqZmZmhD/dAAAAAAPAR90AAAAAAuAz3QM3MzMycE/dAmpmZmfEN90AAAAAAQAf3QAAAAABAB/dAmpmZmXEF90AAAAAAiP72QJqZmZkx8/ZAmpmZmSnu9kBmZmZmZvj2QJqZmZnR/fZAZmZmZjb49kAAAAAAQPn2QGZmZmaO+vZAAAAAAOD89kCamZmZgQH3QDMzMzNDBvdAMzMzM9MP90DNzMzM9A33QDMzMzNLEvdAAAAAAFAW90BmZmZmDhz3QDMzMzOjI/dAZmZmZo4f90BmZmZmthv3QM3MzMyMGvdAZmZmZm4d90AzMzMzCxz3QDMzMzPbHfdAZmZmZnYd90DNzMzMnBz3QJqZmZnJIfdAzczMzIwk90AzMzMzgyb3QM3MzMy0JfdAAAAAAPgx90AzMzMzczH3QDMzMzObLfdAzczMzKwk90DNzMzMjCL3QM3MzMx0IfdAzczMzFQq90AzMzMz4yz3QAAAAAAgLvdAmpmZmdEo90BmZmZmti/3QM3MzMycMvdAmpmZmXk090AzMzMzCzf3QAAAAACgOfdAAAAAAFBB90AzMzMzg0n3QJqZmZlZT/dAmpmZmYFc90DNzMzMDHD3QJqZmZmpZvdAmpmZmQFx90AzMzMze2L3QGZmZmbOaPdAZmZmZpZz90AzMzMzW3T3QDMzMzNzdvdAMzMzM6tz90CamZmZwXj3QDMzMzM7f/dAzczMzMyI90AzMzMzI2j3QM3MzMzMYPdAZmZmZrZi90AAAAAAeHr3QM3MzMzsd/dAZmZmZj5/90AAAAAAAJz3QDMzMzNLqfdAzczMzBym90BmZmZmZqH3QM3MzMwUovdAmpmZmXmi90DNzMzMBLX3QGZmZma+qfdAAAAAAECo90BmZmZm3qD3QM3MzMzsj/dAAAAAADCN90CamZmZwZH3QAAAAABoiPdAZmZmZv6H90AzMzMz65z3QGZmZmYuifdAzczMzAyH90DNzMzM1Ij3QAAAAADoifdAZmZmZoZ+90AAAAAAOJn3QAAAAACYjfdAAAAAAAiC90AzMzMzS4X3QJqZmZlhj/dAzczMzHSL90CamZmZ8Yn3QJqZmZkBh/dAZmZmZlaO90AzMzMzi4T3QDMzMzOjgvdAMzMzMzt590AzMzMzI373QM3MzMxMePdAZmZmZn5/90CamZmZAYn3QAAAAAAoj/dAMzMzM8Oa90CamZmZKZ73QGZmZmZeqPdAAAAAAOin90AAAAAAwJv3QJqZmZnhnfdAZmZmZgaa90BmZmZmTp73QJqZmZlBpPdAMzMzM6un90CamZmZiaj3QDMzMzMjq/dAzczMzDyu90AAAAAAiLH3QDMzMzNTsfdAZmZmZn6v90BmZmZmdqb3QM3MzMyEo/dAzczMzByj90CamZmZcZ73QM3MzMw0nfdAMzMzMwuU90BmZmZmjpL3QAAAAAAAlPdAZmZmZq6U90AAAAAAQI/3QGZmZmamifdAAAAAACCJ90AzMzMz24L3QDMzMzNbg/dAmpmZmVmD90AzMzMzU4/3QM3MzMzUi/dAMzMzM6uS90CamZmZ4Yn3QJqZmZkplPdAmpmZmcmQ90DNzMzMFJL3QAAAAAC4kvdAzczMzGSd90BmZmZmrp73QAAAAABon/dAzczMzESl90DNzMzMJKb3QM3MzMwso/dAAAAAAOCj90AzMzMzq5z3QDMzMzN7nPdAAAAAAICT90AzMzMz26j3QM3MzMxMnPdAAAAAAJCc90AzMzMzc5b3QGZmZmYWmfdAAAAAAICa90CamZmZoZ33QAAAAACosvdAzczMzCTC90AAAAAAAMr3QDMzMzO7rvdAzczMzGSw90AAAAAAQL33QJqZmZk5v/dAAAAAAKDN90AAAAAAAMv3QM3MzMw8wPdAAAAAAECw90DNzMzMBLP3QGZmZma2ufdAAAAAABi490AzMzMzg8H3QGZmZmY2xfdAAAAAAEjF90AAAAAA0LP3QAAAAAAIqfdAMzMzMwur90DNzMzMvJ73QJqZmZkhm/dAmpmZmTmg90AAAAAAwKT3QJqZmZkZqfdAzczMzMyp90CamZmZGan3QGZmZma+pPdAMzMzMzOe90CamZmZ6Y73QM3MzMyEk/dAAAAAAGCS90AAAAAAYJL3QJqZmZlZkvdAAAAAAPCR90DNzMzMHJb3QGZmZma2mPdAzczMzJye90AAAAAA0J33QM3MzMwkmvdAZmZmZp6V90DNzMzM3JP3QGZmZmYekPdAAAAAABCO90AAAAAAAIn3QAAAAAAAifdAzczMzGSL90CamZmZUZL3QM3MzMw8kPdAZmZmZoaN90BmZmZmDov3QAAAAAAwg/dAzczMzKyB90DNzMzMhID3QAAAAABwfvdAmpmZmeGI90DNzMzMPIr3QM3MzMwMi/dAZmZmZq6G90CamZmZgYf3QAAAAAAAjPdAmpmZmeGG90AzMzMzO4H3QGZmZmbmd/dAmpmZmUl590BmZmZmVnT3QAAAAADodvdAZmZmZg5290DNzMzM9Hn3QJqZmZkJf/dAMzMzMxt190AAAAAA6Hb3QGZmZmYOgfdAAAAAAFh/90AzMzMzi3v3QM3MzMysfPdAAAAAAIB890AAAAAAMHj3QAAAAACAd/dAmpmZmTF290AzMzMzw2b3QAAAAADQZfdAAAAAANhl90CamZmZmWf3QJqZmZmxZ/dAZmZmZtZl90BmZmZmbmb3QGZmZmYOafdAmpmZmaFs90AzMzMza3H3QGZmZmaWcfdAZmZmZl5290BmZmZm7nX3QGZmZmbmevdAAAAAAOB+90BmZmZmZn73QM3MzMzsffdAAAAAAACA90DNzMzMxIP3QM3MzMz0hfdAMzMzM1OF90DNzMzMrH/3QGZmZma+ffdAAAAAAIB590DNzMzMrHP3QDMzMzO7cvdAAAAAALho90BmZmZmbmb3QAAAAADoa/dAZmZmZr5x90DNzMzMRHP3QDMzMzMDdfdAMzMzM/tx90BmZmZmBnL3QDMzMzPjdPdAmpmZmel490AzMzMzq333QGZmZmb+fvdAMzMzM4OB90AzMzMzs4D3QJqZmZmhf/dAmpmZmbl/90CamZmZcXv3QGZmZmYOfvdAmpmZmVl890DNzMzMvHv3QAAAAACAdvdAzczMzOR590BmZmZmJnr3QAAAAADYd/dAmpmZmfF190AzMzMzw2j3QM3MzMzkXPdAMzMzMxti90BmZmZmxl/3QAAAAADIZvdAMzMzM8td90AAAAAA4F73QGZmZmaOYPdAZmZmZq5j90AAAAAAAFf3QM3MzMzUU/dAMzMzM0Nz90CamZmZoXT3QJqZmZkBYfdAzczMzPRg90DNzMzMPFf3QGZmZmYGV/dAZmZmZo5a90DNzMzMLFv3QDMzMzMLXPdAmpmZmUlj90AzMzMzk1z3QDMzMzNbXPdAAAAAAFhY90AzMzMzg1/3QM3MzMyUZvdAmpmZmclq90DNzMzMTGv3QAAAAAAYafdAAAAAAIhl90DNzMzMXGb3QM3MzMxkZfdAzczMzHRm90DNzMzMRGH3QJqZmZnBYfdAmpmZmUFl90AzMzMzK1T3QAAAAADwSPdAmpmZmflP90DNzMzM/FD3QDMzMzOzSvdAAAAAAIBK90BmZmZmNkv3QDMzMzPDR/dAAAAAABBJ90A=",
          "dtype": "f8"
         },
         "open": {
          "bdata": "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",
          "dtype": "f8"
         },
         "type": "candlestick",
         "x": [
          "2025-04-30T06:30:00.000000000",
          "2025-04-30T06:45:00.000000000",
          "2025-04-30T07:00:00.000000000",
          "2025-04-30T07:15:00.000000000",
          "2025-04-30T07:30:00.000000000",
          "2025-04-30T07:45:00.000000000",
          "2025-04-30T08:00:00.000000000",
          "2025-04-30T08:15:00.000000000",
          "2025-04-30T08:30:00.000000000",
          "2025-04-30T08:45:00.000000000",
          "2025-04-30T09:00:00.000000000",
          "2025-04-30T09:15:00.000000000",
          "2025-04-30T09:30:00.000000000",
          "2025-04-30T09:45:00.000000000",
          "2025-04-30T10:00:00.000000000",
          "2025-04-30T10:15:00.000000000",
          "2025-04-30T10:30:00.000000000",
          "2025-04-30T10:45:00.000000000",
          "2025-04-30T11:00:00.000000000",
          "2025-04-30T11:15:00.000000000",
          "2025-04-30T11:30:00.000000000",
          "2025-04-30T11:45:00.000000000",
          "2025-04-30T12:00:00.000000000",
          "2025-04-30T12:15:00.000000000",
          "2025-04-30T12:30:00.000000000",
          "2025-04-30T12:45:00.000000000",
          "2025-04-30T13:00:00.000000000",
          "2025-04-30T13:15:00.000000000",
          "2025-04-30T13:30:00.000000000",
          "2025-04-30T13:45:00.000000000",
          "2025-04-30T14:00:00.000000000",
          "2025-04-30T14:15:00.000000000",
          "2025-04-30T14:30:00.000000000",
          "2025-04-30T14:45:00.000000000",
          "2025-04-30T15:00:00.000000000",
          "2025-04-30T15:15:00.000000000",
          "2025-04-30T15:30:00.000000000",
          "2025-04-30T15:45:00.000000000",
          "2025-04-30T16:00:00.000000000",
          "2025-04-30T16:15:00.000000000",
          "2025-04-30T16:30:00.000000000",
          "2025-04-30T16:45:00.000000000",
          "2025-04-30T17:00:00.000000000",
          "2025-04-30T17:15:00.000000000",
          "2025-04-30T17:30:00.000000000",
          "2025-04-30T17:45:00.000000000",
          "2025-04-30T18:00:00.000000000",
          "2025-04-30T18:15:00.000000000",
          "2025-04-30T18:30:00.000000000",
          "2025-04-30T18:45:00.000000000",
          "2025-04-30T19:00:00.000000000",
          "2025-04-30T19:15:00.000000000",
          "2025-04-30T19:30:00.000000000",
          "2025-04-30T19:45:00.000000000",
          "2025-04-30T20:00:00.000000000",
          "2025-04-30T20:15:00.000000000",
          "2025-04-30T20:30:00.000000000",
          "2025-04-30T20:45:00.000000000",
          "2025-04-30T21:00:00.000000000",
          "2025-04-30T21:15:00.000000000",
          "2025-04-30T21:30:00.000000000",
          "2025-04-30T21:45:00.000000000",
          "2025-04-30T22:00:00.000000000",
          "2025-04-30T22:15:00.000000000",
          "2025-04-30T22:30:00.000000000",
          "2025-04-30T22:45:00.000000000",
          "2025-04-30T23:00:00.000000000",
          "2025-04-30T23:15:00.000000000",
          "2025-04-30T23:30:00.000000000",
          "2025-04-30T23:45:00.000000000",
          "2025-05-01T00:00:00.000000000",
          "2025-05-01T00:15:00.000000000",
          "2025-05-01T00:30:00.000000000",
          "2025-05-01T00:45:00.000000000",
          "2025-05-01T01:00:00.000000000",
          "2025-05-01T01:15:00.000000000",
          "2025-05-01T01:30:00.000000000",
          "2025-05-01T01:45:00.000000000",
          "2025-05-01T02:00:00.000000000",
          "2025-05-01T02:15:00.000000000",
          "2025-05-01T02:30:00.000000000",
          "2025-05-01T02:45:00.000000000",
          "2025-05-01T03:00:00.000000000",
          "2025-05-01T03:15:00.000000000",
          "2025-05-01T03:30:00.000000000",
          "2025-05-01T03:45:00.000000000",
          "2025-05-01T04:00:00.000000000",
          "2025-05-01T04:15:00.000000000",
          "2025-05-01T04:30:00.000000000",
          "2025-05-01T04:45:00.000000000",
          "2025-05-01T05:00:00.000000000",
          "2025-05-01T05:15:00.000000000",
          "2025-05-01T05:30:00.000000000",
          "2025-05-01T05:45:00.000000000",
          "2025-05-01T06:00:00.000000000",
          "2025-05-01T06:15:00.000000000",
          "2025-05-01T06:30:00.000000000",
          "2025-05-01T06:45:00.000000000",
          "2025-05-01T07:00:00.000000000",
          "2025-05-01T07:15:00.000000000",
          "2025-05-01T07:30:00.000000000",
          "2025-05-01T07:45:00.000000000",
          "2025-05-01T08:00:00.000000000",
          "2025-05-01T08:15:00.000000000",
          "2025-05-01T08:30:00.000000000",
          "2025-05-01T08:45:00.000000000",
          "2025-05-01T09:00:00.000000000",
          "2025-05-01T09:15:00.000000000",
          "2025-05-01T09:30:00.000000000",
          "2025-05-01T09:45:00.000000000",
          "2025-05-01T10:00:00.000000000",
          "2025-05-01T10:15:00.000000000",
          "2025-05-01T10:30:00.000000000",
          "2025-05-01T10:45:00.000000000",
          "2025-05-01T11:00:00.000000000",
          "2025-05-01T11:15:00.000000000",
          "2025-05-01T11:30:00.000000000",
          "2025-05-01T11:45:00.000000000",
          "2025-05-01T12:00:00.000000000",
          "2025-05-01T12:15:00.000000000",
          "2025-05-01T12:30:00.000000000",
          "2025-05-01T12:45:00.000000000",
          "2025-05-01T13:00:00.000000000",
          "2025-05-01T13:15:00.000000000",
          "2025-05-01T13:30:00.000000000",
          "2025-05-01T13:45:00.000000000",
          "2025-05-01T14:00:00.000000000",
          "2025-05-01T14:15:00.000000000",
          "2025-05-01T14:30:00.000000000",
          "2025-05-01T14:45:00.000000000",
          "2025-05-01T15:00:00.000000000",
          "2025-05-01T15:15:00.000000000",
          "2025-05-01T15:30:00.000000000",
          "2025-05-01T15:45:00.000000000",
          "2025-05-01T16:00:00.000000000",
          "2025-05-01T16:15:00.000000000",
          "2025-05-01T16:30:00.000000000",
          "2025-05-01T16:45:00.000000000",
          "2025-05-01T17:00:00.000000000",
          "2025-05-01T17:15:00.000000000",
          "2025-05-01T17:30:00.000000000",
          "2025-05-01T17:45:00.000000000",
          "2025-05-01T18:00:00.000000000",
          "2025-05-01T18:15:00.000000000",
          "2025-05-01T18:30:00.000000000",
          "2025-05-01T18:45:00.000000000",
          "2025-05-01T19:00:00.000000000",
          "2025-05-01T19:15:00.000000000",
          "2025-05-01T19:30:00.000000000",
          "2025-05-01T19:45:00.000000000",
          "2025-05-01T20:00:00.000000000",
          "2025-05-01T20:15:00.000000000",
          "2025-05-01T20:30:00.000000000",
          "2025-05-01T20:45:00.000000000",
          "2025-05-01T21:00:00.000000000",
          "2025-05-01T21:15:00.000000000",
          "2025-05-01T21:30:00.000000000",
          "2025-05-01T21:45:00.000000000",
          "2025-05-01T22:00:00.000000000",
          "2025-05-01T22:15:00.000000000",
          "2025-05-01T22:30:00.000000000",
          "2025-05-01T22:45:00.000000000",
          "2025-05-01T23:00:00.000000000",
          "2025-05-01T23:15:00.000000000",
          "2025-05-01T23:30:00.000000000",
          "2025-05-01T23:45:00.000000000",
          "2025-05-02T00:00:00.000000000",
          "2025-05-02T00:15:00.000000000",
          "2025-05-02T00:30:00.000000000",
          "2025-05-02T00:45:00.000000000",
          "2025-05-02T01:00:00.000000000",
          "2025-05-02T01:15:00.000000000",
          "2025-05-02T01:30:00.000000000",
          "2025-05-02T01:45:00.000000000",
          "2025-05-02T02:00:00.000000000",
          "2025-05-02T02:15:00.000000000",
          "2025-05-02T02:30:00.000000000",
          "2025-05-02T02:45:00.000000000",
          "2025-05-02T03:00:00.000000000",
          "2025-05-02T03:15:00.000000000",
          "2025-05-02T03:30:00.000000000",
          "2025-05-02T03:45:00.000000000",
          "2025-05-02T04:00:00.000000000",
          "2025-05-02T04:15:00.000000000",
          "2025-05-02T04:30:00.000000000",
          "2025-05-02T04:45:00.000000000",
          "2025-05-02T05:00:00.000000000",
          "2025-05-02T05:15:00.000000000",
          "2025-05-02T05:30:00.000000000",
          "2025-05-02T05:45:00.000000000",
          "2025-05-02T06:00:00.000000000",
          "2025-05-02T06:15:00.000000000",
          "2025-05-02T06:30:00.000000000",
          "2025-05-02T06:45:00.000000000",
          "2025-05-02T07:00:00.000000000",
          "2025-05-02T07:15:00.000000000",
          "2025-05-02T07:30:00.000000000",
          "2025-05-02T07:45:00.000000000",
          "2025-05-02T08:00:00.000000000",
          "2025-05-02T08:15:00.000000000",
          "2025-05-02T08:30:00.000000000",
          "2025-05-02T08:45:00.000000000",
          "2025-05-02T09:00:00.000000000",
          "2025-05-02T09:15:00.000000000",
          "2025-05-02T09:30:00.000000000",
          "2025-05-02T09:45:00.000000000",
          "2025-05-02T10:00:00.000000000",
          "2025-05-02T10:15:00.000000000",
          "2025-05-02T10:30:00.000000000",
          "2025-05-02T10:45:00.000000000",
          "2025-05-02T11:00:00.000000000",
          "2025-05-02T11:15:00.000000000",
          "2025-05-02T11:30:00.000000000",
          "2025-05-02T11:45:00.000000000",
          "2025-05-02T12:00:00.000000000",
          "2025-05-02T12:15:00.000000000",
          "2025-05-02T12:30:00.000000000",
          "2025-05-02T12:45:00.000000000",
          "2025-05-02T13:00:00.000000000",
          "2025-05-02T13:15:00.000000000",
          "2025-05-02T13:30:00.000000000",
          "2025-05-02T13:45:00.000000000",
          "2025-05-02T14:00:00.000000000",
          "2025-05-02T14:15:00.000000000",
          "2025-05-02T14:30:00.000000000",
          "2025-05-02T14:45:00.000000000",
          "2025-05-02T15:00:00.000000000",
          "2025-05-02T15:15:00.000000000",
          "2025-05-02T15:30:00.000000000",
          "2025-05-02T15:45:00.000000000",
          "2025-05-02T16:00:00.000000000",
          "2025-05-02T16:15:00.000000000",
          "2025-05-02T16:30:00.000000000",
          "2025-05-02T16:45:00.000000000",
          "2025-05-02T17:00:00.000000000",
          "2025-05-02T17:15:00.000000000",
          "2025-05-02T17:30:00.000000000",
          "2025-05-02T17:45:00.000000000",
          "2025-05-02T18:00:00.000000000",
          "2025-05-02T18:15:00.000000000",
          "2025-05-02T18:30:00.000000000",
          "2025-05-02T18:45:00.000000000",
          "2025-05-02T19:00:00.000000000",
          "2025-05-02T19:15:00.000000000",
          "2025-05-02T19:30:00.000000000",
          "2025-05-02T19:45:00.000000000",
          "2025-05-02T20:00:00.000000000",
          "2025-05-02T20:15:00.000000000",
          "2025-05-02T20:30:00.000000000",
          "2025-05-02T20:45:00.000000000",
          "2025-05-02T21:00:00.000000000",
          "2025-05-02T21:15:00.000000000",
          "2025-05-02T21:30:00.000000000",
          "2025-05-02T21:45:00.000000000",
          "2025-05-02T22:00:00.000000000",
          "2025-05-02T22:15:00.000000000",
          "2025-05-02T22:30:00.000000000",
          "2025-05-02T22:45:00.000000000",
          "2025-05-02T23:00:00.000000000",
          "2025-05-02T23:15:00.000000000",
          "2025-05-02T23:30:00.000000000",
          "2025-05-02T23:45:00.000000000",
          "2025-05-03T00:00:00.000000000",
          "2025-05-03T00:15:00.000000000",
          "2025-05-03T00:30:00.000000000",
          "2025-05-03T00:45:00.000000000",
          "2025-05-03T01:00:00.000000000",
          "2025-05-03T01:15:00.000000000",
          "2025-05-03T01:30:00.000000000",
          "2025-05-03T01:45:00.000000000",
          "2025-05-03T02:00:00.000000000",
          "2025-05-03T02:15:00.000000000",
          "2025-05-03T02:30:00.000000000",
          "2025-05-03T02:45:00.000000000",
          "2025-05-03T03:00:00.000000000",
          "2025-05-03T03:15:00.000000000",
          "2025-05-03T03:30:00.000000000",
          "2025-05-03T03:45:00.000000000",
          "2025-05-03T04:00:00.000000000",
          "2025-05-03T04:15:00.000000000",
          "2025-05-03T04:30:00.000000000",
          "2025-05-03T04:45:00.000000000",
          "2025-05-03T05:00:00.000000000",
          "2025-05-03T05:15:00.000000000",
          "2025-05-03T05:30:00.000000000",
          "2025-05-03T05:45:00.000000000",
          "2025-05-03T06:00:00.000000000",
          "2025-05-03T06:15:00.000000000",
          "2025-05-03T06:30:00.000000000",
          "2025-05-03T06:45:00.000000000",
          "2025-05-03T07:00:00.000000000",
          "2025-05-03T07:15:00.000000000",
          "2025-05-03T07:30:00.000000000",
          "2025-05-03T07:45:00.000000000",
          "2025-05-03T08:00:00.000000000",
          "2025-05-03T08:15:00.000000000",
          "2025-05-03T08:30:00.000000000",
          "2025-05-03T08:45:00.000000000",
          "2025-05-03T09:00:00.000000000",
          "2025-05-03T09:15:00.000000000",
          "2025-05-03T09:30:00.000000000",
          "2025-05-03T09:45:00.000000000",
          "2025-05-03T10:00:00.000000000",
          "2025-05-03T10:15:00.000000000",
          "2025-05-03T10:30:00.000000000",
          "2025-05-03T10:45:00.000000000",
          "2025-05-03T11:00:00.000000000",
          "2025-05-03T11:15:00.000000000",
          "2025-05-03T11:30:00.000000000",
          "2025-05-03T11:45:00.000000000",
          "2025-05-03T12:00:00.000000000",
          "2025-05-03T12:15:00.000000000",
          "2025-05-03T12:30:00.000000000",
          "2025-05-03T12:45:00.000000000",
          "2025-05-03T13:00:00.000000000",
          "2025-05-03T13:15:00.000000000",
          "2025-05-03T13:30:00.000000000",
          "2025-05-03T13:45:00.000000000",
          "2025-05-03T14:00:00.000000000",
          "2025-05-03T14:15:00.000000000",
          "2025-05-03T14:30:00.000000000",
          "2025-05-03T14:45:00.000000000",
          "2025-05-03T15:00:00.000000000",
          "2025-05-03T15:15:00.000000000",
          "2025-05-03T15:30:00.000000000",
          "2025-05-03T15:45:00.000000000",
          "2025-05-03T16:00:00.000000000",
          "2025-05-03T16:15:00.000000000",
          "2025-05-03T16:30:00.000000000",
          "2025-05-03T16:45:00.000000000",
          "2025-05-03T17:00:00.000000000",
          "2025-05-03T17:15:00.000000000",
          "2025-05-03T17:30:00.000000000",
          "2025-05-03T17:45:00.000000000",
          "2025-05-03T18:00:00.000000000",
          "2025-05-03T18:15:00.000000000",
          "2025-05-03T18:30:00.000000000",
          "2025-05-03T18:45:00.000000000",
          "2025-05-03T19:00:00.000000000",
          "2025-05-03T19:15:00.000000000",
          "2025-05-03T19:30:00.000000000",
          "2025-05-03T19:45:00.000000000",
          "2025-05-03T20:00:00.000000000",
          "2025-05-03T20:15:00.000000000",
          "2025-05-03T20:30:00.000000000",
          "2025-05-03T20:45:00.000000000",
          "2025-05-03T21:00:00.000000000",
          "2025-05-03T21:15:00.000000000",
          "2025-05-03T21:30:00.000000000",
          "2025-05-03T21:45:00.000000000",
          "2025-05-03T22:00:00.000000000",
          "2025-05-03T22:15:00.000000000",
          "2025-05-03T22:30:00.000000000",
          "2025-05-03T22:45:00.000000000",
          "2025-05-03T23:00:00.000000000",
          "2025-05-03T23:15:00.000000000",
          "2025-05-03T23:30:00.000000000",
          "2025-05-03T23:45:00.000000000",
          "2025-05-04T00:00:00.000000000",
          "2025-05-04T00:15:00.000000000",
          "2025-05-04T00:30:00.000000000",
          "2025-05-04T00:45:00.000000000",
          "2025-05-04T01:00:00.000000000",
          "2025-05-04T01:15:00.000000000",
          "2025-05-04T01:30:00.000000000",
          "2025-05-04T01:45:00.000000000",
          "2025-05-04T02:00:00.000000000",
          "2025-05-04T02:15:00.000000000",
          "2025-05-04T02:30:00.000000000",
          "2025-05-04T02:45:00.000000000",
          "2025-05-04T03:00:00.000000000",
          "2025-05-04T03:15:00.000000000",
          "2025-05-04T03:30:00.000000000",
          "2025-05-04T03:45:00.000000000",
          "2025-05-04T04:00:00.000000000",
          "2025-05-04T04:15:00.000000000",
          "2025-05-04T04:30:00.000000000",
          "2025-05-04T04:45:00.000000000",
          "2025-05-04T05:00:00.000000000",
          "2025-05-04T05:15:00.000000000",
          "2025-05-04T05:30:00.000000000",
          "2025-05-04T05:45:00.000000000",
          "2025-05-04T06:00:00.000000000",
          "2025-05-04T06:15:00.000000000",
          "2025-05-04T06:30:00.000000000",
          "2025-05-04T06:45:00.000000000",
          "2025-05-04T07:00:00.000000000",
          "2025-05-04T07:15:00.000000000",
          "2025-05-04T07:30:00.000000000",
          "2025-05-04T07:45:00.000000000",
          "2025-05-04T08:00:00.000000000",
          "2025-05-04T08:15:00.000000000",
          "2025-05-04T08:30:00.000000000",
          "2025-05-04T08:45:00.000000000",
          "2025-05-04T09:00:00.000000000",
          "2025-05-04T09:15:00.000000000",
          "2025-05-04T09:30:00.000000000",
          "2025-05-04T09:45:00.000000000",
          "2025-05-04T10:00:00.000000000",
          "2025-05-04T10:15:00.000000000"
         ]
        }
       ],
       "layout": {
        "template": {
         "data": {
          "bar": [
           {
            "error_x": {
             "color": "#2a3f5f"
            },
            "error_y": {
             "color": "#2a3f5f"
            },
            "marker": {
             "line": {
              "color": "#E5ECF6",
              "width": 0.5
             },
             "pattern": {
              "fillmode": "overlay",
              "size": 10,
              "solidity": 0.2
             }
            },
            "type": "bar"
           }
          ],
          "barpolar": [
           {
            "marker": {
             "line": {
              "color": "#E5ECF6",
              "width": 0.5
             },
             "pattern": {
              "fillmode": "overlay",
              "size": 10,
              "solidity": 0.2
             }
            },
            "type": "barpolar"
           }
          ],
          "carpet": [
           {
            "aaxis": {
             "endlinecolor": "#2a3f5f",
             "gridcolor": "white",
             "linecolor": "white",
             "minorgridcolor": "white",
             "startlinecolor": "#2a3f5f"
            },
            "baxis": {
             "endlinecolor": "#2a3f5f",
             "gridcolor": "white",
             "linecolor": "white",
             "minorgridcolor": "white",
             "startlinecolor": "#2a3f5f"
            },
            "type": "carpet"
           }
          ],
          "choropleth": [
           {
            "colorbar": {
             "outlinewidth": 0,
             "ticks": ""
            },
            "type": "choropleth"
           }
          ],
          "contour": [
           {
            "colorbar": {
             "outlinewidth": 0,
             "ticks": ""
            },
            "colorscale": [
             [
              0,
              "#0d0887"
             ],
             [
              0.1111111111111111,
              "#46039f"
             ],
             [
              0.2222222222222222,
              "#7201a8"
             ],
             [
              0.3333333333333333,
              "#9c179e"
             ],
             [
              0.4444444444444444,
              "#bd3786"
             ],
             [
              0.5555555555555556,
              "#d8576b"
             ],
             [
              0.6666666666666666,
              "#ed7953"
             ],
             [
              0.7777777777777778,
              "#fb9f3a"
             ],
             [
              0.8888888888888888,
              "#fdca26"
             ],
             [
              1,
              "#f0f921"
             ]
            ],
            "type": "contour"
           }
          ],
          "contourcarpet": [
           {
            "colorbar": {
             "outlinewidth": 0,
             "ticks": ""
            },
            "type": "contourcarpet"
           }
          ],
          "heatmap": [
           {
            "colorbar": {
             "outlinewidth": 0,
             "ticks": ""
            },
            "colorscale": [
             [
              0,
              "#0d0887"
             ],
             [
              0.1111111111111111,
              "#46039f"
             ],
             [
              0.2222222222222222,
              "#7201a8"
             ],
             [
              0.3333333333333333,
              "#9c179e"
             ],
             [
              0.4444444444444444,
              "#bd3786"
             ],
             [
              0.5555555555555556,
              "#d8576b"
             ],
             [
              0.6666666666666666,
              "#ed7953"
             ],
             [
              0.7777777777777778,
              "#fb9f3a"
             ],
             [
              0.8888888888888888,
              "#fdca26"
             ],
             [
              1,
              "#f0f921"
             ]
            ],
            "type": "heatmap"
           }
          ],
          "histogram": [
           {
            "marker": {
             "pattern": {
              "fillmode": "overlay",
              "size": 10,
              "solidity": 0.2
             }
            },
            "type": "histogram"
           }
          ],
          "histogram2d": [
           {
            "colorbar": {
             "outlinewidth": 0,
             "ticks": ""
            },
            "colorscale": [
             [
              0,
              "#0d0887"
             ],
             [
              0.1111111111111111,
              "#46039f"
             ],
             [
              0.2222222222222222,
              "#7201a8"
             ],
             [
              0.3333333333333333,
              "#9c179e"
             ],
             [
              0.4444444444444444,
              "#bd3786"
             ],
             [
              0.5555555555555556,
              "#d8576b"
             ],
             [
              0.6666666666666666,
              "#ed7953"
             ],
             [
              0.7777777777777778,
              "#fb9f3a"
             ],
             [
              0.8888888888888888,
              "#fdca26"
             ],
             [
              1,
              "#f0f921"
             ]
            ],
            "type": "histogram2d"
           }
          ],
          "histogram2dcontour": [
           {
            "colorbar": {
             "outlinewidth": 0,
             "ticks": ""
            },
            "colorscale": [
             [
              0,
              "#0d0887"
             ],
             [
              0.1111111111111111,
              "#46039f"
             ],
             [
              0.2222222222222222,
              "#7201a8"
             ],
             [
              0.3333333333333333,
              "#9c179e"
             ],
             [
              0.4444444444444444,
              "#bd3786"
             ],
             [
              0.5555555555555556,
              "#d8576b"
             ],
             [
              0.6666666666666666,
              "#ed7953"
             ],
             [
              0.7777777777777778,
              "#fb9f3a"
             ],
             [
              0.8888888888888888,
              "#fdca26"
             ],
             [
              1,
              "#f0f921"
             ]
            ],
            "type": "histogram2dcontour"
           }
          ],
          "mesh3d": [
           {
            "colorbar": {
             "outlinewidth": 0,
             "ticks": ""
            },
            "type": "mesh3d"
           }
          ],
          "parcoords": [
           {
            "line": {
             "colorbar": {
              "outlinewidth": 0,
              "ticks": ""
             }
            },
            "type": "parcoords"
           }
          ],
          "pie": [
           {
            "automargin": true,
            "type": "pie"
           }
          ],
          "scatter": [
           {
            "fillpattern": {
             "fillmode": "overlay",
             "size": 10,
             "solidity": 0.2
            },
            "type": "scatter"
           }
          ],
          "scatter3d": [
           {
            "line": {
             "colorbar": {
              "outlinewidth": 0,
              "ticks": ""
             }
            },
            "marker": {
             "colorbar": {
              "outlinewidth": 0,
              "ticks": ""
             }
            },
            "type": "scatter3d"
           }
          ],
          "scattercarpet": [
           {
            "marker": {
             "colorbar": {
              "outlinewidth": 0,
              "ticks": ""
             }
            },
            "type": "scattercarpet"
           }
          ],
          "scattergeo": [
           {
            "marker": {
             "colorbar": {
              "outlinewidth": 0,
              "ticks": ""
             }
            },
            "type": "scattergeo"
           }
          ],
          "scattergl": [
           {
            "marker": {
             "colorbar": {
              "outlinewidth": 0,
              "ticks": ""
             }
            },
            "type": "scattergl"
           }
          ],
          "scattermap": [
           {
            "marker": {
             "colorbar": {
              "outlinewidth": 0,
              "ticks": ""
             }
            },
            "type": "scattermap"
           }
          ],
          "scattermapbox": [
           {
            "marker": {
             "colorbar": {
              "outlinewidth": 0,
              "ticks": ""
             }
            },
            "type": "scattermapbox"
           }
          ],
          "scatterpolar": [
           {
            "marker": {
             "colorbar": {
              "outlinewidth": 0,
              "ticks": ""
             }
            },
            "type": "scatterpolar"
           }
          ],
          "scatterpolargl": [
           {
            "marker": {
             "colorbar": {
              "outlinewidth": 0,
              "ticks": ""
             }
            },
            "type": "scatterpolargl"
           }
          ],
          "scatterternary": [
           {
            "marker": {
             "colorbar": {
              "outlinewidth": 0,
              "ticks": ""
             }
            },
            "type": "scatterternary"
           }
          ],
          "surface": [
           {
            "colorbar": {
             "outlinewidth": 0,
             "ticks": ""
            },
            "colorscale": [
             [
              0,
              "#0d0887"
             ],
             [
              0.1111111111111111,
              "#46039f"
             ],
             [
              0.2222222222222222,
              "#7201a8"
             ],
             [
              0.3333333333333333,
              "#9c179e"
             ],
             [
              0.4444444444444444,
              "#bd3786"
             ],
             [
              0.5555555555555556,
              "#d8576b"
             ],
             [
              0.6666666666666666,
              "#ed7953"
             ],
             [
              0.7777777777777778,
              "#fb9f3a"
             ],
             [
              0.8888888888888888,
              "#fdca26"
             ],
             [
              1,
              "#f0f921"
             ]
            ],
            "type": "surface"
           }
          ],
          "table": [
           {
            "cells": {
             "fill": {
              "color": "#EBF0F8"
             },
             "line": {
              "color": "white"
             }
            },
            "header": {
             "fill": {
              "color": "#C8D4E3"
             },
             "line": {
              "color": "white"
             }
            },
            "type": "table"
           }
          ]
         },
         "layout": {
          "annotationdefaults": {
           "arrowcolor": "#2a3f5f",
           "arrowhead": 0,
           "arrowwidth": 1
          },
          "autotypenumbers": "strict",
          "coloraxis": {
           "colorbar": {
            "outlinewidth": 0,
            "ticks": ""
           }
          },
          "colorscale": {
           "diverging": [
            [
             0,
             "#8e0152"
            ],
            [
             0.1,
             "#c51b7d"
            ],
            [
             0.2,
             "#de77ae"
            ],
            [
             0.3,
             "#f1b6da"
            ],
            [
             0.4,
             "#fde0ef"
            ],
            [
             0.5,
             "#f7f7f7"
            ],
            [
             0.6,
             "#e6f5d0"
            ],
            [
             0.7,
             "#b8e186"
            ],
            [
             0.8,
             "#7fbc41"
            ],
            [
             0.9,
             "#4d9221"
            ],
            [
             1,
             "#276419"
            ]
           ],
           "sequential": [
            [
             0,
             "#0d0887"
            ],
            [
             0.1111111111111111,
             "#46039f"
            ],
            [
             0.2222222222222222,
             "#7201a8"
            ],
            [
             0.3333333333333333,
             "#9c179e"
            ],
            [
             0.4444444444444444,
             "#bd3786"
            ],
            [
             0.5555555555555556,
             "#d8576b"
            ],
            [
             0.6666666666666666,
             "#ed7953"
            ],
            [
             0.7777777777777778,
             "#fb9f3a"
            ],
            [
             0.8888888888888888,
             "#fdca26"
            ],
            [
             1,
             "#f0f921"
            ]
           ],
           "sequentialminus": [
            [
             0,
             "#0d0887"
            ],
            [
             0.1111111111111111,
             "#46039f"
            ],
            [
             0.2222222222222222,
             "#7201a8"
            ],
            [
             0.3333333333333333,
             "#9c179e"
            ],
            [
             0.4444444444444444,
             "#bd3786"
            ],
            [
             0.5555555555555556,
             "#d8576b"
            ],
            [
             0.6666666666666666,
             "#ed7953"
            ],
            [
             0.7777777777777778,
             "#fb9f3a"
            ],
            [
             0.8888888888888888,
             "#fdca26"
            ],
            [
             1,
             "#f0f921"
            ]
           ]
          },
          "colorway": [
           "#636efa",
           "#EF553B",
           "#00cc96",
           "#ab63fa",
           "#FFA15A",
           "#19d3f3",
           "#FF6692",
           "#B6E880",
           "#FF97FF",
           "#FECB52"
          ],
          "font": {
           "color": "#2a3f5f"
          },
          "geo": {
           "bgcolor": "white",
           "lakecolor": "white",
           "landcolor": "#E5ECF6",
           "showlakes": true,
           "showland": true,
           "subunitcolor": "white"
          },
          "hoverlabel": {
           "align": "left"
          },
          "hovermode": "closest",
          "mapbox": {
           "style": "light"
          },
          "paper_bgcolor": "white",
          "plot_bgcolor": "#E5ECF6",
          "polar": {
           "angularaxis": {
            "gridcolor": "white",
            "linecolor": "white",
            "ticks": ""
           },
           "bgcolor": "#E5ECF6",
           "radialaxis": {
            "gridcolor": "white",
            "linecolor": "white",
            "ticks": ""
           }
          },
          "scene": {
           "xaxis": {
            "backgroundcolor": "#E5ECF6",
            "gridcolor": "white",
            "gridwidth": 2,
            "linecolor": "white",
            "showbackground": true,
            "ticks": "",
            "zerolinecolor": "white"
           },
           "yaxis": {
            "backgroundcolor": "#E5ECF6",
            "gridcolor": "white",
            "gridwidth": 2,
            "linecolor": "white",
            "showbackground": true,
            "ticks": "",
            "zerolinecolor": "white"
           },
           "zaxis": {
            "backgroundcolor": "#E5ECF6",
            "gridcolor": "white",
            "gridwidth": 2,
            "linecolor": "white",
            "showbackground": true,
            "ticks": "",
            "zerolinecolor": "white"
           }
          },
          "shapedefaults": {
           "line": {
            "color": "#2a3f5f"
           }
          },
          "ternary": {
           "aaxis": {
            "gridcolor": "white",
            "linecolor": "white",
            "ticks": ""
           },
           "baxis": {
            "gridcolor": "white",
            "linecolor": "white",
            "ticks": ""
           },
           "bgcolor": "#E5ECF6",
           "caxis": {
            "gridcolor": "white",
            "linecolor": "white",
            "ticks": ""
           }
          },
          "title": {
           "x": 0.05
          },
          "xaxis": {
           "automargin": true,
           "gridcolor": "white",
           "linecolor": "white",
           "ticks": "",
           "title": {
            "standoff": 15
           },
           "zerolinecolor": "white",
           "zerolinewidth": 2
          },
          "yaxis": {
           "automargin": true,
           "gridcolor": "white",
           "linecolor": "white",
           "ticks": "",
           "title": {
            "standoff": 15
           },
           "zerolinecolor": "white",
           "zerolinewidth": 2
          }
         }
        },
        "title": {
         "text": "Candlestick chart of BTC-USDT"
        },
        "xaxis": {
         "rangeslider": {
          "visible": false
         },
         "title": {
          "text": "Time"
         }
        },
        "yaxis": {
         "title": {
          "text": "Price"
         }
        }
       }
      }
     },
     "metadata": {},
     "output_type": "display_data"
    },
    {
     "data": {
      "application/vnd.plotly.v1+json": {
       "config": {
        "plotlyServerURL": "https://plot.ly"
       },
       "data": [
        {
         "close": {
          "bdata": "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",
          "dtype": "f8"
         },
         "decreasing": {
          "line": {
           "color": "red"
          }
         },
         "high": {
          "bdata": "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",
          "dtype": "f8"
         },
         "increasing": {
          "line": {
           "color": "green"
          }
         },
         "low": {
          "bdata": "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",
          "dtype": "f8"
         },
         "open": {
          "bdata": "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",
          "dtype": "f8"
         },
         "type": "candlestick",
         "x": [
          "2025-04-30T06:30:00.000000000",
          "2025-04-30T06:45:00.000000000",
          "2025-04-30T07:00:00.000000000",
          "2025-04-30T07:15:00.000000000",
          "2025-04-30T07:30:00.000000000",
          "2025-04-30T07:45:00.000000000",
          "2025-04-30T08:00:00.000000000",
          "2025-04-30T08:15:00.000000000",
          "2025-04-30T08:30:00.000000000",
          "2025-04-30T08:45:00.000000000",
          "2025-04-30T09:00:00.000000000",
          "2025-04-30T09:15:00.000000000",
          "2025-04-30T09:30:00.000000000",
          "2025-04-30T09:45:00.000000000",
          "2025-04-30T10:00:00.000000000",
          "2025-04-30T10:15:00.000000000",
          "2025-04-30T10:30:00.000000000",
          "2025-04-30T10:45:00.000000000",
          "2025-04-30T11:00:00.000000000",
          "2025-04-30T11:15:00.000000000",
          "2025-04-30T11:30:00.000000000",
          "2025-04-30T11:45:00.000000000",
          "2025-04-30T12:00:00.000000000",
          "2025-04-30T12:15:00.000000000",
          "2025-04-30T12:30:00.000000000",
          "2025-04-30T12:45:00.000000000",
          "2025-04-30T13:00:00.000000000",
          "2025-04-30T13:15:00.000000000",
          "2025-04-30T13:30:00.000000000",
          "2025-04-30T13:45:00.000000000",
          "2025-04-30T14:00:00.000000000",
          "2025-04-30T14:15:00.000000000",
          "2025-04-30T14:30:00.000000000",
          "2025-04-30T14:45:00.000000000",
          "2025-04-30T15:00:00.000000000",
          "2025-04-30T15:15:00.000000000",
          "2025-04-30T15:30:00.000000000",
          "2025-04-30T15:45:00.000000000",
          "2025-04-30T16:00:00.000000000",
          "2025-04-30T16:15:00.000000000",
          "2025-04-30T16:30:00.000000000",
          "2025-04-30T16:45:00.000000000",
          "2025-04-30T17:00:00.000000000",
          "2025-04-30T17:15:00.000000000",
          "2025-04-30T17:30:00.000000000",
          "2025-04-30T17:45:00.000000000",
          "2025-04-30T18:00:00.000000000",
          "2025-04-30T18:15:00.000000000",
          "2025-04-30T18:30:00.000000000",
          "2025-04-30T18:45:00.000000000",
          "2025-04-30T19:00:00.000000000",
          "2025-04-30T19:15:00.000000000",
          "2025-04-30T19:30:00.000000000",
          "2025-04-30T19:45:00.000000000",
          "2025-04-30T20:00:00.000000000",
          "2025-04-30T20:15:00.000000000",
          "2025-04-30T20:30:00.000000000",
          "2025-04-30T20:45:00.000000000",
          "2025-04-30T21:00:00.000000000",
          "2025-04-30T21:15:00.000000000",
          "2025-04-30T21:30:00.000000000",
          "2025-04-30T21:45:00.000000000",
          "2025-04-30T22:00:00.000000000",
          "2025-04-30T22:15:00.000000000",
          "2025-04-30T22:30:00.000000000",
          "2025-04-30T22:45:00.000000000",
          "2025-04-30T23:00:00.000000000",
          "2025-04-30T23:15:00.000000000",
          "2025-04-30T23:30:00.000000000",
          "2025-04-30T23:45:00.000000000",
          "2025-05-01T00:00:00.000000000",
          "2025-05-01T00:15:00.000000000",
          "2025-05-01T00:30:00.000000000",
          "2025-05-01T00:45:00.000000000",
          "2025-05-01T01:00:00.000000000",
          "2025-05-01T01:15:00.000000000",
          "2025-05-01T01:30:00.000000000",
          "2025-05-01T01:45:00.000000000",
          "2025-05-01T02:00:00.000000000",
          "2025-05-01T02:15:00.000000000",
          "2025-05-01T02:30:00.000000000",
          "2025-05-01T02:45:00.000000000",
          "2025-05-01T03:00:00.000000000",
          "2025-05-01T03:15:00.000000000",
          "2025-05-01T03:30:00.000000000",
          "2025-05-01T03:45:00.000000000",
          "2025-05-01T04:00:00.000000000",
          "2025-05-01T04:15:00.000000000",
          "2025-05-01T04:30:00.000000000",
          "2025-05-01T04:45:00.000000000",
          "2025-05-01T05:00:00.000000000",
          "2025-05-01T05:15:00.000000000",
          "2025-05-01T05:30:00.000000000",
          "2025-05-01T05:45:00.000000000",
          "2025-05-01T06:00:00.000000000",
          "2025-05-01T06:15:00.000000000",
          "2025-05-01T06:30:00.000000000",
          "2025-05-01T06:45:00.000000000",
          "2025-05-01T07:00:00.000000000",
          "2025-05-01T07:15:00.000000000",
          "2025-05-01T07:30:00.000000000",
          "2025-05-01T07:45:00.000000000",
          "2025-05-01T08:00:00.000000000",
          "2025-05-01T08:15:00.000000000",
          "2025-05-01T08:30:00.000000000",
          "2025-05-01T08:45:00.000000000",
          "2025-05-01T09:00:00.000000000",
          "2025-05-01T09:15:00.000000000",
          "2025-05-01T09:30:00.000000000",
          "2025-05-01T09:45:00.000000000",
          "2025-05-01T10:00:00.000000000",
          "2025-05-01T10:15:00.000000000",
          "2025-05-01T10:30:00.000000000",
          "2025-05-01T10:45:00.000000000",
          "2025-05-01T11:00:00.000000000",
          "2025-05-01T11:15:00.000000000",
          "2025-05-01T11:30:00.000000000",
          "2025-05-01T11:45:00.000000000",
          "2025-05-01T12:00:00.000000000",
          "2025-05-01T12:15:00.000000000",
          "2025-05-01T12:30:00.000000000",
          "2025-05-01T12:45:00.000000000",
          "2025-05-01T13:00:00.000000000",
          "2025-05-01T13:15:00.000000000",
          "2025-05-01T13:30:00.000000000",
          "2025-05-01T13:45:00.000000000",
          "2025-05-01T14:00:00.000000000",
          "2025-05-01T14:15:00.000000000",
          "2025-05-01T14:30:00.000000000",
          "2025-05-01T14:45:00.000000000",
          "2025-05-01T15:00:00.000000000",
          "2025-05-01T15:15:00.000000000",
          "2025-05-01T15:30:00.000000000",
          "2025-05-01T15:45:00.000000000",
          "2025-05-01T16:00:00.000000000",
          "2025-05-01T16:15:00.000000000",
          "2025-05-01T16:30:00.000000000",
          "2025-05-01T16:45:00.000000000",
          "2025-05-01T17:00:00.000000000",
          "2025-05-01T17:15:00.000000000",
          "2025-05-01T17:30:00.000000000",
          "2025-05-01T17:45:00.000000000",
          "2025-05-01T18:00:00.000000000",
          "2025-05-01T18:15:00.000000000",
          "2025-05-01T18:30:00.000000000",
          "2025-05-01T18:45:00.000000000",
          "2025-05-01T19:00:00.000000000",
          "2025-05-01T19:15:00.000000000",
          "2025-05-01T19:30:00.000000000",
          "2025-05-01T19:45:00.000000000",
          "2025-05-01T20:00:00.000000000",
          "2025-05-01T20:15:00.000000000",
          "2025-05-01T20:30:00.000000000",
          "2025-05-01T20:45:00.000000000",
          "2025-05-01T21:00:00.000000000",
          "2025-05-01T21:15:00.000000000",
          "2025-05-01T21:30:00.000000000",
          "2025-05-01T21:45:00.000000000",
          "2025-05-01T22:00:00.000000000",
          "2025-05-01T22:15:00.000000000",
          "2025-05-01T22:30:00.000000000",
          "2025-05-01T22:45:00.000000000",
          "2025-05-01T23:00:00.000000000",
          "2025-05-01T23:15:00.000000000",
          "2025-05-01T23:30:00.000000000",
          "2025-05-01T23:45:00.000000000",
          "2025-05-02T00:00:00.000000000",
          "2025-05-02T00:15:00.000000000",
          "2025-05-02T00:30:00.000000000",
          "2025-05-02T00:45:00.000000000",
          "2025-05-02T01:00:00.000000000",
          "2025-05-02T01:15:00.000000000",
          "2025-05-02T01:30:00.000000000",
          "2025-05-02T01:45:00.000000000",
          "2025-05-02T02:00:00.000000000",
          "2025-05-02T02:15:00.000000000",
          "2025-05-02T02:30:00.000000000",
          "2025-05-02T02:45:00.000000000",
          "2025-05-02T03:00:00.000000000",
          "2025-05-02T03:15:00.000000000",
          "2025-05-02T03:30:00.000000000",
          "2025-05-02T03:45:00.000000000",
          "2025-05-02T04:00:00.000000000",
          "2025-05-02T04:15:00.000000000",
          "2025-05-02T04:30:00.000000000",
          "2025-05-02T04:45:00.000000000",
          "2025-05-02T05:00:00.000000000",
          "2025-05-02T05:15:00.000000000",
          "2025-05-02T05:30:00.000000000",
          "2025-05-02T05:45:00.000000000",
          "2025-05-02T06:00:00.000000000",
          "2025-05-02T06:15:00.000000000",
          "2025-05-02T06:30:00.000000000",
          "2025-05-02T06:45:00.000000000",
          "2025-05-02T07:00:00.000000000",
          "2025-05-02T07:15:00.000000000",
          "2025-05-02T07:30:00.000000000",
          "2025-05-02T07:45:00.000000000",
          "2025-05-02T08:00:00.000000000",
          "2025-05-02T08:15:00.000000000",
          "2025-05-02T08:30:00.000000000",
          "2025-05-02T08:45:00.000000000",
          "2025-05-02T09:00:00.000000000",
          "2025-05-02T09:15:00.000000000",
          "2025-05-02T09:30:00.000000000",
          "2025-05-02T09:45:00.000000000",
          "2025-05-02T10:00:00.000000000",
          "2025-05-02T10:15:00.000000000",
          "2025-05-02T10:30:00.000000000",
          "2025-05-02T10:45:00.000000000",
          "2025-05-02T11:00:00.000000000",
          "2025-05-02T11:15:00.000000000",
          "2025-05-02T11:30:00.000000000",
          "2025-05-02T11:45:00.000000000",
          "2025-05-02T12:00:00.000000000",
          "2025-05-02T12:15:00.000000000",
          "2025-05-02T12:30:00.000000000",
          "2025-05-02T12:45:00.000000000",
          "2025-05-02T13:00:00.000000000",
          "2025-05-02T13:15:00.000000000",
          "2025-05-02T13:30:00.000000000",
          "2025-05-02T13:45:00.000000000",
          "2025-05-02T14:00:00.000000000",
          "2025-05-02T14:15:00.000000000",
          "2025-05-02T14:30:00.000000000",
          "2025-05-02T14:45:00.000000000",
          "2025-05-02T15:00:00.000000000",
          "2025-05-02T15:15:00.000000000",
          "2025-05-02T15:30:00.000000000",
          "2025-05-02T15:45:00.000000000",
          "2025-05-02T16:00:00.000000000",
          "2025-05-02T16:15:00.000000000",
          "2025-05-02T16:30:00.000000000",
          "2025-05-02T16:45:00.000000000",
          "2025-05-02T17:00:00.000000000",
          "2025-05-02T17:15:00.000000000",
          "2025-05-02T17:30:00.000000000",
          "2025-05-02T17:45:00.000000000",
          "2025-05-02T18:00:00.000000000",
          "2025-05-02T18:15:00.000000000",
          "2025-05-02T18:30:00.000000000",
          "2025-05-02T18:45:00.000000000",
          "2025-05-02T19:00:00.000000000",
          "2025-05-02T19:15:00.000000000",
          "2025-05-02T19:30:00.000000000",
          "2025-05-02T19:45:00.000000000",
          "2025-05-02T20:00:00.000000000",
          "2025-05-02T20:15:00.000000000",
          "2025-05-02T20:30:00.000000000",
          "2025-05-02T20:45:00.000000000",
          "2025-05-02T21:00:00.000000000",
          "2025-05-02T21:15:00.000000000",
          "2025-05-02T21:30:00.000000000",
          "2025-05-02T21:45:00.000000000",
          "2025-05-02T22:00:00.000000000",
          "2025-05-02T22:15:00.000000000",
          "2025-05-02T22:30:00.000000000",
          "2025-05-02T22:45:00.000000000",
          "2025-05-02T23:00:00.000000000",
          "2025-05-02T23:15:00.000000000",
          "2025-05-02T23:30:00.000000000",
          "2025-05-02T23:45:00.000000000",
          "2025-05-03T00:00:00.000000000",
          "2025-05-03T00:15:00.000000000",
          "2025-05-03T00:30:00.000000000",
          "2025-05-03T00:45:00.000000000",
          "2025-05-03T01:00:00.000000000",
          "2025-05-03T01:15:00.000000000",
          "2025-05-03T01:30:00.000000000",
          "2025-05-03T01:45:00.000000000",
          "2025-05-03T02:00:00.000000000",
          "2025-05-03T02:15:00.000000000",
          "2025-05-03T02:30:00.000000000",
          "2025-05-03T02:45:00.000000000",
          "2025-05-03T03:00:00.000000000",
          "2025-05-03T03:15:00.000000000",
          "2025-05-03T03:30:00.000000000",
          "2025-05-03T03:45:00.000000000",
          "2025-05-03T04:00:00.000000000",
          "2025-05-03T04:15:00.000000000",
          "2025-05-03T04:30:00.000000000",
          "2025-05-03T04:45:00.000000000",
          "2025-05-03T05:00:00.000000000",
          "2025-05-03T05:15:00.000000000",
          "2025-05-03T05:30:00.000000000",
          "2025-05-03T05:45:00.000000000",
          "2025-05-03T06:00:00.000000000",
          "2025-05-03T06:15:00.000000000",
          "2025-05-03T06:30:00.000000000",
          "2025-05-03T06:45:00.000000000",
          "2025-05-03T07:00:00.000000000",
          "2025-05-03T07:15:00.000000000",
          "2025-05-03T07:30:00.000000000",
          "2025-05-03T07:45:00.000000000",
          "2025-05-03T08:00:00.000000000",
          "2025-05-03T08:15:00.000000000",
          "2025-05-03T08:30:00.000000000",
          "2025-05-03T08:45:00.000000000",
          "2025-05-03T09:00:00.000000000",
          "2025-05-03T09:15:00.000000000",
          "2025-05-03T09:30:00.000000000",
          "2025-05-03T09:45:00.000000000",
          "2025-05-03T10:00:00.000000000",
          "2025-05-03T10:15:00.000000000",
          "2025-05-03T10:30:00.000000000",
          "2025-05-03T10:45:00.000000000",
          "2025-05-03T11:00:00.000000000",
          "2025-05-03T11:15:00.000000000",
          "2025-05-03T11:30:00.000000000",
          "2025-05-03T11:45:00.000000000",
          "2025-05-03T12:00:00.000000000",
          "2025-05-03T12:15:00.000000000",
          "2025-05-03T12:30:00.000000000",
          "2025-05-03T12:45:00.000000000",
          "2025-05-03T13:00:00.000000000",
          "2025-05-03T13:15:00.000000000",
          "2025-05-03T13:30:00.000000000",
          "2025-05-03T13:45:00.000000000",
          "2025-05-03T14:00:00.000000000",
          "2025-05-03T14:15:00.000000000",
          "2025-05-03T14:30:00.000000000",
          "2025-05-03T14:45:00.000000000",
          "2025-05-03T15:00:00.000000000",
          "2025-05-03T15:15:00.000000000",
          "2025-05-03T15:30:00.000000000",
          "2025-05-03T15:45:00.000000000",
          "2025-05-03T16:00:00.000000000",
          "2025-05-03T16:15:00.000000000",
          "2025-05-03T16:30:00.000000000",
          "2025-05-03T16:45:00.000000000",
          "2025-05-03T17:00:00.000000000",
          "2025-05-03T17:15:00.000000000",
          "2025-05-03T17:30:00.000000000",
          "2025-05-03T17:45:00.000000000",
          "2025-05-03T18:00:00.000000000",
          "2025-05-03T18:15:00.000000000",
          "2025-05-03T18:30:00.000000000",
          "2025-05-03T18:45:00.000000000",
          "2025-05-03T19:00:00.000000000",
          "2025-05-03T19:15:00.000000000",
          "2025-05-03T19:30:00.000000000",
          "2025-05-03T19:45:00.000000000",
          "2025-05-03T20:00:00.000000000",
          "2025-05-03T20:15:00.000000000",
          "2025-05-03T20:30:00.000000000",
          "2025-05-03T20:45:00.000000000",
          "2025-05-03T21:00:00.000000000",
          "2025-05-03T21:15:00.000000000",
          "2025-05-03T21:30:00.000000000",
          "2025-05-03T21:45:00.000000000",
          "2025-05-03T22:00:00.000000000",
          "2025-05-03T22:15:00.000000000",
          "2025-05-03T22:30:00.000000000",
          "2025-05-03T22:45:00.000000000",
          "2025-05-03T23:00:00.000000000",
          "2025-05-03T23:15:00.000000000",
          "2025-05-03T23:30:00.000000000",
          "2025-05-03T23:45:00.000000000",
          "2025-05-04T00:00:00.000000000",
          "2025-05-04T00:15:00.000000000",
          "2025-05-04T00:30:00.000000000",
          "2025-05-04T00:45:00.000000000",
          "2025-05-04T01:00:00.000000000",
          "2025-05-04T01:15:00.000000000",
          "2025-05-04T01:30:00.000000000",
          "2025-05-04T01:45:00.000000000",
          "2025-05-04T02:00:00.000000000",
          "2025-05-04T02:15:00.000000000",
          "2025-05-04T02:30:00.000000000",
          "2025-05-04T02:45:00.000000000",
          "2025-05-04T03:00:00.000000000",
          "2025-05-04T03:15:00.000000000",
          "2025-05-04T03:30:00.000000000",
          "2025-05-04T03:45:00.000000000",
          "2025-05-04T04:00:00.000000000",
          "2025-05-04T04:15:00.000000000",
          "2025-05-04T04:30:00.000000000",
          "2025-05-04T04:45:00.000000000",
          "2025-05-04T05:00:00.000000000",
          "2025-05-04T05:15:00.000000000",
          "2025-05-04T05:30:00.000000000",
          "2025-05-04T05:45:00.000000000",
          "2025-05-04T06:00:00.000000000",
          "2025-05-04T06:15:00.000000000",
          "2025-05-04T06:30:00.000000000",
          "2025-05-04T06:45:00.000000000",
          "2025-05-04T07:00:00.000000000",
          "2025-05-04T07:15:00.000000000",
          "2025-05-04T07:30:00.000000000",
          "2025-05-04T07:45:00.000000000",
          "2025-05-04T08:00:00.000000000",
          "2025-05-04T08:15:00.000000000",
          "2025-05-04T08:30:00.000000000",
          "2025-05-04T08:45:00.000000000",
          "2025-05-04T09:00:00.000000000",
          "2025-05-04T09:15:00.000000000",
          "2025-05-04T09:30:00.000000000",
          "2025-05-04T09:45:00.000000000",
          "2025-05-04T10:00:00.000000000",
          "2025-05-04T10:15:00.000000000"
         ],
         "xaxis": "x",
         "yaxis": "y"
        },
        {
         "line": {
          "color": "blue",
          "width": 2
         },
         "mode": "lines",
         "name": "RSI",
         "type": "scatter",
         "x": [
          "2025-04-30T06:30:00.000000000",
          "2025-04-30T06:45:00.000000000",
          "2025-04-30T07:00:00.000000000",
          "2025-04-30T07:15:00.000000000",
          "2025-04-30T07:30:00.000000000",
          "2025-04-30T07:45:00.000000000",
          "2025-04-30T08:00:00.000000000",
          "2025-04-30T08:15:00.000000000",
          "2025-04-30T08:30:00.000000000",
          "2025-04-30T08:45:00.000000000",
          "2025-04-30T09:00:00.000000000",
          "2025-04-30T09:15:00.000000000",
          "2025-04-30T09:30:00.000000000",
          "2025-04-30T09:45:00.000000000",
          "2025-04-30T10:00:00.000000000",
          "2025-04-30T10:15:00.000000000",
          "2025-04-30T10:30:00.000000000",
          "2025-04-30T10:45:00.000000000",
          "2025-04-30T11:00:00.000000000",
          "2025-04-30T11:15:00.000000000",
          "2025-04-30T11:30:00.000000000",
          "2025-04-30T11:45:00.000000000",
          "2025-04-30T12:00:00.000000000",
          "2025-04-30T12:15:00.000000000",
          "2025-04-30T12:30:00.000000000",
          "2025-04-30T12:45:00.000000000",
          "2025-04-30T13:00:00.000000000",
          "2025-04-30T13:15:00.000000000",
          "2025-04-30T13:30:00.000000000",
          "2025-04-30T13:45:00.000000000",
          "2025-04-30T14:00:00.000000000",
          "2025-04-30T14:15:00.000000000",
          "2025-04-30T14:30:00.000000000",
          "2025-04-30T14:45:00.000000000",
          "2025-04-30T15:00:00.000000000",
          "2025-04-30T15:15:00.000000000",
          "2025-04-30T15:30:00.000000000",
          "2025-04-30T15:45:00.000000000",
          "2025-04-30T16:00:00.000000000",
          "2025-04-30T16:15:00.000000000",
          "2025-04-30T16:30:00.000000000",
          "2025-04-30T16:45:00.000000000",
          "2025-04-30T17:00:00.000000000",
          "2025-04-30T17:15:00.000000000",
          "2025-04-30T17:30:00.000000000",
          "2025-04-30T17:45:00.000000000",
          "2025-04-30T18:00:00.000000000",
          "2025-04-30T18:15:00.000000000",
          "2025-04-30T18:30:00.000000000",
          "2025-04-30T18:45:00.000000000",
          "2025-04-30T19:00:00.000000000",
          "2025-04-30T19:15:00.000000000",
          "2025-04-30T19:30:00.000000000",
          "2025-04-30T19:45:00.000000000",
          "2025-04-30T20:00:00.000000000",
          "2025-04-30T20:15:00.000000000",
          "2025-04-30T20:30:00.000000000",
          "2025-04-30T20:45:00.000000000",
          "2025-04-30T21:00:00.000000000",
          "2025-04-30T21:15:00.000000000",
          "2025-04-30T21:30:00.000000000",
          "2025-04-30T21:45:00.000000000",
          "2025-04-30T22:00:00.000000000",
          "2025-04-30T22:15:00.000000000",
          "2025-04-30T22:30:00.000000000",
          "2025-04-30T22:45:00.000000000",
          "2025-04-30T23:00:00.000000000",
          "2025-04-30T23:15:00.000000000",
          "2025-04-30T23:30:00.000000000",
          "2025-04-30T23:45:00.000000000",
          "2025-05-01T00:00:00.000000000",
          "2025-05-01T00:15:00.000000000",
          "2025-05-01T00:30:00.000000000",
          "2025-05-01T00:45:00.000000000",
          "2025-05-01T01:00:00.000000000",
          "2025-05-01T01:15:00.000000000",
          "2025-05-01T01:30:00.000000000",
          "2025-05-01T01:45:00.000000000",
          "2025-05-01T02:00:00.000000000",
          "2025-05-01T02:15:00.000000000",
          "2025-05-01T02:30:00.000000000",
          "2025-05-01T02:45:00.000000000",
          "2025-05-01T03:00:00.000000000",
          "2025-05-01T03:15:00.000000000",
          "2025-05-01T03:30:00.000000000",
          "2025-05-01T03:45:00.000000000",
          "2025-05-01T04:00:00.000000000",
          "2025-05-01T04:15:00.000000000",
          "2025-05-01T04:30:00.000000000",
          "2025-05-01T04:45:00.000000000",
          "2025-05-01T05:00:00.000000000",
          "2025-05-01T05:15:00.000000000",
          "2025-05-01T05:30:00.000000000",
          "2025-05-01T05:45:00.000000000",
          "2025-05-01T06:00:00.000000000",
          "2025-05-01T06:15:00.000000000",
          "2025-05-01T06:30:00.000000000",
          "2025-05-01T06:45:00.000000000",
          "2025-05-01T07:00:00.000000000",
          "2025-05-01T07:15:00.000000000",
          "2025-05-01T07:30:00.000000000",
          "2025-05-01T07:45:00.000000000",
          "2025-05-01T08:00:00.000000000",
          "2025-05-01T08:15:00.000000000",
          "2025-05-01T08:30:00.000000000",
          "2025-05-01T08:45:00.000000000",
          "2025-05-01T09:00:00.000000000",
          "2025-05-01T09:15:00.000000000",
          "2025-05-01T09:30:00.000000000",
          "2025-05-01T09:45:00.000000000",
          "2025-05-01T10:00:00.000000000",
          "2025-05-01T10:15:00.000000000",
          "2025-05-01T10:30:00.000000000",
          "2025-05-01T10:45:00.000000000",
          "2025-05-01T11:00:00.000000000",
          "2025-05-01T11:15:00.000000000",
          "2025-05-01T11:30:00.000000000",
          "2025-05-01T11:45:00.000000000",
          "2025-05-01T12:00:00.000000000",
          "2025-05-01T12:15:00.000000000",
          "2025-05-01T12:30:00.000000000",
          "2025-05-01T12:45:00.000000000",
          "2025-05-01T13:00:00.000000000",
          "2025-05-01T13:15:00.000000000",
          "2025-05-01T13:30:00.000000000",
          "2025-05-01T13:45:00.000000000",
          "2025-05-01T14:00:00.000000000",
          "2025-05-01T14:15:00.000000000",
          "2025-05-01T14:30:00.000000000",
          "2025-05-01T14:45:00.000000000",
          "2025-05-01T15:00:00.000000000",
          "2025-05-01T15:15:00.000000000",
          "2025-05-01T15:30:00.000000000",
          "2025-05-01T15:45:00.000000000",
          "2025-05-01T16:00:00.000000000",
          "2025-05-01T16:15:00.000000000",
          "2025-05-01T16:30:00.000000000",
          "2025-05-01T16:45:00.000000000",
          "2025-05-01T17:00:00.000000000",
          "2025-05-01T17:15:00.000000000",
          "2025-05-01T17:30:00.000000000",
          "2025-05-01T17:45:00.000000000",
          "2025-05-01T18:00:00.000000000",
          "2025-05-01T18:15:00.000000000",
          "2025-05-01T18:30:00.000000000",
          "2025-05-01T18:45:00.000000000",
          "2025-05-01T19:00:00.000000000",
          "2025-05-01T19:15:00.000000000",
          "2025-05-01T19:30:00.000000000",
          "2025-05-01T19:45:00.000000000",
          "2025-05-01T20:00:00.000000000",
          "2025-05-01T20:15:00.000000000",
          "2025-05-01T20:30:00.000000000",
          "2025-05-01T20:45:00.000000000",
          "2025-05-01T21:00:00.000000000",
          "2025-05-01T21:15:00.000000000",
          "2025-05-01T21:30:00.000000000",
          "2025-05-01T21:45:00.000000000",
          "2025-05-01T22:00:00.000000000",
          "2025-05-01T22:15:00.000000000",
          "2025-05-01T22:30:00.000000000",
          "2025-05-01T22:45:00.000000000",
          "2025-05-01T23:00:00.000000000",
          "2025-05-01T23:15:00.000000000",
          "2025-05-01T23:30:00.000000000",
          "2025-05-01T23:45:00.000000000",
          "2025-05-02T00:00:00.000000000",
          "2025-05-02T00:15:00.000000000",
          "2025-05-02T00:30:00.000000000",
          "2025-05-02T00:45:00.000000000",
          "2025-05-02T01:00:00.000000000",
          "2025-05-02T01:15:00.000000000",
          "2025-05-02T01:30:00.000000000",
          "2025-05-02T01:45:00.000000000",
          "2025-05-02T02:00:00.000000000",
          "2025-05-02T02:15:00.000000000",
          "2025-05-02T02:30:00.000000000",
          "2025-05-02T02:45:00.000000000",
          "2025-05-02T03:00:00.000000000",
          "2025-05-02T03:15:00.000000000",
          "2025-05-02T03:30:00.000000000",
          "2025-05-02T03:45:00.000000000",
          "2025-05-02T04:00:00.000000000",
          "2025-05-02T04:15:00.000000000",
          "2025-05-02T04:30:00.000000000",
          "2025-05-02T04:45:00.000000000",
          "2025-05-02T05:00:00.000000000",
          "2025-05-02T05:15:00.000000000",
          "2025-05-02T05:30:00.000000000",
          "2025-05-02T05:45:00.000000000",
          "2025-05-02T06:00:00.000000000",
          "2025-05-02T06:15:00.000000000",
          "2025-05-02T06:30:00.000000000",
          "2025-05-02T06:45:00.000000000",
          "2025-05-02T07:00:00.000000000",
          "2025-05-02T07:15:00.000000000",
          "2025-05-02T07:30:00.000000000",
          "2025-05-02T07:45:00.000000000",
          "2025-05-02T08:00:00.000000000",
          "2025-05-02T08:15:00.000000000",
          "2025-05-02T08:30:00.000000000",
          "2025-05-02T08:45:00.000000000",
          "2025-05-02T09:00:00.000000000",
          "2025-05-02T09:15:00.000000000",
          "2025-05-02T09:30:00.000000000",
          "2025-05-02T09:45:00.000000000",
          "2025-05-02T10:00:00.000000000",
          "2025-05-02T10:15:00.000000000",
          "2025-05-02T10:30:00.000000000",
          "2025-05-02T10:45:00.000000000",
          "2025-05-02T11:00:00.000000000",
          "2025-05-02T11:15:00.000000000",
          "2025-05-02T11:30:00.000000000",
          "2025-05-02T11:45:00.000000000",
          "2025-05-02T12:00:00.000000000",
          "2025-05-02T12:15:00.000000000",
          "2025-05-02T12:30:00.000000000",
          "2025-05-02T12:45:00.000000000",
          "2025-05-02T13:00:00.000000000",
          "2025-05-02T13:15:00.000000000",
          "2025-05-02T13:30:00.000000000",
          "2025-05-02T13:45:00.000000000",
          "2025-05-02T14:00:00.000000000",
          "2025-05-02T14:15:00.000000000",
          "2025-05-02T14:30:00.000000000",
          "2025-05-02T14:45:00.000000000",
          "2025-05-02T15:00:00.000000000",
          "2025-05-02T15:15:00.000000000",
          "2025-05-02T15:30:00.000000000",
          "2025-05-02T15:45:00.000000000",
          "2025-05-02T16:00:00.000000000",
          "2025-05-02T16:15:00.000000000",
          "2025-05-02T16:30:00.000000000",
          "2025-05-02T16:45:00.000000000",
          "2025-05-02T17:00:00.000000000",
          "2025-05-02T17:15:00.000000000",
          "2025-05-02T17:30:00.000000000",
          "2025-05-02T17:45:00.000000000",
          "2025-05-02T18:00:00.000000000",
          "2025-05-02T18:15:00.000000000",
          "2025-05-02T18:30:00.000000000",
          "2025-05-02T18:45:00.000000000",
          "2025-05-02T19:00:00.000000000",
          "2025-05-02T19:15:00.000000000",
          "2025-05-02T19:30:00.000000000",
          "2025-05-02T19:45:00.000000000",
          "2025-05-02T20:00:00.000000000",
          "2025-05-02T20:15:00.000000000",
          "2025-05-02T20:30:00.000000000",
          "2025-05-02T20:45:00.000000000",
          "2025-05-02T21:00:00.000000000",
          "2025-05-02T21:15:00.000000000",
          "2025-05-02T21:30:00.000000000",
          "2025-05-02T21:45:00.000000000",
          "2025-05-02T22:00:00.000000000",
          "2025-05-02T22:15:00.000000000",
          "2025-05-02T22:30:00.000000000",
          "2025-05-02T22:45:00.000000000",
          "2025-05-02T23:00:00.000000000",
          "2025-05-02T23:15:00.000000000",
          "2025-05-02T23:30:00.000000000",
          "2025-05-02T23:45:00.000000000",
          "2025-05-03T00:00:00.000000000",
          "2025-05-03T00:15:00.000000000",
          "2025-05-03T00:30:00.000000000",
          "2025-05-03T00:45:00.000000000",
          "2025-05-03T01:00:00.000000000",
          "2025-05-03T01:15:00.000000000",
          "2025-05-03T01:30:00.000000000",
          "2025-05-03T01:45:00.000000000",
          "2025-05-03T02:00:00.000000000",
          "2025-05-03T02:15:00.000000000",
          "2025-05-03T02:30:00.000000000",
          "2025-05-03T02:45:00.000000000",
          "2025-05-03T03:00:00.000000000",
          "2025-05-03T03:15:00.000000000",
          "2025-05-03T03:30:00.000000000",
          "2025-05-03T03:45:00.000000000",
          "2025-05-03T04:00:00.000000000",
          "2025-05-03T04:15:00.000000000",
          "2025-05-03T04:30:00.000000000",
          "2025-05-03T04:45:00.000000000",
          "2025-05-03T05:00:00.000000000",
          "2025-05-03T05:15:00.000000000",
          "2025-05-03T05:30:00.000000000",
          "2025-05-03T05:45:00.000000000",
          "2025-05-03T06:00:00.000000000",
          "2025-05-03T06:15:00.000000000",
          "2025-05-03T06:30:00.000000000",
          "2025-05-03T06:45:00.000000000",
          "2025-05-03T07:00:00.000000000",
          "2025-05-03T07:15:00.000000000",
          "2025-05-03T07:30:00.000000000",
          "2025-05-03T07:45:00.000000000",
          "2025-05-03T08:00:00.000000000",
          "2025-05-03T08:15:00.000000000",
          "2025-05-03T08:30:00.000000000",
          "2025-05-03T08:45:00.000000000",
          "2025-05-03T09:00:00.000000000",
          "2025-05-03T09:15:00.000000000",
          "2025-05-03T09:30:00.000000000",
          "2025-05-03T09:45:00.000000000",
          "2025-05-03T10:00:00.000000000",
          "2025-05-03T10:15:00.000000000",
          "2025-05-03T10:30:00.000000000",
          "2025-05-03T10:45:00.000000000",
          "2025-05-03T11:00:00.000000000",
          "2025-05-03T11:15:00.000000000",
          "2025-05-03T11:30:00.000000000",
          "2025-05-03T11:45:00.000000000",
          "2025-05-03T12:00:00.000000000",
          "2025-05-03T12:15:00.000000000",
          "2025-05-03T12:30:00.000000000",
          "2025-05-03T12:45:00.000000000",
          "2025-05-03T13:00:00.000000000",
          "2025-05-03T13:15:00.000000000",
          "2025-05-03T13:30:00.000000000",
          "2025-05-03T13:45:00.000000000",
          "2025-05-03T14:00:00.000000000",
          "2025-05-03T14:15:00.000000000",
          "2025-05-03T14:30:00.000000000",
          "2025-05-03T14:45:00.000000000",
          "2025-05-03T15:00:00.000000000",
          "2025-05-03T15:15:00.000000000",
          "2025-05-03T15:30:00.000000000",
          "2025-05-03T15:45:00.000000000",
          "2025-05-03T16:00:00.000000000",
          "2025-05-03T16:15:00.000000000",
          "2025-05-03T16:30:00.000000000",
          "2025-05-03T16:45:00.000000000",
          "2025-05-03T17:00:00.000000000",
          "2025-05-03T17:15:00.000000000",
          "2025-05-03T17:30:00.000000000",
          "2025-05-03T17:45:00.000000000",
          "2025-05-03T18:00:00.000000000",
          "2025-05-03T18:15:00.000000000",
          "2025-05-03T18:30:00.000000000",
          "2025-05-03T18:45:00.000000000",
          "2025-05-03T19:00:00.000000000",
          "2025-05-03T19:15:00.000000000",
          "2025-05-03T19:30:00.000000000",
          "2025-05-03T19:45:00.000000000",
          "2025-05-03T20:00:00.000000000",
          "2025-05-03T20:15:00.000000000",
          "2025-05-03T20:30:00.000000000",
          "2025-05-03T20:45:00.000000000",
          "2025-05-03T21:00:00.000000000",
          "2025-05-03T21:15:00.000000000",
          "2025-05-03T21:30:00.000000000",
          "2025-05-03T21:45:00.000000000",
          "2025-05-03T22:00:00.000000000",
          "2025-05-03T22:15:00.000000000",
          "2025-05-03T22:30:00.000000000",
          "2025-05-03T22:45:00.000000000",
          "2025-05-03T23:00:00.000000000",
          "2025-05-03T23:15:00.000000000",
          "2025-05-03T23:30:00.000000000",
          "2025-05-03T23:45:00.000000000",
          "2025-05-04T00:00:00.000000000",
          "2025-05-04T00:15:00.000000000",
          "2025-05-04T00:30:00.000000000",
          "2025-05-04T00:45:00.000000000",
          "2025-05-04T01:00:00.000000000",
          "2025-05-04T01:15:00.000000000",
          "2025-05-04T01:30:00.000000000",
          "2025-05-04T01:45:00.000000000",
          "2025-05-04T02:00:00.000000000",
          "2025-05-04T02:15:00.000000000",
          "2025-05-04T02:30:00.000000000",
          "2025-05-04T02:45:00.000000000",
          "2025-05-04T03:00:00.000000000",
          "2025-05-04T03:15:00.000000000",
          "2025-05-04T03:30:00.000000000",
          "2025-05-04T03:45:00.000000000",
          "2025-05-04T04:00:00.000000000",
          "2025-05-04T04:15:00.000000000",
          "2025-05-04T04:30:00.000000000",
          "2025-05-04T04:45:00.000000000",
          "2025-05-04T05:00:00.000000000",
          "2025-05-04T05:15:00.000000000",
          "2025-05-04T05:30:00.000000000",
          "2025-05-04T05:45:00.000000000",
          "2025-05-04T06:00:00.000000000",
          "2025-05-04T06:15:00.000000000",
          "2025-05-04T06:30:00.000000000",
          "2025-05-04T06:45:00.000000000",
          "2025-05-04T07:00:00.000000000",
          "2025-05-04T07:15:00.000000000",
          "2025-05-04T07:30:00.000000000",
          "2025-05-04T07:45:00.000000000",
          "2025-05-04T08:00:00.000000000",
          "2025-05-04T08:15:00.000000000",
          "2025-05-04T08:30:00.000000000",
          "2025-05-04T08:45:00.000000000",
          "2025-05-04T09:00:00.000000000",
          "2025-05-04T09:15:00.000000000",
          "2025-05-04T09:30:00.000000000",
          "2025-05-04T09:45:00.000000000",
          "2025-05-04T10:00:00.000000000",
          "2025-05-04T10:15:00.000000000"
         ],
         "xaxis": "x2",
         "y": {
          "bdata": "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",
          "dtype": "f8"
         },
         "yaxis": "y2"
        },
        {
         "line": {
          "color": "blue",
          "width": 1
         },
         "mode": "lines",
         "name": "EMA20",
         "type": "scatter",
         "x": [
          "2025-04-30T06:30:00.000000000",
          "2025-04-30T06:45:00.000000000",
          "2025-04-30T07:00:00.000000000",
          "2025-04-30T07:15:00.000000000",
          "2025-04-30T07:30:00.000000000",
          "2025-04-30T07:45:00.000000000",
          "2025-04-30T08:00:00.000000000",
          "2025-04-30T08:15:00.000000000",
          "2025-04-30T08:30:00.000000000",
          "2025-04-30T08:45:00.000000000",
          "2025-04-30T09:00:00.000000000",
          "2025-04-30T09:15:00.000000000",
          "2025-04-30T09:30:00.000000000",
          "2025-04-30T09:45:00.000000000",
          "2025-04-30T10:00:00.000000000",
          "2025-04-30T10:15:00.000000000",
          "2025-04-30T10:30:00.000000000",
          "2025-04-30T10:45:00.000000000",
          "2025-04-30T11:00:00.000000000",
          "2025-04-30T11:15:00.000000000",
          "2025-04-30T11:30:00.000000000",
          "2025-04-30T11:45:00.000000000",
          "2025-04-30T12:00:00.000000000",
          "2025-04-30T12:15:00.000000000",
          "2025-04-30T12:30:00.000000000",
          "2025-04-30T12:45:00.000000000",
          "2025-04-30T13:00:00.000000000",
          "2025-04-30T13:15:00.000000000",
          "2025-04-30T13:30:00.000000000",
          "2025-04-30T13:45:00.000000000",
          "2025-04-30T14:00:00.000000000",
          "2025-04-30T14:15:00.000000000",
          "2025-04-30T14:30:00.000000000",
          "2025-04-30T14:45:00.000000000",
          "2025-04-30T15:00:00.000000000",
          "2025-04-30T15:15:00.000000000",
          "2025-04-30T15:30:00.000000000",
          "2025-04-30T15:45:00.000000000",
          "2025-04-30T16:00:00.000000000",
          "2025-04-30T16:15:00.000000000",
          "2025-04-30T16:30:00.000000000",
          "2025-04-30T16:45:00.000000000",
          "2025-04-30T17:00:00.000000000",
          "2025-04-30T17:15:00.000000000",
          "2025-04-30T17:30:00.000000000",
          "2025-04-30T17:45:00.000000000",
          "2025-04-30T18:00:00.000000000",
          "2025-04-30T18:15:00.000000000",
          "2025-04-30T18:30:00.000000000",
          "2025-04-30T18:45:00.000000000",
          "2025-04-30T19:00:00.000000000",
          "2025-04-30T19:15:00.000000000",
          "2025-04-30T19:30:00.000000000",
          "2025-04-30T19:45:00.000000000",
          "2025-04-30T20:00:00.000000000",
          "2025-04-30T20:15:00.000000000",
          "2025-04-30T20:30:00.000000000",
          "2025-04-30T20:45:00.000000000",
          "2025-04-30T21:00:00.000000000",
          "2025-04-30T21:15:00.000000000",
          "2025-04-30T21:30:00.000000000",
          "2025-04-30T21:45:00.000000000",
          "2025-04-30T22:00:00.000000000",
          "2025-04-30T22:15:00.000000000",
          "2025-04-30T22:30:00.000000000",
          "2025-04-30T22:45:00.000000000",
          "2025-04-30T23:00:00.000000000",
          "2025-04-30T23:15:00.000000000",
          "2025-04-30T23:30:00.000000000",
          "2025-04-30T23:45:00.000000000",
          "2025-05-01T00:00:00.000000000",
          "2025-05-01T00:15:00.000000000",
          "2025-05-01T00:30:00.000000000",
          "2025-05-01T00:45:00.000000000",
          "2025-05-01T01:00:00.000000000",
          "2025-05-01T01:15:00.000000000",
          "2025-05-01T01:30:00.000000000",
          "2025-05-01T01:45:00.000000000",
          "2025-05-01T02:00:00.000000000",
          "2025-05-01T02:15:00.000000000",
          "2025-05-01T02:30:00.000000000",
          "2025-05-01T02:45:00.000000000",
          "2025-05-01T03:00:00.000000000",
          "2025-05-01T03:15:00.000000000",
          "2025-05-01T03:30:00.000000000",
          "2025-05-01T03:45:00.000000000",
          "2025-05-01T04:00:00.000000000",
          "2025-05-01T04:15:00.000000000",
          "2025-05-01T04:30:00.000000000",
          "2025-05-01T04:45:00.000000000",
          "2025-05-01T05:00:00.000000000",
          "2025-05-01T05:15:00.000000000",
          "2025-05-01T05:30:00.000000000",
          "2025-05-01T05:45:00.000000000",
          "2025-05-01T06:00:00.000000000",
          "2025-05-01T06:15:00.000000000",
          "2025-05-01T06:30:00.000000000",
          "2025-05-01T06:45:00.000000000",
          "2025-05-01T07:00:00.000000000",
          "2025-05-01T07:15:00.000000000",
          "2025-05-01T07:30:00.000000000",
          "2025-05-01T07:45:00.000000000",
          "2025-05-01T08:00:00.000000000",
          "2025-05-01T08:15:00.000000000",
          "2025-05-01T08:30:00.000000000",
          "2025-05-01T08:45:00.000000000",
          "2025-05-01T09:00:00.000000000",
          "2025-05-01T09:15:00.000000000",
          "2025-05-01T09:30:00.000000000",
          "2025-05-01T09:45:00.000000000",
          "2025-05-01T10:00:00.000000000",
          "2025-05-01T10:15:00.000000000",
          "2025-05-01T10:30:00.000000000",
          "2025-05-01T10:45:00.000000000",
          "2025-05-01T11:00:00.000000000",
          "2025-05-01T11:15:00.000000000",
          "2025-05-01T11:30:00.000000000",
          "2025-05-01T11:45:00.000000000",
          "2025-05-01T12:00:00.000000000",
          "2025-05-01T12:15:00.000000000",
          "2025-05-01T12:30:00.000000000",
          "2025-05-01T12:45:00.000000000",
          "2025-05-01T13:00:00.000000000",
          "2025-05-01T13:15:00.000000000",
          "2025-05-01T13:30:00.000000000",
          "2025-05-01T13:45:00.000000000",
          "2025-05-01T14:00:00.000000000",
          "2025-05-01T14:15:00.000000000",
          "2025-05-01T14:30:00.000000000",
          "2025-05-01T14:45:00.000000000",
          "2025-05-01T15:00:00.000000000",
          "2025-05-01T15:15:00.000000000",
          "2025-05-01T15:30:00.000000000",
          "2025-05-01T15:45:00.000000000",
          "2025-05-01T16:00:00.000000000",
          "2025-05-01T16:15:00.000000000",
          "2025-05-01T16:30:00.000000000",
          "2025-05-01T16:45:00.000000000",
          "2025-05-01T17:00:00.000000000",
          "2025-05-01T17:15:00.000000000",
          "2025-05-01T17:30:00.000000000",
          "2025-05-01T17:45:00.000000000",
          "2025-05-01T18:00:00.000000000",
          "2025-05-01T18:15:00.000000000",
          "2025-05-01T18:30:00.000000000",
          "2025-05-01T18:45:00.000000000",
          "2025-05-01T19:00:00.000000000",
          "2025-05-01T19:15:00.000000000",
          "2025-05-01T19:30:00.000000000",
          "2025-05-01T19:45:00.000000000",
          "2025-05-01T20:00:00.000000000",
          "2025-05-01T20:15:00.000000000",
          "2025-05-01T20:30:00.000000000",
          "2025-05-01T20:45:00.000000000",
          "2025-05-01T21:00:00.000000000",
          "2025-05-01T21:15:00.000000000",
          "2025-05-01T21:30:00.000000000",
          "2025-05-01T21:45:00.000000000",
          "2025-05-01T22:00:00.000000000",
          "2025-05-01T22:15:00.000000000",
          "2025-05-01T22:30:00.000000000",
          "2025-05-01T22:45:00.000000000",
          "2025-05-01T23:00:00.000000000",
          "2025-05-01T23:15:00.000000000",
          "2025-05-01T23:30:00.000000000",
          "2025-05-01T23:45:00.000000000",
          "2025-05-02T00:00:00.000000000",
          "2025-05-02T00:15:00.000000000",
          "2025-05-02T00:30:00.000000000",
          "2025-05-02T00:45:00.000000000",
          "2025-05-02T01:00:00.000000000",
          "2025-05-02T01:15:00.000000000",
          "2025-05-02T01:30:00.000000000",
          "2025-05-02T01:45:00.000000000",
          "2025-05-02T02:00:00.000000000",
          "2025-05-02T02:15:00.000000000",
          "2025-05-02T02:30:00.000000000",
          "2025-05-02T02:45:00.000000000",
          "2025-05-02T03:00:00.000000000",
          "2025-05-02T03:15:00.000000000",
          "2025-05-02T03:30:00.000000000",
          "2025-05-02T03:45:00.000000000",
          "2025-05-02T04:00:00.000000000",
          "2025-05-02T04:15:00.000000000",
          "2025-05-02T04:30:00.000000000",
          "2025-05-02T04:45:00.000000000",
          "2025-05-02T05:00:00.000000000",
          "2025-05-02T05:15:00.000000000",
          "2025-05-02T05:30:00.000000000",
          "2025-05-02T05:45:00.000000000",
          "2025-05-02T06:00:00.000000000",
          "2025-05-02T06:15:00.000000000",
          "2025-05-02T06:30:00.000000000",
          "2025-05-02T06:45:00.000000000",
          "2025-05-02T07:00:00.000000000",
          "2025-05-02T07:15:00.000000000",
          "2025-05-02T07:30:00.000000000",
          "2025-05-02T07:45:00.000000000",
          "2025-05-02T08:00:00.000000000",
          "2025-05-02T08:15:00.000000000",
          "2025-05-02T08:30:00.000000000",
          "2025-05-02T08:45:00.000000000",
          "2025-05-02T09:00:00.000000000",
          "2025-05-02T09:15:00.000000000",
          "2025-05-02T09:30:00.000000000",
          "2025-05-02T09:45:00.000000000",
          "2025-05-02T10:00:00.000000000",
          "2025-05-02T10:15:00.000000000",
          "2025-05-02T10:30:00.000000000",
          "2025-05-02T10:45:00.000000000",
          "2025-05-02T11:00:00.000000000",
          "2025-05-02T11:15:00.000000000",
          "2025-05-02T11:30:00.000000000",
          "2025-05-02T11:45:00.000000000",
          "2025-05-02T12:00:00.000000000",
          "2025-05-02T12:15:00.000000000",
          "2025-05-02T12:30:00.000000000",
          "2025-05-02T12:45:00.000000000",
          "2025-05-02T13:00:00.000000000",
          "2025-05-02T13:15:00.000000000",
          "2025-05-02T13:30:00.000000000",
          "2025-05-02T13:45:00.000000000",
          "2025-05-02T14:00:00.000000000",
          "2025-05-02T14:15:00.000000000",
          "2025-05-02T14:30:00.000000000",
          "2025-05-02T14:45:00.000000000",
          "2025-05-02T15:00:00.000000000",
          "2025-05-02T15:15:00.000000000",
          "2025-05-02T15:30:00.000000000",
          "2025-05-02T15:45:00.000000000",
          "2025-05-02T16:00:00.000000000",
          "2025-05-02T16:15:00.000000000",
          "2025-05-02T16:30:00.000000000",
          "2025-05-02T16:45:00.000000000",
          "2025-05-02T17:00:00.000000000",
          "2025-05-02T17:15:00.000000000",
          "2025-05-02T17:30:00.000000000",
          "2025-05-02T17:45:00.000000000",
          "2025-05-02T18:00:00.000000000",
          "2025-05-02T18:15:00.000000000",
          "2025-05-02T18:30:00.000000000",
          "2025-05-02T18:45:00.000000000",
          "2025-05-02T19:00:00.000000000",
          "2025-05-02T19:15:00.000000000",
          "2025-05-02T19:30:00.000000000",
          "2025-05-02T19:45:00.000000000",
          "2025-05-02T20:00:00.000000000",
          "2025-05-02T20:15:00.000000000",
          "2025-05-02T20:30:00.000000000",
          "2025-05-02T20:45:00.000000000",
          "2025-05-02T21:00:00.000000000",
          "2025-05-02T21:15:00.000000000",
          "2025-05-02T21:30:00.000000000",
          "2025-05-02T21:45:00.000000000",
          "2025-05-02T22:00:00.000000000",
          "2025-05-02T22:15:00.000000000",
          "2025-05-02T22:30:00.000000000",
          "2025-05-02T22:45:00.000000000",
          "2025-05-02T23:00:00.000000000",
          "2025-05-02T23:15:00.000000000",
          "2025-05-02T23:30:00.000000000",
          "2025-05-02T23:45:00.000000000",
          "2025-05-03T00:00:00.000000000",
          "2025-05-03T00:15:00.000000000",
          "2025-05-03T00:30:00.000000000",
          "2025-05-03T00:45:00.000000000",
          "2025-05-03T01:00:00.000000000",
          "2025-05-03T01:15:00.000000000",
          "2025-05-03T01:30:00.000000000",
          "2025-05-03T01:45:00.000000000",
          "2025-05-03T02:00:00.000000000",
          "2025-05-03T02:15:00.000000000",
          "2025-05-03T02:30:00.000000000",
          "2025-05-03T02:45:00.000000000",
          "2025-05-03T03:00:00.000000000",
          "2025-05-03T03:15:00.000000000",
          "2025-05-03T03:30:00.000000000",
          "2025-05-03T03:45:00.000000000",
          "2025-05-03T04:00:00.000000000",
          "2025-05-03T04:15:00.000000000",
          "2025-05-03T04:30:00.000000000",
          "2025-05-03T04:45:00.000000000",
          "2025-05-03T05:00:00.000000000",
          "2025-05-03T05:15:00.000000000",
          "2025-05-03T05:30:00.000000000",
          "2025-05-03T05:45:00.000000000",
          "2025-05-03T06:00:00.000000000",
          "2025-05-03T06:15:00.000000000",
          "2025-05-03T06:30:00.000000000",
          "2025-05-03T06:45:00.000000000",
          "2025-05-03T07:00:00.000000000",
          "2025-05-03T07:15:00.000000000",
          "2025-05-03T07:30:00.000000000",
          "2025-05-03T07:45:00.000000000",
          "2025-05-03T08:00:00.000000000",
          "2025-05-03T08:15:00.000000000",
          "2025-05-03T08:30:00.000000000",
          "2025-05-03T08:45:00.000000000",
          "2025-05-03T09:00:00.000000000",
          "2025-05-03T09:15:00.000000000",
          "2025-05-03T09:30:00.000000000",
          "2025-05-03T09:45:00.000000000",
          "2025-05-03T10:00:00.000000000",
          "2025-05-03T10:15:00.000000000",
          "2025-05-03T10:30:00.000000000",
          "2025-05-03T10:45:00.000000000",
          "2025-05-03T11:00:00.000000000",
          "2025-05-03T11:15:00.000000000",
          "2025-05-03T11:30:00.000000000",
          "2025-05-03T11:45:00.000000000",
          "2025-05-03T12:00:00.000000000",
          "2025-05-03T12:15:00.000000000",
          "2025-05-03T12:30:00.000000000",
          "2025-05-03T12:45:00.000000000",
          "2025-05-03T13:00:00.000000000",
          "2025-05-03T13:15:00.000000000",
          "2025-05-03T13:30:00.000000000",
          "2025-05-03T13:45:00.000000000",
          "2025-05-03T14:00:00.000000000",
          "2025-05-03T14:15:00.000000000",
          "2025-05-03T14:30:00.000000000",
          "2025-05-03T14:45:00.000000000",
          "2025-05-03T15:00:00.000000000",
          "2025-05-03T15:15:00.000000000",
          "2025-05-03T15:30:00.000000000",
          "2025-05-03T15:45:00.000000000",
          "2025-05-03T16:00:00.000000000",
          "2025-05-03T16:15:00.000000000",
          "2025-05-03T16:30:00.000000000",
          "2025-05-03T16:45:00.000000000",
          "2025-05-03T17:00:00.000000000",
          "2025-05-03T17:15:00.000000000",
          "2025-05-03T17:30:00.000000000",
          "2025-05-03T17:45:00.000000000",
          "2025-05-03T18:00:00.000000000",
          "2025-05-03T18:15:00.000000000",
          "2025-05-03T18:30:00.000000000",
          "2025-05-03T18:45:00.000000000",
          "2025-05-03T19:00:00.000000000",
          "2025-05-03T19:15:00.000000000",
          "2025-05-03T19:30:00.000000000",
          "2025-05-03T19:45:00.000000000",
          "2025-05-03T20:00:00.000000000",
          "2025-05-03T20:15:00.000000000",
          "2025-05-03T20:30:00.000000000",
          "2025-05-03T20:45:00.000000000",
          "2025-05-03T21:00:00.000000000",
          "2025-05-03T21:15:00.000000000",
          "2025-05-03T21:30:00.000000000",
          "2025-05-03T21:45:00.000000000",
          "2025-05-03T22:00:00.000000000",
          "2025-05-03T22:15:00.000000000",
          "2025-05-03T22:30:00.000000000",
          "2025-05-03T22:45:00.000000000",
          "2025-05-03T23:00:00.000000000",
          "2025-05-03T23:15:00.000000000",
          "2025-05-03T23:30:00.000000000",
          "2025-05-03T23:45:00.000000000",
          "2025-05-04T00:00:00.000000000",
          "2025-05-04T00:15:00.000000000",
          "2025-05-04T00:30:00.000000000",
          "2025-05-04T00:45:00.000000000",
          "2025-05-04T01:00:00.000000000",
          "2025-05-04T01:15:00.000000000",
          "2025-05-04T01:30:00.000000000",
          "2025-05-04T01:45:00.000000000",
          "2025-05-04T02:00:00.000000000",
          "2025-05-04T02:15:00.000000000",
          "2025-05-04T02:30:00.000000000",
          "2025-05-04T02:45:00.000000000",
          "2025-05-04T03:00:00.000000000",
          "2025-05-04T03:15:00.000000000",
          "2025-05-04T03:30:00.000000000",
          "2025-05-04T03:45:00.000000000",
          "2025-05-04T04:00:00.000000000",
          "2025-05-04T04:15:00.000000000",
          "2025-05-04T04:30:00.000000000",
          "2025-05-04T04:45:00.000000000",
          "2025-05-04T05:00:00.000000000",
          "2025-05-04T05:15:00.000000000",
          "2025-05-04T05:30:00.000000000",
          "2025-05-04T05:45:00.000000000",
          "2025-05-04T06:00:00.000000000",
          "2025-05-04T06:15:00.000000000",
          "2025-05-04T06:30:00.000000000",
          "2025-05-04T06:45:00.000000000",
          "2025-05-04T07:00:00.000000000",
          "2025-05-04T07:15:00.000000000",
          "2025-05-04T07:30:00.000000000",
          "2025-05-04T07:45:00.000000000",
          "2025-05-04T08:00:00.000000000",
          "2025-05-04T08:15:00.000000000",
          "2025-05-04T08:30:00.000000000",
          "2025-05-04T08:45:00.000000000",
          "2025-05-04T09:00:00.000000000",
          "2025-05-04T09:15:00.000000000",
          "2025-05-04T09:30:00.000000000",
          "2025-05-04T09:45:00.000000000",
          "2025-05-04T10:00:00.000000000",
          "2025-05-04T10:15:00.000000000"
         ],
         "xaxis": "x",
         "y": {
          "bdata": "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",
          "dtype": "f8"
         },
         "yaxis": "y"
        },
        {
         "line": {
          "color": "orange",
          "width": 1
         },
         "mode": "lines",
         "name": "EMA40",
         "type": "scatter",
         "x": [
          "2025-04-30T06:30:00.000000000",
          "2025-04-30T06:45:00.000000000",
          "2025-04-30T07:00:00.000000000",
          "2025-04-30T07:15:00.000000000",
          "2025-04-30T07:30:00.000000000",
          "2025-04-30T07:45:00.000000000",
          "2025-04-30T08:00:00.000000000",
          "2025-04-30T08:15:00.000000000",
          "2025-04-30T08:30:00.000000000",
          "2025-04-30T08:45:00.000000000",
          "2025-04-30T09:00:00.000000000",
          "2025-04-30T09:15:00.000000000",
          "2025-04-30T09:30:00.000000000",
          "2025-04-30T09:45:00.000000000",
          "2025-04-30T10:00:00.000000000",
          "2025-04-30T10:15:00.000000000",
          "2025-04-30T10:30:00.000000000",
          "2025-04-30T10:45:00.000000000",
          "2025-04-30T11:00:00.000000000",
          "2025-04-30T11:15:00.000000000",
          "2025-04-30T11:30:00.000000000",
          "2025-04-30T11:45:00.000000000",
          "2025-04-30T12:00:00.000000000",
          "2025-04-30T12:15:00.000000000",
          "2025-04-30T12:30:00.000000000",
          "2025-04-30T12:45:00.000000000",
          "2025-04-30T13:00:00.000000000",
          "2025-04-30T13:15:00.000000000",
          "2025-04-30T13:30:00.000000000",
          "2025-04-30T13:45:00.000000000",
          "2025-04-30T14:00:00.000000000",
          "2025-04-30T14:15:00.000000000",
          "2025-04-30T14:30:00.000000000",
          "2025-04-30T14:45:00.000000000",
          "2025-04-30T15:00:00.000000000",
          "2025-04-30T15:15:00.000000000",
          "2025-04-30T15:30:00.000000000",
          "2025-04-30T15:45:00.000000000",
          "2025-04-30T16:00:00.000000000",
          "2025-04-30T16:15:00.000000000",
          "2025-04-30T16:30:00.000000000",
          "2025-04-30T16:45:00.000000000",
          "2025-04-30T17:00:00.000000000",
          "2025-04-30T17:15:00.000000000",
          "2025-04-30T17:30:00.000000000",
          "2025-04-30T17:45:00.000000000",
          "2025-04-30T18:00:00.000000000",
          "2025-04-30T18:15:00.000000000",
          "2025-04-30T18:30:00.000000000",
          "2025-04-30T18:45:00.000000000",
          "2025-04-30T19:00:00.000000000",
          "2025-04-30T19:15:00.000000000",
          "2025-04-30T19:30:00.000000000",
          "2025-04-30T19:45:00.000000000",
          "2025-04-30T20:00:00.000000000",
          "2025-04-30T20:15:00.000000000",
          "2025-04-30T20:30:00.000000000",
          "2025-04-30T20:45:00.000000000",
          "2025-04-30T21:00:00.000000000",
          "2025-04-30T21:15:00.000000000",
          "2025-04-30T21:30:00.000000000",
          "2025-04-30T21:45:00.000000000",
          "2025-04-30T22:00:00.000000000",
          "2025-04-30T22:15:00.000000000",
          "2025-04-30T22:30:00.000000000",
          "2025-04-30T22:45:00.000000000",
          "2025-04-30T23:00:00.000000000",
          "2025-04-30T23:15:00.000000000",
          "2025-04-30T23:30:00.000000000",
          "2025-04-30T23:45:00.000000000",
          "2025-05-01T00:00:00.000000000",
          "2025-05-01T00:15:00.000000000",
          "2025-05-01T00:30:00.000000000",
          "2025-05-01T00:45:00.000000000",
          "2025-05-01T01:00:00.000000000",
          "2025-05-01T01:15:00.000000000",
          "2025-05-01T01:30:00.000000000",
          "2025-05-01T01:45:00.000000000",
          "2025-05-01T02:00:00.000000000",
          "2025-05-01T02:15:00.000000000",
          "2025-05-01T02:30:00.000000000",
          "2025-05-01T02:45:00.000000000",
          "2025-05-01T03:00:00.000000000",
          "2025-05-01T03:15:00.000000000",
          "2025-05-01T03:30:00.000000000",
          "2025-05-01T03:45:00.000000000",
          "2025-05-01T04:00:00.000000000",
          "2025-05-01T04:15:00.000000000",
          "2025-05-01T04:30:00.000000000",
          "2025-05-01T04:45:00.000000000",
          "2025-05-01T05:00:00.000000000",
          "2025-05-01T05:15:00.000000000",
          "2025-05-01T05:30:00.000000000",
          "2025-05-01T05:45:00.000000000",
          "2025-05-01T06:00:00.000000000",
          "2025-05-01T06:15:00.000000000",
          "2025-05-01T06:30:00.000000000",
          "2025-05-01T06:45:00.000000000",
          "2025-05-01T07:00:00.000000000",
          "2025-05-01T07:15:00.000000000",
          "2025-05-01T07:30:00.000000000",
          "2025-05-01T07:45:00.000000000",
          "2025-05-01T08:00:00.000000000",
          "2025-05-01T08:15:00.000000000",
          "2025-05-01T08:30:00.000000000",
          "2025-05-01T08:45:00.000000000",
          "2025-05-01T09:00:00.000000000",
          "2025-05-01T09:15:00.000000000",
          "2025-05-01T09:30:00.000000000",
          "2025-05-01T09:45:00.000000000",
          "2025-05-01T10:00:00.000000000",
          "2025-05-01T10:15:00.000000000",
          "2025-05-01T10:30:00.000000000",
          "2025-05-01T10:45:00.000000000",
          "2025-05-01T11:00:00.000000000",
          "2025-05-01T11:15:00.000000000",
          "2025-05-01T11:30:00.000000000",
          "2025-05-01T11:45:00.000000000",
          "2025-05-01T12:00:00.000000000",
          "2025-05-01T12:15:00.000000000",
          "2025-05-01T12:30:00.000000000",
          "2025-05-01T12:45:00.000000000",
          "2025-05-01T13:00:00.000000000",
          "2025-05-01T13:15:00.000000000",
          "2025-05-01T13:30:00.000000000",
          "2025-05-01T13:45:00.000000000",
          "2025-05-01T14:00:00.000000000",
          "2025-05-01T14:15:00.000000000",
          "2025-05-01T14:30:00.000000000",
          "2025-05-01T14:45:00.000000000",
          "2025-05-01T15:00:00.000000000",
          "2025-05-01T15:15:00.000000000",
          "2025-05-01T15:30:00.000000000",
          "2025-05-01T15:45:00.000000000",
          "2025-05-01T16:00:00.000000000",
          "2025-05-01T16:15:00.000000000",
          "2025-05-01T16:30:00.000000000",
          "2025-05-01T16:45:00.000000000",
          "2025-05-01T17:00:00.000000000",
          "2025-05-01T17:15:00.000000000",
          "2025-05-01T17:30:00.000000000",
          "2025-05-01T17:45:00.000000000",
          "2025-05-01T18:00:00.000000000",
          "2025-05-01T18:15:00.000000000",
          "2025-05-01T18:30:00.000000000",
          "2025-05-01T18:45:00.000000000",
          "2025-05-01T19:00:00.000000000",
          "2025-05-01T19:15:00.000000000",
          "2025-05-01T19:30:00.000000000",
          "2025-05-01T19:45:00.000000000",
          "2025-05-01T20:00:00.000000000",
          "2025-05-01T20:15:00.000000000",
          "2025-05-01T20:30:00.000000000",
          "2025-05-01T20:45:00.000000000",
          "2025-05-01T21:00:00.000000000",
          "2025-05-01T21:15:00.000000000",
          "2025-05-01T21:30:00.000000000",
          "2025-05-01T21:45:00.000000000",
          "2025-05-01T22:00:00.000000000",
          "2025-05-01T22:15:00.000000000",
          "2025-05-01T22:30:00.000000000",
          "2025-05-01T22:45:00.000000000",
          "2025-05-01T23:00:00.000000000",
          "2025-05-01T23:15:00.000000000",
          "2025-05-01T23:30:00.000000000",
          "2025-05-01T23:45:00.000000000",
          "2025-05-02T00:00:00.000000000",
          "2025-05-02T00:15:00.000000000",
          "2025-05-02T00:30:00.000000000",
          "2025-05-02T00:45:00.000000000",
          "2025-05-02T01:00:00.000000000",
          "2025-05-02T01:15:00.000000000",
          "2025-05-02T01:30:00.000000000",
          "2025-05-02T01:45:00.000000000",
          "2025-05-02T02:00:00.000000000",
          "2025-05-02T02:15:00.000000000",
          "2025-05-02T02:30:00.000000000",
          "2025-05-02T02:45:00.000000000",
          "2025-05-02T03:00:00.000000000",
          "2025-05-02T03:15:00.000000000",
          "2025-05-02T03:30:00.000000000",
          "2025-05-02T03:45:00.000000000",
          "2025-05-02T04:00:00.000000000",
          "2025-05-02T04:15:00.000000000",
          "2025-05-02T04:30:00.000000000",
          "2025-05-02T04:45:00.000000000",
          "2025-05-02T05:00:00.000000000",
          "2025-05-02T05:15:00.000000000",
          "2025-05-02T05:30:00.000000000",
          "2025-05-02T05:45:00.000000000",
          "2025-05-02T06:00:00.000000000",
          "2025-05-02T06:15:00.000000000",
          "2025-05-02T06:30:00.000000000",
          "2025-05-02T06:45:00.000000000",
          "2025-05-02T07:00:00.000000000",
          "2025-05-02T07:15:00.000000000",
          "2025-05-02T07:30:00.000000000",
          "2025-05-02T07:45:00.000000000",
          "2025-05-02T08:00:00.000000000",
          "2025-05-02T08:15:00.000000000",
          "2025-05-02T08:30:00.000000000",
          "2025-05-02T08:45:00.000000000",
          "2025-05-02T09:00:00.000000000",
          "2025-05-02T09:15:00.000000000",
          "2025-05-02T09:30:00.000000000",
          "2025-05-02T09:45:00.000000000",
          "2025-05-02T10:00:00.000000000",
          "2025-05-02T10:15:00.000000000",
          "2025-05-02T10:30:00.000000000",
          "2025-05-02T10:45:00.000000000",
          "2025-05-02T11:00:00.000000000",
          "2025-05-02T11:15:00.000000000",
          "2025-05-02T11:30:00.000000000",
          "2025-05-02T11:45:00.000000000",
          "2025-05-02T12:00:00.000000000",
          "2025-05-02T12:15:00.000000000",
          "2025-05-02T12:30:00.000000000",
          "2025-05-02T12:45:00.000000000",
          "2025-05-02T13:00:00.000000000",
          "2025-05-02T13:15:00.000000000",
          "2025-05-02T13:30:00.000000000",
          "2025-05-02T13:45:00.000000000",
          "2025-05-02T14:00:00.000000000",
          "2025-05-02T14:15:00.000000000",
          "2025-05-02T14:30:00.000000000",
          "2025-05-02T14:45:00.000000000",
          "2025-05-02T15:00:00.000000000",
          "2025-05-02T15:15:00.000000000",
          "2025-05-02T15:30:00.000000000",
          "2025-05-02T15:45:00.000000000",
          "2025-05-02T16:00:00.000000000",
          "2025-05-02T16:15:00.000000000",
          "2025-05-02T16:30:00.000000000",
          "2025-05-02T16:45:00.000000000",
          "2025-05-02T17:00:00.000000000",
          "2025-05-02T17:15:00.000000000",
          "2025-05-02T17:30:00.000000000",
          "2025-05-02T17:45:00.000000000",
          "2025-05-02T18:00:00.000000000",
          "2025-05-02T18:15:00.000000000",
          "2025-05-02T18:30:00.000000000",
          "2025-05-02T18:45:00.000000000",
          "2025-05-02T19:00:00.000000000",
          "2025-05-02T19:15:00.000000000",
          "2025-05-02T19:30:00.000000000",
          "2025-05-02T19:45:00.000000000",
          "2025-05-02T20:00:00.000000000",
          "2025-05-02T20:15:00.000000000",
          "2025-05-02T20:30:00.000000000",
          "2025-05-02T20:45:00.000000000",
          "2025-05-02T21:00:00.000000000",
          "2025-05-02T21:15:00.000000000",
          "2025-05-02T21:30:00.000000000",
          "2025-05-02T21:45:00.000000000",
          "2025-05-02T22:00:00.000000000",
          "2025-05-02T22:15:00.000000000",
          "2025-05-02T22:30:00.000000000",
          "2025-05-02T22:45:00.000000000",
          "2025-05-02T23:00:00.000000000",
          "2025-05-02T23:15:00.000000000",
          "2025-05-02T23:30:00.000000000",
          "2025-05-02T23:45:00.000000000",
          "2025-05-03T00:00:00.000000000",
          "2025-05-03T00:15:00.000000000",
          "2025-05-03T00:30:00.000000000",
          "2025-05-03T00:45:00.000000000",
          "2025-05-03T01:00:00.000000000",
          "2025-05-03T01:15:00.000000000",
          "2025-05-03T01:30:00.000000000",
          "2025-05-03T01:45:00.000000000",
          "2025-05-03T02:00:00.000000000",
          "2025-05-03T02:15:00.000000000",
          "2025-05-03T02:30:00.000000000",
          "2025-05-03T02:45:00.000000000",
          "2025-05-03T03:00:00.000000000",
          "2025-05-03T03:15:00.000000000",
          "2025-05-03T03:30:00.000000000",
          "2025-05-03T03:45:00.000000000",
          "2025-05-03T04:00:00.000000000",
          "2025-05-03T04:15:00.000000000",
          "2025-05-03T04:30:00.000000000",
          "2025-05-03T04:45:00.000000000",
          "2025-05-03T05:00:00.000000000",
          "2025-05-03T05:15:00.000000000",
          "2025-05-03T05:30:00.000000000",
          "2025-05-03T05:45:00.000000000",
          "2025-05-03T06:00:00.000000000",
          "2025-05-03T06:15:00.000000000",
          "2025-05-03T06:30:00.000000000",
          "2025-05-03T06:45:00.000000000",
          "2025-05-03T07:00:00.000000000",
          "2025-05-03T07:15:00.000000000",
          "2025-05-03T07:30:00.000000000",
          "2025-05-03T07:45:00.000000000",
          "2025-05-03T08:00:00.000000000",
          "2025-05-03T08:15:00.000000000",
          "2025-05-03T08:30:00.000000000",
          "2025-05-03T08:45:00.000000000",
          "2025-05-03T09:00:00.000000000",
          "2025-05-03T09:15:00.000000000",
          "2025-05-03T09:30:00.000000000",
          "2025-05-03T09:45:00.000000000",
          "2025-05-03T10:00:00.000000000",
          "2025-05-03T10:15:00.000000000",
          "2025-05-03T10:30:00.000000000",
          "2025-05-03T10:45:00.000000000",
          "2025-05-03T11:00:00.000000000",
          "2025-05-03T11:15:00.000000000",
          "2025-05-03T11:30:00.000000000",
          "2025-05-03T11:45:00.000000000",
          "2025-05-03T12:00:00.000000000",
          "2025-05-03T12:15:00.000000000",
          "2025-05-03T12:30:00.000000000",
          "2025-05-03T12:45:00.000000000",
          "2025-05-03T13:00:00.000000000",
          "2025-05-03T13:15:00.000000000",
          "2025-05-03T13:30:00.000000000",
          "2025-05-03T13:45:00.000000000",
          "2025-05-03T14:00:00.000000000",
          "2025-05-03T14:15:00.000000000",
          "2025-05-03T14:30:00.000000000",
          "2025-05-03T14:45:00.000000000",
          "2025-05-03T15:00:00.000000000",
          "2025-05-03T15:15:00.000000000",
          "2025-05-03T15:30:00.000000000",
          "2025-05-03T15:45:00.000000000",
          "2025-05-03T16:00:00.000000000",
          "2025-05-03T16:15:00.000000000",
          "2025-05-03T16:30:00.000000000",
          "2025-05-03T16:45:00.000000000",
          "2025-05-03T17:00:00.000000000",
          "2025-05-03T17:15:00.000000000",
          "2025-05-03T17:30:00.000000000",
          "2025-05-03T17:45:00.000000000",
          "2025-05-03T18:00:00.000000000",
          "2025-05-03T18:15:00.000000000",
          "2025-05-03T18:30:00.000000000",
          "2025-05-03T18:45:00.000000000",
          "2025-05-03T19:00:00.000000000",
          "2025-05-03T19:15:00.000000000",
          "2025-05-03T19:30:00.000000000",
          "2025-05-03T19:45:00.000000000",
          "2025-05-03T20:00:00.000000000",
          "2025-05-03T20:15:00.000000000",
          "2025-05-03T20:30:00.000000000",
          "2025-05-03T20:45:00.000000000",
          "2025-05-03T21:00:00.000000000",
          "2025-05-03T21:15:00.000000000",
          "2025-05-03T21:30:00.000000000",
          "2025-05-03T21:45:00.000000000",
          "2025-05-03T22:00:00.000000000",
          "2025-05-03T22:15:00.000000000",
          "2025-05-03T22:30:00.000000000",
          "2025-05-03T22:45:00.000000000",
          "2025-05-03T23:00:00.000000000",
          "2025-05-03T23:15:00.000000000",
          "2025-05-03T23:30:00.000000000",
          "2025-05-03T23:45:00.000000000",
          "2025-05-04T00:00:00.000000000",
          "2025-05-04T00:15:00.000000000",
          "2025-05-04T00:30:00.000000000",
          "2025-05-04T00:45:00.000000000",
          "2025-05-04T01:00:00.000000000",
          "2025-05-04T01:15:00.000000000",
          "2025-05-04T01:30:00.000000000",
          "2025-05-04T01:45:00.000000000",
          "2025-05-04T02:00:00.000000000",
          "2025-05-04T02:15:00.000000000",
          "2025-05-04T02:30:00.000000000",
          "2025-05-04T02:45:00.000000000",
          "2025-05-04T03:00:00.000000000",
          "2025-05-04T03:15:00.000000000",
          "2025-05-04T03:30:00.000000000",
          "2025-05-04T03:45:00.000000000",
          "2025-05-04T04:00:00.000000000",
          "2025-05-04T04:15:00.000000000",
          "2025-05-04T04:30:00.000000000",
          "2025-05-04T04:45:00.000000000",
          "2025-05-04T05:00:00.000000000",
          "2025-05-04T05:15:00.000000000",
          "2025-05-04T05:30:00.000000000",
          "2025-05-04T05:45:00.000000000",
          "2025-05-04T06:00:00.000000000",
          "2025-05-04T06:15:00.000000000",
          "2025-05-04T06:30:00.000000000",
          "2025-05-04T06:45:00.000000000",
          "2025-05-04T07:00:00.000000000",
          "2025-05-04T07:15:00.000000000",
          "2025-05-04T07:30:00.000000000",
          "2025-05-04T07:45:00.000000000",
          "2025-05-04T08:00:00.000000000",
          "2025-05-04T08:15:00.000000000",
          "2025-05-04T08:30:00.000000000",
          "2025-05-04T08:45:00.000000000",
          "2025-05-04T09:00:00.000000000",
          "2025-05-04T09:15:00.000000000",
          "2025-05-04T09:30:00.000000000",
          "2025-05-04T09:45:00.000000000",
          "2025-05-04T10:00:00.000000000",
          "2025-05-04T10:15:00.000000000"
         ],
         "xaxis": "x",
         "y": {
          "bdata": "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",
          "dtype": "f8"
         },
         "yaxis": "y"
        },
        {
         "line": {
          "color": "purple",
          "width": 1
         },
         "mode": "lines",
         "name": "EMA60",
         "type": "scatter",
         "x": [
          "2025-04-30T06:30:00.000000000",
          "2025-04-30T06:45:00.000000000",
          "2025-04-30T07:00:00.000000000",
          "2025-04-30T07:15:00.000000000",
          "2025-04-30T07:30:00.000000000",
          "2025-04-30T07:45:00.000000000",
          "2025-04-30T08:00:00.000000000",
          "2025-04-30T08:15:00.000000000",
          "2025-04-30T08:30:00.000000000",
          "2025-04-30T08:45:00.000000000",
          "2025-04-30T09:00:00.000000000",
          "2025-04-30T09:15:00.000000000",
          "2025-04-30T09:30:00.000000000",
          "2025-04-30T09:45:00.000000000",
          "2025-04-30T10:00:00.000000000",
          "2025-04-30T10:15:00.000000000",
          "2025-04-30T10:30:00.000000000",
          "2025-04-30T10:45:00.000000000",
          "2025-04-30T11:00:00.000000000",
          "2025-04-30T11:15:00.000000000",
          "2025-04-30T11:30:00.000000000",
          "2025-04-30T11:45:00.000000000",
          "2025-04-30T12:00:00.000000000",
          "2025-04-30T12:15:00.000000000",
          "2025-04-30T12:30:00.000000000",
          "2025-04-30T12:45:00.000000000",
          "2025-04-30T13:00:00.000000000",
          "2025-04-30T13:15:00.000000000",
          "2025-04-30T13:30:00.000000000",
          "2025-04-30T13:45:00.000000000",
          "2025-04-30T14:00:00.000000000",
          "2025-04-30T14:15:00.000000000",
          "2025-04-30T14:30:00.000000000",
          "2025-04-30T14:45:00.000000000",
          "2025-04-30T15:00:00.000000000",
          "2025-04-30T15:15:00.000000000",
          "2025-04-30T15:30:00.000000000",
          "2025-04-30T15:45:00.000000000",
          "2025-04-30T16:00:00.000000000",
          "2025-04-30T16:15:00.000000000",
          "2025-04-30T16:30:00.000000000",
          "2025-04-30T16:45:00.000000000",
          "2025-04-30T17:00:00.000000000",
          "2025-04-30T17:15:00.000000000",
          "2025-04-30T17:30:00.000000000",
          "2025-04-30T17:45:00.000000000",
          "2025-04-30T18:00:00.000000000",
          "2025-04-30T18:15:00.000000000",
          "2025-04-30T18:30:00.000000000",
          "2025-04-30T18:45:00.000000000",
          "2025-04-30T19:00:00.000000000",
          "2025-04-30T19:15:00.000000000",
          "2025-04-30T19:30:00.000000000",
          "2025-04-30T19:45:00.000000000",
          "2025-04-30T20:00:00.000000000",
          "2025-04-30T20:15:00.000000000",
          "2025-04-30T20:30:00.000000000",
          "2025-04-30T20:45:00.000000000",
          "2025-04-30T21:00:00.000000000",
          "2025-04-30T21:15:00.000000000",
          "2025-04-30T21:30:00.000000000",
          "2025-04-30T21:45:00.000000000",
          "2025-04-30T22:00:00.000000000",
          "2025-04-30T22:15:00.000000000",
          "2025-04-30T22:30:00.000000000",
          "2025-04-30T22:45:00.000000000",
          "2025-04-30T23:00:00.000000000",
          "2025-04-30T23:15:00.000000000",
          "2025-04-30T23:30:00.000000000",
          "2025-04-30T23:45:00.000000000",
          "2025-05-01T00:00:00.000000000",
          "2025-05-01T00:15:00.000000000",
          "2025-05-01T00:30:00.000000000",
          "2025-05-01T00:45:00.000000000",
          "2025-05-01T01:00:00.000000000",
          "2025-05-01T01:15:00.000000000",
          "2025-05-01T01:30:00.000000000",
          "2025-05-01T01:45:00.000000000",
          "2025-05-01T02:00:00.000000000",
          "2025-05-01T02:15:00.000000000",
          "2025-05-01T02:30:00.000000000",
          "2025-05-01T02:45:00.000000000",
          "2025-05-01T03:00:00.000000000",
          "2025-05-01T03:15:00.000000000",
          "2025-05-01T03:30:00.000000000",
          "2025-05-01T03:45:00.000000000",
          "2025-05-01T04:00:00.000000000",
          "2025-05-01T04:15:00.000000000",
          "2025-05-01T04:30:00.000000000",
          "2025-05-01T04:45:00.000000000",
          "2025-05-01T05:00:00.000000000",
          "2025-05-01T05:15:00.000000000",
          "2025-05-01T05:30:00.000000000",
          "2025-05-01T05:45:00.000000000",
          "2025-05-01T06:00:00.000000000",
          "2025-05-01T06:15:00.000000000",
          "2025-05-01T06:30:00.000000000",
          "2025-05-01T06:45:00.000000000",
          "2025-05-01T07:00:00.000000000",
          "2025-05-01T07:15:00.000000000",
          "2025-05-01T07:30:00.000000000",
          "2025-05-01T07:45:00.000000000",
          "2025-05-01T08:00:00.000000000",
          "2025-05-01T08:15:00.000000000",
          "2025-05-01T08:30:00.000000000",
          "2025-05-01T08:45:00.000000000",
          "2025-05-01T09:00:00.000000000",
          "2025-05-01T09:15:00.000000000",
          "2025-05-01T09:30:00.000000000",
          "2025-05-01T09:45:00.000000000",
          "2025-05-01T10:00:00.000000000",
          "2025-05-01T10:15:00.000000000",
          "2025-05-01T10:30:00.000000000",
          "2025-05-01T10:45:00.000000000",
          "2025-05-01T11:00:00.000000000",
          "2025-05-01T11:15:00.000000000",
          "2025-05-01T11:30:00.000000000",
          "2025-05-01T11:45:00.000000000",
          "2025-05-01T12:00:00.000000000",
          "2025-05-01T12:15:00.000000000",
          "2025-05-01T12:30:00.000000000",
          "2025-05-01T12:45:00.000000000",
          "2025-05-01T13:00:00.000000000",
          "2025-05-01T13:15:00.000000000",
          "2025-05-01T13:30:00.000000000",
          "2025-05-01T13:45:00.000000000",
          "2025-05-01T14:00:00.000000000",
          "2025-05-01T14:15:00.000000000",
          "2025-05-01T14:30:00.000000000",
          "2025-05-01T14:45:00.000000000",
          "2025-05-01T15:00:00.000000000",
          "2025-05-01T15:15:00.000000000",
          "2025-05-01T15:30:00.000000000",
          "2025-05-01T15:45:00.000000000",
          "2025-05-01T16:00:00.000000000",
          "2025-05-01T16:15:00.000000000",
          "2025-05-01T16:30:00.000000000",
          "2025-05-01T16:45:00.000000000",
          "2025-05-01T17:00:00.000000000",
          "2025-05-01T17:15:00.000000000",
          "2025-05-01T17:30:00.000000000",
          "2025-05-01T17:45:00.000000000",
          "2025-05-01T18:00:00.000000000",
          "2025-05-01T18:15:00.000000000",
          "2025-05-01T18:30:00.000000000",
          "2025-05-01T18:45:00.000000000",
          "2025-05-01T19:00:00.000000000",
          "2025-05-01T19:15:00.000000000",
          "2025-05-01T19:30:00.000000000",
          "2025-05-01T19:45:00.000000000",
          "2025-05-01T20:00:00.000000000",
          "2025-05-01T20:15:00.000000000",
          "2025-05-01T20:30:00.000000000",
          "2025-05-01T20:45:00.000000000",
          "2025-05-01T21:00:00.000000000",
          "2025-05-01T21:15:00.000000000",
          "2025-05-01T21:30:00.000000000",
          "2025-05-01T21:45:00.000000000",
          "2025-05-01T22:00:00.000000000",
          "2025-05-01T22:15:00.000000000",
          "2025-05-01T22:30:00.000000000",
          "2025-05-01T22:45:00.000000000",
          "2025-05-01T23:00:00.000000000",
          "2025-05-01T23:15:00.000000000",
          "2025-05-01T23:30:00.000000000",
          "2025-05-01T23:45:00.000000000",
          "2025-05-02T00:00:00.000000000",
          "2025-05-02T00:15:00.000000000",
          "2025-05-02T00:30:00.000000000",
          "2025-05-02T00:45:00.000000000",
          "2025-05-02T01:00:00.000000000",
          "2025-05-02T01:15:00.000000000",
          "2025-05-02T01:30:00.000000000",
          "2025-05-02T01:45:00.000000000",
          "2025-05-02T02:00:00.000000000",
          "2025-05-02T02:15:00.000000000",
          "2025-05-02T02:30:00.000000000",
          "2025-05-02T02:45:00.000000000",
          "2025-05-02T03:00:00.000000000",
          "2025-05-02T03:15:00.000000000",
          "2025-05-02T03:30:00.000000000",
          "2025-05-02T03:45:00.000000000",
          "2025-05-02T04:00:00.000000000",
          "2025-05-02T04:15:00.000000000",
          "2025-05-02T04:30:00.000000000",
          "2025-05-02T04:45:00.000000000",
          "2025-05-02T05:00:00.000000000",
          "2025-05-02T05:15:00.000000000",
          "2025-05-02T05:30:00.000000000",
          "2025-05-02T05:45:00.000000000",
          "2025-05-02T06:00:00.000000000",
          "2025-05-02T06:15:00.000000000",
          "2025-05-02T06:30:00.000000000",
          "2025-05-02T06:45:00.000000000",
          "2025-05-02T07:00:00.000000000",
          "2025-05-02T07:15:00.000000000",
          "2025-05-02T07:30:00.000000000",
          "2025-05-02T07:45:00.000000000",
          "2025-05-02T08:00:00.000000000",
          "2025-05-02T08:15:00.000000000",
          "2025-05-02T08:30:00.000000000",
          "2025-05-02T08:45:00.000000000",
          "2025-05-02T09:00:00.000000000",
          "2025-05-02T09:15:00.000000000",
          "2025-05-02T09:30:00.000000000",
          "2025-05-02T09:45:00.000000000",
          "2025-05-02T10:00:00.000000000",
          "2025-05-02T10:15:00.000000000",
          "2025-05-02T10:30:00.000000000",
          "2025-05-02T10:45:00.000000000",
          "2025-05-02T11:00:00.000000000",
          "2025-05-02T11:15:00.000000000",
          "2025-05-02T11:30:00.000000000",
          "2025-05-02T11:45:00.000000000",
          "2025-05-02T12:00:00.000000000",
          "2025-05-02T12:15:00.000000000",
          "2025-05-02T12:30:00.000000000",
          "2025-05-02T12:45:00.000000000",
          "2025-05-02T13:00:00.000000000",
          "2025-05-02T13:15:00.000000000",
          "2025-05-02T13:30:00.000000000",
          "2025-05-02T13:45:00.000000000",
          "2025-05-02T14:00:00.000000000",
          "2025-05-02T14:15:00.000000000",
          "2025-05-02T14:30:00.000000000",
          "2025-05-02T14:45:00.000000000",
          "2025-05-02T15:00:00.000000000",
          "2025-05-02T15:15:00.000000000",
          "2025-05-02T15:30:00.000000000",
          "2025-05-02T15:45:00.000000000",
          "2025-05-02T16:00:00.000000000",
          "2025-05-02T16:15:00.000000000",
          "2025-05-02T16:30:00.000000000",
          "2025-05-02T16:45:00.000000000",
          "2025-05-02T17:00:00.000000000",
          "2025-05-02T17:15:00.000000000",
          "2025-05-02T17:30:00.000000000",
          "2025-05-02T17:45:00.000000000",
          "2025-05-02T18:00:00.000000000",
          "2025-05-02T18:15:00.000000000",
          "2025-05-02T18:30:00.000000000",
          "2025-05-02T18:45:00.000000000",
          "2025-05-02T19:00:00.000000000",
          "2025-05-02T19:15:00.000000000",
          "2025-05-02T19:30:00.000000000",
          "2025-05-02T19:45:00.000000000",
          "2025-05-02T20:00:00.000000000",
          "2025-05-02T20:15:00.000000000",
          "2025-05-02T20:30:00.000000000",
          "2025-05-02T20:45:00.000000000",
          "2025-05-02T21:00:00.000000000",
          "2025-05-02T21:15:00.000000000",
          "2025-05-02T21:30:00.000000000",
          "2025-05-02T21:45:00.000000000",
          "2025-05-02T22:00:00.000000000",
          "2025-05-02T22:15:00.000000000",
          "2025-05-02T22:30:00.000000000",
          "2025-05-02T22:45:00.000000000",
          "2025-05-02T23:00:00.000000000",
          "2025-05-02T23:15:00.000000000",
          "2025-05-02T23:30:00.000000000",
          "2025-05-02T23:45:00.000000000",
          "2025-05-03T00:00:00.000000000",
          "2025-05-03T00:15:00.000000000",
          "2025-05-03T00:30:00.000000000",
          "2025-05-03T00:45:00.000000000",
          "2025-05-03T01:00:00.000000000",
          "2025-05-03T01:15:00.000000000",
          "2025-05-03T01:30:00.000000000",
          "2025-05-03T01:45:00.000000000",
          "2025-05-03T02:00:00.000000000",
          "2025-05-03T02:15:00.000000000",
          "2025-05-03T02:30:00.000000000",
          "2025-05-03T02:45:00.000000000",
          "2025-05-03T03:00:00.000000000",
          "2025-05-03T03:15:00.000000000",
          "2025-05-03T03:30:00.000000000",
          "2025-05-03T03:45:00.000000000",
          "2025-05-03T04:00:00.000000000",
          "2025-05-03T04:15:00.000000000",
          "2025-05-03T04:30:00.000000000",
          "2025-05-03T04:45:00.000000000",
          "2025-05-03T05:00:00.000000000",
          "2025-05-03T05:15:00.000000000",
          "2025-05-03T05:30:00.000000000",
          "2025-05-03T05:45:00.000000000",
          "2025-05-03T06:00:00.000000000",
          "2025-05-03T06:15:00.000000000",
          "2025-05-03T06:30:00.000000000",
          "2025-05-03T06:45:00.000000000",
          "2025-05-03T07:00:00.000000000",
          "2025-05-03T07:15:00.000000000",
          "2025-05-03T07:30:00.000000000",
          "2025-05-03T07:45:00.000000000",
          "2025-05-03T08:00:00.000000000",
          "2025-05-03T08:15:00.000000000",
          "2025-05-03T08:30:00.000000000",
          "2025-05-03T08:45:00.000000000",
          "2025-05-03T09:00:00.000000000",
          "2025-05-03T09:15:00.000000000",
          "2025-05-03T09:30:00.000000000",
          "2025-05-03T09:45:00.000000000",
          "2025-05-03T10:00:00.000000000",
          "2025-05-03T10:15:00.000000000",
          "2025-05-03T10:30:00.000000000",
          "2025-05-03T10:45:00.000000000",
          "2025-05-03T11:00:00.000000000",
          "2025-05-03T11:15:00.000000000",
          "2025-05-03T11:30:00.000000000",
          "2025-05-03T11:45:00.000000000",
          "2025-05-03T12:00:00.000000000",
          "2025-05-03T12:15:00.000000000",
          "2025-05-03T12:30:00.000000000",
          "2025-05-03T12:45:00.000000000",
          "2025-05-03T13:00:00.000000000",
          "2025-05-03T13:15:00.000000000",
          "2025-05-03T13:30:00.000000000",
          "2025-05-03T13:45:00.000000000",
          "2025-05-03T14:00:00.000000000",
          "2025-05-03T14:15:00.000000000",
          "2025-05-03T14:30:00.000000000",
          "2025-05-03T14:45:00.000000000",
          "2025-05-03T15:00:00.000000000",
          "2025-05-03T15:15:00.000000000",
          "2025-05-03T15:30:00.000000000",
          "2025-05-03T15:45:00.000000000",
          "2025-05-03T16:00:00.000000000",
          "2025-05-03T16:15:00.000000000",
          "2025-05-03T16:30:00.000000000",
          "2025-05-03T16:45:00.000000000",
          "2025-05-03T17:00:00.000000000",
          "2025-05-03T17:15:00.000000000",
          "2025-05-03T17:30:00.000000000",
          "2025-05-03T17:45:00.000000000",
          "2025-05-03T18:00:00.000000000",
          "2025-05-03T18:15:00.000000000",
          "2025-05-03T18:30:00.000000000",
          "2025-05-03T18:45:00.000000000",
          "2025-05-03T19:00:00.000000000",
          "2025-05-03T19:15:00.000000000",
          "2025-05-03T19:30:00.000000000",
          "2025-05-03T19:45:00.000000000",
          "2025-05-03T20:00:00.000000000",
          "2025-05-03T20:15:00.000000000",
          "2025-05-03T20:30:00.000000000",
          "2025-05-03T20:45:00.000000000",
          "2025-05-03T21:00:00.000000000",
          "2025-05-03T21:15:00.000000000",
          "2025-05-03T21:30:00.000000000",
          "2025-05-03T21:45:00.000000000",
          "2025-05-03T22:00:00.000000000",
          "2025-05-03T22:15:00.000000000",
          "2025-05-03T22:30:00.000000000",
          "2025-05-03T22:45:00.000000000",
          "2025-05-03T23:00:00.000000000",
          "2025-05-03T23:15:00.000000000",
          "2025-05-03T23:30:00.000000000",
          "2025-05-03T23:45:00.000000000",
          "2025-05-04T00:00:00.000000000",
          "2025-05-04T00:15:00.000000000",
          "2025-05-04T00:30:00.000000000",
          "2025-05-04T00:45:00.000000000",
          "2025-05-04T01:00:00.000000000",
          "2025-05-04T01:15:00.000000000",
          "2025-05-04T01:30:00.000000000",
          "2025-05-04T01:45:00.000000000",
          "2025-05-04T02:00:00.000000000",
          "2025-05-04T02:15:00.000000000",
          "2025-05-04T02:30:00.000000000",
          "2025-05-04T02:45:00.000000000",
          "2025-05-04T03:00:00.000000000",
          "2025-05-04T03:15:00.000000000",
          "2025-05-04T03:30:00.000000000",
          "2025-05-04T03:45:00.000000000",
          "2025-05-04T04:00:00.000000000",
          "2025-05-04T04:15:00.000000000",
          "2025-05-04T04:30:00.000000000",
          "2025-05-04T04:45:00.000000000",
          "2025-05-04T05:00:00.000000000",
          "2025-05-04T05:15:00.000000000",
          "2025-05-04T05:30:00.000000000",
          "2025-05-04T05:45:00.000000000",
          "2025-05-04T06:00:00.000000000",
          "2025-05-04T06:15:00.000000000",
          "2025-05-04T06:30:00.000000000",
          "2025-05-04T06:45:00.000000000",
          "2025-05-04T07:00:00.000000000",
          "2025-05-04T07:15:00.000000000",
          "2025-05-04T07:30:00.000000000",
          "2025-05-04T07:45:00.000000000",
          "2025-05-04T08:00:00.000000000",
          "2025-05-04T08:15:00.000000000",
          "2025-05-04T08:30:00.000000000",
          "2025-05-04T08:45:00.000000000",
          "2025-05-04T09:00:00.000000000",
          "2025-05-04T09:15:00.000000000",
          "2025-05-04T09:30:00.000000000",
          "2025-05-04T09:45:00.000000000",
          "2025-05-04T10:00:00.000000000",
          "2025-05-04T10:15:00.000000000"
         ],
         "xaxis": "x",
         "y": {
          "bdata": "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",
          "dtype": "f8"
         },
         "yaxis": "y"
        }
       ],
       "layout": {
        "annotations": [
         {
          "font": {
           "size": 16
          },
          "showarrow": false,
          "text": "Candlestick chart",
          "x": 0.5,
          "xanchor": "center",
          "xref": "paper",
          "y": 1,
          "yanchor": "bottom",
          "yref": "paper"
         },
         {
          "font": {
           "size": 16
          },
          "showarrow": false,
          "text": "RSI",
          "x": 0.5,
          "xanchor": "center",
          "xref": "paper",
          "y": 0.20000000000000004,
          "yanchor": "bottom",
          "yref": "paper"
         }
        ],
        "height": 700,
        "shapes": [
         {
          "line": {
           "color": "red",
           "dash": "dash",
           "width": 1
          },
          "type": "line",
          "x0": "2025-04-30T06:30:00",
          "x1": "2025-05-04T10:15:00",
          "xref": "x2",
          "y0": 30,
          "y1": 30,
          "yref": "y2"
         },
         {
          "line": {
           "color": "green",
           "dash": "dash",
           "width": 1
          },
          "type": "line",
          "x0": "2025-04-30T06:30:00",
          "x1": "2025-05-04T10:15:00",
          "xref": "x2",
          "y0": 70,
          "y1": 70,
          "yref": "y2"
         }
        ],
        "template": {
         "data": {
          "bar": [
           {
            "error_x": {
             "color": "#2a3f5f"
            },
            "error_y": {
             "color": "#2a3f5f"
            },
            "marker": {
             "line": {
              "color": "#E5ECF6",
              "width": 0.5
             },
             "pattern": {
              "fillmode": "overlay",
              "size": 10,
              "solidity": 0.2
             }
            },
            "type": "bar"
           }
          ],
          "barpolar": [
           {
            "marker": {
             "line": {
              "color": "#E5ECF6",
              "width": 0.5
             },
             "pattern": {
              "fillmode": "overlay",
              "size": 10,
              "solidity": 0.2
             }
            },
            "type": "barpolar"
           }
          ],
          "carpet": [
           {
            "aaxis": {
             "endlinecolor": "#2a3f5f",
             "gridcolor": "white",
             "linecolor": "white",
             "minorgridcolor": "white",
             "startlinecolor": "#2a3f5f"
            },
            "baxis": {
             "endlinecolor": "#2a3f5f",
             "gridcolor": "white",
             "linecolor": "white",
             "minorgridcolor": "white",
             "startlinecolor": "#2a3f5f"
            },
            "type": "carpet"
           }
          ],
          "choropleth": [
           {
            "colorbar": {
             "outlinewidth": 0,
             "ticks": ""
            },
            "type": "choropleth"
           }
          ],
          "contour": [
           {
            "colorbar": {
             "outlinewidth": 0,
             "ticks": ""
            },
            "colorscale": [
             [
              0,
              "#0d0887"
             ],
             [
              0.1111111111111111,
              "#46039f"
             ],
             [
              0.2222222222222222,
              "#7201a8"
             ],
             [
              0.3333333333333333,
              "#9c179e"
             ],
             [
              0.4444444444444444,
              "#bd3786"
             ],
             [
              0.5555555555555556,
              "#d8576b"
             ],
             [
              0.6666666666666666,
              "#ed7953"
             ],
             [
              0.7777777777777778,
              "#fb9f3a"
             ],
             [
              0.8888888888888888,
              "#fdca26"
             ],
             [
              1,
              "#f0f921"
             ]
            ],
            "type": "contour"
           }
          ],
          "contourcarpet": [
           {
            "colorbar": {
             "outlinewidth": 0,
             "ticks": ""
            },
            "type": "contourcarpet"
           }
          ],
          "heatmap": [
           {
            "colorbar": {
             "outlinewidth": 0,
             "ticks": ""
            },
            "colorscale": [
             [
              0,
              "#0d0887"
             ],
             [
              0.1111111111111111,
              "#46039f"
             ],
             [
              0.2222222222222222,
              "#7201a8"
             ],
             [
              0.3333333333333333,
              "#9c179e"
             ],
             [
              0.4444444444444444,
              "#bd3786"
             ],
             [
              0.5555555555555556,
              "#d8576b"
             ],
             [
              0.6666666666666666,
              "#ed7953"
             ],
             [
              0.7777777777777778,
              "#fb9f3a"
             ],
             [
              0.8888888888888888,
              "#fdca26"
             ],
             [
              1,
              "#f0f921"
             ]
            ],
            "type": "heatmap"
           }
          ],
          "histogram": [
           {
            "marker": {
             "pattern": {
              "fillmode": "overlay",
              "size": 10,
              "solidity": 0.2
             }
            },
            "type": "histogram"
           }
          ],
          "histogram2d": [
           {
            "colorbar": {
             "outlinewidth": 0,
             "ticks": ""
            },
            "colorscale": [
             [
              0,
              "#0d0887"
             ],
             [
              0.1111111111111111,
              "#46039f"
             ],
             [
              0.2222222222222222,
              "#7201a8"
             ],
             [
              0.3333333333333333,
              "#9c179e"
             ],
             [
              0.4444444444444444,
              "#bd3786"
             ],
             [
              0.5555555555555556,
              "#d8576b"
             ],
             [
              0.6666666666666666,
              "#ed7953"
             ],
             [
              0.7777777777777778,
              "#fb9f3a"
             ],
             [
              0.8888888888888888,
              "#fdca26"
             ],
             [
              1,
              "#f0f921"
             ]
            ],
            "type": "histogram2d"
           }
          ],
          "histogram2dcontour": [
           {
            "colorbar": {
             "outlinewidth": 0,
             "ticks": ""
            },
            "colorscale": [
             [
              0,
              "#0d0887"
             ],
             [
              0.1111111111111111,
              "#46039f"
             ],
             [
              0.2222222222222222,
              "#7201a8"
             ],
             [
              0.3333333333333333,
              "#9c179e"
             ],
             [
              0.4444444444444444,
              "#bd3786"
             ],
             [
              0.5555555555555556,
              "#d8576b"
             ],
             [
              0.6666666666666666,
              "#ed7953"
             ],
             [
              0.7777777777777778,
              "#fb9f3a"
             ],
             [
              0.8888888888888888,
              "#fdca26"
             ],
             [
              1,
              "#f0f921"
             ]
            ],
            "type": "histogram2dcontour"
           }
          ],
          "mesh3d": [
           {
            "colorbar": {
             "outlinewidth": 0,
             "ticks": ""
            },
            "type": "mesh3d"
           }
          ],
          "parcoords": [
           {
            "line": {
             "colorbar": {
              "outlinewidth": 0,
              "ticks": ""
             }
            },
            "type": "parcoords"
           }
          ],
          "pie": [
           {
            "automargin": true,
            "type": "pie"
           }
          ],
          "scatter": [
           {
            "fillpattern": {
             "fillmode": "overlay",
             "size": 10,
             "solidity": 0.2
            },
            "type": "scatter"
           }
          ],
          "scatter3d": [
           {
            "line": {
             "colorbar": {
              "outlinewidth": 0,
              "ticks": ""
             }
            },
            "marker": {
             "colorbar": {
              "outlinewidth": 0,
              "ticks": ""
             }
            },
            "type": "scatter3d"
           }
          ],
          "scattercarpet": [
           {
            "marker": {
             "colorbar": {
              "outlinewidth": 0,
              "ticks": ""
             }
            },
            "type": "scattercarpet"
           }
          ],
          "scattergeo": [
           {
            "marker": {
             "colorbar": {
              "outlinewidth": 0,
              "ticks": ""
             }
            },
            "type": "scattergeo"
           }
          ],
          "scattergl": [
           {
            "marker": {
             "colorbar": {
              "outlinewidth": 0,
              "ticks": ""
             }
            },
            "type": "scattergl"
           }
          ],
          "scattermap": [
           {
            "marker": {
             "colorbar": {
              "outlinewidth": 0,
              "ticks": ""
             }
            },
            "type": "scattermap"
           }
          ],
          "scattermapbox": [
           {
            "marker": {
             "colorbar": {
              "outlinewidth": 0,
              "ticks": ""
             }
            },
            "type": "scattermapbox"
           }
          ],
          "scatterpolar": [
           {
            "marker": {
             "colorbar": {
              "outlinewidth": 0,
              "ticks": ""
             }
            },
            "type": "scatterpolar"
           }
          ],
          "scatterpolargl": [
           {
            "marker": {
             "colorbar": {
              "outlinewidth": 0,
              "ticks": ""
             }
            },
            "type": "scatterpolargl"
           }
          ],
          "scatterternary": [
           {
            "marker": {
             "colorbar": {
              "outlinewidth": 0,
              "ticks": ""
             }
            },
            "type": "scatterternary"
           }
          ],
          "surface": [
           {
            "colorbar": {
             "outlinewidth": 0,
             "ticks": ""
            },
            "colorscale": [
             [
              0,
              "#0d0887"
             ],
             [
              0.1111111111111111,
              "#46039f"
             ],
             [
              0.2222222222222222,
              "#7201a8"
             ],
             [
              0.3333333333333333,
              "#9c179e"
             ],
             [
              0.4444444444444444,
              "#bd3786"
             ],
             [
              0.5555555555555556,
              "#d8576b"
             ],
             [
              0.6666666666666666,
              "#ed7953"
             ],
             [
              0.7777777777777778,
              "#fb9f3a"
             ],
             [
              0.8888888888888888,
              "#fdca26"
             ],
             [
              1,
              "#f0f921"
             ]
            ],
            "type": "surface"
           }
          ],
          "table": [
           {
            "cells": {
             "fill": {
              "color": "#EBF0F8"
             },
             "line": {
              "color": "white"
             }
            },
            "header": {
             "fill": {
              "color": "#C8D4E3"
             },
             "line": {
              "color": "white"
             }
            },
            "type": "table"
           }
          ]
         },
         "layout": {
          "annotationdefaults": {
           "arrowcolor": "#2a3f5f",
           "arrowhead": 0,
           "arrowwidth": 1
          },
          "autotypenumbers": "strict",
          "coloraxis": {
           "colorbar": {
            "outlinewidth": 0,
            "ticks": ""
           }
          },
          "colorscale": {
           "diverging": [
            [
             0,
             "#8e0152"
            ],
            [
             0.1,
             "#c51b7d"
            ],
            [
             0.2,
             "#de77ae"
            ],
            [
             0.3,
             "#f1b6da"
            ],
            [
             0.4,
             "#fde0ef"
            ],
            [
             0.5,
             "#f7f7f7"
            ],
            [
             0.6,
             "#e6f5d0"
            ],
            [
             0.7,
             "#b8e186"
            ],
            [
             0.8,
             "#7fbc41"
            ],
            [
             0.9,
             "#4d9221"
            ],
            [
             1,
             "#276419"
            ]
           ],
           "sequential": [
            [
             0,
             "#0d0887"
            ],
            [
             0.1111111111111111,
             "#46039f"
            ],
            [
             0.2222222222222222,
             "#7201a8"
            ],
            [
             0.3333333333333333,
             "#9c179e"
            ],
            [
             0.4444444444444444,
             "#bd3786"
            ],
            [
             0.5555555555555556,
             "#d8576b"
            ],
            [
             0.6666666666666666,
             "#ed7953"
            ],
            [
             0.7777777777777778,
             "#fb9f3a"
            ],
            [
             0.8888888888888888,
             "#fdca26"
            ],
            [
             1,
             "#f0f921"
            ]
           ],
           "sequentialminus": [
            [
             0,
             "#0d0887"
            ],
            [
             0.1111111111111111,
             "#46039f"
            ],
            [
             0.2222222222222222,
             "#7201a8"
            ],
            [
             0.3333333333333333,
             "#9c179e"
            ],
            [
             0.4444444444444444,
             "#bd3786"
            ],
            [
             0.5555555555555556,
             "#d8576b"
            ],
            [
             0.6666666666666666,
             "#ed7953"
            ],
            [
             0.7777777777777778,
             "#fb9f3a"
            ],
            [
             0.8888888888888888,
             "#fdca26"
            ],
            [
             1,
             "#f0f921"
            ]
           ]
          },
          "colorway": [
           "#636efa",
           "#EF553B",
           "#00cc96",
           "#ab63fa",
           "#FFA15A",
           "#19d3f3",
           "#FF6692",
           "#B6E880",
           "#FF97FF",
           "#FECB52"
          ],
          "font": {
           "color": "#2a3f5f"
          },
          "geo": {
           "bgcolor": "white",
           "lakecolor": "white",
           "landcolor": "#E5ECF6",
           "showlakes": true,
           "showland": true,
           "subunitcolor": "white"
          },
          "hoverlabel": {
           "align": "left"
          },
          "hovermode": "closest",
          "mapbox": {
           "style": "light"
          },
          "paper_bgcolor": "white",
          "plot_bgcolor": "#E5ECF6",
          "polar": {
           "angularaxis": {
            "gridcolor": "white",
            "linecolor": "white",
            "ticks": ""
           },
           "bgcolor": "#E5ECF6",
           "radialaxis": {
            "gridcolor": "white",
            "linecolor": "white",
            "ticks": ""
           }
          },
          "scene": {
           "xaxis": {
            "backgroundcolor": "#E5ECF6",
            "gridcolor": "white",
            "gridwidth": 2,
            "linecolor": "white",
            "showbackground": true,
            "ticks": "",
            "zerolinecolor": "white"
           },
           "yaxis": {
            "backgroundcolor": "#E5ECF6",
            "gridcolor": "white",
            "gridwidth": 2,
            "linecolor": "white",
            "showbackground": true,
            "ticks": "",
            "zerolinecolor": "white"
           },
           "zaxis": {
            "backgroundcolor": "#E5ECF6",
            "gridcolor": "white",
            "gridwidth": 2,
            "linecolor": "white",
            "showbackground": true,
            "ticks": "",
            "zerolinecolor": "white"
           }
          },
          "shapedefaults": {
           "line": {
            "color": "#2a3f5f"
           }
          },
          "ternary": {
           "aaxis": {
            "gridcolor": "white",
            "linecolor": "white",
            "ticks": ""
           },
           "baxis": {
            "gridcolor": "white",
            "linecolor": "white",
            "ticks": ""
           },
           "bgcolor": "#E5ECF6",
           "caxis": {
            "gridcolor": "white",
            "linecolor": "white",
            "ticks": ""
           }
          },
          "title": {
           "x": 0.05
          },
          "xaxis": {
           "automargin": true,
           "gridcolor": "white",
           "linecolor": "white",
           "ticks": "",
           "title": {
            "standoff": 15
           },
           "zerolinecolor": "white",
           "zerolinewidth": 2
          },
          "yaxis": {
           "automargin": true,
           "gridcolor": "white",
           "linecolor": "white",
           "ticks": "",
           "title": {
            "standoff": 15
           },
           "zerolinecolor": "white",
           "zerolinewidth": 2
          }
         }
        },
        "title": {
         "text": "Candlestick and RSI Chart with EMA included"
        },
        "xaxis": {
         "anchor": "y",
         "domain": [
          0,
          1
         ],
         "matches": "x2",
         "rangeslider": {
          "visible": false
         },
         "showticklabels": false,
         "title": {
          "text": "Time"
         }
        },
        "xaxis2": {
         "anchor": "y2",
         "domain": [
          0,
          1
         ]
        },
        "yaxis": {
         "anchor": "x",
         "domain": [
          0.30000000000000004,
          1
         ],
         "title": {
          "text": "Price"
         }
        },
        "yaxis2": {
         "anchor": "x2",
         "domain": [
          0,
          0.20000000000000004
         ]
        }
       }
      }
     },
     "metadata": {},
     "output_type": "display_data"
    }
   ],
   "source": [
    "# plot the k-line data stored in the object\n",
    "btc_indicate.plot([\"all\", \"kl\"])"
   ]
  },
  {
   "cell_type": "code",
   "execution_count": 9,
   "id": "09b8c74e",
   "metadata": {},
   "outputs": [],
   "source": [
    "bos_mss_arr = btc_indicate.calculate_bos_mss()"
   ]
  },
  {
   "cell_type": "code",
   "execution_count": 10,
   "id": "39b6f10e",
   "metadata": {},
   "outputs": [
    {
     "name": "stdout",
     "output_type": "stream",
     "text": [
      "[[2, 1, 94687.6, 4], [3, 10, 94756.6, 12], [1, 12, 95008.4, 19], [4, 19, 94885.9, 23], [2, 24, 94308.9, 26], [2, 27, 94165.1, 28], [3, 28, 94512.1, 54], [1, 78, 94787.8, 79], [1, 90, 94958.6, 92], [1, 94, 95140.8, 105], [1, 105, 95169.3, 107], [1, 111, 96355.4, 120], [1, 120, 96400.0, 122], [4, 122, 96243.7, 124], [3, 123, 96686.0, 129], [1, 130, 97270.0, 136], [4, 136, 97104.3, 137], [2, 138, 96900.0, 139], [2, 141, 96467.0, 143], [3, 143, 96608.2, 144], [1, 182, 97239.9, 224], [4, 227, 97003.7, 242], [2, 242, 96912.5, 244], [2, 245, 96690.1, 253], [3, 260, 96787.0, 261], [4, 267, 96481.0, 268], [2, 268, 96400.0, 275], [3, 279, 96482.7, 280], [4, 278, 96231.0, 287], [2, 289, 96069.4, 304], [3, 304, 96158.5, 315], [1, 316, 96267.6, 317], [1, 318, 96392.2, 322], [4, 325, 96250.8, 326], [2, 329, 96043.7, 330], [3, 340, 96292.4, 341], [4, 356, 95694.3, 364]]\n"
     ]
    }
   ],
   "source": [
    "print(bos_mss_arr)"
   ]
  },
  {
   "cell_type": "code",
   "execution_count": 11,
   "id": "408ef1ef",
   "metadata": {},
   "outputs": [
    {
     "data": {
      "application/vnd.plotly.v1+json": {
       "config": {
        "plotlyServerURL": "https://plot.ly"
       },
       "data": [
        {
         "close": {
          "bdata": "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",
          "dtype": "f8"
         },
         "decreasing": {
          "line": {
           "color": "red"
          }
         },
         "high": {
          "bdata": "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",
          "dtype": "f8"
         },
         "increasing": {
          "line": {
           "color": "green"
          }
         },
         "low": {
          "bdata": "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",
          "dtype": "f8"
         },
         "open": {
          "bdata": "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",
          "dtype": "f8"
         },
         "type": "candlestick",
         "x": [
          "2025-04-30T06:30:00.000000000",
          "2025-04-30T06:45:00.000000000",
          "2025-04-30T07:00:00.000000000",
          "2025-04-30T07:15:00.000000000",
          "2025-04-30T07:30:00.000000000",
          "2025-04-30T07:45:00.000000000",
          "2025-04-30T08:00:00.000000000",
          "2025-04-30T08:15:00.000000000",
          "2025-04-30T08:30:00.000000000",
          "2025-04-30T08:45:00.000000000",
          "2025-04-30T09:00:00.000000000",
          "2025-04-30T09:15:00.000000000",
          "2025-04-30T09:30:00.000000000",
          "2025-04-30T09:45:00.000000000",
          "2025-04-30T10:00:00.000000000",
          "2025-04-30T10:15:00.000000000",
          "2025-04-30T10:30:00.000000000",
          "2025-04-30T10:45:00.000000000",
          "2025-04-30T11:00:00.000000000",
          "2025-04-30T11:15:00.000000000",
          "2025-04-30T11:30:00.000000000",
          "2025-04-30T11:45:00.000000000",
          "2025-04-30T12:00:00.000000000",
          "2025-04-30T12:15:00.000000000",
          "2025-04-30T12:30:00.000000000",
          "2025-04-30T12:45:00.000000000",
          "2025-04-30T13:00:00.000000000",
          "2025-04-30T13:15:00.000000000",
          "2025-04-30T13:30:00.000000000",
          "2025-04-30T13:45:00.000000000",
          "2025-04-30T14:00:00.000000000",
          "2025-04-30T14:15:00.000000000",
          "2025-04-30T14:30:00.000000000",
          "2025-04-30T14:45:00.000000000",
          "2025-04-30T15:00:00.000000000",
          "2025-04-30T15:15:00.000000000",
          "2025-04-30T15:30:00.000000000",
          "2025-04-30T15:45:00.000000000",
          "2025-04-30T16:00:00.000000000",
          "2025-04-30T16:15:00.000000000",
          "2025-04-30T16:30:00.000000000",
          "2025-04-30T16:45:00.000000000",
          "2025-04-30T17:00:00.000000000",
          "2025-04-30T17:15:00.000000000",
          "2025-04-30T17:30:00.000000000",
          "2025-04-30T17:45:00.000000000",
          "2025-04-30T18:00:00.000000000",
          "2025-04-30T18:15:00.000000000",
          "2025-04-30T18:30:00.000000000",
          "2025-04-30T18:45:00.000000000",
          "2025-04-30T19:00:00.000000000",
          "2025-04-30T19:15:00.000000000",
          "2025-04-30T19:30:00.000000000",
          "2025-04-30T19:45:00.000000000",
          "2025-04-30T20:00:00.000000000",
          "2025-04-30T20:15:00.000000000",
          "2025-04-30T20:30:00.000000000",
          "2025-04-30T20:45:00.000000000",
          "2025-04-30T21:00:00.000000000",
          "2025-04-30T21:15:00.000000000",
          "2025-04-30T21:30:00.000000000",
          "2025-04-30T21:45:00.000000000",
          "2025-04-30T22:00:00.000000000",
          "2025-04-30T22:15:00.000000000",
          "2025-04-30T22:30:00.000000000",
          "2025-04-30T22:45:00.000000000",
          "2025-04-30T23:00:00.000000000",
          "2025-04-30T23:15:00.000000000",
          "2025-04-30T23:30:00.000000000",
          "2025-04-30T23:45:00.000000000",
          "2025-05-01T00:00:00.000000000",
          "2025-05-01T00:15:00.000000000",
          "2025-05-01T00:30:00.000000000",
          "2025-05-01T00:45:00.000000000",
          "2025-05-01T01:00:00.000000000",
          "2025-05-01T01:15:00.000000000",
          "2025-05-01T01:30:00.000000000",
          "2025-05-01T01:45:00.000000000",
          "2025-05-01T02:00:00.000000000",
          "2025-05-01T02:15:00.000000000",
          "2025-05-01T02:30:00.000000000",
          "2025-05-01T02:45:00.000000000",
          "2025-05-01T03:00:00.000000000",
          "2025-05-01T03:15:00.000000000",
          "2025-05-01T03:30:00.000000000",
          "2025-05-01T03:45:00.000000000",
          "2025-05-01T04:00:00.000000000",
          "2025-05-01T04:15:00.000000000",
          "2025-05-01T04:30:00.000000000",
          "2025-05-01T04:45:00.000000000",
          "2025-05-01T05:00:00.000000000",
          "2025-05-01T05:15:00.000000000",
          "2025-05-01T05:30:00.000000000",
          "2025-05-01T05:45:00.000000000",
          "2025-05-01T06:00:00.000000000",
          "2025-05-01T06:15:00.000000000",
          "2025-05-01T06:30:00.000000000",
          "2025-05-01T06:45:00.000000000",
          "2025-05-01T07:00:00.000000000",
          "2025-05-01T07:15:00.000000000",
          "2025-05-01T07:30:00.000000000",
          "2025-05-01T07:45:00.000000000",
          "2025-05-01T08:00:00.000000000",
          "2025-05-01T08:15:00.000000000",
          "2025-05-01T08:30:00.000000000",
          "2025-05-01T08:45:00.000000000",
          "2025-05-01T09:00:00.000000000",
          "2025-05-01T09:15:00.000000000",
          "2025-05-01T09:30:00.000000000",
          "2025-05-01T09:45:00.000000000",
          "2025-05-01T10:00:00.000000000",
          "2025-05-01T10:15:00.000000000",
          "2025-05-01T10:30:00.000000000",
          "2025-05-01T10:45:00.000000000",
          "2025-05-01T11:00:00.000000000",
          "2025-05-01T11:15:00.000000000",
          "2025-05-01T11:30:00.000000000",
          "2025-05-01T11:45:00.000000000",
          "2025-05-01T12:00:00.000000000",
          "2025-05-01T12:15:00.000000000",
          "2025-05-01T12:30:00.000000000",
          "2025-05-01T12:45:00.000000000",
          "2025-05-01T13:00:00.000000000",
          "2025-05-01T13:15:00.000000000",
          "2025-05-01T13:30:00.000000000",
          "2025-05-01T13:45:00.000000000",
          "2025-05-01T14:00:00.000000000",
          "2025-05-01T14:15:00.000000000",
          "2025-05-01T14:30:00.000000000",
          "2025-05-01T14:45:00.000000000",
          "2025-05-01T15:00:00.000000000",
          "2025-05-01T15:15:00.000000000",
          "2025-05-01T15:30:00.000000000",
          "2025-05-01T15:45:00.000000000",
          "2025-05-01T16:00:00.000000000",
          "2025-05-01T16:15:00.000000000",
          "2025-05-01T16:30:00.000000000",
          "2025-05-01T16:45:00.000000000",
          "2025-05-01T17:00:00.000000000",
          "2025-05-01T17:15:00.000000000",
          "2025-05-01T17:30:00.000000000",
          "2025-05-01T17:45:00.000000000",
          "2025-05-01T18:00:00.000000000",
          "2025-05-01T18:15:00.000000000",
          "2025-05-01T18:30:00.000000000",
          "2025-05-01T18:45:00.000000000",
          "2025-05-01T19:00:00.000000000",
          "2025-05-01T19:15:00.000000000",
          "2025-05-01T19:30:00.000000000",
          "2025-05-01T19:45:00.000000000",
          "2025-05-01T20:00:00.000000000",
          "2025-05-01T20:15:00.000000000",
          "2025-05-01T20:30:00.000000000",
          "2025-05-01T20:45:00.000000000",
          "2025-05-01T21:00:00.000000000",
          "2025-05-01T21:15:00.000000000",
          "2025-05-01T21:30:00.000000000",
          "2025-05-01T21:45:00.000000000",
          "2025-05-01T22:00:00.000000000",
          "2025-05-01T22:15:00.000000000",
          "2025-05-01T22:30:00.000000000",
          "2025-05-01T22:45:00.000000000",
          "2025-05-01T23:00:00.000000000",
          "2025-05-01T23:15:00.000000000",
          "2025-05-01T23:30:00.000000000",
          "2025-05-01T23:45:00.000000000",
          "2025-05-02T00:00:00.000000000",
          "2025-05-02T00:15:00.000000000",
          "2025-05-02T00:30:00.000000000",
          "2025-05-02T00:45:00.000000000",
          "2025-05-02T01:00:00.000000000",
          "2025-05-02T01:15:00.000000000",
          "2025-05-02T01:30:00.000000000",
          "2025-05-02T01:45:00.000000000",
          "2025-05-02T02:00:00.000000000",
          "2025-05-02T02:15:00.000000000",
          "2025-05-02T02:30:00.000000000",
          "2025-05-02T02:45:00.000000000",
          "2025-05-02T03:00:00.000000000",
          "2025-05-02T03:15:00.000000000",
          "2025-05-02T03:30:00.000000000",
          "2025-05-02T03:45:00.000000000",
          "2025-05-02T04:00:00.000000000",
          "2025-05-02T04:15:00.000000000",
          "2025-05-02T04:30:00.000000000",
          "2025-05-02T04:45:00.000000000",
          "2025-05-02T05:00:00.000000000",
          "2025-05-02T05:15:00.000000000",
          "2025-05-02T05:30:00.000000000",
          "2025-05-02T05:45:00.000000000",
          "2025-05-02T06:00:00.000000000",
          "2025-05-02T06:15:00.000000000",
          "2025-05-02T06:30:00.000000000",
          "2025-05-02T06:45:00.000000000",
          "2025-05-02T07:00:00.000000000",
          "2025-05-02T07:15:00.000000000",
          "2025-05-02T07:30:00.000000000",
          "2025-05-02T07:45:00.000000000",
          "2025-05-02T08:00:00.000000000",
          "2025-05-02T08:15:00.000000000",
          "2025-05-02T08:30:00.000000000",
          "2025-05-02T08:45:00.000000000",
          "2025-05-02T09:00:00.000000000",
          "2025-05-02T09:15:00.000000000",
          "2025-05-02T09:30:00.000000000",
          "2025-05-02T09:45:00.000000000",
          "2025-05-02T10:00:00.000000000",
          "2025-05-02T10:15:00.000000000",
          "2025-05-02T10:30:00.000000000",
          "2025-05-02T10:45:00.000000000",
          "2025-05-02T11:00:00.000000000",
          "2025-05-02T11:15:00.000000000",
          "2025-05-02T11:30:00.000000000",
          "2025-05-02T11:45:00.000000000",
          "2025-05-02T12:00:00.000000000",
          "2025-05-02T12:15:00.000000000",
          "2025-05-02T12:30:00.000000000",
          "2025-05-02T12:45:00.000000000",
          "2025-05-02T13:00:00.000000000",
          "2025-05-02T13:15:00.000000000",
          "2025-05-02T13:30:00.000000000",
          "2025-05-02T13:45:00.000000000",
          "2025-05-02T14:00:00.000000000",
          "2025-05-02T14:15:00.000000000",
          "2025-05-02T14:30:00.000000000",
          "2025-05-02T14:45:00.000000000",
          "2025-05-02T15:00:00.000000000",
          "2025-05-02T15:15:00.000000000",
          "2025-05-02T15:30:00.000000000",
          "2025-05-02T15:45:00.000000000",
          "2025-05-02T16:00:00.000000000",
          "2025-05-02T16:15:00.000000000",
          "2025-05-02T16:30:00.000000000",
          "2025-05-02T16:45:00.000000000",
          "2025-05-02T17:00:00.000000000",
          "2025-05-02T17:15:00.000000000",
          "2025-05-02T17:30:00.000000000",
          "2025-05-02T17:45:00.000000000",
          "2025-05-02T18:00:00.000000000",
          "2025-05-02T18:15:00.000000000",
          "2025-05-02T18:30:00.000000000",
          "2025-05-02T18:45:00.000000000",
          "2025-05-02T19:00:00.000000000",
          "2025-05-02T19:15:00.000000000",
          "2025-05-02T19:30:00.000000000",
          "2025-05-02T19:45:00.000000000",
          "2025-05-02T20:00:00.000000000",
          "2025-05-02T20:15:00.000000000",
          "2025-05-02T20:30:00.000000000",
          "2025-05-02T20:45:00.000000000",
          "2025-05-02T21:00:00.000000000",
          "2025-05-02T21:15:00.000000000",
          "2025-05-02T21:30:00.000000000",
          "2025-05-02T21:45:00.000000000",
          "2025-05-02T22:00:00.000000000",
          "2025-05-02T22:15:00.000000000",
          "2025-05-02T22:30:00.000000000",
          "2025-05-02T22:45:00.000000000",
          "2025-05-02T23:00:00.000000000",
          "2025-05-02T23:15:00.000000000",
          "2025-05-02T23:30:00.000000000",
          "2025-05-02T23:45:00.000000000",
          "2025-05-03T00:00:00.000000000",
          "2025-05-03T00:15:00.000000000",
          "2025-05-03T00:30:00.000000000",
          "2025-05-03T00:45:00.000000000",
          "2025-05-03T01:00:00.000000000",
          "2025-05-03T01:15:00.000000000",
          "2025-05-03T01:30:00.000000000",
          "2025-05-03T01:45:00.000000000",
          "2025-05-03T02:00:00.000000000",
          "2025-05-03T02:15:00.000000000",
          "2025-05-03T02:30:00.000000000",
          "2025-05-03T02:45:00.000000000",
          "2025-05-03T03:00:00.000000000",
          "2025-05-03T03:15:00.000000000",
          "2025-05-03T03:30:00.000000000",
          "2025-05-03T03:45:00.000000000",
          "2025-05-03T04:00:00.000000000",
          "2025-05-03T04:15:00.000000000",
          "2025-05-03T04:30:00.000000000",
          "2025-05-03T04:45:00.000000000",
          "2025-05-03T05:00:00.000000000",
          "2025-05-03T05:15:00.000000000",
          "2025-05-03T05:30:00.000000000",
          "2025-05-03T05:45:00.000000000",
          "2025-05-03T06:00:00.000000000",
          "2025-05-03T06:15:00.000000000",
          "2025-05-03T06:30:00.000000000",
          "2025-05-03T06:45:00.000000000",
          "2025-05-03T07:00:00.000000000",
          "2025-05-03T07:15:00.000000000",
          "2025-05-03T07:30:00.000000000",
          "2025-05-03T07:45:00.000000000",
          "2025-05-03T08:00:00.000000000",
          "2025-05-03T08:15:00.000000000",
          "2025-05-03T08:30:00.000000000",
          "2025-05-03T08:45:00.000000000",
          "2025-05-03T09:00:00.000000000",
          "2025-05-03T09:15:00.000000000",
          "2025-05-03T09:30:00.000000000",
          "2025-05-03T09:45:00.000000000",
          "2025-05-03T10:00:00.000000000",
          "2025-05-03T10:15:00.000000000",
          "2025-05-03T10:30:00.000000000",
          "2025-05-03T10:45:00.000000000",
          "2025-05-03T11:00:00.000000000",
          "2025-05-03T11:15:00.000000000",
          "2025-05-03T11:30:00.000000000",
          "2025-05-03T11:45:00.000000000",
          "2025-05-03T12:00:00.000000000",
          "2025-05-03T12:15:00.000000000",
          "2025-05-03T12:30:00.000000000",
          "2025-05-03T12:45:00.000000000",
          "2025-05-03T13:00:00.000000000",
          "2025-05-03T13:15:00.000000000",
          "2025-05-03T13:30:00.000000000",
          "2025-05-03T13:45:00.000000000",
          "2025-05-03T14:00:00.000000000",
          "2025-05-03T14:15:00.000000000",
          "2025-05-03T14:30:00.000000000",
          "2025-05-03T14:45:00.000000000",
          "2025-05-03T15:00:00.000000000",
          "2025-05-03T15:15:00.000000000",
          "2025-05-03T15:30:00.000000000",
          "2025-05-03T15:45:00.000000000",
          "2025-05-03T16:00:00.000000000",
          "2025-05-03T16:15:00.000000000",
          "2025-05-03T16:30:00.000000000",
          "2025-05-03T16:45:00.000000000",
          "2025-05-03T17:00:00.000000000",
          "2025-05-03T17:15:00.000000000",
          "2025-05-03T17:30:00.000000000",
          "2025-05-03T17:45:00.000000000",
          "2025-05-03T18:00:00.000000000",
          "2025-05-03T18:15:00.000000000",
          "2025-05-03T18:30:00.000000000",
          "2025-05-03T18:45:00.000000000",
          "2025-05-03T19:00:00.000000000",
          "2025-05-03T19:15:00.000000000",
          "2025-05-03T19:30:00.000000000",
          "2025-05-03T19:45:00.000000000",
          "2025-05-03T20:00:00.000000000",
          "2025-05-03T20:15:00.000000000",
          "2025-05-03T20:30:00.000000000",
          "2025-05-03T20:45:00.000000000",
          "2025-05-03T21:00:00.000000000",
          "2025-05-03T21:15:00.000000000",
          "2025-05-03T21:30:00.000000000",
          "2025-05-03T21:45:00.000000000",
          "2025-05-03T22:00:00.000000000",
          "2025-05-03T22:15:00.000000000",
          "2025-05-03T22:30:00.000000000",
          "2025-05-03T22:45:00.000000000",
          "2025-05-03T23:00:00.000000000",
          "2025-05-03T23:15:00.000000000",
          "2025-05-03T23:30:00.000000000",
          "2025-05-03T23:45:00.000000000",
          "2025-05-04T00:00:00.000000000",
          "2025-05-04T00:15:00.000000000",
          "2025-05-04T00:30:00.000000000",
          "2025-05-04T00:45:00.000000000",
          "2025-05-04T01:00:00.000000000",
          "2025-05-04T01:15:00.000000000",
          "2025-05-04T01:30:00.000000000",
          "2025-05-04T01:45:00.000000000",
          "2025-05-04T02:00:00.000000000",
          "2025-05-04T02:15:00.000000000",
          "2025-05-04T02:30:00.000000000",
          "2025-05-04T02:45:00.000000000",
          "2025-05-04T03:00:00.000000000",
          "2025-05-04T03:15:00.000000000",
          "2025-05-04T03:30:00.000000000",
          "2025-05-04T03:45:00.000000000",
          "2025-05-04T04:00:00.000000000",
          "2025-05-04T04:15:00.000000000",
          "2025-05-04T04:30:00.000000000",
          "2025-05-04T04:45:00.000000000",
          "2025-05-04T05:00:00.000000000",
          "2025-05-04T05:15:00.000000000",
          "2025-05-04T05:30:00.000000000",
          "2025-05-04T05:45:00.000000000",
          "2025-05-04T06:00:00.000000000",
          "2025-05-04T06:15:00.000000000",
          "2025-05-04T06:30:00.000000000",
          "2025-05-04T06:45:00.000000000",
          "2025-05-04T07:00:00.000000000",
          "2025-05-04T07:15:00.000000000",
          "2025-05-04T07:30:00.000000000",
          "2025-05-04T07:45:00.000000000",
          "2025-05-04T08:00:00.000000000",
          "2025-05-04T08:15:00.000000000",
          "2025-05-04T08:30:00.000000000",
          "2025-05-04T08:45:00.000000000",
          "2025-05-04T09:00:00.000000000",
          "2025-05-04T09:15:00.000000000",
          "2025-05-04T09:30:00.000000000",
          "2025-05-04T09:45:00.000000000",
          "2025-05-04T10:00:00.000000000",
          "2025-05-04T10:15:00.000000000"
         ]
        },
        {
         "line": {
          "color": "orange",
          "width": 2
         },
         "mode": "lines+text",
         "name": "Marker 2",
         "text": [
          "bos"
         ],
         "textposition": "top center",
         "type": "scatter",
         "x": [
          "2025-04-30T06:45:00",
          "2025-04-30T07:30:00"
         ],
         "y": [
          94687.6,
          94687.6
         ]
        },
        {
         "line": {
          "color": "purple",
          "width": 2
         },
         "mode": "lines+text",
         "name": "Marker 3",
         "text": [
          "mss"
         ],
         "textposition": "top center",
         "type": "scatter",
         "x": [
          "2025-04-30T09:00:00",
          "2025-04-30T09:30:00"
         ],
         "y": [
          94756.6,
          94756.6
         ]
        },
        {
         "line": {
          "color": "blue",
          "width": 2
         },
         "mode": "lines+text",
         "name": "Marker 1",
         "text": [
          "bos"
         ],
         "textposition": "top center",
         "type": "scatter",
         "x": [
          "2025-04-30T09:30:00",
          "2025-04-30T11:15:00"
         ],
         "y": [
          95008.4,
          95008.4
         ]
        },
        {
         "line": {
          "color": "yellow",
          "width": 2
         },
         "mode": "lines+text",
         "name": "Marker 4",
         "text": [
          "mss"
         ],
         "textposition": "top center",
         "type": "scatter",
         "x": [
          "2025-04-30T11:15:00",
          "2025-04-30T12:15:00"
         ],
         "y": [
          94885.9,
          94885.9
         ]
        },
        {
         "line": {
          "color": "orange",
          "width": 2
         },
         "mode": "lines+text",
         "name": "Marker 2",
         "text": [
          "bos"
         ],
         "textposition": "top center",
         "type": "scatter",
         "x": [
          "2025-04-30T12:30:00",
          "2025-04-30T13:00:00"
         ],
         "y": [
          94308.9,
          94308.9
         ]
        },
        {
         "line": {
          "color": "orange",
          "width": 2
         },
         "mode": "lines+text",
         "name": "Marker 2",
         "text": [
          "bos"
         ],
         "textposition": "top center",
         "type": "scatter",
         "x": [
          "2025-04-30T13:15:00",
          "2025-04-30T13:30:00"
         ],
         "y": [
          94165.1,
          94165.1
         ]
        },
        {
         "line": {
          "color": "purple",
          "width": 2
         },
         "mode": "lines+text",
         "name": "Marker 3",
         "text": [
          "mss"
         ],
         "textposition": "top center",
         "type": "scatter",
         "x": [
          "2025-04-30T13:30:00",
          "2025-04-30T20:00:00"
         ],
         "y": [
          94512.1,
          94512.1
         ]
        },
        {
         "line": {
          "color": "blue",
          "width": 2
         },
         "mode": "lines+text",
         "name": "Marker 1",
         "text": [
          "bos"
         ],
         "textposition": "top center",
         "type": "scatter",
         "x": [
          "2025-05-01T02:00:00",
          "2025-05-01T02:15:00"
         ],
         "y": [
          94787.8,
          94787.8
         ]
        },
        {
         "line": {
          "color": "blue",
          "width": 2
         },
         "mode": "lines+text",
         "name": "Marker 1",
         "text": [
          "bos"
         ],
         "textposition": "top center",
         "type": "scatter",
         "x": [
          "2025-05-01T05:00:00",
          "2025-05-01T05:30:00"
         ],
         "y": [
          94958.6,
          94958.6
         ]
        },
        {
         "line": {
          "color": "blue",
          "width": 2
         },
         "mode": "lines+text",
         "name": "Marker 1",
         "text": [
          "bos"
         ],
         "textposition": "top center",
         "type": "scatter",
         "x": [
          "2025-05-01T06:00:00",
          "2025-05-01T08:45:00"
         ],
         "y": [
          95140.8,
          95140.8
         ]
        },
        {
         "line": {
          "color": "blue",
          "width": 2
         },
         "mode": "lines+text",
         "name": "Marker 1",
         "text": [
          "bos"
         ],
         "textposition": "top center",
         "type": "scatter",
         "x": [
          "2025-05-01T08:45:00",
          "2025-05-01T09:15:00"
         ],
         "y": [
          95169.3,
          95169.3
         ]
        },
        {
         "line": {
          "color": "blue",
          "width": 2
         },
         "mode": "lines+text",
         "name": "Marker 1",
         "text": [
          "bos"
         ],
         "textposition": "top center",
         "type": "scatter",
         "x": [
          "2025-05-01T10:15:00",
          "2025-05-01T12:30:00"
         ],
         "y": [
          96355.4,
          96355.4
         ]
        },
        {
         "line": {
          "color": "blue",
          "width": 2
         },
         "mode": "lines+text",
         "name": "Marker 1",
         "text": [
          "bos"
         ],
         "textposition": "top center",
         "type": "scatter",
         "x": [
          "2025-05-01T12:30:00",
          "2025-05-01T13:00:00"
         ],
         "y": [
          96400,
          96400
         ]
        },
        {
         "line": {
          "color": "yellow",
          "width": 2
         },
         "mode": "lines+text",
         "name": "Marker 4",
         "text": [
          "mss"
         ],
         "textposition": "top center",
         "type": "scatter",
         "x": [
          "2025-05-01T13:00:00",
          "2025-05-01T13:30:00"
         ],
         "y": [
          96243.7,
          96243.7
         ]
        },
        {
         "line": {
          "color": "purple",
          "width": 2
         },
         "mode": "lines+text",
         "name": "Marker 3",
         "text": [
          "mss"
         ],
         "textposition": "top center",
         "type": "scatter",
         "x": [
          "2025-05-01T13:15:00",
          "2025-05-01T14:45:00"
         ],
         "y": [
          96686,
          96686
         ]
        },
        {
         "line": {
          "color": "blue",
          "width": 2
         },
         "mode": "lines+text",
         "name": "Marker 1",
         "text": [
          "bos"
         ],
         "textposition": "top center",
         "type": "scatter",
         "x": [
          "2025-05-01T15:00:00",
          "2025-05-01T16:30:00"
         ],
         "y": [
          97270,
          97270
         ]
        },
        {
         "line": {
          "color": "yellow",
          "width": 2
         },
         "mode": "lines+text",
         "name": "Marker 4",
         "text": [
          "mss"
         ],
         "textposition": "top center",
         "type": "scatter",
         "x": [
          "2025-05-01T16:30:00",
          "2025-05-01T16:45:00"
         ],
         "y": [
          97104.3,
          97104.3
         ]
        },
        {
         "line": {
          "color": "orange",
          "width": 2
         },
         "mode": "lines+text",
         "name": "Marker 2",
         "text": [
          "bos"
         ],
         "textposition": "top center",
         "type": "scatter",
         "x": [
          "2025-05-01T17:00:00",
          "2025-05-01T17:15:00"
         ],
         "y": [
          96900,
          96900
         ]
        },
        {
         "line": {
          "color": "orange",
          "width": 2
         },
         "mode": "lines+text",
         "name": "Marker 2",
         "text": [
          "bos"
         ],
         "textposition": "top center",
         "type": "scatter",
         "x": [
          "2025-05-01T17:45:00",
          "2025-05-01T18:15:00"
         ],
         "y": [
          96467,
          96467
         ]
        },
        {
         "line": {
          "color": "purple",
          "width": 2
         },
         "mode": "lines+text",
         "name": "Marker 3",
         "text": [
          "mss"
         ],
         "textposition": "top center",
         "type": "scatter",
         "x": [
          "2025-05-01T18:15:00",
          "2025-05-01T18:30:00"
         ],
         "y": [
          96608.2,
          96608.2
         ]
        },
        {
         "line": {
          "color": "blue",
          "width": 2
         },
         "mode": "lines+text",
         "name": "Marker 1",
         "text": [
          "bos"
         ],
         "textposition": "top center",
         "type": "scatter",
         "x": [
          "2025-05-02T04:00:00",
          "2025-05-02T14:30:00"
         ],
         "y": [
          97239.9,
          97239.9
         ]
        },
        {
         "line": {
          "color": "yellow",
          "width": 2
         },
         "mode": "lines+text",
         "name": "Marker 4",
         "text": [
          "mss"
         ],
         "textposition": "top center",
         "type": "scatter",
         "x": [
          "2025-05-02T15:15:00",
          "2025-05-02T19:00:00"
         ],
         "y": [
          97003.7,
          97003.7
         ]
        },
        {
         "line": {
          "color": "orange",
          "width": 2
         },
         "mode": "lines+text",
         "name": "Marker 2",
         "text": [
          "bos"
         ],
         "textposition": "top center",
         "type": "scatter",
         "x": [
          "2025-05-02T19:00:00",
          "2025-05-02T19:30:00"
         ],
         "y": [
          96912.5,
          96912.5
         ]
        },
        {
         "line": {
          "color": "orange",
          "width": 2
         },
         "mode": "lines+text",
         "name": "Marker 2",
         "text": [
          "bos"
         ],
         "textposition": "top center",
         "type": "scatter",
         "x": [
          "2025-05-02T19:45:00",
          "2025-05-02T21:45:00"
         ],
         "y": [
          96690.1,
          96690.1
         ]
        },
        {
         "line": {
          "color": "purple",
          "width": 2
         },
         "mode": "lines+text",
         "name": "Marker 3",
         "text": [
          "mss"
         ],
         "textposition": "top center",
         "type": "scatter",
         "x": [
          "2025-05-02T23:30:00",
          "2025-05-02T23:45:00"
         ],
         "y": [
          96787,
          96787
         ]
        },
        {
         "line": {
          "color": "yellow",
          "width": 2
         },
         "mode": "lines+text",
         "name": "Marker 4",
         "text": [
          "mss"
         ],
         "textposition": "top center",
         "type": "scatter",
         "x": [
          "2025-05-03T01:15:00",
          "2025-05-03T01:30:00"
         ],
         "y": [
          96481,
          96481
         ]
        },
        {
         "line": {
          "color": "orange",
          "width": 2
         },
         "mode": "lines+text",
         "name": "Marker 2",
         "text": [
          "bos"
         ],
         "textposition": "top center",
         "type": "scatter",
         "x": [
          "2025-05-03T01:30:00",
          "2025-05-03T03:15:00"
         ],
         "y": [
          96400,
          96400
         ]
        },
        {
         "line": {
          "color": "purple",
          "width": 2
         },
         "mode": "lines+text",
         "name": "Marker 3",
         "text": [
          "mss"
         ],
         "textposition": "top center",
         "type": "scatter",
         "x": [
          "2025-05-03T04:15:00",
          "2025-05-03T04:30:00"
         ],
         "y": [
          96482.7,
          96482.7
         ]
        },
        {
         "line": {
          "color": "yellow",
          "width": 2
         },
         "mode": "lines+text",
         "name": "Marker 4",
         "text": [
          "mss"
         ],
         "textposition": "top center",
         "type": "scatter",
         "x": [
          "2025-05-03T04:00:00",
          "2025-05-03T06:15:00"
         ],
         "y": [
          96231,
          96231
         ]
        },
        {
         "line": {
          "color": "orange",
          "width": 2
         },
         "mode": "lines+text",
         "name": "Marker 2",
         "text": [
          "bos"
         ],
         "textposition": "top center",
         "type": "scatter",
         "x": [
          "2025-05-03T06:45:00",
          "2025-05-03T10:30:00"
         ],
         "y": [
          96069.4,
          96069.4
         ]
        },
        {
         "line": {
          "color": "purple",
          "width": 2
         },
         "mode": "lines+text",
         "name": "Marker 3",
         "text": [
          "mss"
         ],
         "textposition": "top center",
         "type": "scatter",
         "x": [
          "2025-05-03T10:30:00",
          "2025-05-03T13:15:00"
         ],
         "y": [
          96158.5,
          96158.5
         ]
        },
        {
         "line": {
          "color": "blue",
          "width": 2
         },
         "mode": "lines+text",
         "name": "Marker 1",
         "text": [
          "bos"
         ],
         "textposition": "top center",
         "type": "scatter",
         "x": [
          "2025-05-03T13:30:00",
          "2025-05-03T13:45:00"
         ],
         "y": [
          96267.6,
          96267.6
         ]
        },
        {
         "line": {
          "color": "blue",
          "width": 2
         },
         "mode": "lines+text",
         "name": "Marker 1",
         "text": [
          "bos"
         ],
         "textposition": "top center",
         "type": "scatter",
         "x": [
          "2025-05-03T14:00:00",
          "2025-05-03T15:00:00"
         ],
         "y": [
          96392.2,
          96392.2
         ]
        },
        {
         "line": {
          "color": "yellow",
          "width": 2
         },
         "mode": "lines+text",
         "name": "Marker 4",
         "text": [
          "mss"
         ],
         "textposition": "top center",
         "type": "scatter",
         "x": [
          "2025-05-03T15:45:00",
          "2025-05-03T16:00:00"
         ],
         "y": [
          96250.8,
          96250.8
         ]
        },
        {
         "line": {
          "color": "orange",
          "width": 2
         },
         "mode": "lines+text",
         "name": "Marker 2",
         "text": [
          "bos"
         ],
         "textposition": "top center",
         "type": "scatter",
         "x": [
          "2025-05-03T16:45:00",
          "2025-05-03T17:00:00"
         ],
         "y": [
          96043.7,
          96043.7
         ]
        },
        {
         "line": {
          "color": "purple",
          "width": 2
         },
         "mode": "lines+text",
         "name": "Marker 3",
         "text": [
          "mss"
         ],
         "textposition": "top center",
         "type": "scatter",
         "x": [
          "2025-05-03T19:30:00",
          "2025-05-03T19:45:00"
         ],
         "y": [
          96292.4,
          96292.4
         ]
        },
        {
         "line": {
          "color": "yellow",
          "width": 2
         },
         "mode": "lines+text",
         "name": "Marker 4",
         "text": [
          "mss"
         ],
         "textposition": "top center",
         "type": "scatter",
         "x": [
          "2025-05-03T23:30:00",
          "2025-05-04T01:30:00"
         ],
         "y": [
          95694.3,
          95694.3
         ]
        }
       ],
       "layout": {
        "template": {
         "data": {
          "bar": [
           {
            "error_x": {
             "color": "#2a3f5f"
            },
            "error_y": {
             "color": "#2a3f5f"
            },
            "marker": {
             "line": {
              "color": "#E5ECF6",
              "width": 0.5
             },
             "pattern": {
              "fillmode": "overlay",
              "size": 10,
              "solidity": 0.2
             }
            },
            "type": "bar"
           }
          ],
          "barpolar": [
           {
            "marker": {
             "line": {
              "color": "#E5ECF6",
              "width": 0.5
             },
             "pattern": {
              "fillmode": "overlay",
              "size": 10,
              "solidity": 0.2
             }
            },
            "type": "barpolar"
           }
          ],
          "carpet": [
           {
            "aaxis": {
             "endlinecolor": "#2a3f5f",
             "gridcolor": "white",
             "linecolor": "white",
             "minorgridcolor": "white",
             "startlinecolor": "#2a3f5f"
            },
            "baxis": {
             "endlinecolor": "#2a3f5f",
             "gridcolor": "white",
             "linecolor": "white",
             "minorgridcolor": "white",
             "startlinecolor": "#2a3f5f"
            },
            "type": "carpet"
           }
          ],
          "choropleth": [
           {
            "colorbar": {
             "outlinewidth": 0,
             "ticks": ""
            },
            "type": "choropleth"
           }
          ],
          "contour": [
           {
            "colorbar": {
             "outlinewidth": 0,
             "ticks": ""
            },
            "colorscale": [
             [
              0,
              "#0d0887"
             ],
             [
              0.1111111111111111,
              "#46039f"
             ],
             [
              0.2222222222222222,
              "#7201a8"
             ],
             [
              0.3333333333333333,
              "#9c179e"
             ],
             [
              0.4444444444444444,
              "#bd3786"
             ],
             [
              0.5555555555555556,
              "#d8576b"
             ],
             [
              0.6666666666666666,
              "#ed7953"
             ],
             [
              0.7777777777777778,
              "#fb9f3a"
             ],
             [
              0.8888888888888888,
              "#fdca26"
             ],
             [
              1,
              "#f0f921"
             ]
            ],
            "type": "contour"
           }
          ],
          "contourcarpet": [
           {
            "colorbar": {
             "outlinewidth": 0,
             "ticks": ""
            },
            "type": "contourcarpet"
           }
          ],
          "heatmap": [
           {
            "colorbar": {
             "outlinewidth": 0,
             "ticks": ""
            },
            "colorscale": [
             [
              0,
              "#0d0887"
             ],
             [
              0.1111111111111111,
              "#46039f"
             ],
             [
              0.2222222222222222,
              "#7201a8"
             ],
             [
              0.3333333333333333,
              "#9c179e"
             ],
             [
              0.4444444444444444,
              "#bd3786"
             ],
             [
              0.5555555555555556,
              "#d8576b"
             ],
             [
              0.6666666666666666,
              "#ed7953"
             ],
             [
              0.7777777777777778,
              "#fb9f3a"
             ],
             [
              0.8888888888888888,
              "#fdca26"
             ],
             [
              1,
              "#f0f921"
             ]
            ],
            "type": "heatmap"
           }
          ],
          "histogram": [
           {
            "marker": {
             "pattern": {
              "fillmode": "overlay",
              "size": 10,
              "solidity": 0.2
             }
            },
            "type": "histogram"
           }
          ],
          "histogram2d": [
           {
            "colorbar": {
             "outlinewidth": 0,
             "ticks": ""
            },
            "colorscale": [
             [
              0,
              "#0d0887"
             ],
             [
              0.1111111111111111,
              "#46039f"
             ],
             [
              0.2222222222222222,
              "#7201a8"
             ],
             [
              0.3333333333333333,
              "#9c179e"
             ],
             [
              0.4444444444444444,
              "#bd3786"
             ],
             [
              0.5555555555555556,
              "#d8576b"
             ],
             [
              0.6666666666666666,
              "#ed7953"
             ],
             [
              0.7777777777777778,
              "#fb9f3a"
             ],
             [
              0.8888888888888888,
              "#fdca26"
             ],
             [
              1,
              "#f0f921"
             ]
            ],
            "type": "histogram2d"
           }
          ],
          "histogram2dcontour": [
           {
            "colorbar": {
             "outlinewidth": 0,
             "ticks": ""
            },
            "colorscale": [
             [
              0,
              "#0d0887"
             ],
             [
              0.1111111111111111,
              "#46039f"
             ],
             [
              0.2222222222222222,
              "#7201a8"
             ],
             [
              0.3333333333333333,
              "#9c179e"
             ],
             [
              0.4444444444444444,
              "#bd3786"
             ],
             [
              0.5555555555555556,
              "#d8576b"
             ],
             [
              0.6666666666666666,
              "#ed7953"
             ],
             [
              0.7777777777777778,
              "#fb9f3a"
             ],
             [
              0.8888888888888888,
              "#fdca26"
             ],
             [
              1,
              "#f0f921"
             ]
            ],
            "type": "histogram2dcontour"
           }
          ],
          "mesh3d": [
           {
            "colorbar": {
             "outlinewidth": 0,
             "ticks": ""
            },
            "type": "mesh3d"
           }
          ],
          "parcoords": [
           {
            "line": {
             "colorbar": {
              "outlinewidth": 0,
              "ticks": ""
             }
            },
            "type": "parcoords"
           }
          ],
          "pie": [
           {
            "automargin": true,
            "type": "pie"
           }
          ],
          "scatter": [
           {
            "fillpattern": {
             "fillmode": "overlay",
             "size": 10,
             "solidity": 0.2
            },
            "type": "scatter"
           }
          ],
          "scatter3d": [
           {
            "line": {
             "colorbar": {
              "outlinewidth": 0,
              "ticks": ""
             }
            },
            "marker": {
             "colorbar": {
              "outlinewidth": 0,
              "ticks": ""
             }
            },
            "type": "scatter3d"
           }
          ],
          "scattercarpet": [
           {
            "marker": {
             "colorbar": {
              "outlinewidth": 0,
              "ticks": ""
             }
            },
            "type": "scattercarpet"
           }
          ],
          "scattergeo": [
           {
            "marker": {
             "colorbar": {
              "outlinewidth": 0,
              "ticks": ""
             }
            },
            "type": "scattergeo"
           }
          ],
          "scattergl": [
           {
            "marker": {
             "colorbar": {
              "outlinewidth": 0,
              "ticks": ""
             }
            },
            "type": "scattergl"
           }
          ],
          "scattermap": [
           {
            "marker": {
             "colorbar": {
              "outlinewidth": 0,
              "ticks": ""
             }
            },
            "type": "scattermap"
           }
          ],
          "scattermapbox": [
           {
            "marker": {
             "colorbar": {
              "outlinewidth": 0,
              "ticks": ""
             }
            },
            "type": "scattermapbox"
           }
          ],
          "scatterpolar": [
           {
            "marker": {
             "colorbar": {
              "outlinewidth": 0,
              "ticks": ""
             }
            },
            "type": "scatterpolar"
           }
          ],
          "scatterpolargl": [
           {
            "marker": {
             "colorbar": {
              "outlinewidth": 0,
              "ticks": ""
             }
            },
            "type": "scatterpolargl"
           }
          ],
          "scatterternary": [
           {
            "marker": {
             "colorbar": {
              "outlinewidth": 0,
              "ticks": ""
             }
            },
            "type": "scatterternary"
           }
          ],
          "surface": [
           {
            "colorbar": {
             "outlinewidth": 0,
             "ticks": ""
            },
            "colorscale": [
             [
              0,
              "#0d0887"
             ],
             [
              0.1111111111111111,
              "#46039f"
             ],
             [
              0.2222222222222222,
              "#7201a8"
             ],
             [
              0.3333333333333333,
              "#9c179e"
             ],
             [
              0.4444444444444444,
              "#bd3786"
             ],
             [
              0.5555555555555556,
              "#d8576b"
             ],
             [
              0.6666666666666666,
              "#ed7953"
             ],
             [
              0.7777777777777778,
              "#fb9f3a"
             ],
             [
              0.8888888888888888,
              "#fdca26"
             ],
             [
              1,
              "#f0f921"
             ]
            ],
            "type": "surface"
           }
          ],
          "table": [
           {
            "cells": {
             "fill": {
              "color": "#EBF0F8"
             },
             "line": {
              "color": "white"
             }
            },
            "header": {
             "fill": {
              "color": "#C8D4E3"
             },
             "line": {
              "color": "white"
             }
            },
            "type": "table"
           }
          ]
         },
         "layout": {
          "annotationdefaults": {
           "arrowcolor": "#2a3f5f",
           "arrowhead": 0,
           "arrowwidth": 1
          },
          "autotypenumbers": "strict",
          "coloraxis": {
           "colorbar": {
            "outlinewidth": 0,
            "ticks": ""
           }
          },
          "colorscale": {
           "diverging": [
            [
             0,
             "#8e0152"
            ],
            [
             0.1,
             "#c51b7d"
            ],
            [
             0.2,
             "#de77ae"
            ],
            [
             0.3,
             "#f1b6da"
            ],
            [
             0.4,
             "#fde0ef"
            ],
            [
             0.5,
             "#f7f7f7"
            ],
            [
             0.6,
             "#e6f5d0"
            ],
            [
             0.7,
             "#b8e186"
            ],
            [
             0.8,
             "#7fbc41"
            ],
            [
             0.9,
             "#4d9221"
            ],
            [
             1,
             "#276419"
            ]
           ],
           "sequential": [
            [
             0,
             "#0d0887"
            ],
            [
             0.1111111111111111,
             "#46039f"
            ],
            [
             0.2222222222222222,
             "#7201a8"
            ],
            [
             0.3333333333333333,
             "#9c179e"
            ],
            [
             0.4444444444444444,
             "#bd3786"
            ],
            [
             0.5555555555555556,
             "#d8576b"
            ],
            [
             0.6666666666666666,
             "#ed7953"
            ],
            [
             0.7777777777777778,
             "#fb9f3a"
            ],
            [
             0.8888888888888888,
             "#fdca26"
            ],
            [
             1,
             "#f0f921"
            ]
           ],
           "sequentialminus": [
            [
             0,
             "#0d0887"
            ],
            [
             0.1111111111111111,
             "#46039f"
            ],
            [
             0.2222222222222222,
             "#7201a8"
            ],
            [
             0.3333333333333333,
             "#9c179e"
            ],
            [
             0.4444444444444444,
             "#bd3786"
            ],
            [
             0.5555555555555556,
             "#d8576b"
            ],
            [
             0.6666666666666666,
             "#ed7953"
            ],
            [
             0.7777777777777778,
             "#fb9f3a"
            ],
            [
             0.8888888888888888,
             "#fdca26"
            ],
            [
             1,
             "#f0f921"
            ]
           ]
          },
          "colorway": [
           "#636efa",
           "#EF553B",
           "#00cc96",
           "#ab63fa",
           "#FFA15A",
           "#19d3f3",
           "#FF6692",
           "#B6E880",
           "#FF97FF",
           "#FECB52"
          ],
          "font": {
           "color": "#2a3f5f"
          },
          "geo": {
           "bgcolor": "white",
           "lakecolor": "white",
           "landcolor": "#E5ECF6",
           "showlakes": true,
           "showland": true,
           "subunitcolor": "white"
          },
          "hoverlabel": {
           "align": "left"
          },
          "hovermode": "closest",
          "mapbox": {
           "style": "light"
          },
          "paper_bgcolor": "white",
          "plot_bgcolor": "#E5ECF6",
          "polar": {
           "angularaxis": {
            "gridcolor": "white",
            "linecolor": "white",
            "ticks": ""
           },
           "bgcolor": "#E5ECF6",
           "radialaxis": {
            "gridcolor": "white",
            "linecolor": "white",
            "ticks": ""
           }
          },
          "scene": {
           "xaxis": {
            "backgroundcolor": "#E5ECF6",
            "gridcolor": "white",
            "gridwidth": 2,
            "linecolor": "white",
            "showbackground": true,
            "ticks": "",
            "zerolinecolor": "white"
           },
           "yaxis": {
            "backgroundcolor": "#E5ECF6",
            "gridcolor": "white",
            "gridwidth": 2,
            "linecolor": "white",
            "showbackground": true,
            "ticks": "",
            "zerolinecolor": "white"
           },
           "zaxis": {
            "backgroundcolor": "#E5ECF6",
            "gridcolor": "white",
            "gridwidth": 2,
            "linecolor": "white",
            "showbackground": true,
            "ticks": "",
            "zerolinecolor": "white"
           }
          },
          "shapedefaults": {
           "line": {
            "color": "#2a3f5f"
           }
          },
          "ternary": {
           "aaxis": {
            "gridcolor": "white",
            "linecolor": "white",
            "ticks": ""
           },
           "baxis": {
            "gridcolor": "white",
            "linecolor": "white",
            "ticks": ""
           },
           "bgcolor": "#E5ECF6",
           "caxis": {
            "gridcolor": "white",
            "linecolor": "white",
            "ticks": ""
           }
          },
          "title": {
           "x": 0.05
          },
          "xaxis": {
           "automargin": true,
           "gridcolor": "white",
           "linecolor": "white",
           "ticks": "",
           "title": {
            "standoff": 15
           },
           "zerolinecolor": "white",
           "zerolinewidth": 2
          },
          "yaxis": {
           "automargin": true,
           "gridcolor": "white",
           "linecolor": "white",
           "ticks": "",
           "title": {
            "standoff": 15
           },
           "zerolinecolor": "white",
           "zerolinewidth": 2
          }
         }
        },
        "title": {
         "text": "Candlestick chart of BTC-USDT"
        },
        "xaxis": {
         "rangeslider": {
          "visible": false
         },
         "title": {
          "text": "Time"
         }
        },
        "yaxis": {
         "title": {
          "text": "Price"
         }
        }
       }
      }
     },
     "metadata": {},
     "output_type": "display_data"
    }
   ],
   "source": [
    "btc_indicate.plot([\"kl\"], bos_mss_data=bos_mss_arr)"
   ]
  },
  {
   "cell_type": "code",
   "execution_count": 12,
   "id": "16ef7149",
   "metadata": {},
   "outputs": [],
   "source": [
    "r = btc_indicate.find_rsi_divergences()"
   ]
  },
  {
   "cell_type": "code",
   "execution_count": 13,
   "id": "7fce4087",
   "metadata": {},
   "outputs": [
    {
     "name": "stdout",
     "output_type": "stream",
     "text": [
      "[[0, Timestamp('2025-05-01 10:15:00'), 85.44632621534258, Timestamp('2025-05-01 13:15:00'), 76.30770322544085], [0, Timestamp('2025-05-01 13:15:00'), 76.30770322544085, Timestamp('2025-05-01 15:00:00'), 72.62616421918288], [0, Timestamp('2025-05-01 15:00:00'), 72.62616421918288, Timestamp('2025-05-01 16:30:00'), 67.55329013229428], [1, Timestamp('2025-05-03 03:45:00'), 32.822538241131646, Timestamp('2025-05-03 09:00:00'), 43.64388463417574]]\n"
     ]
    }
   ],
   "source": [
    "print(r)"
   ]
  },
  {
   "cell_type": "code",
   "execution_count": 14,
   "id": "eea32499",
   "metadata": {},
   "outputs": [
    {
     "data": {
      "application/vnd.plotly.v1+json": {
       "config": {
        "plotlyServerURL": "https://plot.ly"
       },
       "data": [
        {
         "close": {
          "bdata": "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",
          "dtype": "f8"
         },
         "decreasing": {
          "line": {
           "color": "red"
          }
         },
         "high": {
          "bdata": "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",
          "dtype": "f8"
         },
         "increasing": {
          "line": {
           "color": "green"
          }
         },
         "low": {
          "bdata": "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",
          "dtype": "f8"
         },
         "open": {
          "bdata": "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",
          "dtype": "f8"
         },
         "type": "candlestick",
         "x": [
          "2025-04-30T06:30:00.000000000",
          "2025-04-30T06:45:00.000000000",
          "2025-04-30T07:00:00.000000000",
          "2025-04-30T07:15:00.000000000",
          "2025-04-30T07:30:00.000000000",
          "2025-04-30T07:45:00.000000000",
          "2025-04-30T08:00:00.000000000",
          "2025-04-30T08:15:00.000000000",
          "2025-04-30T08:30:00.000000000",
          "2025-04-30T08:45:00.000000000",
          "2025-04-30T09:00:00.000000000",
          "2025-04-30T09:15:00.000000000",
          "2025-04-30T09:30:00.000000000",
          "2025-04-30T09:45:00.000000000",
          "2025-04-30T10:00:00.000000000",
          "2025-04-30T10:15:00.000000000",
          "2025-04-30T10:30:00.000000000",
          "2025-04-30T10:45:00.000000000",
          "2025-04-30T11:00:00.000000000",
          "2025-04-30T11:15:00.000000000",
          "2025-04-30T11:30:00.000000000",
          "2025-04-30T11:45:00.000000000",
          "2025-04-30T12:00:00.000000000",
          "2025-04-30T12:15:00.000000000",
          "2025-04-30T12:30:00.000000000",
          "2025-04-30T12:45:00.000000000",
          "2025-04-30T13:00:00.000000000",
          "2025-04-30T13:15:00.000000000",
          "2025-04-30T13:30:00.000000000",
          "2025-04-30T13:45:00.000000000",
          "2025-04-30T14:00:00.000000000",
          "2025-04-30T14:15:00.000000000",
          "2025-04-30T14:30:00.000000000",
          "2025-04-30T14:45:00.000000000",
          "2025-04-30T15:00:00.000000000",
          "2025-04-30T15:15:00.000000000",
          "2025-04-30T15:30:00.000000000",
          "2025-04-30T15:45:00.000000000",
          "2025-04-30T16:00:00.000000000",
          "2025-04-30T16:15:00.000000000",
          "2025-04-30T16:30:00.000000000",
          "2025-04-30T16:45:00.000000000",
          "2025-04-30T17:00:00.000000000",
          "2025-04-30T17:15:00.000000000",
          "2025-04-30T17:30:00.000000000",
          "2025-04-30T17:45:00.000000000",
          "2025-04-30T18:00:00.000000000",
          "2025-04-30T18:15:00.000000000",
          "2025-04-30T18:30:00.000000000",
          "2025-04-30T18:45:00.000000000",
          "2025-04-30T19:00:00.000000000",
          "2025-04-30T19:15:00.000000000",
          "2025-04-30T19:30:00.000000000",
          "2025-04-30T19:45:00.000000000",
          "2025-04-30T20:00:00.000000000",
          "2025-04-30T20:15:00.000000000",
          "2025-04-30T20:30:00.000000000",
          "2025-04-30T20:45:00.000000000",
          "2025-04-30T21:00:00.000000000",
          "2025-04-30T21:15:00.000000000",
          "2025-04-30T21:30:00.000000000",
          "2025-04-30T21:45:00.000000000",
          "2025-04-30T22:00:00.000000000",
          "2025-04-30T22:15:00.000000000",
          "2025-04-30T22:30:00.000000000",
          "2025-04-30T22:45:00.000000000",
          "2025-04-30T23:00:00.000000000",
          "2025-04-30T23:15:00.000000000",
          "2025-04-30T23:30:00.000000000",
          "2025-04-30T23:45:00.000000000",
          "2025-05-01T00:00:00.000000000",
          "2025-05-01T00:15:00.000000000",
          "2025-05-01T00:30:00.000000000",
          "2025-05-01T00:45:00.000000000",
          "2025-05-01T01:00:00.000000000",
          "2025-05-01T01:15:00.000000000",
          "2025-05-01T01:30:00.000000000",
          "2025-05-01T01:45:00.000000000",
          "2025-05-01T02:00:00.000000000",
          "2025-05-01T02:15:00.000000000",
          "2025-05-01T02:30:00.000000000",
          "2025-05-01T02:45:00.000000000",
          "2025-05-01T03:00:00.000000000",
          "2025-05-01T03:15:00.000000000",
          "2025-05-01T03:30:00.000000000",
          "2025-05-01T03:45:00.000000000",
          "2025-05-01T04:00:00.000000000",
          "2025-05-01T04:15:00.000000000",
          "2025-05-01T04:30:00.000000000",
          "2025-05-01T04:45:00.000000000",
          "2025-05-01T05:00:00.000000000",
          "2025-05-01T05:15:00.000000000",
          "2025-05-01T05:30:00.000000000",
          "2025-05-01T05:45:00.000000000",
          "2025-05-01T06:00:00.000000000",
          "2025-05-01T06:15:00.000000000",
          "2025-05-01T06:30:00.000000000",
          "2025-05-01T06:45:00.000000000",
          "2025-05-01T07:00:00.000000000",
          "2025-05-01T07:15:00.000000000",
          "2025-05-01T07:30:00.000000000",
          "2025-05-01T07:45:00.000000000",
          "2025-05-01T08:00:00.000000000",
          "2025-05-01T08:15:00.000000000",
          "2025-05-01T08:30:00.000000000",
          "2025-05-01T08:45:00.000000000",
          "2025-05-01T09:00:00.000000000",
          "2025-05-01T09:15:00.000000000",
          "2025-05-01T09:30:00.000000000",
          "2025-05-01T09:45:00.000000000",
          "2025-05-01T10:00:00.000000000",
          "2025-05-01T10:15:00.000000000",
          "2025-05-01T10:30:00.000000000",
          "2025-05-01T10:45:00.000000000",
          "2025-05-01T11:00:00.000000000",
          "2025-05-01T11:15:00.000000000",
          "2025-05-01T11:30:00.000000000",
          "2025-05-01T11:45:00.000000000",
          "2025-05-01T12:00:00.000000000",
          "2025-05-01T12:15:00.000000000",
          "2025-05-01T12:30:00.000000000",
          "2025-05-01T12:45:00.000000000",
          "2025-05-01T13:00:00.000000000",
          "2025-05-01T13:15:00.000000000",
          "2025-05-01T13:30:00.000000000",
          "2025-05-01T13:45:00.000000000",
          "2025-05-01T14:00:00.000000000",
          "2025-05-01T14:15:00.000000000",
          "2025-05-01T14:30:00.000000000",
          "2025-05-01T14:45:00.000000000",
          "2025-05-01T15:00:00.000000000",
          "2025-05-01T15:15:00.000000000",
          "2025-05-01T15:30:00.000000000",
          "2025-05-01T15:45:00.000000000",
          "2025-05-01T16:00:00.000000000",
          "2025-05-01T16:15:00.000000000",
          "2025-05-01T16:30:00.000000000",
          "2025-05-01T16:45:00.000000000",
          "2025-05-01T17:00:00.000000000",
          "2025-05-01T17:15:00.000000000",
          "2025-05-01T17:30:00.000000000",
          "2025-05-01T17:45:00.000000000",
          "2025-05-01T18:00:00.000000000",
          "2025-05-01T18:15:00.000000000",
          "2025-05-01T18:30:00.000000000",
          "2025-05-01T18:45:00.000000000",
          "2025-05-01T19:00:00.000000000",
          "2025-05-01T19:15:00.000000000",
          "2025-05-01T19:30:00.000000000",
          "2025-05-01T19:45:00.000000000",
          "2025-05-01T20:00:00.000000000",
          "2025-05-01T20:15:00.000000000",
          "2025-05-01T20:30:00.000000000",
          "2025-05-01T20:45:00.000000000",
          "2025-05-01T21:00:00.000000000",
          "2025-05-01T21:15:00.000000000",
          "2025-05-01T21:30:00.000000000",
          "2025-05-01T21:45:00.000000000",
          "2025-05-01T22:00:00.000000000",
          "2025-05-01T22:15:00.000000000",
          "2025-05-01T22:30:00.000000000",
          "2025-05-01T22:45:00.000000000",
          "2025-05-01T23:00:00.000000000",
          "2025-05-01T23:15:00.000000000",
          "2025-05-01T23:30:00.000000000",
          "2025-05-01T23:45:00.000000000",
          "2025-05-02T00:00:00.000000000",
          "2025-05-02T00:15:00.000000000",
          "2025-05-02T00:30:00.000000000",
          "2025-05-02T00:45:00.000000000",
          "2025-05-02T01:00:00.000000000",
          "2025-05-02T01:15:00.000000000",
          "2025-05-02T01:30:00.000000000",
          "2025-05-02T01:45:00.000000000",
          "2025-05-02T02:00:00.000000000",
          "2025-05-02T02:15:00.000000000",
          "2025-05-02T02:30:00.000000000",
          "2025-05-02T02:45:00.000000000",
          "2025-05-02T03:00:00.000000000",
          "2025-05-02T03:15:00.000000000",
          "2025-05-02T03:30:00.000000000",
          "2025-05-02T03:45:00.000000000",
          "2025-05-02T04:00:00.000000000",
          "2025-05-02T04:15:00.000000000",
          "2025-05-02T04:30:00.000000000",
          "2025-05-02T04:45:00.000000000",
          "2025-05-02T05:00:00.000000000",
          "2025-05-02T05:15:00.000000000",
          "2025-05-02T05:30:00.000000000",
          "2025-05-02T05:45:00.000000000",
          "2025-05-02T06:00:00.000000000",
          "2025-05-02T06:15:00.000000000",
          "2025-05-02T06:30:00.000000000",
          "2025-05-02T06:45:00.000000000",
          "2025-05-02T07:00:00.000000000",
          "2025-05-02T07:15:00.000000000",
          "2025-05-02T07:30:00.000000000",
          "2025-05-02T07:45:00.000000000",
          "2025-05-02T08:00:00.000000000",
          "2025-05-02T08:15:00.000000000",
          "2025-05-02T08:30:00.000000000",
          "2025-05-02T08:45:00.000000000",
          "2025-05-02T09:00:00.000000000",
          "2025-05-02T09:15:00.000000000",
          "2025-05-02T09:30:00.000000000",
          "2025-05-02T09:45:00.000000000",
          "2025-05-02T10:00:00.000000000",
          "2025-05-02T10:15:00.000000000",
          "2025-05-02T10:30:00.000000000",
          "2025-05-02T10:45:00.000000000",
          "2025-05-02T11:00:00.000000000",
          "2025-05-02T11:15:00.000000000",
          "2025-05-02T11:30:00.000000000",
          "2025-05-02T11:45:00.000000000",
          "2025-05-02T12:00:00.000000000",
          "2025-05-02T12:15:00.000000000",
          "2025-05-02T12:30:00.000000000",
          "2025-05-02T12:45:00.000000000",
          "2025-05-02T13:00:00.000000000",
          "2025-05-02T13:15:00.000000000",
          "2025-05-02T13:30:00.000000000",
          "2025-05-02T13:45:00.000000000",
          "2025-05-02T14:00:00.000000000",
          "2025-05-02T14:15:00.000000000",
          "2025-05-02T14:30:00.000000000",
          "2025-05-02T14:45:00.000000000",
          "2025-05-02T15:00:00.000000000",
          "2025-05-02T15:15:00.000000000",
          "2025-05-02T15:30:00.000000000",
          "2025-05-02T15:45:00.000000000",
          "2025-05-02T16:00:00.000000000",
          "2025-05-02T16:15:00.000000000",
          "2025-05-02T16:30:00.000000000",
          "2025-05-02T16:45:00.000000000",
          "2025-05-02T17:00:00.000000000",
          "2025-05-02T17:15:00.000000000",
          "2025-05-02T17:30:00.000000000",
          "2025-05-02T17:45:00.000000000",
          "2025-05-02T18:00:00.000000000",
          "2025-05-02T18:15:00.000000000",
          "2025-05-02T18:30:00.000000000",
          "2025-05-02T18:45:00.000000000",
          "2025-05-02T19:00:00.000000000",
          "2025-05-02T19:15:00.000000000",
          "2025-05-02T19:30:00.000000000",
          "2025-05-02T19:45:00.000000000",
          "2025-05-02T20:00:00.000000000",
          "2025-05-02T20:15:00.000000000",
          "2025-05-02T20:30:00.000000000",
          "2025-05-02T20:45:00.000000000",
          "2025-05-02T21:00:00.000000000",
          "2025-05-02T21:15:00.000000000",
          "2025-05-02T21:30:00.000000000",
          "2025-05-02T21:45:00.000000000",
          "2025-05-02T22:00:00.000000000",
          "2025-05-02T22:15:00.000000000",
          "2025-05-02T22:30:00.000000000",
          "2025-05-02T22:45:00.000000000",
          "2025-05-02T23:00:00.000000000",
          "2025-05-02T23:15:00.000000000",
          "2025-05-02T23:30:00.000000000",
          "2025-05-02T23:45:00.000000000",
          "2025-05-03T00:00:00.000000000",
          "2025-05-03T00:15:00.000000000",
          "2025-05-03T00:30:00.000000000",
          "2025-05-03T00:45:00.000000000",
          "2025-05-03T01:00:00.000000000",
          "2025-05-03T01:15:00.000000000",
          "2025-05-03T01:30:00.000000000",
          "2025-05-03T01:45:00.000000000",
          "2025-05-03T02:00:00.000000000",
          "2025-05-03T02:15:00.000000000",
          "2025-05-03T02:30:00.000000000",
          "2025-05-03T02:45:00.000000000",
          "2025-05-03T03:00:00.000000000",
          "2025-05-03T03:15:00.000000000",
          "2025-05-03T03:30:00.000000000",
          "2025-05-03T03:45:00.000000000",
          "2025-05-03T04:00:00.000000000",
          "2025-05-03T04:15:00.000000000",
          "2025-05-03T04:30:00.000000000",
          "2025-05-03T04:45:00.000000000",
          "2025-05-03T05:00:00.000000000",
          "2025-05-03T05:15:00.000000000",
          "2025-05-03T05:30:00.000000000",
          "2025-05-03T05:45:00.000000000",
          "2025-05-03T06:00:00.000000000",
          "2025-05-03T06:15:00.000000000",
          "2025-05-03T06:30:00.000000000",
          "2025-05-03T06:45:00.000000000",
          "2025-05-03T07:00:00.000000000",
          "2025-05-03T07:15:00.000000000",
          "2025-05-03T07:30:00.000000000",
          "2025-05-03T07:45:00.000000000",
          "2025-05-03T08:00:00.000000000",
          "2025-05-03T08:15:00.000000000",
          "2025-05-03T08:30:00.000000000",
          "2025-05-03T08:45:00.000000000",
          "2025-05-03T09:00:00.000000000",
          "2025-05-03T09:15:00.000000000",
          "2025-05-03T09:30:00.000000000",
          "2025-05-03T09:45:00.000000000",
          "2025-05-03T10:00:00.000000000",
          "2025-05-03T10:15:00.000000000",
          "2025-05-03T10:30:00.000000000",
          "2025-05-03T10:45:00.000000000",
          "2025-05-03T11:00:00.000000000",
          "2025-05-03T11:15:00.000000000",
          "2025-05-03T11:30:00.000000000",
          "2025-05-03T11:45:00.000000000",
          "2025-05-03T12:00:00.000000000",
          "2025-05-03T12:15:00.000000000",
          "2025-05-03T12:30:00.000000000",
          "2025-05-03T12:45:00.000000000",
          "2025-05-03T13:00:00.000000000",
          "2025-05-03T13:15:00.000000000",
          "2025-05-03T13:30:00.000000000",
          "2025-05-03T13:45:00.000000000",
          "2025-05-03T14:00:00.000000000",
          "2025-05-03T14:15:00.000000000",
          "2025-05-03T14:30:00.000000000",
          "2025-05-03T14:45:00.000000000",
          "2025-05-03T15:00:00.000000000",
          "2025-05-03T15:15:00.000000000",
          "2025-05-03T15:30:00.000000000",
          "2025-05-03T15:45:00.000000000",
          "2025-05-03T16:00:00.000000000",
          "2025-05-03T16:15:00.000000000",
          "2025-05-03T16:30:00.000000000",
          "2025-05-03T16:45:00.000000000",
          "2025-05-03T17:00:00.000000000",
          "2025-05-03T17:15:00.000000000",
          "2025-05-03T17:30:00.000000000",
          "2025-05-03T17:45:00.000000000",
          "2025-05-03T18:00:00.000000000",
          "2025-05-03T18:15:00.000000000",
          "2025-05-03T18:30:00.000000000",
          "2025-05-03T18:45:00.000000000",
          "2025-05-03T19:00:00.000000000",
          "2025-05-03T19:15:00.000000000",
          "2025-05-03T19:30:00.000000000",
          "2025-05-03T19:45:00.000000000",
          "2025-05-03T20:00:00.000000000",
          "2025-05-03T20:15:00.000000000",
          "2025-05-03T20:30:00.000000000",
          "2025-05-03T20:45:00.000000000",
          "2025-05-03T21:00:00.000000000",
          "2025-05-03T21:15:00.000000000",
          "2025-05-03T21:30:00.000000000",
          "2025-05-03T21:45:00.000000000",
          "2025-05-03T22:00:00.000000000",
          "2025-05-03T22:15:00.000000000",
          "2025-05-03T22:30:00.000000000",
          "2025-05-03T22:45:00.000000000",
          "2025-05-03T23:00:00.000000000",
          "2025-05-03T23:15:00.000000000",
          "2025-05-03T23:30:00.000000000",
          "2025-05-03T23:45:00.000000000",
          "2025-05-04T00:00:00.000000000",
          "2025-05-04T00:15:00.000000000",
          "2025-05-04T00:30:00.000000000",
          "2025-05-04T00:45:00.000000000",
          "2025-05-04T01:00:00.000000000",
          "2025-05-04T01:15:00.000000000",
          "2025-05-04T01:30:00.000000000",
          "2025-05-04T01:45:00.000000000",
          "2025-05-04T02:00:00.000000000",
          "2025-05-04T02:15:00.000000000",
          "2025-05-04T02:30:00.000000000",
          "2025-05-04T02:45:00.000000000",
          "2025-05-04T03:00:00.000000000",
          "2025-05-04T03:15:00.000000000",
          "2025-05-04T03:30:00.000000000",
          "2025-05-04T03:45:00.000000000",
          "2025-05-04T04:00:00.000000000",
          "2025-05-04T04:15:00.000000000",
          "2025-05-04T04:30:00.000000000",
          "2025-05-04T04:45:00.000000000",
          "2025-05-04T05:00:00.000000000",
          "2025-05-04T05:15:00.000000000",
          "2025-05-04T05:30:00.000000000",
          "2025-05-04T05:45:00.000000000",
          "2025-05-04T06:00:00.000000000",
          "2025-05-04T06:15:00.000000000",
          "2025-05-04T06:30:00.000000000",
          "2025-05-04T06:45:00.000000000",
          "2025-05-04T07:00:00.000000000",
          "2025-05-04T07:15:00.000000000",
          "2025-05-04T07:30:00.000000000",
          "2025-05-04T07:45:00.000000000",
          "2025-05-04T08:00:00.000000000",
          "2025-05-04T08:15:00.000000000",
          "2025-05-04T08:30:00.000000000",
          "2025-05-04T08:45:00.000000000",
          "2025-05-04T09:00:00.000000000",
          "2025-05-04T09:15:00.000000000",
          "2025-05-04T09:30:00.000000000",
          "2025-05-04T09:45:00.000000000",
          "2025-05-04T10:00:00.000000000",
          "2025-05-04T10:15:00.000000000"
         ],
         "xaxis": "x",
         "yaxis": "y"
        },
        {
         "line": {
          "color": "blue",
          "width": 2
         },
         "mode": "lines",
         "name": "RSI",
         "type": "scatter",
         "x": [
          "2025-04-30T06:30:00.000000000",
          "2025-04-30T06:45:00.000000000",
          "2025-04-30T07:00:00.000000000",
          "2025-04-30T07:15:00.000000000",
          "2025-04-30T07:30:00.000000000",
          "2025-04-30T07:45:00.000000000",
          "2025-04-30T08:00:00.000000000",
          "2025-04-30T08:15:00.000000000",
          "2025-04-30T08:30:00.000000000",
          "2025-04-30T08:45:00.000000000",
          "2025-04-30T09:00:00.000000000",
          "2025-04-30T09:15:00.000000000",
          "2025-04-30T09:30:00.000000000",
          "2025-04-30T09:45:00.000000000",
          "2025-04-30T10:00:00.000000000",
          "2025-04-30T10:15:00.000000000",
          "2025-04-30T10:30:00.000000000",
          "2025-04-30T10:45:00.000000000",
          "2025-04-30T11:00:00.000000000",
          "2025-04-30T11:15:00.000000000",
          "2025-04-30T11:30:00.000000000",
          "2025-04-30T11:45:00.000000000",
          "2025-04-30T12:00:00.000000000",
          "2025-04-30T12:15:00.000000000",
          "2025-04-30T12:30:00.000000000",
          "2025-04-30T12:45:00.000000000",
          "2025-04-30T13:00:00.000000000",
          "2025-04-30T13:15:00.000000000",
          "2025-04-30T13:30:00.000000000",
          "2025-04-30T13:45:00.000000000",
          "2025-04-30T14:00:00.000000000",
          "2025-04-30T14:15:00.000000000",
          "2025-04-30T14:30:00.000000000",
          "2025-04-30T14:45:00.000000000",
          "2025-04-30T15:00:00.000000000",
          "2025-04-30T15:15:00.000000000",
          "2025-04-30T15:30:00.000000000",
          "2025-04-30T15:45:00.000000000",
          "2025-04-30T16:00:00.000000000",
          "2025-04-30T16:15:00.000000000",
          "2025-04-30T16:30:00.000000000",
          "2025-04-30T16:45:00.000000000",
          "2025-04-30T17:00:00.000000000",
          "2025-04-30T17:15:00.000000000",
          "2025-04-30T17:30:00.000000000",
          "2025-04-30T17:45:00.000000000",
          "2025-04-30T18:00:00.000000000",
          "2025-04-30T18:15:00.000000000",
          "2025-04-30T18:30:00.000000000",
          "2025-04-30T18:45:00.000000000",
          "2025-04-30T19:00:00.000000000",
          "2025-04-30T19:15:00.000000000",
          "2025-04-30T19:30:00.000000000",
          "2025-04-30T19:45:00.000000000",
          "2025-04-30T20:00:00.000000000",
          "2025-04-30T20:15:00.000000000",
          "2025-04-30T20:30:00.000000000",
          "2025-04-30T20:45:00.000000000",
          "2025-04-30T21:00:00.000000000",
          "2025-04-30T21:15:00.000000000",
          "2025-04-30T21:30:00.000000000",
          "2025-04-30T21:45:00.000000000",
          "2025-04-30T22:00:00.000000000",
          "2025-04-30T22:15:00.000000000",
          "2025-04-30T22:30:00.000000000",
          "2025-04-30T22:45:00.000000000",
          "2025-04-30T23:00:00.000000000",
          "2025-04-30T23:15:00.000000000",
          "2025-04-30T23:30:00.000000000",
          "2025-04-30T23:45:00.000000000",
          "2025-05-01T00:00:00.000000000",
          "2025-05-01T00:15:00.000000000",
          "2025-05-01T00:30:00.000000000",
          "2025-05-01T00:45:00.000000000",
          "2025-05-01T01:00:00.000000000",
          "2025-05-01T01:15:00.000000000",
          "2025-05-01T01:30:00.000000000",
          "2025-05-01T01:45:00.000000000",
          "2025-05-01T02:00:00.000000000",
          "2025-05-01T02:15:00.000000000",
          "2025-05-01T02:30:00.000000000",
          "2025-05-01T02:45:00.000000000",
          "2025-05-01T03:00:00.000000000",
          "2025-05-01T03:15:00.000000000",
          "2025-05-01T03:30:00.000000000",
          "2025-05-01T03:45:00.000000000",
          "2025-05-01T04:00:00.000000000",
          "2025-05-01T04:15:00.000000000",
          "2025-05-01T04:30:00.000000000",
          "2025-05-01T04:45:00.000000000",
          "2025-05-01T05:00:00.000000000",
          "2025-05-01T05:15:00.000000000",
          "2025-05-01T05:30:00.000000000",
          "2025-05-01T05:45:00.000000000",
          "2025-05-01T06:00:00.000000000",
          "2025-05-01T06:15:00.000000000",
          "2025-05-01T06:30:00.000000000",
          "2025-05-01T06:45:00.000000000",
          "2025-05-01T07:00:00.000000000",
          "2025-05-01T07:15:00.000000000",
          "2025-05-01T07:30:00.000000000",
          "2025-05-01T07:45:00.000000000",
          "2025-05-01T08:00:00.000000000",
          "2025-05-01T08:15:00.000000000",
          "2025-05-01T08:30:00.000000000",
          "2025-05-01T08:45:00.000000000",
          "2025-05-01T09:00:00.000000000",
          "2025-05-01T09:15:00.000000000",
          "2025-05-01T09:30:00.000000000",
          "2025-05-01T09:45:00.000000000",
          "2025-05-01T10:00:00.000000000",
          "2025-05-01T10:15:00.000000000",
          "2025-05-01T10:30:00.000000000",
          "2025-05-01T10:45:00.000000000",
          "2025-05-01T11:00:00.000000000",
          "2025-05-01T11:15:00.000000000",
          "2025-05-01T11:30:00.000000000",
          "2025-05-01T11:45:00.000000000",
          "2025-05-01T12:00:00.000000000",
          "2025-05-01T12:15:00.000000000",
          "2025-05-01T12:30:00.000000000",
          "2025-05-01T12:45:00.000000000",
          "2025-05-01T13:00:00.000000000",
          "2025-05-01T13:15:00.000000000",
          "2025-05-01T13:30:00.000000000",
          "2025-05-01T13:45:00.000000000",
          "2025-05-01T14:00:00.000000000",
          "2025-05-01T14:15:00.000000000",
          "2025-05-01T14:30:00.000000000",
          "2025-05-01T14:45:00.000000000",
          "2025-05-01T15:00:00.000000000",
          "2025-05-01T15:15:00.000000000",
          "2025-05-01T15:30:00.000000000",
          "2025-05-01T15:45:00.000000000",
          "2025-05-01T16:00:00.000000000",
          "2025-05-01T16:15:00.000000000",
          "2025-05-01T16:30:00.000000000",
          "2025-05-01T16:45:00.000000000",
          "2025-05-01T17:00:00.000000000",
          "2025-05-01T17:15:00.000000000",
          "2025-05-01T17:30:00.000000000",
          "2025-05-01T17:45:00.000000000",
          "2025-05-01T18:00:00.000000000",
          "2025-05-01T18:15:00.000000000",
          "2025-05-01T18:30:00.000000000",
          "2025-05-01T18:45:00.000000000",
          "2025-05-01T19:00:00.000000000",
          "2025-05-01T19:15:00.000000000",
          "2025-05-01T19:30:00.000000000",
          "2025-05-01T19:45:00.000000000",
          "2025-05-01T20:00:00.000000000",
          "2025-05-01T20:15:00.000000000",
          "2025-05-01T20:30:00.000000000",
          "2025-05-01T20:45:00.000000000",
          "2025-05-01T21:00:00.000000000",
          "2025-05-01T21:15:00.000000000",
          "2025-05-01T21:30:00.000000000",
          "2025-05-01T21:45:00.000000000",
          "2025-05-01T22:00:00.000000000",
          "2025-05-01T22:15:00.000000000",
          "2025-05-01T22:30:00.000000000",
          "2025-05-01T22:45:00.000000000",
          "2025-05-01T23:00:00.000000000",
          "2025-05-01T23:15:00.000000000",
          "2025-05-01T23:30:00.000000000",
          "2025-05-01T23:45:00.000000000",
          "2025-05-02T00:00:00.000000000",
          "2025-05-02T00:15:00.000000000",
          "2025-05-02T00:30:00.000000000",
          "2025-05-02T00:45:00.000000000",
          "2025-05-02T01:00:00.000000000",
          "2025-05-02T01:15:00.000000000",
          "2025-05-02T01:30:00.000000000",
          "2025-05-02T01:45:00.000000000",
          "2025-05-02T02:00:00.000000000",
          "2025-05-02T02:15:00.000000000",
          "2025-05-02T02:30:00.000000000",
          "2025-05-02T02:45:00.000000000",
          "2025-05-02T03:00:00.000000000",
          "2025-05-02T03:15:00.000000000",
          "2025-05-02T03:30:00.000000000",
          "2025-05-02T03:45:00.000000000",
          "2025-05-02T04:00:00.000000000",
          "2025-05-02T04:15:00.000000000",
          "2025-05-02T04:30:00.000000000",
          "2025-05-02T04:45:00.000000000",
          "2025-05-02T05:00:00.000000000",
          "2025-05-02T05:15:00.000000000",
          "2025-05-02T05:30:00.000000000",
          "2025-05-02T05:45:00.000000000",
          "2025-05-02T06:00:00.000000000",
          "2025-05-02T06:15:00.000000000",
          "2025-05-02T06:30:00.000000000",
          "2025-05-02T06:45:00.000000000",
          "2025-05-02T07:00:00.000000000",
          "2025-05-02T07:15:00.000000000",
          "2025-05-02T07:30:00.000000000",
          "2025-05-02T07:45:00.000000000",
          "2025-05-02T08:00:00.000000000",
          "2025-05-02T08:15:00.000000000",
          "2025-05-02T08:30:00.000000000",
          "2025-05-02T08:45:00.000000000",
          "2025-05-02T09:00:00.000000000",
          "2025-05-02T09:15:00.000000000",
          "2025-05-02T09:30:00.000000000",
          "2025-05-02T09:45:00.000000000",
          "2025-05-02T10:00:00.000000000",
          "2025-05-02T10:15:00.000000000",
          "2025-05-02T10:30:00.000000000",
          "2025-05-02T10:45:00.000000000",
          "2025-05-02T11:00:00.000000000",
          "2025-05-02T11:15:00.000000000",
          "2025-05-02T11:30:00.000000000",
          "2025-05-02T11:45:00.000000000",
          "2025-05-02T12:00:00.000000000",
          "2025-05-02T12:15:00.000000000",
          "2025-05-02T12:30:00.000000000",
          "2025-05-02T12:45:00.000000000",
          "2025-05-02T13:00:00.000000000",
          "2025-05-02T13:15:00.000000000",
          "2025-05-02T13:30:00.000000000",
          "2025-05-02T13:45:00.000000000",
          "2025-05-02T14:00:00.000000000",
          "2025-05-02T14:15:00.000000000",
          "2025-05-02T14:30:00.000000000",
          "2025-05-02T14:45:00.000000000",
          "2025-05-02T15:00:00.000000000",
          "2025-05-02T15:15:00.000000000",
          "2025-05-02T15:30:00.000000000",
          "2025-05-02T15:45:00.000000000",
          "2025-05-02T16:00:00.000000000",
          "2025-05-02T16:15:00.000000000",
          "2025-05-02T16:30:00.000000000",
          "2025-05-02T16:45:00.000000000",
          "2025-05-02T17:00:00.000000000",
          "2025-05-02T17:15:00.000000000",
          "2025-05-02T17:30:00.000000000",
          "2025-05-02T17:45:00.000000000",
          "2025-05-02T18:00:00.000000000",
          "2025-05-02T18:15:00.000000000",
          "2025-05-02T18:30:00.000000000",
          "2025-05-02T18:45:00.000000000",
          "2025-05-02T19:00:00.000000000",
          "2025-05-02T19:15:00.000000000",
          "2025-05-02T19:30:00.000000000",
          "2025-05-02T19:45:00.000000000",
          "2025-05-02T20:00:00.000000000",
          "2025-05-02T20:15:00.000000000",
          "2025-05-02T20:30:00.000000000",
          "2025-05-02T20:45:00.000000000",
          "2025-05-02T21:00:00.000000000",
          "2025-05-02T21:15:00.000000000",
          "2025-05-02T21:30:00.000000000",
          "2025-05-02T21:45:00.000000000",
          "2025-05-02T22:00:00.000000000",
          "2025-05-02T22:15:00.000000000",
          "2025-05-02T22:30:00.000000000",
          "2025-05-02T22:45:00.000000000",
          "2025-05-02T23:00:00.000000000",
          "2025-05-02T23:15:00.000000000",
          "2025-05-02T23:30:00.000000000",
          "2025-05-02T23:45:00.000000000",
          "2025-05-03T00:00:00.000000000",
          "2025-05-03T00:15:00.000000000",
          "2025-05-03T00:30:00.000000000",
          "2025-05-03T00:45:00.000000000",
          "2025-05-03T01:00:00.000000000",
          "2025-05-03T01:15:00.000000000",
          "2025-05-03T01:30:00.000000000",
          "2025-05-03T01:45:00.000000000",
          "2025-05-03T02:00:00.000000000",
          "2025-05-03T02:15:00.000000000",
          "2025-05-03T02:30:00.000000000",
          "2025-05-03T02:45:00.000000000",
          "2025-05-03T03:00:00.000000000",
          "2025-05-03T03:15:00.000000000",
          "2025-05-03T03:30:00.000000000",
          "2025-05-03T03:45:00.000000000",
          "2025-05-03T04:00:00.000000000",
          "2025-05-03T04:15:00.000000000",
          "2025-05-03T04:30:00.000000000",
          "2025-05-03T04:45:00.000000000",
          "2025-05-03T05:00:00.000000000",
          "2025-05-03T05:15:00.000000000",
          "2025-05-03T05:30:00.000000000",
          "2025-05-03T05:45:00.000000000",
          "2025-05-03T06:00:00.000000000",
          "2025-05-03T06:15:00.000000000",
          "2025-05-03T06:30:00.000000000",
          "2025-05-03T06:45:00.000000000",
          "2025-05-03T07:00:00.000000000",
          "2025-05-03T07:15:00.000000000",
          "2025-05-03T07:30:00.000000000",
          "2025-05-03T07:45:00.000000000",
          "2025-05-03T08:00:00.000000000",
          "2025-05-03T08:15:00.000000000",
          "2025-05-03T08:30:00.000000000",
          "2025-05-03T08:45:00.000000000",
          "2025-05-03T09:00:00.000000000",
          "2025-05-03T09:15:00.000000000",
          "2025-05-03T09:30:00.000000000",
          "2025-05-03T09:45:00.000000000",
          "2025-05-03T10:00:00.000000000",
          "2025-05-03T10:15:00.000000000",
          "2025-05-03T10:30:00.000000000",
          "2025-05-03T10:45:00.000000000",
          "2025-05-03T11:00:00.000000000",
          "2025-05-03T11:15:00.000000000",
          "2025-05-03T11:30:00.000000000",
          "2025-05-03T11:45:00.000000000",
          "2025-05-03T12:00:00.000000000",
          "2025-05-03T12:15:00.000000000",
          "2025-05-03T12:30:00.000000000",
          "2025-05-03T12:45:00.000000000",
          "2025-05-03T13:00:00.000000000",
          "2025-05-03T13:15:00.000000000",
          "2025-05-03T13:30:00.000000000",
          "2025-05-03T13:45:00.000000000",
          "2025-05-03T14:00:00.000000000",
          "2025-05-03T14:15:00.000000000",
          "2025-05-03T14:30:00.000000000",
          "2025-05-03T14:45:00.000000000",
          "2025-05-03T15:00:00.000000000",
          "2025-05-03T15:15:00.000000000",
          "2025-05-03T15:30:00.000000000",
          "2025-05-03T15:45:00.000000000",
          "2025-05-03T16:00:00.000000000",
          "2025-05-03T16:15:00.000000000",
          "2025-05-03T16:30:00.000000000",
          "2025-05-03T16:45:00.000000000",
          "2025-05-03T17:00:00.000000000",
          "2025-05-03T17:15:00.000000000",
          "2025-05-03T17:30:00.000000000",
          "2025-05-03T17:45:00.000000000",
          "2025-05-03T18:00:00.000000000",
          "2025-05-03T18:15:00.000000000",
          "2025-05-03T18:30:00.000000000",
          "2025-05-03T18:45:00.000000000",
          "2025-05-03T19:00:00.000000000",
          "2025-05-03T19:15:00.000000000",
          "2025-05-03T19:30:00.000000000",
          "2025-05-03T19:45:00.000000000",
          "2025-05-03T20:00:00.000000000",
          "2025-05-03T20:15:00.000000000",
          "2025-05-03T20:30:00.000000000",
          "2025-05-03T20:45:00.000000000",
          "2025-05-03T21:00:00.000000000",
          "2025-05-03T21:15:00.000000000",
          "2025-05-03T21:30:00.000000000",
          "2025-05-03T21:45:00.000000000",
          "2025-05-03T22:00:00.000000000",
          "2025-05-03T22:15:00.000000000",
          "2025-05-03T22:30:00.000000000",
          "2025-05-03T22:45:00.000000000",
          "2025-05-03T23:00:00.000000000",
          "2025-05-03T23:15:00.000000000",
          "2025-05-03T23:30:00.000000000",
          "2025-05-03T23:45:00.000000000",
          "2025-05-04T00:00:00.000000000",
          "2025-05-04T00:15:00.000000000",
          "2025-05-04T00:30:00.000000000",
          "2025-05-04T00:45:00.000000000",
          "2025-05-04T01:00:00.000000000",
          "2025-05-04T01:15:00.000000000",
          "2025-05-04T01:30:00.000000000",
          "2025-05-04T01:45:00.000000000",
          "2025-05-04T02:00:00.000000000",
          "2025-05-04T02:15:00.000000000",
          "2025-05-04T02:30:00.000000000",
          "2025-05-04T02:45:00.000000000",
          "2025-05-04T03:00:00.000000000",
          "2025-05-04T03:15:00.000000000",
          "2025-05-04T03:30:00.000000000",
          "2025-05-04T03:45:00.000000000",
          "2025-05-04T04:00:00.000000000",
          "2025-05-04T04:15:00.000000000",
          "2025-05-04T04:30:00.000000000",
          "2025-05-04T04:45:00.000000000",
          "2025-05-04T05:00:00.000000000",
          "2025-05-04T05:15:00.000000000",
          "2025-05-04T05:30:00.000000000",
          "2025-05-04T05:45:00.000000000",
          "2025-05-04T06:00:00.000000000",
          "2025-05-04T06:15:00.000000000",
          "2025-05-04T06:30:00.000000000",
          "2025-05-04T06:45:00.000000000",
          "2025-05-04T07:00:00.000000000",
          "2025-05-04T07:15:00.000000000",
          "2025-05-04T07:30:00.000000000",
          "2025-05-04T07:45:00.000000000",
          "2025-05-04T08:00:00.000000000",
          "2025-05-04T08:15:00.000000000",
          "2025-05-04T08:30:00.000000000",
          "2025-05-04T08:45:00.000000000",
          "2025-05-04T09:00:00.000000000",
          "2025-05-04T09:15:00.000000000",
          "2025-05-04T09:30:00.000000000",
          "2025-05-04T09:45:00.000000000",
          "2025-05-04T10:00:00.000000000",
          "2025-05-04T10:15:00.000000000"
         ],
         "xaxis": "x2",
         "y": {
          "bdata": "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",
          "dtype": "f8"
         },
         "yaxis": "y2"
        },
        {
         "line": {
          "color": "black",
          "width": 2
         },
         "mode": "lines+text",
         "name": "Marker 0",
         "showlegend": false,
         "text": [
          "bear"
         ],
         "textposition": "top center",
         "type": "scatter",
         "x": [
          "2025-05-01T10:15:00",
          "2025-05-01T13:15:00"
         ],
         "xaxis": "x2",
         "y": [
          85.44632621534258,
          76.30770322544085
         ],
         "yaxis": "y2"
        },
        {
         "line": {
          "color": "black",
          "width": 2
         },
         "mode": "lines+text",
         "name": "Marker 0",
         "showlegend": false,
         "text": [
          "bear"
         ],
         "textposition": "top center",
         "type": "scatter",
         "x": [
          "2025-05-01T13:15:00",
          "2025-05-01T15:00:00"
         ],
         "xaxis": "x2",
         "y": [
          76.30770322544085,
          72.62616421918288
         ],
         "yaxis": "y2"
        },
        {
         "line": {
          "color": "black",
          "width": 2
         },
         "mode": "lines+text",
         "name": "Marker 0",
         "showlegend": false,
         "text": [
          "bear"
         ],
         "textposition": "top center",
         "type": "scatter",
         "x": [
          "2025-05-01T15:00:00",
          "2025-05-01T16:30:00"
         ],
         "xaxis": "x2",
         "y": [
          72.62616421918288,
          67.55329013229428
         ],
         "yaxis": "y2"
        },
        {
         "line": {
          "color": "green",
          "width": 2
         },
         "mode": "lines+text",
         "name": "Marker 1",
         "showlegend": false,
         "text": [
          "bull"
         ],
         "textposition": "top center",
         "type": "scatter",
         "x": [
          "2025-05-03T03:45:00",
          "2025-05-03T09:00:00"
         ],
         "xaxis": "x2",
         "y": [
          32.822538241131646,
          43.64388463417574
         ],
         "yaxis": "y2"
        }
       ],
       "layout": {
        "annotations": [
         {
          "font": {
           "size": 16
          },
          "showarrow": false,
          "text": "Candlestick chart",
          "x": 0.5,
          "xanchor": "center",
          "xref": "paper",
          "y": 1,
          "yanchor": "bottom",
          "yref": "paper"
         },
         {
          "font": {
           "size": 16
          },
          "showarrow": false,
          "text": "RSI",
          "x": 0.5,
          "xanchor": "center",
          "xref": "paper",
          "y": 0.20000000000000004,
          "yanchor": "bottom",
          "yref": "paper"
         }
        ],
        "height": 700,
        "template": {
         "data": {
          "bar": [
           {
            "error_x": {
             "color": "#2a3f5f"
            },
            "error_y": {
             "color": "#2a3f5f"
            },
            "marker": {
             "line": {
              "color": "#E5ECF6",
              "width": 0.5
             },
             "pattern": {
              "fillmode": "overlay",
              "size": 10,
              "solidity": 0.2
             }
            },
            "type": "bar"
           }
          ],
          "barpolar": [
           {
            "marker": {
             "line": {
              "color": "#E5ECF6",
              "width": 0.5
             },
             "pattern": {
              "fillmode": "overlay",
              "size": 10,
              "solidity": 0.2
             }
            },
            "type": "barpolar"
           }
          ],
          "carpet": [
           {
            "aaxis": {
             "endlinecolor": "#2a3f5f",
             "gridcolor": "white",
             "linecolor": "white",
             "minorgridcolor": "white",
             "startlinecolor": "#2a3f5f"
            },
            "baxis": {
             "endlinecolor": "#2a3f5f",
             "gridcolor": "white",
             "linecolor": "white",
             "minorgridcolor": "white",
             "startlinecolor": "#2a3f5f"
            },
            "type": "carpet"
           }
          ],
          "choropleth": [
           {
            "colorbar": {
             "outlinewidth": 0,
             "ticks": ""
            },
            "type": "choropleth"
           }
          ],
          "contour": [
           {
            "colorbar": {
             "outlinewidth": 0,
             "ticks": ""
            },
            "colorscale": [
             [
              0,
              "#0d0887"
             ],
             [
              0.1111111111111111,
              "#46039f"
             ],
             [
              0.2222222222222222,
              "#7201a8"
             ],
             [
              0.3333333333333333,
              "#9c179e"
             ],
             [
              0.4444444444444444,
              "#bd3786"
             ],
             [
              0.5555555555555556,
              "#d8576b"
             ],
             [
              0.6666666666666666,
              "#ed7953"
             ],
             [
              0.7777777777777778,
              "#fb9f3a"
             ],
             [
              0.8888888888888888,
              "#fdca26"
             ],
             [
              1,
              "#f0f921"
             ]
            ],
            "type": "contour"
           }
          ],
          "contourcarpet": [
           {
            "colorbar": {
             "outlinewidth": 0,
             "ticks": ""
            },
            "type": "contourcarpet"
           }
          ],
          "heatmap": [
           {
            "colorbar": {
             "outlinewidth": 0,
             "ticks": ""
            },
            "colorscale": [
             [
              0,
              "#0d0887"
             ],
             [
              0.1111111111111111,
              "#46039f"
             ],
             [
              0.2222222222222222,
              "#7201a8"
             ],
             [
              0.3333333333333333,
              "#9c179e"
             ],
             [
              0.4444444444444444,
              "#bd3786"
             ],
             [
              0.5555555555555556,
              "#d8576b"
             ],
             [
              0.6666666666666666,
              "#ed7953"
             ],
             [
              0.7777777777777778,
              "#fb9f3a"
             ],
             [
              0.8888888888888888,
              "#fdca26"
             ],
             [
              1,
              "#f0f921"
             ]
            ],
            "type": "heatmap"
           }
          ],
          "histogram": [
           {
            "marker": {
             "pattern": {
              "fillmode": "overlay",
              "size": 10,
              "solidity": 0.2
             }
            },
            "type": "histogram"
           }
          ],
          "histogram2d": [
           {
            "colorbar": {
             "outlinewidth": 0,
             "ticks": ""
            },
            "colorscale": [
             [
              0,
              "#0d0887"
             ],
             [
              0.1111111111111111,
              "#46039f"
             ],
             [
              0.2222222222222222,
              "#7201a8"
             ],
             [
              0.3333333333333333,
              "#9c179e"
             ],
             [
              0.4444444444444444,
              "#bd3786"
             ],
             [
              0.5555555555555556,
              "#d8576b"
             ],
             [
              0.6666666666666666,
              "#ed7953"
             ],
             [
              0.7777777777777778,
              "#fb9f3a"
             ],
             [
              0.8888888888888888,
              "#fdca26"
             ],
             [
              1,
              "#f0f921"
             ]
            ],
            "type": "histogram2d"
           }
          ],
          "histogram2dcontour": [
           {
            "colorbar": {
             "outlinewidth": 0,
             "ticks": ""
            },
            "colorscale": [
             [
              0,
              "#0d0887"
             ],
             [
              0.1111111111111111,
              "#46039f"
             ],
             [
              0.2222222222222222,
              "#7201a8"
             ],
             [
              0.3333333333333333,
              "#9c179e"
             ],
             [
              0.4444444444444444,
              "#bd3786"
             ],
             [
              0.5555555555555556,
              "#d8576b"
             ],
             [
              0.6666666666666666,
              "#ed7953"
             ],
             [
              0.7777777777777778,
              "#fb9f3a"
             ],
             [
              0.8888888888888888,
              "#fdca26"
             ],
             [
              1,
              "#f0f921"
             ]
            ],
            "type": "histogram2dcontour"
           }
          ],
          "mesh3d": [
           {
            "colorbar": {
             "outlinewidth": 0,
             "ticks": ""
            },
            "type": "mesh3d"
           }
          ],
          "parcoords": [
           {
            "line": {
             "colorbar": {
              "outlinewidth": 0,
              "ticks": ""
             }
            },
            "type": "parcoords"
           }
          ],
          "pie": [
           {
            "automargin": true,
            "type": "pie"
           }
          ],
          "scatter": [
           {
            "fillpattern": {
             "fillmode": "overlay",
             "size": 10,
             "solidity": 0.2
            },
            "type": "scatter"
           }
          ],
          "scatter3d": [
           {
            "line": {
             "colorbar": {
              "outlinewidth": 0,
              "ticks": ""
             }
            },
            "marker": {
             "colorbar": {
              "outlinewidth": 0,
              "ticks": ""
             }
            },
            "type": "scatter3d"
           }
          ],
          "scattercarpet": [
           {
            "marker": {
             "colorbar": {
              "outlinewidth": 0,
              "ticks": ""
             }
            },
            "type": "scattercarpet"
           }
          ],
          "scattergeo": [
           {
            "marker": {
             "colorbar": {
              "outlinewidth": 0,
              "ticks": ""
             }
            },
            "type": "scattergeo"
           }
          ],
          "scattergl": [
           {
            "marker": {
             "colorbar": {
              "outlinewidth": 0,
              "ticks": ""
             }
            },
            "type": "scattergl"
           }
          ],
          "scattermap": [
           {
            "marker": {
             "colorbar": {
              "outlinewidth": 0,
              "ticks": ""
             }
            },
            "type": "scattermap"
           }
          ],
          "scattermapbox": [
           {
            "marker": {
             "colorbar": {
              "outlinewidth": 0,
              "ticks": ""
             }
            },
            "type": "scattermapbox"
           }
          ],
          "scatterpolar": [
           {
            "marker": {
             "colorbar": {
              "outlinewidth": 0,
              "ticks": ""
             }
            },
            "type": "scatterpolar"
           }
          ],
          "scatterpolargl": [
           {
            "marker": {
             "colorbar": {
              "outlinewidth": 0,
              "ticks": ""
             }
            },
            "type": "scatterpolargl"
           }
          ],
          "scatterternary": [
           {
            "marker": {
             "colorbar": {
              "outlinewidth": 0,
              "ticks": ""
             }
            },
            "type": "scatterternary"
           }
          ],
          "surface": [
           {
            "colorbar": {
             "outlinewidth": 0,
             "ticks": ""
            },
            "colorscale": [
             [
              0,
              "#0d0887"
             ],
             [
              0.1111111111111111,
              "#46039f"
             ],
             [
              0.2222222222222222,
              "#7201a8"
             ],
             [
              0.3333333333333333,
              "#9c179e"
             ],
             [
              0.4444444444444444,
              "#bd3786"
             ],
             [
              0.5555555555555556,
              "#d8576b"
             ],
             [
              0.6666666666666666,
              "#ed7953"
             ],
             [
              0.7777777777777778,
              "#fb9f3a"
             ],
             [
              0.8888888888888888,
              "#fdca26"
             ],
             [
              1,
              "#f0f921"
             ]
            ],
            "type": "surface"
           }
          ],
          "table": [
           {
            "cells": {
             "fill": {
              "color": "#EBF0F8"
             },
             "line": {
              "color": "white"
             }
            },
            "header": {
             "fill": {
              "color": "#C8D4E3"
             },
             "line": {
              "color": "white"
             }
            },
            "type": "table"
           }
          ]
         },
         "layout": {
          "annotationdefaults": {
           "arrowcolor": "#2a3f5f",
           "arrowhead": 0,
           "arrowwidth": 1
          },
          "autotypenumbers": "strict",
          "coloraxis": {
           "colorbar": {
            "outlinewidth": 0,
            "ticks": ""
           }
          },
          "colorscale": {
           "diverging": [
            [
             0,
             "#8e0152"
            ],
            [
             0.1,
             "#c51b7d"
            ],
            [
             0.2,
             "#de77ae"
            ],
            [
             0.3,
             "#f1b6da"
            ],
            [
             0.4,
             "#fde0ef"
            ],
            [
             0.5,
             "#f7f7f7"
            ],
            [
             0.6,
             "#e6f5d0"
            ],
            [
             0.7,
             "#b8e186"
            ],
            [
             0.8,
             "#7fbc41"
            ],
            [
             0.9,
             "#4d9221"
            ],
            [
             1,
             "#276419"
            ]
           ],
           "sequential": [
            [
             0,
             "#0d0887"
            ],
            [
             0.1111111111111111,
             "#46039f"
            ],
            [
             0.2222222222222222,
             "#7201a8"
            ],
            [
             0.3333333333333333,
             "#9c179e"
            ],
            [
             0.4444444444444444,
             "#bd3786"
            ],
            [
             0.5555555555555556,
             "#d8576b"
            ],
            [
             0.6666666666666666,
             "#ed7953"
            ],
            [
             0.7777777777777778,
             "#fb9f3a"
            ],
            [
             0.8888888888888888,
             "#fdca26"
            ],
            [
             1,
             "#f0f921"
            ]
           ],
           "sequentialminus": [
            [
             0,
             "#0d0887"
            ],
            [
             0.1111111111111111,
             "#46039f"
            ],
            [
             0.2222222222222222,
             "#7201a8"
            ],
            [
             0.3333333333333333,
             "#9c179e"
            ],
            [
             0.4444444444444444,
             "#bd3786"
            ],
            [
             0.5555555555555556,
             "#d8576b"
            ],
            [
             0.6666666666666666,
             "#ed7953"
            ],
            [
             0.7777777777777778,
             "#fb9f3a"
            ],
            [
             0.8888888888888888,
             "#fdca26"
            ],
            [
             1,
             "#f0f921"
            ]
           ]
          },
          "colorway": [
           "#636efa",
           "#EF553B",
           "#00cc96",
           "#ab63fa",
           "#FFA15A",
           "#19d3f3",
           "#FF6692",
           "#B6E880",
           "#FF97FF",
           "#FECB52"
          ],
          "font": {
           "color": "#2a3f5f"
          },
          "geo": {
           "bgcolor": "white",
           "lakecolor": "white",
           "landcolor": "#E5ECF6",
           "showlakes": true,
           "showland": true,
           "subunitcolor": "white"
          },
          "hoverlabel": {
           "align": "left"
          },
          "hovermode": "closest",
          "mapbox": {
           "style": "light"
          },
          "paper_bgcolor": "white",
          "plot_bgcolor": "#E5ECF6",
          "polar": {
           "angularaxis": {
            "gridcolor": "white",
            "linecolor": "white",
            "ticks": ""
           },
           "bgcolor": "#E5ECF6",
           "radialaxis": {
            "gridcolor": "white",
            "linecolor": "white",
            "ticks": ""
           }
          },
          "scene": {
           "xaxis": {
            "backgroundcolor": "#E5ECF6",
            "gridcolor": "white",
            "gridwidth": 2,
            "linecolor": "white",
            "showbackground": true,
            "ticks": "",
            "zerolinecolor": "white"
           },
           "yaxis": {
            "backgroundcolor": "#E5ECF6",
            "gridcolor": "white",
            "gridwidth": 2,
            "linecolor": "white",
            "showbackground": true,
            "ticks": "",
            "zerolinecolor": "white"
           },
           "zaxis": {
            "backgroundcolor": "#E5ECF6",
            "gridcolor": "white",
            "gridwidth": 2,
            "linecolor": "white",
            "showbackground": true,
            "ticks": "",
            "zerolinecolor": "white"
           }
          },
          "shapedefaults": {
           "line": {
            "color": "#2a3f5f"
           }
          },
          "ternary": {
           "aaxis": {
            "gridcolor": "white",
            "linecolor": "white",
            "ticks": ""
           },
           "baxis": {
            "gridcolor": "white",
            "linecolor": "white",
            "ticks": ""
           },
           "bgcolor": "#E5ECF6",
           "caxis": {
            "gridcolor": "white",
            "linecolor": "white",
            "ticks": ""
           }
          },
          "title": {
           "x": 0.05
          },
          "xaxis": {
           "automargin": true,
           "gridcolor": "white",
           "linecolor": "white",
           "ticks": "",
           "title": {
            "standoff": 15
           },
           "zerolinecolor": "white",
           "zerolinewidth": 2
          },
          "yaxis": {
           "automargin": true,
           "gridcolor": "white",
           "linecolor": "white",
           "ticks": "",
           "title": {
            "standoff": 15
           },
           "zerolinecolor": "white",
           "zerolinewidth": 2
          }
         }
        },
        "title": {
         "text": "Candlestick chart"
        },
        "xaxis": {
         "anchor": "y",
         "domain": [
          0,
          1
         ],
         "matches": "x2",
         "rangeslider": {
          "visible": false
         },
         "showticklabels": false,
         "title": {
          "text": "Time"
         }
        },
        "xaxis2": {
         "anchor": "y2",
         "domain": [
          0,
          1
         ]
        },
        "yaxis": {
         "anchor": "x",
         "domain": [
          0.30000000000000004,
          1
         ],
         "title": {
          "text": "Price"
         }
        },
        "yaxis2": {
         "anchor": "x2",
         "domain": [
          0,
          0.20000000000000004
         ]
        }
       }
      }
     },
     "metadata": {},
     "output_type": "display_data"
    }
   ],
   "source": [
    "btc_indicate.plot([\"rsi_div\"], rsi_div_data=r)"
   ]
  },
  {
   "cell_type": "code",
   "execution_count": null,
   "id": "1609795d",
   "metadata": {},
   "outputs": [],
   "source": []
  }
 ],
 "metadata": {
  "kernelspec": {
   "display_name": "coin_trader",
   "language": "python",
   "name": "python3"
  },
  "language_info": {
   "codemirror_mode": {
    "name": "ipython",
    "version": 3
   },
   "file_extension": ".py",
   "mimetype": "text/x-python",
   "name": "python",
   "nbconvert_exporter": "python",
   "pygments_lexer": "ipython3",
   "version": "3.12.9"
  }
 },
 "nbformat": 4,
 "nbformat_minor": 5
}
