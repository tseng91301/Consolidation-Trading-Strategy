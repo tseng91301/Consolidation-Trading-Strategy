{
 "cells": [
  {
   "cell_type": "code",
   "execution_count": 1,
   "id": "fa10ca51",
   "metadata": {},
   "outputs": [
    {
     "name": "stdout",
     "output_type": "stream",
     "text": [
      "Successfully read secret key from .env\\api_key.json\n",
      "Simulation mode is ON\n"
     ]
    }
   ],
   "source": [
    "from api import bingx as api_entry\n",
    "import indicator"
   ]
  },
  {
   "cell_type": "code",
   "execution_count": 8,
   "id": "4164aef4",
   "metadata": {},
   "outputs": [],
   "source": [
    "kLine = api_entry.get_kLine_data(\"BTC-USDT\", \"4h\", 1000)\n",
    "btc_i = indicator.Indicators('BTC-USDT', 4 * 60 * 60 * 1000)\n",
    "btc_i.import_kLines(kLine)"
   ]
  },
  {
   "cell_type": "code",
   "execution_count": 9,
   "id": "0f3a312b",
   "metadata": {},
   "outputs": [],
   "source": [
    "close_val = btc_i.kLines_pd[\"close\"]\n",
    "rsi_val = btc_i.kLines_pd[\"RSI\"]"
   ]
  },
  {
   "cell_type": "code",
   "execution_count": 10,
   "id": "7e17d48d",
   "metadata": {},
   "outputs": [],
   "source": [
    "import indicator.rsi as rsi"
   ]
  },
  {
   "cell_type": "code",
   "execution_count": 11,
   "id": "d230d339",
   "metadata": {},
   "outputs": [],
   "source": [
    "same_high, same_low = rsi.same_high_low(close_val, rsi_val)"
   ]
  },
  {
   "cell_type": "code",
   "execution_count": 12,
   "id": "bed299d5",
   "metadata": {},
   "outputs": [
    {
     "name": "stdout",
     "output_type": "stream",
     "text": [
      "[ 20  32  39  53  64  71  78  82  97 107 113 120 129 138 142 151 183 194\n",
      " 216 222 231 240 251 256 269 275 284 317 328 339 348 359 375 383 394 400\n",
      " 409 413 422 437 442 461 471 477 484 493 501 506 516 523 527 547 563 567\n",
      " 575 582 595 603 613 624 635 643 658 669 677 684 694 702 709 713 726 740\n",
      " 754 769 774 789 796 802 809 821 828 843 852 863 871 879 884 892 900 909\n",
      " 947 954 963 971 975 994]\n",
      "[ 29  34  47  58  69  73  81  87  94 102 116 130 143 155 165 180 189 203\n",
      " 209 219 225 234 245 250 261 272 280 285 311 327 333 351 362 372 380 393\n",
      " 404 417 426 430 457 464 468 474 479 490 497 509 521 530 551 569 592 599\n",
      " 608 649 655 666 672 682 689 698 705 718 736 744 758 767 783 793 806 810\n",
      " 815 819 826 836 847 856 876 880 890 895 904 915 938 951 960 964 972 976\n",
      " 986]\n"
     ]
    }
   ],
   "source": [
    "print(same_high)\n",
    "print(same_low)"
   ]
  },
  {
   "cell_type": "code",
   "execution_count": 13,
   "id": "0ad462fc",
   "metadata": {},
   "outputs": [
    {
     "name": "stdout",
     "output_type": "stream",
     "text": [
      "BEARISH divergence from 142 to 151\n",
      "BEARISH divergence from 151 to 183\n",
      "BEARISH divergence from 359 to 375\n",
      "BEARISH divergence from 975 to 994\n",
      "BULLISH divergence from 81 to 87\n",
      "BULLISH divergence from 474 to 479\n",
      "BULLISH divergence from 479 to 490\n",
      "BULLISH divergence from 592 to 599\n",
      "BULLISH divergence from 599 to 608\n",
      "BULLISH divergence from 666 to 672\n",
      "BULLISH divergence from 836 to 847\n"
     ]
    }
   ],
   "source": [
    "divs = rsi.find_rsi_divergences(btc_i.kLines_pd[\"close\"], btc_i.kLines_pd[\"RSI\"], same_high, same_low)\n",
    "for d in divs:\n",
    "    print(f\"{d['type'].upper()} divergence from {d['start']} to {d['end']}\")\n"
   ]
  }
 ],
 "metadata": {
  "kernelspec": {
   "display_name": "coin_trader",
   "language": "python",
   "name": "python3"
  },
  "language_info": {
   "codemirror_mode": {
    "name": "ipython",
    "version": 3
   },
   "file_extension": ".py",
   "mimetype": "text/x-python",
   "name": "python",
   "nbconvert_exporter": "python",
   "pygments_lexer": "ipython3",
   "version": "3.12.9"
  }
 },
 "nbformat": 4,
 "nbformat_minor": 5
}
